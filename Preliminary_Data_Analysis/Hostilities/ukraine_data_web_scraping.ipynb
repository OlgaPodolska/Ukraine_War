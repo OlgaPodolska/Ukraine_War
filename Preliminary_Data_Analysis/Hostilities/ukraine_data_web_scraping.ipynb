{
 "cells": [
  {
   "cell_type": "code",
   "execution_count": 94,
   "id": "ad924eec",
   "metadata": {},
   "outputs": [],
   "source": [
    "# Import scraping tools \n",
    "from splinter import Browser\n",
    "from bs4 import BeautifulSoup as soup\n",
    "from webdriver_manager.chrome import ChromeDriverManager\n",
    "import pandas as pd\n"
   ]
  },
  {
   "cell_type": "code",
   "execution_count": 95,
   "id": "69bf9711",
   "metadata": {},
   "outputs": [
    {
     "name": "stdout",
     "output_type": "stream",
     "text": [
      "\n"
     ]
    },
    {
     "name": "stderr",
     "output_type": "stream",
     "text": [
      "[WDM] - ====== WebDriver manager ======\n",
      "INFO:WDM:====== WebDriver manager ======\n",
      "[WDM] - Current google-chrome version is 104.0.5112\n",
      "INFO:WDM:Current google-chrome version is 104.0.5112\n",
      "[WDM] - Get LATEST chromedriver version for 104.0.5112 google-chrome\n",
      "INFO:WDM:Get LATEST chromedriver version for 104.0.5112 google-chrome\n",
      "[WDM] - Driver [/Users/veronicalobkina/.wdm/drivers/chromedriver/mac64/104.0.5112.79/chromedriver] found in cache\n",
      "INFO:WDM:Driver [/Users/veronicalobkina/.wdm/drivers/chromedriver/mac64/104.0.5112.79/chromedriver] found in cache\n"
     ]
    }
   ],
   "source": [
    "# Set up Splinter\n",
    "executable_path = {'executable_path': ChromeDriverManager().install()}\n",
    "browser = Browser('chrome', **executable_path, headless=False)"
   ]
  },
  {
   "cell_type": "code",
   "execution_count": 96,
   "id": "21ef8164",
   "metadata": {},
   "outputs": [],
   "source": [
    "# Visit the QData for the Ukraine Data Explorer site\n",
    "url = 'https://data.humdata.org/dataset/ukraine-data-explorer-inputs'\n",
    "browser.visit(url)"
   ]
  },
  {
   "cell_type": "code",
   "execution_count": 97,
   "id": "90cd21f4",
   "metadata": {},
   "outputs": [],
   "source": [
    "# Parse the HTML\n",
    "html = browser.html\n",
    "html_soup = soup(html, 'html.parser')\n",
    "slide_elem = html_soup.select_one('div.list_text')"
   ]
  },
  {
   "cell_type": "code",
   "execution_count": 98,
   "id": "d449a527",
   "metadata": {
    "scrolled": true
   },
   "outputs": [
    {
     "data": {
      "text/plain": [
       "'Downloads'"
      ]
     },
     "execution_count": 98,
     "metadata": {},
     "output_type": "execute_result"
    }
   ],
   "source": [
    "# Scrape the Graph Title\n",
    "graph_title = html_soup.find('h2').text\n",
    "graph_title"
   ]
  },
  {
   "cell_type": "code",
   "execution_count": 99,
   "id": "c3a84767",
   "metadata": {},
   "outputs": [],
   "source": [
    "import scrapy\n",
    "from scrapy import signals\n",
    "import time"
   ]
  },
  {
   "cell_type": "code",
   "execution_count": 100,
   "id": "ee5e4815",
   "metadata": {},
   "outputs": [],
   "source": [
    "# Close banner that pop-ups -- couldn't get this to work \n",
    "# banner_close = browser.find_by_tag('i')[4]\n",
    "\n",
    "# Scrape the Graph \n",
    "html_soup.find('div', class_='dataset-downloads-chart')\n",
    "time.sleep(5)"
   ]
  },
  {
   "cell_type": "code",
   "execution_count": 101,
   "id": "9fc68db5",
   "metadata": {
    "scrolled": true
   },
   "outputs": [
    {
     "ename": "NoSuchWindowException",
     "evalue": "Message: no such window: window was already closed\n  (Session info: chrome=104.0.5112.101)\nStacktrace:\n0   chromedriver                        0x0000000102944149 chromedriver + 4469065\n1   chromedriver                        0x00000001028ce233 chromedriver + 3985971\n2   chromedriver                        0x0000000102564fe8 chromedriver + 409576\n3   chromedriver                        0x000000010254763d chromedriver + 288317\n4   chromedriver                        0x000000010254b652 chromedriver + 304722\n5   chromedriver                        0x000000010255056c chromedriver + 324972\n6   chromedriver                        0x0000000102566412 chromedriver + 414738\n7   chromedriver                        0x00000001025caccb chromedriver + 826571\n8   chromedriver                        0x00000001025b8b53 chromedriver + 752467\n9   chromedriver                        0x000000010258e905 chromedriver + 579845\n10  chromedriver                        0x000000010258f955 chromedriver + 584021\n11  chromedriver                        0x00000001029156ad chromedriver + 4277933\n12  chromedriver                        0x0000000102919b3a chromedriver + 4295482\n13  chromedriver                        0x000000010291ecdf chromedriver + 4316383\n14  chromedriver                        0x000000010291a857 chromedriver + 4298839\n15  chromedriver                        0x00000001028f364f chromedriver + 4138575\n16  chromedriver                        0x00000001029351f8 chromedriver + 4407800\n17  chromedriver                        0x000000010293537f chromedriver + 4408191\n18  chromedriver                        0x000000010294bcb5 chromedriver + 4500661\n19  libsystem_pthread.dylib             0x00007ff81e3194e1 _pthread_start + 125\n20  libsystem_pthread.dylib             0x00007ff81e314f6b thread_start + 15\n",
     "output_type": "error",
     "traceback": [
      "\u001b[0;31m---------------------------------------------------------------------------\u001b[0m",
      "\u001b[0;31mNoSuchWindowException\u001b[0m                     Traceback (most recent call last)",
      "\u001b[0;32m/var/folders/87/8wy1hy5d6wz1ydj6zlznqysc0000gn/T/ipykernel_83399/2871610673.py\u001b[0m in \u001b[0;36m<module>\u001b[0;34m\u001b[0m\n\u001b[1;32m     30\u001b[0m \u001b[0mtime\u001b[0m\u001b[0;34m.\u001b[0m\u001b[0msleep\u001b[0m\u001b[0;34m(\u001b[0m\u001b[0;36m5\u001b[0m\u001b[0;34m)\u001b[0m\u001b[0;34m\u001b[0m\u001b[0;34m\u001b[0m\u001b[0m\n\u001b[1;32m     31\u001b[0m \u001b[0;34m\u001b[0m\u001b[0m\n\u001b[0;32m---> 32\u001b[0;31m \u001b[0mseventh_tick\u001b[0m \u001b[0;34m=\u001b[0m \u001b[0mbrowser\u001b[0m\u001b[0;34m.\u001b[0m\u001b[0mfind_by_tag\u001b[0m\u001b[0;34m(\u001b[0m\u001b[0;34m'rect'\u001b[0m\u001b[0;34m,\u001b[0m\u001b[0mwait_time\u001b[0m\u001b[0;34m=\u001b[0m\u001b[0;36m2000\u001b[0m\u001b[0;34m)\u001b[0m\u001b[0;34m[\u001b[0m\u001b[0;36m19\u001b[0m\u001b[0;34m]\u001b[0m\u001b[0;34m\u001b[0m\u001b[0;34m\u001b[0m\u001b[0m\n\u001b[0m\u001b[1;32m     33\u001b[0m \u001b[0mseventh_tick\u001b[0m\u001b[0;34m.\u001b[0m\u001b[0mclick\u001b[0m\u001b[0;34m(\u001b[0m\u001b[0;34m)\u001b[0m\u001b[0;34m\u001b[0m\u001b[0;34m\u001b[0m\u001b[0m\n\u001b[1;32m     34\u001b[0m \u001b[0mtime\u001b[0m\u001b[0;34m.\u001b[0m\u001b[0msleep\u001b[0m\u001b[0;34m(\u001b[0m\u001b[0;36m5\u001b[0m\u001b[0;34m)\u001b[0m\u001b[0;34m\u001b[0m\u001b[0;34m\u001b[0m\u001b[0m\n",
      "\u001b[0;32m~/opt/anaconda3/lib/python3.9/site-packages/splinter/driver/webdriver/__init__.py\u001b[0m in \u001b[0;36mfind_by_tag\u001b[0;34m(self, tag, wait_time)\u001b[0m\n\u001b[1;32m    519\u001b[0m \u001b[0;34m\u001b[0m\u001b[0m\n\u001b[1;32m    520\u001b[0m     \u001b[0;32mdef\u001b[0m \u001b[0mfind_by_tag\u001b[0m\u001b[0;34m(\u001b[0m\u001b[0mself\u001b[0m\u001b[0;34m,\u001b[0m \u001b[0mtag\u001b[0m\u001b[0;34m,\u001b[0m \u001b[0mwait_time\u001b[0m\u001b[0;34m=\u001b[0m\u001b[0;32mNone\u001b[0m\u001b[0;34m)\u001b[0m\u001b[0;34m:\u001b[0m\u001b[0;34m\u001b[0m\u001b[0;34m\u001b[0m\u001b[0m\n\u001b[0;32m--> 521\u001b[0;31m         return self.find_by(\n\u001b[0m\u001b[1;32m    522\u001b[0m             \u001b[0mself\u001b[0m\u001b[0;34m.\u001b[0m\u001b[0mdriver\u001b[0m\u001b[0;34m.\u001b[0m\u001b[0mfind_elements\u001b[0m\u001b[0;34m,\u001b[0m\u001b[0;34m\u001b[0m\u001b[0;34m\u001b[0m\u001b[0m\n\u001b[1;32m    523\u001b[0m             \u001b[0mfinder_kwargs\u001b[0m\u001b[0;34m=\u001b[0m\u001b[0;34m{\u001b[0m\u001b[0;34m'by'\u001b[0m\u001b[0;34m:\u001b[0m \u001b[0mBy\u001b[0m\u001b[0;34m.\u001b[0m\u001b[0mTAG_NAME\u001b[0m\u001b[0;34m,\u001b[0m \u001b[0;34m'value'\u001b[0m\u001b[0;34m:\u001b[0m \u001b[0mtag\u001b[0m\u001b[0;34m}\u001b[0m\u001b[0;34m,\u001b[0m\u001b[0;34m\u001b[0m\u001b[0;34m\u001b[0m\u001b[0m\n",
      "\u001b[0;32m~/opt/anaconda3/lib/python3.9/site-packages/splinter/driver/webdriver/__init__.py\u001b[0m in \u001b[0;36mfind_by\u001b[0;34m(self, finder, finder_kwargs, original_find, original_query, wait_time)\u001b[0m\n\u001b[1;32m    271\u001b[0m \u001b[0;34m\u001b[0m\u001b[0m\n\u001b[1;32m    272\u001b[0m         \u001b[0;32mwhile\u001b[0m \u001b[0mtime\u001b[0m\u001b[0;34m.\u001b[0m\u001b[0mtime\u001b[0m\u001b[0;34m(\u001b[0m\u001b[0;34m)\u001b[0m \u001b[0;34m<\u001b[0m \u001b[0mend_time\u001b[0m\u001b[0;34m:\u001b[0m\u001b[0;34m\u001b[0m\u001b[0;34m\u001b[0m\u001b[0m\n\u001b[0;32m--> 273\u001b[0;31m             \u001b[0melem_list\u001b[0m \u001b[0;34m=\u001b[0m \u001b[0m_find\u001b[0m\u001b[0;34m(\u001b[0m\u001b[0mself\u001b[0m\u001b[0;34m,\u001b[0m \u001b[0mfinder\u001b[0m\u001b[0;34m,\u001b[0m \u001b[0mfinder_kwargs\u001b[0m\u001b[0;34m)\u001b[0m\u001b[0;34m\u001b[0m\u001b[0;34m\u001b[0m\u001b[0m\n\u001b[0m\u001b[1;32m    274\u001b[0m \u001b[0;34m\u001b[0m\u001b[0m\n\u001b[1;32m    275\u001b[0m             \u001b[0;32mif\u001b[0m \u001b[0melem_list\u001b[0m\u001b[0;34m:\u001b[0m\u001b[0;34m\u001b[0m\u001b[0;34m\u001b[0m\u001b[0m\n",
      "\u001b[0;32m~/opt/anaconda3/lib/python3.9/site-packages/splinter/driver/webdriver/__init__.py\u001b[0m in \u001b[0;36m_find\u001b[0;34m(self, finder, finder_kwargs)\u001b[0m\n\u001b[1;32m    224\u001b[0m \u001b[0;34m\u001b[0m\u001b[0m\n\u001b[1;32m    225\u001b[0m     \u001b[0;32mtry\u001b[0m\u001b[0;34m:\u001b[0m\u001b[0;34m\u001b[0m\u001b[0;34m\u001b[0m\u001b[0m\n\u001b[0;32m--> 226\u001b[0;31m         \u001b[0melements\u001b[0m \u001b[0;34m=\u001b[0m \u001b[0mfinder\u001b[0m\u001b[0;34m(\u001b[0m\u001b[0;34m**\u001b[0m\u001b[0mfinder_kwargs\u001b[0m\u001b[0;34m)\u001b[0m\u001b[0;34m\u001b[0m\u001b[0;34m\u001b[0m\u001b[0m\n\u001b[0m\u001b[1;32m    227\u001b[0m         \u001b[0;32mif\u001b[0m \u001b[0;32mnot\u001b[0m \u001b[0misinstance\u001b[0m\u001b[0;34m(\u001b[0m\u001b[0melements\u001b[0m\u001b[0;34m,\u001b[0m \u001b[0mlist\u001b[0m\u001b[0;34m)\u001b[0m\u001b[0;34m:\u001b[0m\u001b[0;34m\u001b[0m\u001b[0;34m\u001b[0m\u001b[0m\n\u001b[1;32m    228\u001b[0m             \u001b[0melements\u001b[0m \u001b[0;34m=\u001b[0m \u001b[0;34m[\u001b[0m\u001b[0melements\u001b[0m\u001b[0;34m]\u001b[0m\u001b[0;34m\u001b[0m\u001b[0;34m\u001b[0m\u001b[0m\n",
      "\u001b[0;32m~/opt/anaconda3/lib/python3.9/site-packages/selenium/webdriver/remote/webdriver.py\u001b[0m in \u001b[0;36mfind_elements\u001b[0;34m(self, by, value)\u001b[0m\n\u001b[1;32m   1282\u001b[0m         \u001b[0;31m# Return empty list if driver returns null\u001b[0m\u001b[0;34m\u001b[0m\u001b[0;34m\u001b[0m\u001b[0m\n\u001b[1;32m   1283\u001b[0m         \u001b[0;31m# See https://github.com/SeleniumHQ/selenium/issues/4555\u001b[0m\u001b[0;34m\u001b[0m\u001b[0;34m\u001b[0m\u001b[0m\n\u001b[0;32m-> 1284\u001b[0;31m         return self.execute(Command.FIND_ELEMENTS, {\n\u001b[0m\u001b[1;32m   1285\u001b[0m             \u001b[0;34m'using'\u001b[0m\u001b[0;34m:\u001b[0m \u001b[0mby\u001b[0m\u001b[0;34m,\u001b[0m\u001b[0;34m\u001b[0m\u001b[0;34m\u001b[0m\u001b[0m\n\u001b[1;32m   1286\u001b[0m             'value': value})['value'] or []\n",
      "\u001b[0;32m~/opt/anaconda3/lib/python3.9/site-packages/selenium/webdriver/remote/webdriver.py\u001b[0m in \u001b[0;36mexecute\u001b[0;34m(self, driver_command, params)\u001b[0m\n\u001b[1;32m    428\u001b[0m         \u001b[0mresponse\u001b[0m \u001b[0;34m=\u001b[0m \u001b[0mself\u001b[0m\u001b[0;34m.\u001b[0m\u001b[0mcommand_executor\u001b[0m\u001b[0;34m.\u001b[0m\u001b[0mexecute\u001b[0m\u001b[0;34m(\u001b[0m\u001b[0mdriver_command\u001b[0m\u001b[0;34m,\u001b[0m \u001b[0mparams\u001b[0m\u001b[0;34m)\u001b[0m\u001b[0;34m\u001b[0m\u001b[0;34m\u001b[0m\u001b[0m\n\u001b[1;32m    429\u001b[0m         \u001b[0;32mif\u001b[0m \u001b[0mresponse\u001b[0m\u001b[0;34m:\u001b[0m\u001b[0;34m\u001b[0m\u001b[0;34m\u001b[0m\u001b[0m\n\u001b[0;32m--> 430\u001b[0;31m             \u001b[0mself\u001b[0m\u001b[0;34m.\u001b[0m\u001b[0merror_handler\u001b[0m\u001b[0;34m.\u001b[0m\u001b[0mcheck_response\u001b[0m\u001b[0;34m(\u001b[0m\u001b[0mresponse\u001b[0m\u001b[0;34m)\u001b[0m\u001b[0;34m\u001b[0m\u001b[0;34m\u001b[0m\u001b[0m\n\u001b[0m\u001b[1;32m    431\u001b[0m             response['value'] = self._unwrap_value(\n\u001b[1;32m    432\u001b[0m                 response.get('value', None))\n",
      "\u001b[0;32m~/opt/anaconda3/lib/python3.9/site-packages/selenium/webdriver/remote/errorhandler.py\u001b[0m in \u001b[0;36mcheck_response\u001b[0;34m(self, response)\u001b[0m\n\u001b[1;32m    245\u001b[0m                 \u001b[0malert_text\u001b[0m \u001b[0;34m=\u001b[0m \u001b[0mvalue\u001b[0m\u001b[0;34m[\u001b[0m\u001b[0;34m'alert'\u001b[0m\u001b[0;34m]\u001b[0m\u001b[0;34m.\u001b[0m\u001b[0mget\u001b[0m\u001b[0;34m(\u001b[0m\u001b[0;34m'text'\u001b[0m\u001b[0;34m)\u001b[0m\u001b[0;34m\u001b[0m\u001b[0;34m\u001b[0m\u001b[0m\n\u001b[1;32m    246\u001b[0m             \u001b[0;32mraise\u001b[0m \u001b[0mexception_class\u001b[0m\u001b[0;34m(\u001b[0m\u001b[0mmessage\u001b[0m\u001b[0;34m,\u001b[0m \u001b[0mscreen\u001b[0m\u001b[0;34m,\u001b[0m \u001b[0mstacktrace\u001b[0m\u001b[0;34m,\u001b[0m \u001b[0malert_text\u001b[0m\u001b[0;34m)\u001b[0m  \u001b[0;31m# type: ignore[call-arg]  # mypy is not smart enough here\u001b[0m\u001b[0;34m\u001b[0m\u001b[0;34m\u001b[0m\u001b[0m\n\u001b[0;32m--> 247\u001b[0;31m         \u001b[0;32mraise\u001b[0m \u001b[0mexception_class\u001b[0m\u001b[0;34m(\u001b[0m\u001b[0mmessage\u001b[0m\u001b[0;34m,\u001b[0m \u001b[0mscreen\u001b[0m\u001b[0;34m,\u001b[0m \u001b[0mstacktrace\u001b[0m\u001b[0;34m)\u001b[0m\u001b[0;34m\u001b[0m\u001b[0;34m\u001b[0m\u001b[0m\n\u001b[0m\u001b[1;32m    248\u001b[0m \u001b[0;34m\u001b[0m\u001b[0m\n\u001b[1;32m    249\u001b[0m     \u001b[0;32mdef\u001b[0m \u001b[0m_value_or_default\u001b[0m\u001b[0;34m(\u001b[0m\u001b[0mself\u001b[0m\u001b[0;34m,\u001b[0m \u001b[0mobj\u001b[0m\u001b[0;34m:\u001b[0m \u001b[0mMapping\u001b[0m\u001b[0;34m[\u001b[0m\u001b[0m_KT\u001b[0m\u001b[0;34m,\u001b[0m \u001b[0m_VT\u001b[0m\u001b[0;34m]\u001b[0m\u001b[0;34m,\u001b[0m \u001b[0mkey\u001b[0m\u001b[0;34m:\u001b[0m \u001b[0m_KT\u001b[0m\u001b[0;34m,\u001b[0m \u001b[0mdefault\u001b[0m\u001b[0;34m:\u001b[0m \u001b[0m_VT\u001b[0m\u001b[0;34m)\u001b[0m \u001b[0;34m->\u001b[0m \u001b[0m_VT\u001b[0m\u001b[0;34m:\u001b[0m\u001b[0;34m\u001b[0m\u001b[0;34m\u001b[0m\u001b[0m\n",
      "\u001b[0;31mNoSuchWindowException\u001b[0m: Message: no such window: window was already closed\n  (Session info: chrome=104.0.5112.101)\nStacktrace:\n0   chromedriver                        0x0000000102944149 chromedriver + 4469065\n1   chromedriver                        0x00000001028ce233 chromedriver + 3985971\n2   chromedriver                        0x0000000102564fe8 chromedriver + 409576\n3   chromedriver                        0x000000010254763d chromedriver + 288317\n4   chromedriver                        0x000000010254b652 chromedriver + 304722\n5   chromedriver                        0x000000010255056c chromedriver + 324972\n6   chromedriver                        0x0000000102566412 chromedriver + 414738\n7   chromedriver                        0x00000001025caccb chromedriver + 826571\n8   chromedriver                        0x00000001025b8b53 chromedriver + 752467\n9   chromedriver                        0x000000010258e905 chromedriver + 579845\n10  chromedriver                        0x000000010258f955 chromedriver + 584021\n11  chromedriver                        0x00000001029156ad chromedriver + 4277933\n12  chromedriver                        0x0000000102919b3a chromedriver + 4295482\n13  chromedriver                        0x000000010291ecdf chromedriver + 4316383\n14  chromedriver                        0x000000010291a857 chromedriver + 4298839\n15  chromedriver                        0x00000001028f364f chromedriver + 4138575\n16  chromedriver                        0x00000001029351f8 chromedriver + 4407800\n17  chromedriver                        0x000000010293537f chromedriver + 4408191\n18  chromedriver                        0x000000010294bcb5 chromedriver + 4500661\n19  libsystem_pthread.dylib             0x00007ff81e3194e1 _pthread_start + 125\n20  libsystem_pthread.dylib             0x00007ff81e314f6b thread_start + 15\n"
     ]
    }
   ],
   "source": [
    "# Clicking the ticks \n",
    "\n",
    "#Find and click the first tick\n",
    "first_tick = browser.find_by_tag('rect', wait_time=2000)[13]\n",
    "first_tick.click()\n",
    "time.sleep(5)\n",
    "\n",
    "# Find and click the second tick\n",
    "second_tick = browser.find_by_tag('rect',wait_time=2000)[14]\n",
    "second_tick.click()\n",
    "time.sleep(5)\n",
    "\n",
    "# Find and click the 3rd tick\n",
    "third_tick = browser.find_by_tag('rect', wait_time=2000)[15]\n",
    "third_tick.click()\n",
    "time.sleep(5)\n",
    "\n",
    "# Find and click the fourth tick\n",
    "fourth_tick = browser.find_by_tag('rect', wait_time=2000)[16]\n",
    "fourth_tick.click()\n",
    "time.sleep(5)\n",
    "\n",
    "# so on....\n",
    "fifth_tick = browser.find_by_tag('rect', wait_time=2000)[17]\n",
    "fifth_tick.click()\n",
    "time.sleep(5)\n",
    "\n",
    "sixth_tick = browser.find_by_tag('rect', wait_time=2000)[18]\n",
    "sixth_tick.click()\n",
    "time.sleep(5)\n",
    "\n",
    "seventh_tick = browser.find_by_tag('rect',wait_time=2000)[19]\n",
    "seventh_tick.click()\n",
    "time.sleep(5)\n",
    "\n",
    "eighth_tick = browser.find_by_tag('rect', wait_time=2000)[20]\n",
    "eighth_tick.click()\n",
    "time.sleep(5)\n",
    "\n",
    "ninth_tick = browser.find_by_tag('rect', wait_time=2000)[21]\n",
    "ninth_tick.click()\n",
    "time.sleep(5)\n",
    "\n",
    "tenth_tick = browser.find_by_tag('rect', wait_time=2000)[22]\n",
    "tenth_tick.click()\n",
    "time.sleep(5)\n",
    "\n",
    "eleventh_tick = browser.find_by_tag('rect', wait_time=2000)[23]\n",
    "eleventh_tick.click()\n",
    "time.sleep(5)\n",
    "\n",
    "twelth_tick = browser.find_by_tag('rect', wait_time=2000)[24]\n",
    "twelth_tick.click()\n",
    "time.sleep(5)\n",
    "\n",
    "thirteenth_tick = browser.find_by_tag('rect', wait_time=2000)[25]\n",
    "thirteenth_tick.click()\n",
    "time.sleep(5)\n",
    "\n",
    "fourteenth_tick = browser.find_by_tag('rect', wait_time=2000)[26]\n",
    "fourteenth_tick.click()\n",
    "time.sleep(5)\n",
    "\n",
    "fifteenth_tick = browser.find_by_tag('rect', wait_time=2000)[27]\n",
    "fifteenth_tick.click()\n",
    "time.sleep(5)\n",
    "\n",
    "sixthteenth_tick = browser.find_by_tag('rect', wait_time=2000)[28]\n",
    "sixthteenth_tick.click()\n",
    "time.sleep(5)\n",
    "\n",
    "seventeenth_tick = browser.find_by_tag('rect', wait_time=2000)[29]\n",
    "sixth_tick.click()\n",
    "time.sleep(5)\n",
    "\n",
    "eighteenth_tick = browser.find_by_tag('rect', wait_time=2000)[30]\n",
    "eighteenth_tick.click()\n",
    "time.sleep(5)\n",
    "\n",
    "nineteenth_tick = browser.find_by_tag('rect', wait_time=2000)[31]\n",
    "nineteenth_tick.click()\n",
    "time.sleep(5)\n",
    "\n",
    "twentieth_tick = browser.find_by_tag('rect', wait_time=2000)[32]\n",
    "twentieth_tick.click()\n",
    "time.sleep(5)\n",
    "\n",
    "twentyone_tick = browser.find_by_tag('rect', wait_time=2000)[33]\n",
    "twentyone_tick.click()\n",
    "time.sleep(5)\n",
    "\n",
    "twentytwo_tick = browser.find_by_tag('rect', wait_time=2000)[34]\n",
    "twentytwo_tick.click()\n",
    "time.sleep(5)\n",
    "\n",
    "twentythree_tick = browser.find_by_tag('rect', wait_time=2000)[35]\n",
    "twentythree_tick.click()\n",
    "time.sleep(5)\n",
    "\n",
    "twentyfour_tick = browser.find_by_tag('rect', wait_time=2000)[36]\n",
    "twentyfour_tick.click()\n",
    "time.sleep(5)\n",
    "\n",
    "twentyfive_tick = browser.find_by_tag('rect', wait_time=2000)[37]\n",
    "twentyfive_tick.click()\n",
    "time.sleep(5)"
   ]
  },
  {
   "cell_type": "code",
   "execution_count": 103,
   "id": "860bf8a5",
   "metadata": {},
   "outputs": [],
   "source": [
    "# web scraping chart in Python\n",
    "# https://medium.com/analytics-vidhya/an-easy-technique-for-web-scraping-an-interactive-web-chart-38f5f945ca63\n",
    "# another great map https://data.humdata.org/visualization/ukraine-humanitarian-operations/\n",
    "\n",
    "import requests as r \n",
    "from pandas.io.json import json_normalize\n",
    "\n",
    "#url to get \n",
    "action_getURL = 'https://raw.githubusercontent.com/OCHA-DAP/hdx-scraper-ukraine-viz/main/UKR_Hostilities.geojson'\n",
    "\n",
    "#use get to pull cookies information\n",
    "res = r.get(action_getURL)\n",
    "\n",
    "#Get the cookies\n",
    "search_cookies = res.cookies"
   ]
  },
  {
   "cell_type": "code",
   "execution_count": null,
   "id": "70d675ce",
   "metadata": {},
   "outputs": [],
   "source": []
  },
  {
   "cell_type": "code",
   "execution_count": null,
   "id": "78dd8cf0",
   "metadata": {},
   "outputs": [],
   "source": []
  },
  {
   "cell_type": "code",
   "execution_count": null,
   "id": "02eebb62",
   "metadata": {},
   "outputs": [],
   "source": [
    "# Quit Browser\n",
    "browser.quit()"
   ]
  },
  {
   "cell_type": "code",
   "execution_count": null,
   "id": "be93ac8b",
   "metadata": {},
   "outputs": [],
   "source": []
  }
 ],
 "metadata": {
  "kernelspec": {
   "display_name": "Python 3.9.5 64-bit",
   "language": "python",
   "name": "python3"
  },
  "language_info": {
   "codemirror_mode": {
    "name": "ipython",
    "version": 3
   },
   "file_extension": ".py",
   "mimetype": "text/x-python",
   "name": "python",
   "nbconvert_exporter": "python",
   "pygments_lexer": "ipython3",
   "version": "3.9.5"
  },
  "vscode": {
   "interpreter": {
    "hash": "aee8b7b246df8f9039afb4144a1f6fd8d2ca17a180786b69acc140d282b71a49"
   }
  }
 },
 "nbformat": 4,
 "nbformat_minor": 5
}
