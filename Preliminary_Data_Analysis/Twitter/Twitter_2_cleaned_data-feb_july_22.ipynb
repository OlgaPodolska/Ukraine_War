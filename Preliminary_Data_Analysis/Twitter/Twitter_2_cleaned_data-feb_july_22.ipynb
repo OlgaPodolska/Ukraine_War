{
 "cells": [
  {
   "cell_type": "code",
   "execution_count": 1,
   "id": "3c868192",
   "metadata": {},
   "outputs": [],
   "source": [
    "import numpy as np \n",
    "import pandas as pd \n",
    "import re\n",
    "import json\n",
    "\n",
    "import os\n",
    "import matplotlib.pyplot as plt\n",
    "import seaborn as sns\n",
    "%matplotlib inline\n",
    "\n",
    "#!pip install emoji --upgrade\n",
    "import emoji\n",
    "\n",
    "#!pip install tweet-preprocessor\n",
    "import preprocessor as p\n",
    "\n",
    "from wordcloud import WordCloud, STOPWORDS, ImageColorGenerator"
   ]
  },
  {
   "cell_type": "code",
   "execution_count": 1,
   "metadata": {},
   "outputs": [
    {
     "name": "stdout",
     "output_type": "stream",
     "text": [
      "Collecting emoji\n",
      "  Downloading emoji-2.0.0.tar.gz (197 kB)\n",
      "\u001b[K     |████████████████████████████████| 197 kB 1.5 MB/s eta 0:00:01\n",
      "\u001b[?25hBuilding wheels for collected packages: emoji\n",
      "  Building wheel for emoji (setup.py) ... \u001b[?25ldone\n",
      "\u001b[?25h  Created wheel for emoji: filename=emoji-2.0.0-py3-none-any.whl size=193003 sha256=ba15f8a49d31d5c930b174ee4ce5307fd0e1f0b30ce04ba35a450c89c8c6fa13\n",
      "  Stored in directory: /Users/jaymeeliu/Library/Caches/pip/wheels/23/a5/a8/e74bad1ceced228b6ae94dcbacc5c67df6486fd1620714e7d1\n",
      "Successfully built emoji\n",
      "Installing collected packages: emoji\n",
      "Successfully installed emoji-2.0.0\n",
      "\u001b[33mWARNING: You are using pip version 21.0.1; however, version 22.2.2 is available.\n",
      "You should consider upgrading via the '/Users/jaymeeliu/opt/anaconda3/bin/python -m pip install --upgrade pip' command.\u001b[0m\n"
     ]
    }
   ],
   "source": [
    "!pip install emoji --upgrade"
   ]
  },
  {
   "cell_type": "code",
   "execution_count": 2,
   "metadata": {},
   "outputs": [
    {
     "name": "stdout",
     "output_type": "stream",
     "text": [
      "Collecting tweet-preprocessor\n",
      "  Downloading tweet_preprocessor-0.6.0-py3-none-any.whl (27 kB)\n",
      "Installing collected packages: tweet-preprocessor\n",
      "Successfully installed tweet-preprocessor-0.6.0\n",
      "\u001b[33mWARNING: You are using pip version 21.0.1; however, version 22.2.2 is available.\n",
      "You should consider upgrading via the '/Users/jaymeeliu/opt/anaconda3/bin/python -m pip install --upgrade pip' command.\u001b[0m\n"
     ]
    }
   ],
   "source": [
    "!pip install tweet-preprocessor"
   ]
  },
  {
   "cell_type": "code",
   "execution_count": 2,
   "id": "674ac08c",
   "metadata": {},
   "outputs": [],
   "source": [
    "all_files = []\n",
    "for dirname, _, filenames in os.walk('/Users/olgapodolska/Desktop/UA_War_my/input/'):\n",
    "    for filename in filenames:\n",
    "        full_path=os.path.join(dirname, filename)\n",
    "        all_files.append(full_path)"
   ]
  },
  {
   "cell_type": "code",
   "execution_count": 3,
   "id": "60970883",
   "metadata": {},
   "outputs": [],
   "source": [
    "# sort the files\n",
    "all_files.sort()"
   ]
  },
  {
   "cell_type": "code",
   "execution_count": 4,
   "id": "886692ea",
   "metadata": {},
   "outputs": [
    {
     "data": {
      "text/plain": [
       "['/Users/olgapodolska/Desktop/UA_War_my/input/0801_UkraineCombinedTweetsDeduped.csv.gzip',\n",
       " '/Users/olgapodolska/Desktop/UA_War_my/input/0802_UkraineCombinedTweetsDeduped.csv.gzip',\n",
       " '/Users/olgapodolska/Desktop/UA_War_my/input/0803_UkraineCombinedTweetsDeduped.csv.gzip',\n",
       " '/Users/olgapodolska/Desktop/UA_War_my/input/0804_UkraineCombinedTweetsDeduped.csv.gzip',\n",
       " '/Users/olgapodolska/Desktop/UA_War_my/input/0805_UkraineCombinedTweetsDeduped.csv.gzip',\n",
       " '/Users/olgapodolska/Desktop/UA_War_my/input/0806_UkraineCombinedTweetsDeduped.csv.gzip',\n",
       " '/Users/olgapodolska/Desktop/UA_War_my/input/0807_UkraineCombinedTweetsDeduped.csv.gzip',\n",
       " '/Users/olgapodolska/Desktop/UA_War_my/input/0808_UkraineCombinedTweetsDeduped.csv.gzip',\n",
       " '/Users/olgapodolska/Desktop/UA_War_my/input/0809_UkraineCombinedTweetsDeduped.csv.gzip',\n",
       " '/Users/olgapodolska/Desktop/UA_War_my/input/0810_UkraineCombinedTweetsDeduped.csv.gzip',\n",
       " '/Users/olgapodolska/Desktop/UA_War_my/input/0811_UkraineCombinedTweetsDeduped.csv.gzip',\n",
       " '/Users/olgapodolska/Desktop/UA_War_my/input/0812_UkraineCombinedTweetsDeduped.csv.gzip']"
      ]
     },
     "execution_count": 4,
     "metadata": {},
     "output_type": "execute_result"
    }
   ],
   "source": [
    "# fetch all August files - filenames containing \"AUG\" or \"202208\"\n",
    "aug_files = [file for file in all_files if re.search(\"/08\", file)]\n",
    "aug_files"
   ]
  },
  {
   "cell_type": "code",
   "execution_count": 5,
   "id": "f4c0f097",
   "metadata": {},
   "outputs": [
    {
     "name": "stdout",
     "output_type": "stream",
     "text": [
      "Reading in /Users/olgapodolska/Desktop/UA_War_my/input/0801_UkraineCombinedTweetsDeduped.csv.gzip\n",
      "Reading in /Users/olgapodolska/Desktop/UA_War_my/input/0802_UkraineCombinedTweetsDeduped.csv.gzip\n",
      "Reading in /Users/olgapodolska/Desktop/UA_War_my/input/0803_UkraineCombinedTweetsDeduped.csv.gzip\n",
      "Reading in /Users/olgapodolska/Desktop/UA_War_my/input/0804_UkraineCombinedTweetsDeduped.csv.gzip\n",
      "Reading in /Users/olgapodolska/Desktop/UA_War_my/input/0805_UkraineCombinedTweetsDeduped.csv.gzip\n",
      "Reading in /Users/olgapodolska/Desktop/UA_War_my/input/0806_UkraineCombinedTweetsDeduped.csv.gzip\n"
     ]
    },
    {
     "name": "stderr",
     "output_type": "stream",
     "text": [
      "/Users/olgapodolska/opt/anaconda3/envs/mlenv/lib/python3.7/site-packages/IPython/core/interactiveshell.py:3457: DtypeWarning: Columns (15) have mixed types.Specify dtype option on import or set low_memory=False.\n",
      "  exec(code_obj, self.user_global_ns, self.user_ns)\n"
     ]
    },
    {
     "name": "stdout",
     "output_type": "stream",
     "text": [
      "Reading in /Users/olgapodolska/Desktop/UA_War_my/input/0807_UkraineCombinedTweetsDeduped.csv.gzip\n",
      "Reading in /Users/olgapodolska/Desktop/UA_War_my/input/0808_UkraineCombinedTweetsDeduped.csv.gzip\n"
     ]
    },
    {
     "name": "stderr",
     "output_type": "stream",
     "text": [
      "/Users/olgapodolska/opt/anaconda3/envs/mlenv/lib/python3.7/site-packages/IPython/core/interactiveshell.py:3457: DtypeWarning: Columns (20) have mixed types.Specify dtype option on import or set low_memory=False.\n",
      "  exec(code_obj, self.user_global_ns, self.user_ns)\n"
     ]
    },
    {
     "name": "stdout",
     "output_type": "stream",
     "text": [
      "Reading in /Users/olgapodolska/Desktop/UA_War_my/input/0809_UkraineCombinedTweetsDeduped.csv.gzip\n",
      "Reading in /Users/olgapodolska/Desktop/UA_War_my/input/0810_UkraineCombinedTweetsDeduped.csv.gzip\n",
      "Reading in /Users/olgapodolska/Desktop/UA_War_my/input/0811_UkraineCombinedTweetsDeduped.csv.gzip\n",
      "Reading in /Users/olgapodolska/Desktop/UA_War_my/input/0812_UkraineCombinedTweetsDeduped.csv.gzip\n",
      "Concatenating the DataFrames\n",
      "Concatenation complete!\n"
     ]
    }
   ],
   "source": [
    "# Unzip the files and concatenate them into one pandas DataFrame\n",
    "tmp_df_list = []\n",
    "for file in aug_files:\n",
    "    print(f\"Reading in {file}\")\n",
    "    # unzip and read in the csv file as a dataframe\n",
    "    tmp_df = pd.read_csv(file, compression=\"gzip\", header=0, index_col=0)\n",
    "    # append dataframe to temp list\n",
    "    tmp_df_list.append(tmp_df)\n",
    "\n",
    "print(\"Concatenating the DataFrames\")\n",
    "# concatenate the dataframes in the temp list row-wise\n",
    "aug_df= pd.concat(tmp_df_list, axis=0)\n",
    "print(\"Concatenation complete!\")"
   ]
  },
  {
   "cell_type": "code",
   "execution_count": 24,
   "id": "8772a294",
   "metadata": {},
   "outputs": [
    {
     "data": {
      "text/html": [
       "<div>\n",
       "<style scoped>\n",
       "    .dataframe tbody tr th:only-of-type {\n",
       "        vertical-align: middle;\n",
       "    }\n",
       "\n",
       "    .dataframe tbody tr th {\n",
       "        vertical-align: top;\n",
       "    }\n",
       "\n",
       "    .dataframe thead th {\n",
       "        text-align: right;\n",
       "    }\n",
       "</style>\n",
       "<table border=\"1\" class=\"dataframe\">\n",
       "  <thead>\n",
       "    <tr style=\"text-align: right;\">\n",
       "      <th></th>\n",
       "      <th>userid</th>\n",
       "      <th>username</th>\n",
       "      <th>acctdesc</th>\n",
       "      <th>location</th>\n",
       "      <th>following</th>\n",
       "      <th>followers</th>\n",
       "      <th>totaltweets</th>\n",
       "      <th>usercreatedts</th>\n",
       "      <th>tweetid</th>\n",
       "      <th>tweetcreatedts</th>\n",
       "      <th>...</th>\n",
       "      <th>original_tweet_userid</th>\n",
       "      <th>original_tweet_username</th>\n",
       "      <th>in_reply_to_status_id</th>\n",
       "      <th>in_reply_to_user_id</th>\n",
       "      <th>in_reply_to_screen_name</th>\n",
       "      <th>is_quote_status</th>\n",
       "      <th>quoted_status_id</th>\n",
       "      <th>quoted_status_userid</th>\n",
       "      <th>quoted_status_username</th>\n",
       "      <th>extractedts</th>\n",
       "    </tr>\n",
       "  </thead>\n",
       "  <tbody>\n",
       "    <tr>\n",
       "      <th>0</th>\n",
       "      <td>369869874</td>\n",
       "      <td>ORFMumbai</td>\n",
       "      <td>Non–partisan, independent analyses on security...</td>\n",
       "      <td>Nariman Point, Mumbai, India</td>\n",
       "      <td>51</td>\n",
       "      <td>3362</td>\n",
       "      <td>71331</td>\n",
       "      <td>2011-09-08 02:34:54.000000</td>\n",
       "      <td>1553893270027063297</td>\n",
       "      <td>2022-08-01 00:00:00.000000</td>\n",
       "      <td>...</td>\n",
       "      <td>0</td>\n",
       "      <td>NaN</td>\n",
       "      <td>0</td>\n",
       "      <td>0</td>\n",
       "      <td>NaN</td>\n",
       "      <td>False</td>\n",
       "      <td>0</td>\n",
       "      <td>0</td>\n",
       "      <td>NaN</td>\n",
       "      <td>2022-08-01 02:30:13.601013</td>\n",
       "    </tr>\n",
       "    <tr>\n",
       "      <th>1</th>\n",
       "      <td>882984605028102144</td>\n",
       "      <td>For2000years</td>\n",
       "      <td>\"I have certain rules I live by. My first rule...</td>\n",
       "      <td>Facing East</td>\n",
       "      <td>2964</td>\n",
       "      <td>4669</td>\n",
       "      <td>119795</td>\n",
       "      <td>2017-07-06 15:28:29.000000</td>\n",
       "      <td>1553893270983409670</td>\n",
       "      <td>2022-08-01 00:00:00.000000</td>\n",
       "      <td>...</td>\n",
       "      <td>56575418</td>\n",
       "      <td>timand2037</td>\n",
       "      <td>0</td>\n",
       "      <td>0</td>\n",
       "      <td>NaN</td>\n",
       "      <td>False</td>\n",
       "      <td>0</td>\n",
       "      <td>0</td>\n",
       "      <td>NaN</td>\n",
       "      <td>2022-08-01 02:30:13.573250</td>\n",
       "    </tr>\n",
       "    <tr>\n",
       "      <th>2</th>\n",
       "      <td>862842887565869056</td>\n",
       "      <td>CumanaCandanga</td>\n",
       "      <td>IG: @CumanaCandanga\\nEn #Cumaná también somos ...</td>\n",
       "      <td>Cumana, Venezuela</td>\n",
       "      <td>6033</td>\n",
       "      <td>6730</td>\n",
       "      <td>18870</td>\n",
       "      <td>2017-05-12 01:32:30.000000</td>\n",
       "      <td>1553893271671382024</td>\n",
       "      <td>2022-08-01 00:00:00.000000</td>\n",
       "      <td>...</td>\n",
       "      <td>1441312629155237888</td>\n",
       "      <td>ProfeJesusDavid</td>\n",
       "      <td>0</td>\n",
       "      <td>0</td>\n",
       "      <td>NaN</td>\n",
       "      <td>False</td>\n",
       "      <td>0</td>\n",
       "      <td>0</td>\n",
       "      <td>NaN</td>\n",
       "      <td>2022-08-01 00:29:56.081894</td>\n",
       "    </tr>\n",
       "    <tr>\n",
       "      <th>3</th>\n",
       "      <td>1366546460557385729</td>\n",
       "      <td>EnfoquesEnCorto</td>\n",
       "      <td>📻Sigue nuestros cortes informativos 🎙Escúchano...</td>\n",
       "      <td>Mexico, ME</td>\n",
       "      <td>195</td>\n",
       "      <td>192</td>\n",
       "      <td>20780</td>\n",
       "      <td>2021-03-02 00:30:59.000000</td>\n",
       "      <td>1553893273751666691</td>\n",
       "      <td>2022-08-01 00:00:01.000000</td>\n",
       "      <td>...</td>\n",
       "      <td>0</td>\n",
       "      <td>NaN</td>\n",
       "      <td>0</td>\n",
       "      <td>0</td>\n",
       "      <td>NaN</td>\n",
       "      <td>False</td>\n",
       "      <td>0</td>\n",
       "      <td>0</td>\n",
       "      <td>NaN</td>\n",
       "      <td>2022-08-01 10:29:39.709724</td>\n",
       "    </tr>\n",
       "    <tr>\n",
       "      <th>4</th>\n",
       "      <td>1378766002792583168</td>\n",
       "      <td>kaotiskhund</td>\n",
       "      <td>NaN</td>\n",
       "      <td>NaN</td>\n",
       "      <td>49</td>\n",
       "      <td>8</td>\n",
       "      <td>112</td>\n",
       "      <td>2021-04-04 17:47:00.000000</td>\n",
       "      <td>1553893274687094785</td>\n",
       "      <td>2022-08-01 00:00:01.000000</td>\n",
       "      <td>...</td>\n",
       "      <td>0</td>\n",
       "      <td>NaN</td>\n",
       "      <td>0</td>\n",
       "      <td>0</td>\n",
       "      <td>NaN</td>\n",
       "      <td>False</td>\n",
       "      <td>0</td>\n",
       "      <td>0</td>\n",
       "      <td>NaN</td>\n",
       "      <td>2022-08-01 06:59:10.496078</td>\n",
       "    </tr>\n",
       "  </tbody>\n",
       "</table>\n",
       "<p>5 rows × 28 columns</p>\n",
       "</div>"
      ],
      "text/plain": [
       "                userid         username  \\\n",
       "0            369869874        ORFMumbai   \n",
       "1   882984605028102144     For2000years   \n",
       "2   862842887565869056   CumanaCandanga   \n",
       "3  1366546460557385729  EnfoquesEnCorto   \n",
       "4  1378766002792583168      kaotiskhund   \n",
       "\n",
       "                                            acctdesc  \\\n",
       "0  Non–partisan, independent analyses on security...   \n",
       "1  \"I have certain rules I live by. My first rule...   \n",
       "2  IG: @CumanaCandanga\\nEn #Cumaná también somos ...   \n",
       "3  📻Sigue nuestros cortes informativos 🎙Escúchano...   \n",
       "4                                                NaN   \n",
       "\n",
       "                       location  following  followers  totaltweets  \\\n",
       "0  Nariman Point, Mumbai, India         51       3362        71331   \n",
       "1                   Facing East       2964       4669       119795   \n",
       "2             Cumana, Venezuela       6033       6730        18870   \n",
       "3                    Mexico, ME        195        192        20780   \n",
       "4                           NaN         49          8          112   \n",
       "\n",
       "                usercreatedts              tweetid  \\\n",
       "0  2011-09-08 02:34:54.000000  1553893270027063297   \n",
       "1  2017-07-06 15:28:29.000000  1553893270983409670   \n",
       "2  2017-05-12 01:32:30.000000  1553893271671382024   \n",
       "3  2021-03-02 00:30:59.000000  1553893273751666691   \n",
       "4  2021-04-04 17:47:00.000000  1553893274687094785   \n",
       "\n",
       "               tweetcreatedts  ...  original_tweet_userid  \\\n",
       "0  2022-08-01 00:00:00.000000  ...                      0   \n",
       "1  2022-08-01 00:00:00.000000  ...               56575418   \n",
       "2  2022-08-01 00:00:00.000000  ...    1441312629155237888   \n",
       "3  2022-08-01 00:00:01.000000  ...                      0   \n",
       "4  2022-08-01 00:00:01.000000  ...                      0   \n",
       "\n",
       "  original_tweet_username in_reply_to_status_id in_reply_to_user_id  \\\n",
       "0                     NaN                     0                   0   \n",
       "1              timand2037                     0                   0   \n",
       "2         ProfeJesusDavid                     0                   0   \n",
       "3                     NaN                     0                   0   \n",
       "4                     NaN                     0                   0   \n",
       "\n",
       "  in_reply_to_screen_name  is_quote_status  quoted_status_id  \\\n",
       "0                     NaN            False                 0   \n",
       "1                     NaN            False                 0   \n",
       "2                     NaN            False                 0   \n",
       "3                     NaN            False                 0   \n",
       "4                     NaN            False                 0   \n",
       "\n",
       "   quoted_status_userid  quoted_status_username                 extractedts  \n",
       "0                     0                     NaN  2022-08-01 02:30:13.601013  \n",
       "1                     0                     NaN  2022-08-01 02:30:13.573250  \n",
       "2                     0                     NaN  2022-08-01 00:29:56.081894  \n",
       "3                     0                     NaN  2022-08-01 10:29:39.709724  \n",
       "4                     0                     NaN  2022-08-01 06:59:10.496078  \n",
       "\n",
       "[5 rows x 28 columns]"
      ]
     },
     "execution_count": 24,
     "metadata": {},
     "output_type": "execute_result"
    }
   ],
   "source": [
    "# show the first 5 rows of the august dataframe\n",
    "aug_df.head(5)"
   ]
  },
  {
   "cell_type": "code",
   "execution_count": 25,
   "id": "c7f96f2b",
   "metadata": {},
   "outputs": [
    {
     "name": "stdout",
     "output_type": "stream",
     "text": [
      "1849926 rows and 28 columns\n"
     ]
    }
   ],
   "source": [
    "# get shape of the DataFrame\n",
    "print(f\"{aug_df.shape[0]} rows and {aug_df.shape[1]} columns\")"
   ]
  },
  {
   "cell_type": "code",
   "execution_count": 26,
   "id": "fee348ea",
   "metadata": {},
   "outputs": [
    {
     "name": "stdout",
     "output_type": "stream",
     "text": [
      "<class 'pandas.core.frame.DataFrame'>\n",
      "Int64Index: 1849926 entries, 0 to 59744\n",
      "Data columns (total 28 columns):\n",
      " #   Column                   Dtype \n",
      "---  ------                   ----- \n",
      " 0   userid                   int64 \n",
      " 1   username                 object\n",
      " 2   acctdesc                 object\n",
      " 3   location                 object\n",
      " 4   following                int64 \n",
      " 5   followers                int64 \n",
      " 6   totaltweets              int64 \n",
      " 7   usercreatedts            object\n",
      " 8   tweetid                  int64 \n",
      " 9   tweetcreatedts           object\n",
      " 10  retweetcount             int64 \n",
      " 11  text                     object\n",
      " 12  hashtags                 object\n",
      " 13  language                 object\n",
      " 14  coordinates              object\n",
      " 15  favorite_count           int64 \n",
      " 16  is_retweet               bool  \n",
      " 17  original_tweet_id        int64 \n",
      " 18  original_tweet_userid    int64 \n",
      " 19  original_tweet_username  object\n",
      " 20  in_reply_to_status_id    int64 \n",
      " 21  in_reply_to_user_id      int64 \n",
      " 22  in_reply_to_screen_name  object\n",
      " 23  is_quote_status          bool  \n",
      " 24  quoted_status_id         int64 \n",
      " 25  quoted_status_userid     int64 \n",
      " 26  quoted_status_username   object\n",
      " 27  extractedts              object\n",
      "dtypes: bool(2), int64(13), object(13)\n",
      "memory usage: 384.6+ MB\n"
     ]
    }
   ],
   "source": [
    "# Check data types\n",
    "aug_df.info()"
   ]
  },
  {
   "cell_type": "code",
   "execution_count": 6,
   "id": "8beff581",
   "metadata": {},
   "outputs": [
    {
     "name": "stdout",
     "output_type": "stream",
     "text": [
      "<class 'pandas.core.frame.DataFrame'>\n",
      "Int64Index: 1849926 entries, 0 to 59744\n",
      "Data columns (total 28 columns):\n",
      " #   Column                   Dtype         \n",
      "---  ------                   -----         \n",
      " 0   userid                   int64         \n",
      " 1   username                 object        \n",
      " 2   acctdesc                 object        \n",
      " 3   location                 object        \n",
      " 4   following                int64         \n",
      " 5   followers                int64         \n",
      " 6   totaltweets              int64         \n",
      " 7   usercreatedts            datetime64[ns]\n",
      " 8   tweetid                  int64         \n",
      " 9   tweetcreatedts           datetime64[ns]\n",
      " 10  retweetcount             int64         \n",
      " 11  text                     object        \n",
      " 12  hashtags                 object        \n",
      " 13  language                 object        \n",
      " 14  coordinates              object        \n",
      " 15  favorite_count           int64         \n",
      " 16  is_retweet               bool          \n",
      " 17  original_tweet_id        int64         \n",
      " 18  original_tweet_userid    int64         \n",
      " 19  original_tweet_username  object        \n",
      " 20  in_reply_to_status_id    int64         \n",
      " 21  in_reply_to_user_id      int64         \n",
      " 22  in_reply_to_screen_name  object        \n",
      " 23  is_quote_status          bool          \n",
      " 24  quoted_status_id         int64         \n",
      " 25  quoted_status_userid     int64         \n",
      " 26  quoted_status_username   object        \n",
      " 27  extractedts              datetime64[ns]\n",
      "dtypes: bool(2), datetime64[ns](3), int64(13), object(10)\n",
      "memory usage: 384.6+ MB\n"
     ]
    }
   ],
   "source": [
    "# Change the dtypes of usercreatedts, tweetcreatedts, and extractedts to datetime64 for easier operation later\n",
    "aug_df[\"usercreatedts\"] = pd.to_datetime(aug_df[\"usercreatedts\"])\n",
    "aug_df[\"tweetcreatedts\"] = pd.to_datetime(aug_df[\"tweetcreatedts\"])\n",
    "aug_df[\"extractedts\"] = pd.to_datetime(aug_df[\"extractedts\"])\n",
    "\n",
    "# check dtypes\n",
    "aug_df.info()"
   ]
  },
  {
   "cell_type": "code",
   "execution_count": 7,
   "id": "6c6e1658",
   "metadata": {},
   "outputs": [
    {
     "name": "stdout",
     "output_type": "stream",
     "text": [
      "The earliest tweet was at 2022-08-01 00:00:00, and the latest was at 2022-08-12 23:59:58\n"
     ]
    }
   ],
   "source": [
    "# When were the earliest and latest tweets in this dataset created\n",
    "earliest_tweet = aug_df[\"tweetcreatedts\"].min()\n",
    "latest_tweet = aug_df[\"tweetcreatedts\"].max()\n",
    "\n",
    "print(f\"The earliest tweet was at {earliest_tweet}, and the latest was at {latest_tweet}\")"
   ]
  },
  {
   "cell_type": "code",
   "execution_count": 29,
   "id": "2e3749f6",
   "metadata": {},
   "outputs": [
    {
     "data": {
      "image/png": "[encoded data removed]",
      "text/plain": [
       "<Figure size 432x288 with 1 Axes>"
      ]
     },
     "metadata": {
      "needs_background": "light"
     },
     "output_type": "display_data"
    }
   ],
   "source": [
    "# Visualize tweet frequency by date\n",
    "# get dates in the dataframe \n",
    "dates = aug_df[\"tweetcreatedts\"].dt.day\n",
    "# group tweet timestamps by date and get tweet count for each date\n",
    "tweetcount_by_date = aug_df[\"tweetcreatedts\"].groupby(dates).size()\n",
    "\n",
    "# plot bar graph of tweet count by date\n",
    "tweetcount_by_date.plot.bar();\n",
    "\n",
    "plt.title(\"August Tweet Count by Date\")\n",
    "plt.xlabel(\"Tweet Date\")\n",
    "plt.ylabel(\"Tweet Count\")\n",
    "plt.xticks(rotation=0)\n",
    "plt.show()"
   ]
  },
  {
   "cell_type": "code",
   "execution_count": 30,
   "id": "d392b96a",
   "metadata": {},
   "outputs": [
    {
     "name": "stdout",
     "output_type": "stream",
     "text": [
      "There are 66 unique languages in this DataFrame.\n"
     ]
    },
    {
     "data": {
      "text/plain": [
       "array(['en', 'es', 'zh', 'fr', 'el', 'pl', 'und', 'de', 'it', 'ja', 'nl',\n",
       "       'ru', 'lv', 'ar', 'uk', 'tr', 'in', 'sr', 'sl', 'ro', 'th', 'fi',\n",
       "       'pt', 'tl', 'ca', 'da', 'sv', 'ht', 'fa', 'et', 'ta', 'lt', 'hi',\n",
       "       'iw', 'bn', 'ur', 'vi', 'is', 'cs', 'ko', 'kn', 'te', 'eu', 'no',\n",
       "       'gu', 'ka', 'my', 'ps', 'bg', 'mr', 'hu', 'am', 'ml', 'cy', 'pa',\n",
       "       'ckb', 'ne', 'si', 'hy', 'or', 'lo', 'bo', 'sd', 'km', 'ug', 'dv'],\n",
       "      dtype=object)"
      ]
     },
     "execution_count": 30,
     "metadata": {},
     "output_type": "execute_result"
    }
   ],
   "source": [
    "# How many languages are in this dataset\n",
    "print(f\"There are {aug_df['language'].nunique()} unique languages in this DataFrame.\")\n",
    "aug_df[\"language\"].unique()"
   ]
  },
  {
   "cell_type": "code",
   "execution_count": 31,
   "id": "a64900d8",
   "metadata": {},
   "outputs": [
    {
     "name": "stdout",
     "output_type": "stream",
     "text": [
      "56.76% of the tweets are in English.\n"
     ]
    }
   ],
   "source": [
    "# What percentage of the tweets is in English (en)\n",
    "print(f\"{round(aug_df.loc[aug_df['language']=='en'].shape[0]/aug_df.shape[0]*100, 2)}% of the tweets are in English.\")"
   ]
  },
  {
   "cell_type": "code",
   "execution_count": 32,
   "id": "e5cfdad9",
   "metadata": {},
   "outputs": [
    {
     "data": {
      "image/png": "[encoded data removed]",
      "text/plain": [
       "<Figure size 864x432 with 1 Axes>"
      ]
     },
     "metadata": {
      "needs_background": "light"
     },
     "output_type": "display_data"
    }
   ],
   "source": [
    "# Plot the distribution of different languages\n",
    "language_counts = aug_df.groupby(\"language\").size().sort_values(ascending=False)[0:20].plot.bar(figsize=(12,6),\n",
    "                                                                                         title=\"Top 20 Languages by Frequency\",\n",
    "                                                                                         xlabel=\"Language Code\",\n",
    "                                                                                         ylabel=\"Number of Tweets\",\n",
    "                                                                                         rot=90\n",
    "                                                                                         );\n",
    "\n",
    "plt.xticks(rotation=0)\n",
    "plt.show()"
   ]
  },
  {
   "cell_type": "markdown",
   "id": "d2c5bc6d",
   "metadata": {},
   "source": [
    "We can see that English (en) was by far the most prevalent language in this dataset, nearing 1.2 million tweets out of 1.96 million. The second and third most prevalent languages were French and Thai, respectively.\n",
    "\n",
    "Note that the forth most prevalent language was \"und\", which is used to indicate that Twitter could not detect a language. We can safely inspect English language only."
   ]
  },
  {
   "cell_type": "code",
   "execution_count": 33,
   "id": "ef583a5f",
   "metadata": {},
   "outputs": [
    {
     "name": "stdout",
     "output_type": "stream",
     "text": [
      "Shortest tweet has 1 chars.\n",
      "Longest tweet has 1027 chars.\n"
     ]
    }
   ],
   "source": [
    "# Inspect shortest and longest tweets\n",
    "min_len = aug_df[\"text\"].str.len().min()\n",
    "max_len = aug_df[\"text\"].str.len().max()\n",
    "\n",
    "\n",
    "print(f\"Shortest tweet has {min_len} chars.\")\n",
    "print(f\"Longest tweet has {max_len} chars.\")"
   ]
  },
  {
   "cell_type": "markdown",
   "id": "7efac282",
   "metadata": {},
   "source": [
    "Hold on, a tweet can have 280 characters max. How could one have more than the limit?"
   ]
  },
  {
   "cell_type": "code",
   "execution_count": 34,
   "id": "9ec09562",
   "metadata": {},
   "outputs": [
    {
     "data": {
      "text/plain": [
       "73894    1xbet her zaman en iyisi ve en çok kazandıranı...\n",
       "73894    📽️Fields of #Kherson Oblast, destroyed Russian...\n",
       "73894    Every day more and more war crimes and terrori...\n",
       "73894    🔴 VIDÉO - \"Si la #Chine attaque, c'est la fin ...\n",
       "73894    #ExpectUs Putin aka Hitler\\n\\n🇷🇺 Russian NTV T...\n",
       "73894    \"San Fermín, tres años después\":\\n\\nhttps://t....\n",
       "73894    @HashmatRuhul @mosad42027539 @SinghRakeshKu14 ...\n",
       "Name: text, dtype: object"
      ]
     },
     "execution_count": 34,
     "metadata": {},
     "output_type": "execute_result"
    }
   ],
   "source": [
    "# get index of the tweet that has the max length\n",
    "max_len_index = aug_df[\"text\"].str.len().idxmax()\n",
    "# pull out the text of that index\n",
    "aug_df.loc[max_len_index, \"text\"]"
   ]
  },
  {
   "cell_type": "markdown",
   "id": "49cf055b",
   "metadata": {},
   "source": [
    "Upon research, mentions supposedly do not count toward the character limit when the tweet is a reply."
   ]
  },
  {
   "cell_type": "code",
   "execution_count": 35,
   "id": "2bdc2910",
   "metadata": {},
   "outputs": [
    {
     "data": {
      "image/png": "[encoded data removed]",
      "text/plain": [
       "<Figure size 432x288 with 1 Axes>"
      ]
     },
     "metadata": {
      "needs_background": "light"
     },
     "output_type": "display_data"
    },
    {
     "name": "stdout",
     "output_type": "stream",
     "text": [
      "Mean: 192.23341690424374 chars\n",
      "Median: 199.0 chars\n",
      "Standard deviation: 86.09440823148087 chars\n"
     ]
    }
   ],
   "source": [
    "# Check the distribution of tweet lengths\n",
    "tweet_len_series = aug_df[\"text\"].str.len()\n",
    "tweet_len_series.plot.hist();\n",
    "plt.title(\"Distribution of Tweet Length\")\n",
    "plt.xlabel(\"Tweet Length (Characters)\")\n",
    "plt.ylabel(\"Frequency\")\n",
    "# draw a vertical line for the mean\n",
    "plt.axvline(x=tweet_len_series.mean(), color=\"red\")\n",
    "# draw a vertical line for the median\n",
    "plt.axvline(x=tweet_len_series.median(), color=\"yellow\")\n",
    "plt.show()\n",
    "\n",
    "print(f\"Mean: {tweet_len_series.mean()} chars\")\n",
    "print(f\"Median: {tweet_len_series.median()} chars\")\n",
    "print(f\"Standard deviation: {tweet_len_series.std()} chars\")"
   ]
  },
  {
   "cell_type": "markdown",
   "id": "db361f71",
   "metadata": {},
   "source": [
    "The distribution is right-skewed. Most tweets appear to be below 300 characers in length. But because we have a few outlying tweets that have anomalously long lengths, as investigated above, the histogram has an elongated x-axis"
   ]
  },
  {
   "cell_type": "code",
   "execution_count": 36,
   "id": "e28a4208",
   "metadata": {},
   "outputs": [
    {
     "name": "stdout",
     "output_type": "stream",
     "text": [
      "There are 127675 unique locations in this DataFrame.\n"
     ]
    }
   ],
   "source": [
    "# Look closer on location in this dataset\n",
    "print(f\"There are {aug_df['location'].nunique()} unique locations in this DataFrame.\")"
   ]
  },
  {
   "cell_type": "code",
   "execution_count": 37,
   "id": "b1d219f0",
   "metadata": {},
   "outputs": [
    {
     "data": {
      "text/plain": [
       "0        Nariman Point, Mumbai, India\n",
       "1                         Facing East\n",
       "2                   Cumana, Venezuela\n",
       "3                          Mexico, ME\n",
       "4                                 NaN\n",
       "                     ...             \n",
       "59740                   Lafayette, LA\n",
       "59741              California, USA 🇺🇲\n",
       "59742                      Cyberspace\n",
       "59743               Tottenham, London\n",
       "59744                             NaN\n",
       "Name: location, Length: 1849926, dtype: object"
      ]
     },
     "execution_count": 37,
     "metadata": {},
     "output_type": "execute_result"
    }
   ],
   "source": [
    "# Let see what locations users have in this dataset?\n",
    "aug_df['location']"
   ]
  },
  {
   "cell_type": "code",
   "execution_count": 38,
   "id": "71908ed6",
   "metadata": {},
   "outputs": [
    {
     "data": {
      "text/plain": [
       "array(['Nariman Point, Mumbai, India', 'Facing East', 'Cumana, Venezuela',\n",
       "       ..., 'novi, michigan', 'The Peanut Gallery',\n",
       "       'The dumbest possible timeline'], dtype=object)"
      ]
     },
     "execution_count": 38,
     "metadata": {},
     "output_type": "execute_result"
    }
   ],
   "source": [
    "# What is unique examples of locations?\n",
    "aug_df['location'].unique()"
   ]
  },
  {
   "cell_type": "markdown",
   "id": "ea343b06",
   "metadata": {},
   "source": [
    "As we can see, the location input wasn't formalized and even when users filled it, they fill it with some creative description of location as \"Facing West\" or \"The Peanut Gallery\", which don't give geografic information for us. Therefore, despite analizing correlation between twit's sentiment and autor's geografic location would be great idea, unfortunately we cannot realize it."
   ]
  },
  {
   "cell_type": "markdown",
   "id": "7f3d3434",
   "metadata": {},
   "source": [
    "## Data Cleaning"
   ]
  },
  {
   "cell_type": "code",
   "execution_count": 8,
   "id": "25fb88e7",
   "metadata": {},
   "outputs": [
    {
     "data": {
      "text/plain": [
       "userid                     False\n",
       "username                   False\n",
       "acctdesc                    True\n",
       "location                    True\n",
       "following                  False\n",
       "followers                  False\n",
       "totaltweets                False\n",
       "usercreatedts              False\n",
       "tweetid                    False\n",
       "tweetcreatedts             False\n",
       "retweetcount               False\n",
       "text                       False\n",
       "hashtags                   False\n",
       "language                   False\n",
       "coordinates                 True\n",
       "favorite_count             False\n",
       "is_retweet                 False\n",
       "original_tweet_id          False\n",
       "original_tweet_userid      False\n",
       "original_tweet_username     True\n",
       "in_reply_to_status_id      False\n",
       "in_reply_to_user_id        False\n",
       "in_reply_to_screen_name     True\n",
       "is_quote_status            False\n",
       "quoted_status_id           False\n",
       "quoted_status_userid       False\n",
       "quoted_status_username      True\n",
       "extractedts                False\n",
       "dtype: bool"
      ]
     },
     "execution_count": 8,
     "metadata": {},
     "output_type": "execute_result"
    }
   ],
   "source": [
    "# Check which columns have missing values\n",
    "aug_df.isna().any()"
   ]
  },
  {
   "cell_type": "markdown",
   "id": "b6b90f65",
   "metadata": {},
   "source": [
    "Have missing values in following columns: \n",
    "* acctdesc (account description), \n",
    "* location, \n",
    "* coordinates, \n",
    "* original_tweet_username, \n",
    "* in_reply_to_screen_name,\n",
    "* quoted_status_username "
   ]
  },
  {
   "cell_type": "markdown",
   "id": "6ee8b6ff",
   "metadata": {},
   "source": [
    "acctdesc, original_tweet_username, in_reply_to_screen_name, quoted_status_username  columns contain information, we are not concerned at with this moment. For now, we will rely on the tweets to learn more about what kind of words are frequently used and the users' sentiments surrounding the war in Ukraine. Therefore, we will drop acctdesc column."
   ]
  },
  {
   "cell_type": "code",
   "execution_count": 9,
   "id": "e9da0432",
   "metadata": {},
   "outputs": [
    {
     "name": "stdout",
     "output_type": "stream",
     "text": [
      "<class 'pandas.core.frame.DataFrame'>\n",
      "Int64Index: 1849926 entries, 0 to 59744\n",
      "Data columns (total 24 columns):\n",
      " #   Column                 Dtype         \n",
      "---  ------                 -----         \n",
      " 0   userid                 int64         \n",
      " 1   username               object        \n",
      " 2   location               object        \n",
      " 3   following              int64         \n",
      " 4   followers              int64         \n",
      " 5   totaltweets            int64         \n",
      " 6   usercreatedts          datetime64[ns]\n",
      " 7   tweetid                int64         \n",
      " 8   tweetcreatedts         datetime64[ns]\n",
      " 9   retweetcount           int64         \n",
      " 10  text                   object        \n",
      " 11  hashtags               object        \n",
      " 12  language               object        \n",
      " 13  coordinates            object        \n",
      " 14  favorite_count         int64         \n",
      " 15  is_retweet             bool          \n",
      " 16  original_tweet_id      int64         \n",
      " 17  original_tweet_userid  int64         \n",
      " 18  in_reply_to_status_id  int64         \n",
      " 19  in_reply_to_user_id    int64         \n",
      " 20  is_quote_status        bool          \n",
      " 21  quoted_status_id       int64         \n",
      " 22  quoted_status_userid   int64         \n",
      " 23  extractedts            datetime64[ns]\n",
      "dtypes: bool(2), datetime64[ns](3), int64(13), object(6)\n",
      "memory usage: 328.1+ MB\n"
     ]
    }
   ],
   "source": [
    "# Drop part of the columns with missing values\n",
    "aug_df.drop(\"acctdesc\", axis=1, inplace=True)\n",
    "aug_df.drop(\"original_tweet_username\", axis=1, inplace=True)\n",
    "aug_df.drop(\"in_reply_to_screen_name\", axis=1, inplace=True)\n",
    "aug_df.drop(\"quoted_status_username\", axis=1, inplace=True)\n",
    "# confirm it has been dropped\n",
    "aug_df.info()"
   ]
  },
  {
   "cell_type": "code",
   "execution_count": 10,
   "id": "b273b6d2",
   "metadata": {},
   "outputs": [
    {
     "name": "stdout",
     "output_type": "stream",
     "text": [
      "<class 'pandas.core.frame.DataFrame'>\n",
      "Int64Index: 1849926 entries, 0 to 59744\n",
      "Data columns (total 15 columns):\n",
      " #   Column           Dtype         \n",
      "---  ------           -----         \n",
      " 0   location         object        \n",
      " 1   following        int64         \n",
      " 2   followers        int64         \n",
      " 3   totaltweets      int64         \n",
      " 4   usercreatedts    datetime64[ns]\n",
      " 5   tweetcreatedts   datetime64[ns]\n",
      " 6   retweetcount     int64         \n",
      " 7   text             object        \n",
      " 8   hashtags         object        \n",
      " 9   language         object        \n",
      " 10  coordinates      object        \n",
      " 11  favorite_count   int64         \n",
      " 12  is_retweet       bool          \n",
      " 13  is_quote_status  bool          \n",
      " 14  extractedts      datetime64[ns]\n",
      "dtypes: bool(2), datetime64[ns](3), int64(5), object(5)\n",
      "memory usage: 201.1+ MB\n"
     ]
    }
   ],
   "source": [
    "# Drop the IDs columns as not important columns\n",
    "aug_df.drop(\"userid\", axis=1, inplace=True)\n",
    "aug_df.drop(\"username\", axis=1, inplace=True)\n",
    "aug_df.drop(\"tweetid\", axis=1, inplace=True)\n",
    "aug_df.drop(\"original_tweet_id\", axis=1, inplace=True)\n",
    "aug_df.drop(\"original_tweet_userid\", axis=1, inplace=True)\n",
    "aug_df.drop(\"in_reply_to_status_id\", axis=1, inplace=True)\n",
    "aug_df.drop(\"in_reply_to_user_id\", axis=1, inplace=True)\n",
    "aug_df.drop(\"quoted_status_userid\", axis=1, inplace=True)\n",
    "aug_df.drop(\"quoted_status_id\", axis=1, inplace=True)\n",
    "# confirm it has been dropped\n",
    "aug_df.info()"
   ]
  },
  {
   "cell_type": "code",
   "execution_count": 11,
   "id": "64a1b246",
   "metadata": {},
   "outputs": [
    {
     "data": {
      "text/plain": [
       "location            True\n",
       "following          False\n",
       "followers          False\n",
       "totaltweets        False\n",
       "usercreatedts      False\n",
       "tweetcreatedts     False\n",
       "retweetcount       False\n",
       "text               False\n",
       "hashtags           False\n",
       "language           False\n",
       "coordinates         True\n",
       "favorite_count     False\n",
       "is_retweet         False\n",
       "is_quote_status    False\n",
       "extractedts        False\n",
       "dtype: bool"
      ]
     },
     "execution_count": 11,
     "metadata": {},
     "output_type": "execute_result"
    }
   ],
   "source": [
    "# Check which columns have missing values\n",
    "aug_df.isna().any()"
   ]
  },
  {
   "cell_type": "markdown",
   "id": "73d960f2",
   "metadata": {},
   "source": [
    "Columns location and coordinates could be important for prediction, but they have missing values.\n",
    "Let's explore it further."
   ]
  },
  {
   "cell_type": "code",
   "execution_count": 43,
   "id": "2f1753e4",
   "metadata": {},
   "outputs": [
    {
     "name": "stdout",
     "output_type": "stream",
     "text": [
      "Column location has 800249 null values\n",
      "Column following has 0 null values\n",
      "Column followers has 0 null values\n",
      "Column totaltweets has 0 null values\n",
      "Column usercreatedts has 0 null values\n",
      "Column tweetcreatedts has 0 null values\n",
      "Column retweetcount has 0 null values\n",
      "Column text has 0 null values\n",
      "Column hashtags has 0 null values\n",
      "Column language has 0 null values\n",
      "Column coordinates has 1847412 null values\n",
      "Column favorite_count has 0 null values\n",
      "Column is_retweet has 0 null values\n",
      "Column is_quote_status has 0 null values\n",
      "Column extractedts has 0 null values\n"
     ]
    }
   ],
   "source": [
    "# Find null values\n",
    "for column in aug_df.columns:\n",
    "    print(f'Column {column} has {aug_df[column].isnull().sum()} null values')"
   ]
  },
  {
   "cell_type": "markdown",
   "id": "9f4d96d7",
   "metadata": {},
   "source": [
    "Dataset has 1849926 rows\n",
    "Column coordinates has 1847412 null values, therefore we have 2514 data here, which is nothing. We can safely remove this column as well.\n",
    "Column location has 800249 null values, it means that we have data in more then million rows."
   ]
  },
  {
   "cell_type": "code",
   "execution_count": 12,
   "id": "8af4bd24",
   "metadata": {},
   "outputs": [],
   "source": [
    "# Drop the coordinates column as it is practically empty\n",
    "aug_df.drop(\"coordinates\", axis=1, inplace=True)"
   ]
  },
  {
   "cell_type": "markdown",
   "id": "527e9d8f",
   "metadata": {},
   "source": [
    "Column location has 800249 null values, it means that we have data in more then million rows.\n",
    "But we explored it in the EDA, ufortunately location data wosn't standartized and only can give us information about users' endless fantasy."
   ]
  },
  {
   "cell_type": "code",
   "execution_count": 13,
   "id": "1e8ffcfd",
   "metadata": {},
   "outputs": [],
   "source": [
    "# Drop the location column as it is not containing useful information\n",
    "aug_df.drop(columns=[\"location\"], inplace=True)\n"
   ]
  },
  {
   "cell_type": "code",
   "execution_count": 46,
   "id": "2a039e7b",
   "metadata": {},
   "outputs": [
    {
     "data": {
      "text/plain": [
       "following          False\n",
       "followers          False\n",
       "totaltweets        False\n",
       "usercreatedts      False\n",
       "tweetcreatedts     False\n",
       "retweetcount       False\n",
       "text               False\n",
       "hashtags           False\n",
       "language           False\n",
       "favorite_count     False\n",
       "is_retweet         False\n",
       "is_quote_status    False\n",
       "extractedts        False\n",
       "dtype: bool"
      ]
     },
     "execution_count": 46,
     "metadata": {},
     "output_type": "execute_result"
    }
   ],
   "source": [
    "# Check again which columns have missing values\n",
    "aug_df.isna().any()"
   ]
  },
  {
   "cell_type": "markdown",
   "id": "18e9ef00",
   "metadata": {},
   "source": []
  },
  {
   "cell_type": "code",
   "execution_count": 14,
   "id": "0b5024b5",
   "metadata": {},
   "outputs": [
    {
     "data": {
      "text/html": [
       "<div>\n",
       "<style scoped>\n",
       "    .dataframe tbody tr th:only-of-type {\n",
       "        vertical-align: middle;\n",
       "    }\n",
       "\n",
       "    .dataframe tbody tr th {\n",
       "        vertical-align: top;\n",
       "    }\n",
       "\n",
       "    .dataframe thead th {\n",
       "        text-align: right;\n",
       "    }\n",
       "</style>\n",
       "<table border=\"1\" class=\"dataframe\">\n",
       "  <thead>\n",
       "    <tr style=\"text-align: right;\">\n",
       "      <th></th>\n",
       "      <th>following</th>\n",
       "      <th>followers</th>\n",
       "      <th>totaltweets</th>\n",
       "      <th>usercreatedts</th>\n",
       "      <th>tweetcreatedts</th>\n",
       "      <th>retweetcount</th>\n",
       "      <th>text</th>\n",
       "      <th>hashtags</th>\n",
       "      <th>language</th>\n",
       "      <th>favorite_count</th>\n",
       "      <th>is_retweet</th>\n",
       "      <th>is_quote_status</th>\n",
       "      <th>extractedts</th>\n",
       "    </tr>\n",
       "  </thead>\n",
       "  <tbody>\n",
       "    <tr>\n",
       "      <th>0</th>\n",
       "      <td>51</td>\n",
       "      <td>3362</td>\n",
       "      <td>71331</td>\n",
       "      <td>2011-09-08 02:34:54</td>\n",
       "      <td>2022-08-01 00:00:00</td>\n",
       "      <td>0</td>\n",
       "      <td>The #RussiaUkraine conflict is being cast in b...</td>\n",
       "      <td>[{'text': 'RussiaUkraine', 'indices': [4, 18]}...</td>\n",
       "      <td>en</td>\n",
       "      <td>0</td>\n",
       "      <td>False</td>\n",
       "      <td>False</td>\n",
       "      <td>2022-08-01 02:30:13.601013</td>\n",
       "    </tr>\n",
       "    <tr>\n",
       "      <th>1</th>\n",
       "      <td>2964</td>\n",
       "      <td>4669</td>\n",
       "      <td>119795</td>\n",
       "      <td>2017-07-06 15:28:29</td>\n",
       "      <td>2022-08-01 00:00:00</td>\n",
       "      <td>560</td>\n",
       "      <td>Remember when #NATO smashed #Yugoslavia into s...</td>\n",
       "      <td>[{'text': 'NATO', 'indices': [14, 19]}, {'text...</td>\n",
       "      <td>en</td>\n",
       "      <td>0</td>\n",
       "      <td>True</td>\n",
       "      <td>False</td>\n",
       "      <td>2022-08-01 02:30:13.573250</td>\n",
       "    </tr>\n",
       "    <tr>\n",
       "      <th>4</th>\n",
       "      <td>49</td>\n",
       "      <td>8</td>\n",
       "      <td>112</td>\n",
       "      <td>2021-04-04 17:47:00</td>\n",
       "      <td>2022-08-01 00:00:01</td>\n",
       "      <td>0</td>\n",
       "      <td>Hi #NATO , you have to understand that we are ...</td>\n",
       "      <td>[{'text': 'NATO', 'indices': [3, 8]}]</td>\n",
       "      <td>en</td>\n",
       "      <td>0</td>\n",
       "      <td>False</td>\n",
       "      <td>False</td>\n",
       "      <td>2022-08-01 06:59:10.496078</td>\n",
       "    </tr>\n",
       "    <tr>\n",
       "      <th>5</th>\n",
       "      <td>137</td>\n",
       "      <td>114789</td>\n",
       "      <td>315096</td>\n",
       "      <td>2010-08-20 11:19:22</td>\n",
       "      <td>2022-08-01 00:00:01</td>\n",
       "      <td>0</td>\n",
       "      <td>The world is in dire straits as it is not equi...</td>\n",
       "      <td>[{'text': 'UkraineCrisis', 'indices': [133, 14...</td>\n",
       "      <td>en</td>\n",
       "      <td>1</td>\n",
       "      <td>False</td>\n",
       "      <td>False</td>\n",
       "      <td>2022-08-01 01:44:58.884242</td>\n",
       "    </tr>\n",
       "    <tr>\n",
       "      <th>6</th>\n",
       "      <td>27</td>\n",
       "      <td>3059</td>\n",
       "      <td>13665</td>\n",
       "      <td>2017-01-06 10:17:40</td>\n",
       "      <td>2022-08-01 00:00:01</td>\n",
       "      <td>0</td>\n",
       "      <td>Will the #sanctions imposed on #Russia cause a...</td>\n",
       "      <td>[{'text': 'sanctions', 'indices': [9, 19]}, {'...</td>\n",
       "      <td>en</td>\n",
       "      <td>0</td>\n",
       "      <td>False</td>\n",
       "      <td>False</td>\n",
       "      <td>2022-08-01 05:13:47.957650</td>\n",
       "    </tr>\n",
       "  </tbody>\n",
       "</table>\n",
       "</div>"
      ],
      "text/plain": [
       "   following  followers  totaltweets       usercreatedts      tweetcreatedts  \\\n",
       "0         51       3362        71331 2011-09-08 02:34:54 2022-08-01 00:00:00   \n",
       "1       2964       4669       119795 2017-07-06 15:28:29 2022-08-01 00:00:00   \n",
       "4         49          8          112 2021-04-04 17:47:00 2022-08-01 00:00:01   \n",
       "5        137     114789       315096 2010-08-20 11:19:22 2022-08-01 00:00:01   \n",
       "6         27       3059        13665 2017-01-06 10:17:40 2022-08-01 00:00:01   \n",
       "\n",
       "   retweetcount                                               text  \\\n",
       "0             0  The #RussiaUkraine conflict is being cast in b...   \n",
       "1           560  Remember when #NATO smashed #Yugoslavia into s...   \n",
       "4             0  Hi #NATO , you have to understand that we are ...   \n",
       "5             0  The world is in dire straits as it is not equi...   \n",
       "6             0  Will the #sanctions imposed on #Russia cause a...   \n",
       "\n",
       "                                            hashtags language  favorite_count  \\\n",
       "0  [{'text': 'RussiaUkraine', 'indices': [4, 18]}...       en               0   \n",
       "1  [{'text': 'NATO', 'indices': [14, 19]}, {'text...       en               0   \n",
       "4              [{'text': 'NATO', 'indices': [3, 8]}]       en               0   \n",
       "5  [{'text': 'UkraineCrisis', 'indices': [133, 14...       en               1   \n",
       "6  [{'text': 'sanctions', 'indices': [9, 19]}, {'...       en               0   \n",
       "\n",
       "   is_retweet  is_quote_status                extractedts  \n",
       "0       False            False 2022-08-01 02:30:13.601013  \n",
       "1        True            False 2022-08-01 02:30:13.573250  \n",
       "4       False            False 2022-08-01 06:59:10.496078  \n",
       "5       False            False 2022-08-01 01:44:58.884242  \n",
       "6       False            False 2022-08-01 05:13:47.957650  "
      ]
     },
     "execution_count": 14,
     "metadata": {},
     "output_type": "execute_result"
    }
   ],
   "source": [
    "# Remove the non-English tweets\n",
    "eng_df=aug_df.loc[aug_df['language']=='en']\n",
    "eng_df.head()"
   ]
  },
  {
   "cell_type": "code",
   "execution_count": 15,
   "id": "463df9e3",
   "metadata": {},
   "outputs": [
    {
     "name": "stdout",
     "output_type": "stream",
     "text": [
      "1050085 rows and 13 columns\n"
     ]
    }
   ],
   "source": [
    "# get the shape of the new DataFrame\n",
    "print(f\"{eng_df.shape[0]} rows and {eng_df.shape[1]} columns\")"
   ]
  },
  {
   "cell_type": "code",
   "execution_count": 16,
   "id": "9de63739",
   "metadata": {},
   "outputs": [
    {
     "name": "stdout",
     "output_type": "stream",
     "text": [
      "<class 'pandas.core.frame.DataFrame'>\n",
      "Int64Index: 1050085 entries, 0 to 59744\n",
      "Data columns (total 13 columns):\n",
      " #   Column           Non-Null Count    Dtype         \n",
      "---  ------           --------------    -----         \n",
      " 0   following        1050085 non-null  int64         \n",
      " 1   followers        1050085 non-null  int64         \n",
      " 2   totaltweets      1050085 non-null  int64         \n",
      " 3   usercreatedts    1050085 non-null  datetime64[ns]\n",
      " 4   tweetcreatedts   1050085 non-null  datetime64[ns]\n",
      " 5   retweetcount     1050085 non-null  int64         \n",
      " 6   text             1050085 non-null  object        \n",
      " 7   hashtags         1050085 non-null  object        \n",
      " 8   language         1050085 non-null  object        \n",
      " 9   favorite_count   1050085 non-null  int64         \n",
      " 10  is_retweet       1050085 non-null  bool          \n",
      " 11  is_quote_status  1050085 non-null  bool          \n",
      " 12  extractedts      1050085 non-null  datetime64[ns]\n",
      "dtypes: bool(2), datetime64[ns](3), int64(5), object(3)\n",
      "memory usage: 98.1+ MB\n"
     ]
    }
   ],
   "source": [
    "#Let's see what columns contain the useful for us information and check data types\n",
    "eng_df.info()"
   ]
  },
  {
   "cell_type": "markdown",
   "id": "a7fa57cc",
   "metadata": {},
   "source": [
    "Now no one column has missing values, but our dataset is still pretty big and has too many columns. \n",
    "Let's see, what can we remove else?\n",
    "\n",
    "For our analysis we surely need the text column and time, when tweet created: tweetcreatedts.\n",
    "\n",
    "We already extracted the English tweets only, so we don't need the language column anymore. \n",
    "Probably we don't need to know how many following and followers has user, his number of totaltweets \n",
    "and time when user was created: usercreatedts. Actually we don't need information about hashtags, \n",
    "retweetcount, how many people made this twit favorite_count, is_retweet or no, and is_quote_status: \n",
    "if users decided to quote something, that means that it is important for them. For our goal we can see \n",
    "retweets and quotes as any regular tweet, so should remove the information is it retweet or quote.\n",
    "\n",
    "But considering that we could change our mind, we better save this variant of dataset, and extract the useful data from this dataset in the new one."
   ]
  },
  {
   "cell_type": "code",
   "execution_count": 18,
   "id": "88844b41",
   "metadata": {},
   "outputs": [],
   "source": [
    "# Let's save the result\n",
    "file_path = \"/Users/olgapodolska/Desktop/UA_War_my/resources/aug_twitter_data.csv\"\n",
    "eng_df.to_csv(file_path, index=False)"
   ]
  },
  {
   "cell_type": "code",
   "execution_count": 19,
   "id": "d77697e9",
   "metadata": {},
   "outputs": [],
   "source": [
    "# Extract text of twits and time, when they were created\n",
    "text_df = eng_df[['tweetcreatedts', 'text']]"
   ]
  },
  {
   "cell_type": "markdown",
   "id": "7b673006",
   "metadata": {},
   "source": [
    "Let's see how looks data in that text column and what we need to do further"
   ]
  },
  {
   "cell_type": "code",
   "execution_count": 20,
   "id": "0f29d926",
   "metadata": {},
   "outputs": [
    {
     "data": {
      "text/plain": [
       "0     The #RussiaUkraine conflict is being cast in b...\n",
       "1     Remember when #NATO smashed #Yugoslavia into s...\n",
       "4     Hi #NATO , you have to understand that we are ...\n",
       "5     The world is in dire straits as it is not equi...\n",
       "6     Will the #sanctions imposed on #Russia cause a...\n",
       "7     Owner of Ukraine's largest grain exporter kill...\n",
       "8     Animal shelter Dogs and Cats, we need your hel...\n",
       "9                                      eb5f211900p4ACC7\n",
       "10    Why #Iran-#Russia relations likely won’t go be...\n",
       "11    Crypto tattoos to the moon! Bitcoin and Doge i...\n",
       "Name: text, dtype: object"
      ]
     },
     "execution_count": 20,
     "metadata": {},
     "output_type": "execute_result"
    }
   ],
   "source": [
    "# show first 10 tweets\n",
    "text_df[\"text\"].head(10)"
   ]
  },
  {
   "cell_type": "markdown",
   "id": "d21b6ed5",
   "metadata": {},
   "source": [
    "The texts have URLs, emojis, mentions, hashtags, and HTML artifacts (e.g., \\n). Uppercase and lowercase letters are also mixed.\n",
    "\n",
    "Lowercase everything\n",
    "Remove URLs and HTML artifacts (e.g., &amp, \\n), hashtags, mentions, digits, and emojis\n",
    "Remove punctuations"
   ]
  },
  {
   "cell_type": "code",
   "execution_count": 21,
   "id": "0c4577ca",
   "metadata": {},
   "outputs": [
    {
     "name": "stderr",
     "output_type": "stream",
     "text": [
      "/Users/olgapodolska/opt/anaconda3/envs/mlenv/lib/python3.7/site-packages/ipykernel_launcher.py:2: SettingWithCopyWarning: \n",
      "A value is trying to be set on a copy of a slice from a DataFrame.\n",
      "Try using .loc[row_indexer,col_indexer] = value instead\n",
      "\n",
      "See the caveats in the documentation: https://pandas.pydata.org/pandas-docs/stable/user_guide/indexing.html#returning-a-view-versus-a-copy\n",
      "  \n"
     ]
    },
    {
     "data": {
      "text/plain": [
       "0     the #russiaukraine conflict is being cast in b...\n",
       "1     remember when #nato smashed #yugoslavia into s...\n",
       "4     hi #nato , you have to understand that we are ...\n",
       "5     the world is in dire straits as it is not equi...\n",
       "6     will the #sanctions imposed on #russia cause a...\n",
       "7     owner of ukraine's largest grain exporter kill...\n",
       "8     animal shelter dogs and cats, we need your hel...\n",
       "9                                      eb5f211900p4acc7\n",
       "10    why #iran-#russia relations likely won’t go be...\n",
       "11    crypto tattoos to the moon! bitcoin and doge i...\n",
       "Name: cleaned_text, dtype: object"
      ]
     },
     "execution_count": 21,
     "metadata": {},
     "output_type": "execute_result"
    }
   ],
   "source": [
    "# Lowercase everything\n",
    "text_df[\"cleaned_text\"] = eng_df[\"text\"].str.lower()\n",
    "# check\n",
    "text_df[\"cleaned_text\"].head(10)"
   ]
  },
  {
   "cell_type": "code",
   "execution_count": 22,
   "id": "4862827a",
   "metadata": {},
   "outputs": [
    {
     "name": "stderr",
     "output_type": "stream",
     "text": [
      "/Users/olgapodolska/opt/anaconda3/envs/mlenv/lib/python3.7/site-packages/ipykernel_launcher.py:8: SettingWithCopyWarning: \n",
      "A value is trying to be set on a copy of a slice from a DataFrame.\n",
      "Try using .loc[row_indexer,col_indexer] = value instead\n",
      "\n",
      "See the caveats in the documentation: https://pandas.pydata.org/pandas-docs/stable/user_guide/indexing.html#returning-a-view-versus-a-copy\n",
      "  \n"
     ]
    },
    {
     "data": {
      "text/plain": [
       "0     the conflict is being cast in binaries, making...\n",
       "1     remember when smashed into seven fragments? an...\n",
       "4     hi , you have to understand that we are billio...\n",
       "5     the world is in dire straits as it is not equi...\n",
       "6     will the imposed on cause a significant shift ...\n",
       "7     owner of ukraine's largest grain exporter kill...\n",
       "8     animal shelter dogs and cats, we need your hel...\n",
       "9                                      eb5f211900p4acc7\n",
       "10    why - relations likely wont go beyond cooperat...\n",
       "11    crypto tattoos to the moon! bitcoin and doge i...\n",
       "Name: cleaned_text, dtype: object"
      ]
     },
     "execution_count": 22,
     "metadata": {},
     "output_type": "execute_result"
    }
   ],
   "source": [
    "def remove_unnecessary(text):\n",
    "    # INPUT: string (tweet)\n",
    "    # OUTPUT: string without URLs, mentions, hashtags, digist, and emojis (and smileys)\n",
    "    p.set_options(p.OPT.URL, p.OPT.MENTION, p.OPT.HASHTAG, p.OPT.NUMBER, p.OPT.EMOJI, p.OPT.SMILEY)\n",
    "    result = p.clean(text)\n",
    "    return result\n",
    "\n",
    "text_df[\"cleaned_text\"] = text_df[\"cleaned_text\"].map(remove_unnecessary)\n",
    "# check\n",
    "text_df[\"cleaned_text\"].head(10)"
   ]
  },
  {
   "cell_type": "code",
   "execution_count": 23,
   "id": "e9aa8321",
   "metadata": {},
   "outputs": [
    {
     "name": "stdout",
     "output_type": "stream",
     "text": [
      "<wordcloud.wordcloud.WordCloud object at 0x7fbcf78b7e90>\n"
     ]
    },
    {
     "data": {
      "image/png": "[encoded data removed]",
      "text/plain": [
       "<Figure size 432x288 with 1 Axes>"
      ]
     },
     "metadata": {
      "needs_background": "light"
     },
     "output_type": "display_data"
    }
   ],
   "source": [
    "#remove StopWords and see the WordCloud\n",
    "stopwords_set = set(STOPWORDS)\n",
    "wordcloud = WordCloud(background_color='white',\n",
    "                     stopwords = stopwords_set,\n",
    "                      max_words = 300,\n",
    "                      max_font_size = 40,\n",
    "                      scale = 2,\n",
    "                      random_state=42\n",
    "                     ).generate(str(text_df['cleaned_text']))\n",
    "\n",
    "print(wordcloud)\n",
    "plt.imshow(wordcloud)\n",
    "plt.axis('off')\n",
    "plt.show()"
   ]
  },
  {
   "cell_type": "markdown",
   "id": "554634fb",
   "metadata": {},
   "source": [
    "Remove HTML Entities\n",
    "As for removing HTML entities, the most frequent ones are \"&amp\" and \"\\n\". We will replace these with empty string."
   ]
  },
  {
   "cell_type": "code",
   "execution_count": 26,
   "id": "9028b71e",
   "metadata": {},
   "outputs": [
    {
     "name": "stderr",
     "output_type": "stream",
     "text": [
      "/Users/olgapodolska/opt/anaconda3/envs/mlenv/lib/python3.7/site-packages/ipykernel_launcher.py:2: SettingWithCopyWarning: \n",
      "A value is trying to be set on a copy of a slice from a DataFrame.\n",
      "Try using .loc[row_indexer,col_indexer] = value instead\n",
      "\n",
      "See the caveats in the documentation: https://pandas.pydata.org/pandas-docs/stable/user_guide/indexing.html#returning-a-view-versus-a-copy\n",
      "  \n"
     ]
    },
    {
     "data": {
      "text/html": [
       "<div>\n",
       "<style scoped>\n",
       "    .dataframe tbody tr th:only-of-type {\n",
       "        vertical-align: middle;\n",
       "    }\n",
       "\n",
       "    .dataframe tbody tr th {\n",
       "        vertical-align: top;\n",
       "    }\n",
       "\n",
       "    .dataframe thead th {\n",
       "        text-align: right;\n",
       "    }\n",
       "</style>\n",
       "<table border=\"1\" class=\"dataframe\">\n",
       "  <thead>\n",
       "    <tr style=\"text-align: right;\">\n",
       "      <th></th>\n",
       "      <th>tweetcreatedts</th>\n",
       "      <th>text</th>\n",
       "      <th>cleaned_text</th>\n",
       "    </tr>\n",
       "  </thead>\n",
       "  <tbody>\n",
       "    <tr>\n",
       "      <th>0</th>\n",
       "      <td>2022-08-01 00:00:00</td>\n",
       "      <td>The #RussiaUkraine conflict is being cast in b...</td>\n",
       "      <td>the conflict is being cast in binaries, making...</td>\n",
       "    </tr>\n",
       "    <tr>\n",
       "      <th>1</th>\n",
       "      <td>2022-08-01 00:00:00</td>\n",
       "      <td>Remember when #NATO smashed #Yugoslavia into s...</td>\n",
       "      <td>remember when smashed into seven fragments? an...</td>\n",
       "    </tr>\n",
       "    <tr>\n",
       "      <th>4</th>\n",
       "      <td>2022-08-01 00:00:01</td>\n",
       "      <td>Hi #NATO , you have to understand that we are ...</td>\n",
       "      <td>hi , you have to understand that we are billio...</td>\n",
       "    </tr>\n",
       "    <tr>\n",
       "      <th>5</th>\n",
       "      <td>2022-08-01 00:00:01</td>\n",
       "      <td>The world is in dire straits as it is not equi...</td>\n",
       "      <td>the world is in dire straits as it is not equi...</td>\n",
       "    </tr>\n",
       "    <tr>\n",
       "      <th>6</th>\n",
       "      <td>2022-08-01 00:00:01</td>\n",
       "      <td>Will the #sanctions imposed on #Russia cause a...</td>\n",
       "      <td>will the imposed on cause a significant shift ...</td>\n",
       "    </tr>\n",
       "    <tr>\n",
       "      <th>7</th>\n",
       "      <td>2022-08-01 00:00:01</td>\n",
       "      <td>Owner of Ukraine's largest grain exporter kill...</td>\n",
       "      <td>owner of ukraine's largest grain exporter kill...</td>\n",
       "    </tr>\n",
       "    <tr>\n",
       "      <th>8</th>\n",
       "      <td>2022-08-01 00:00:01</td>\n",
       "      <td>Animal shelter Dogs and Cats, we need your hel...</td>\n",
       "      <td>animal shelter dogs and cats, we need your hel...</td>\n",
       "    </tr>\n",
       "    <tr>\n",
       "      <th>9</th>\n",
       "      <td>2022-08-01 00:00:01</td>\n",
       "      <td>eb5f211900p4ACC7</td>\n",
       "      <td>eb5f211900p4acc7</td>\n",
       "    </tr>\n",
       "    <tr>\n",
       "      <th>10</th>\n",
       "      <td>2022-08-01 00:00:02</td>\n",
       "      <td>Why #Iran-#Russia relations likely won’t go be...</td>\n",
       "      <td>why - relations likely wont go beyond cooperat...</td>\n",
       "    </tr>\n",
       "    <tr>\n",
       "      <th>11</th>\n",
       "      <td>2022-08-01 00:00:02</td>\n",
       "      <td>Crypto tattoos to the moon! Bitcoin and Doge i...</td>\n",
       "      <td>crypto tattoos to the moon! bitcoin and doge i...</td>\n",
       "    </tr>\n",
       "  </tbody>\n",
       "</table>\n",
       "</div>"
      ],
      "text/plain": [
       "        tweetcreatedts                                               text  \\\n",
       "0  2022-08-01 00:00:00  The #RussiaUkraine conflict is being cast in b...   \n",
       "1  2022-08-01 00:00:00  Remember when #NATO smashed #Yugoslavia into s...   \n",
       "4  2022-08-01 00:00:01  Hi #NATO , you have to understand that we are ...   \n",
       "5  2022-08-01 00:00:01  The world is in dire straits as it is not equi...   \n",
       "6  2022-08-01 00:00:01  Will the #sanctions imposed on #Russia cause a...   \n",
       "7  2022-08-01 00:00:01  Owner of Ukraine's largest grain exporter kill...   \n",
       "8  2022-08-01 00:00:01  Animal shelter Dogs and Cats, we need your hel...   \n",
       "9  2022-08-01 00:00:01                                   eb5f211900p4ACC7   \n",
       "10 2022-08-01 00:00:02  Why #Iran-#Russia relations likely won’t go be...   \n",
       "11 2022-08-01 00:00:02  Crypto tattoos to the moon! Bitcoin and Doge i...   \n",
       "\n",
       "                                         cleaned_text  \n",
       "0   the conflict is being cast in binaries, making...  \n",
       "1   remember when smashed into seven fragments? an...  \n",
       "4   hi , you have to understand that we are billio...  \n",
       "5   the world is in dire straits as it is not equi...  \n",
       "6   will the imposed on cause a significant shift ...  \n",
       "7   owner of ukraine's largest grain exporter kill...  \n",
       "8   animal shelter dogs and cats, we need your hel...  \n",
       "9                                    eb5f211900p4acc7  \n",
       "10  why - relations likely wont go beyond cooperat...  \n",
       "11  crypto tattoos to the moon! bitcoin and doge i...  "
      ]
     },
     "execution_count": 26,
     "metadata": {},
     "output_type": "execute_result"
    }
   ],
   "source": [
    "# replace \"&amp\" in tweets with empty string\n",
    "text_df[\"cleaned_text\"] = text_df[\"cleaned_text\"].str.replace(\"&amp\", \"\")\n",
    "\n",
    "# replace \"\\n\" in tweets with empty string\n",
    "# may not be necessary after applying remove_unnecessary func\n",
    "# feb_df[\"cleaned_text\"] = feb_df[\"cleaned_text\"].str.replace(\"\\n\", \"\")\n",
    "\n",
    "# check\n",
    "text_df.head(10)"
   ]
  },
  {
   "cell_type": "code",
   "execution_count": 27,
   "id": "503d964b",
   "metadata": {},
   "outputs": [
    {
     "name": "stderr",
     "output_type": "stream",
     "text": [
      "/Users/olgapodolska/opt/anaconda3/envs/mlenv/lib/python3.7/site-packages/ipykernel_launcher.py:3: SettingWithCopyWarning: \n",
      "A value is trying to be set on a copy of a slice from a DataFrame.\n",
      "Try using .loc[row_indexer,col_indexer] = value instead\n",
      "\n",
      "See the caveats in the documentation: https://pandas.pydata.org/pandas-docs/stable/user_guide/indexing.html#returning-a-view-versus-a-copy\n",
      "  This is separate from the ipykernel package so we can avoid doing imports until\n"
     ]
    },
    {
     "data": {
      "text/plain": [
       "0     the conflict is being cast in binaries making ...\n",
       "1     remember when smashed into seven fragments and...\n",
       "4     hi  you have to understand that we are billion...\n",
       "5     the world is in dire straits as it is not equi...\n",
       "6     will the imposed on cause a significant shift ...\n",
       "7     owner of ukraines largest grain exporter kille...\n",
       "8     animal shelter dogs and cats we need your help...\n",
       "9                                      eb5f211900p4acc7\n",
       "10    why  relations likely wont go beyond cooperati...\n",
       "11    crypto tattoos to the moon bitcoin and doge in...\n",
       "12                             its happening on live tv\n",
       "14    will certainly lose any war with  they do not ...\n",
       "16    serbian vucic is no good albanistan is no good...\n",
       "17    animal shelter dogs and cats we need your help...\n",
       "18    fm  adheres to the principled position whereby...\n",
       "Name: cleaned_text, dtype: object"
      ]
     },
     "execution_count": 27,
     "metadata": {},
     "output_type": "execute_result"
    }
   ],
   "source": [
    "# remove punctuations using regex\n",
    "# reference: https://stackoverflow.com/questions/68641923/remove-puncts-from-pandas-dataframe\n",
    "text_df[\"cleaned_text\"] = text_df['cleaned_text'].str.replace(r'[^0-9a-zA-Z\\s]+', '', regex=True)\n",
    "\n",
    "# check\n",
    "text_df[\"cleaned_text\"].head(15)"
   ]
  },
  {
   "cell_type": "markdown",
   "id": "9d58bb45",
   "metadata": {},
   "source": [
    "Due to working with the copy of a slice from a DataFrame the indexes are wrong, let's fix that."
   ]
  },
  {
   "cell_type": "code",
   "execution_count": 28,
   "id": "fad24e43",
   "metadata": {},
   "outputs": [
    {
     "data": {
      "text/html": [
       "<div>\n",
       "<style scoped>\n",
       "    .dataframe tbody tr th:only-of-type {\n",
       "        vertical-align: middle;\n",
       "    }\n",
       "\n",
       "    .dataframe tbody tr th {\n",
       "        vertical-align: top;\n",
       "    }\n",
       "\n",
       "    .dataframe thead th {\n",
       "        text-align: right;\n",
       "    }\n",
       "</style>\n",
       "<table border=\"1\" class=\"dataframe\">\n",
       "  <thead>\n",
       "    <tr style=\"text-align: right;\">\n",
       "      <th></th>\n",
       "      <th>tweetcreatedts</th>\n",
       "      <th>text</th>\n",
       "      <th>cleaned_text</th>\n",
       "    </tr>\n",
       "  </thead>\n",
       "  <tbody>\n",
       "    <tr>\n",
       "      <th>0</th>\n",
       "      <td>2022-08-01 00:00:00</td>\n",
       "      <td>The #RussiaUkraine conflict is being cast in b...</td>\n",
       "      <td>the conflict is being cast in binaries making ...</td>\n",
       "    </tr>\n",
       "    <tr>\n",
       "      <th>1</th>\n",
       "      <td>2022-08-01 00:00:00</td>\n",
       "      <td>Remember when #NATO smashed #Yugoslavia into s...</td>\n",
       "      <td>remember when smashed into seven fragments and...</td>\n",
       "    </tr>\n",
       "    <tr>\n",
       "      <th>2</th>\n",
       "      <td>2022-08-01 00:00:01</td>\n",
       "      <td>Hi #NATO , you have to understand that we are ...</td>\n",
       "      <td>hi  you have to understand that we are billion...</td>\n",
       "    </tr>\n",
       "    <tr>\n",
       "      <th>3</th>\n",
       "      <td>2022-08-01 00:00:01</td>\n",
       "      <td>The world is in dire straits as it is not equi...</td>\n",
       "      <td>the world is in dire straits as it is not equi...</td>\n",
       "    </tr>\n",
       "    <tr>\n",
       "      <th>4</th>\n",
       "      <td>2022-08-01 00:00:01</td>\n",
       "      <td>Will the #sanctions imposed on #Russia cause a...</td>\n",
       "      <td>will the imposed on cause a significant shift ...</td>\n",
       "    </tr>\n",
       "  </tbody>\n",
       "</table>\n",
       "</div>"
      ],
      "text/plain": [
       "       tweetcreatedts                                               text  \\\n",
       "0 2022-08-01 00:00:00  The #RussiaUkraine conflict is being cast in b...   \n",
       "1 2022-08-01 00:00:00  Remember when #NATO smashed #Yugoslavia into s...   \n",
       "2 2022-08-01 00:00:01  Hi #NATO , you have to understand that we are ...   \n",
       "3 2022-08-01 00:00:01  The world is in dire straits as it is not equi...   \n",
       "4 2022-08-01 00:00:01  Will the #sanctions imposed on #Russia cause a...   \n",
       "\n",
       "                                        cleaned_text  \n",
       "0  the conflict is being cast in binaries making ...  \n",
       "1  remember when smashed into seven fragments and...  \n",
       "2  hi  you have to understand that we are billion...  \n",
       "3  the world is in dire straits as it is not equi...  \n",
       "4  will the imposed on cause a significant shift ...  "
      ]
     },
     "execution_count": 28,
     "metadata": {},
     "output_type": "execute_result"
    }
   ],
   "source": [
    "# reset index\n",
    "text_df.reset_index(inplace=True, drop=True)\n",
    "# check\n",
    "text_df.head()"
   ]
  },
  {
   "cell_type": "code",
   "execution_count": 29,
   "id": "341f6d28",
   "metadata": {},
   "outputs": [
    {
     "name": "stderr",
     "output_type": "stream",
     "text": [
      "/Users/olgapodolska/opt/anaconda3/envs/mlenv/lib/python3.7/site-packages/pandas/core/frame.py:4913: SettingWithCopyWarning: \n",
      "A value is trying to be set on a copy of a slice from a DataFrame\n",
      "\n",
      "See the caveats in the documentation: https://pandas.pydata.org/pandas-docs/stable/user_guide/indexing.html#returning-a-view-versus-a-copy\n",
      "  errors=errors,\n"
     ]
    }
   ],
   "source": [
    "# Drop the old text column as now we have all clean data in the cleaned text\n",
    "text_df.drop(columns=[\"text\"], inplace=True)"
   ]
  },
  {
   "cell_type": "code",
   "execution_count": 30,
   "id": "3ccd761d",
   "metadata": {},
   "outputs": [
    {
     "name": "stdout",
     "output_type": "stream",
     "text": [
      "<class 'pandas.core.frame.DataFrame'>\n",
      "RangeIndex: 1050085 entries, 0 to 1050084\n",
      "Data columns (total 2 columns):\n",
      " #   Column          Non-Null Count    Dtype         \n",
      "---  ------          --------------    -----         \n",
      " 0   tweetcreatedts  1050085 non-null  datetime64[ns]\n",
      " 1   cleaned_text    1050085 non-null  object        \n",
      "dtypes: datetime64[ns](1), object(1)\n",
      "memory usage: 16.0+ MB\n"
     ]
    }
   ],
   "source": [
    "# Check data types\n",
    "text_df.info()"
   ]
  },
  {
   "cell_type": "code",
   "execution_count": 31,
   "id": "08641ed6",
   "metadata": {},
   "outputs": [
    {
     "data": {
      "text/html": [
       "<div>\n",
       "<style scoped>\n",
       "    .dataframe tbody tr th:only-of-type {\n",
       "        vertical-align: middle;\n",
       "    }\n",
       "\n",
       "    .dataframe tbody tr th {\n",
       "        vertical-align: top;\n",
       "    }\n",
       "\n",
       "    .dataframe thead th {\n",
       "        text-align: right;\n",
       "    }\n",
       "</style>\n",
       "<table border=\"1\" class=\"dataframe\">\n",
       "  <thead>\n",
       "    <tr style=\"text-align: right;\">\n",
       "      <th></th>\n",
       "      <th>tweetcreatedts</th>\n",
       "      <th>cleaned_text</th>\n",
       "    </tr>\n",
       "  </thead>\n",
       "  <tbody>\n",
       "    <tr>\n",
       "      <th>0</th>\n",
       "      <td>2022-08-01 00:00:00</td>\n",
       "      <td>the conflict is being cast in binaries making ...</td>\n",
       "    </tr>\n",
       "    <tr>\n",
       "      <th>1</th>\n",
       "      <td>2022-08-01 00:00:00</td>\n",
       "      <td>remember when smashed into seven fragments and...</td>\n",
       "    </tr>\n",
       "    <tr>\n",
       "      <th>2</th>\n",
       "      <td>2022-08-01 00:00:01</td>\n",
       "      <td>hi  you have to understand that we are billion...</td>\n",
       "    </tr>\n",
       "    <tr>\n",
       "      <th>3</th>\n",
       "      <td>2022-08-01 00:00:01</td>\n",
       "      <td>the world is in dire straits as it is not equi...</td>\n",
       "    </tr>\n",
       "    <tr>\n",
       "      <th>4</th>\n",
       "      <td>2022-08-01 00:00:01</td>\n",
       "      <td>will the imposed on cause a significant shift ...</td>\n",
       "    </tr>\n",
       "  </tbody>\n",
       "</table>\n",
       "</div>"
      ],
      "text/plain": [
       "       tweetcreatedts                                       cleaned_text\n",
       "0 2022-08-01 00:00:00  the conflict is being cast in binaries making ...\n",
       "1 2022-08-01 00:00:00  remember when smashed into seven fragments and...\n",
       "2 2022-08-01 00:00:01  hi  you have to understand that we are billion...\n",
       "3 2022-08-01 00:00:01  the world is in dire straits as it is not equi...\n",
       "4 2022-08-01 00:00:01  will the imposed on cause a significant shift ..."
      ]
     },
     "execution_count": 31,
     "metadata": {},
     "output_type": "execute_result"
    }
   ],
   "source": [
    "# check\n",
    "text_df.head()"
   ]
  },
  {
   "cell_type": "code",
   "execution_count": 33,
   "id": "025fb19e",
   "metadata": {},
   "outputs": [],
   "source": [
    "# Saving cleaned data\n",
    "file_path = \"/Users/olgapodolska/Desktop/UA_War_my/resources/aug_twitter_data_cleaned.csv\"\n",
    "text_df.to_csv(file_path, index=False)"
   ]
  },
  {
   "cell_type": "markdown",
   "id": "e4decbdf",
   "metadata": {},
   "source": []
  }
 ],
 "metadata": {
  "kernelspec": {
   "display_name": "DataBootCamp",
   "language": "python",
   "name": "databootcamp"
  },
  "language_info": {
   "codemirror_mode": {
    "name": "ipython",
    "version": 3
   },
   "file_extension": ".py",
   "mimetype": "text/x-python",
   "name": "python",
   "nbconvert_exporter": "python",
   "pygments_lexer": "ipython3",
   "version": "3.8.3"
  }
 },
 "nbformat": 4,
 "nbformat_minor": 5
}
