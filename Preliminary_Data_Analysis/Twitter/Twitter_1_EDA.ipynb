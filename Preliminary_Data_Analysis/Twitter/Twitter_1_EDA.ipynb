{
 "cells": [
  {
   "cell_type": "code",
   "execution_count": 1,
   "id": "3c868192",
   "metadata": {},
   "outputs": [
    {
     "name": "stdout",
     "output_type": "stream",
     "text": [
      "Requirement already satisfied: emoji in /Users/olgapodolska/opt/anaconda3/envs/mlenv/lib/python3.7/site-packages (2.0.0)\n",
      "Requirement already satisfied: tweet-preprocessor in /Users/olgapodolska/opt/anaconda3/envs/mlenv/lib/python3.7/site-packages (0.6.0)\n",
      "Requirement already satisfied: transformers in /Users/olgapodolska/opt/anaconda3/envs/mlenv/lib/python3.7/site-packages (4.21.1)\n",
      "Requirement already satisfied: packaging>=20.0 in /Users/olgapodolska/opt/anaconda3/envs/mlenv/lib/python3.7/site-packages (from transformers) (21.3)\n",
      "Requirement already satisfied: regex!=2019.12.17 in /Users/olgapodolska/opt/anaconda3/envs/mlenv/lib/python3.7/site-packages (from transformers) (2022.7.9)\n",
      "Requirement already satisfied: tokenizers!=0.11.3,<0.13,>=0.11.1 in /Users/olgapodolska/opt/anaconda3/envs/mlenv/lib/python3.7/site-packages (from transformers) (0.12.1)\n",
      "Requirement already satisfied: huggingface-hub<1.0,>=0.1.0 in /Users/olgapodolska/opt/anaconda3/envs/mlenv/lib/python3.7/site-packages (from transformers) (0.8.1)\n",
      "Requirement already satisfied: requests in /Users/olgapodolska/opt/anaconda3/envs/mlenv/lib/python3.7/site-packages (from transformers) (2.28.1)\n",
      "Requirement already satisfied: tqdm>=4.27 in /Users/olgapodolska/opt/anaconda3/envs/mlenv/lib/python3.7/site-packages (from transformers) (4.64.0)\n",
      "Requirement already satisfied: pyyaml>=5.1 in /Users/olgapodolska/opt/anaconda3/envs/mlenv/lib/python3.7/site-packages (from transformers) (6.0)\n",
      "Requirement already satisfied: numpy>=1.17 in /Users/olgapodolska/opt/anaconda3/envs/mlenv/lib/python3.7/site-packages (from transformers) (1.21.5)\n",
      "Requirement already satisfied: filelock in /Users/olgapodolska/opt/anaconda3/envs/mlenv/lib/python3.7/site-packages (from transformers) (3.6.0)\n",
      "Requirement already satisfied: importlib-metadata in /Users/olgapodolska/opt/anaconda3/envs/mlenv/lib/python3.7/site-packages (from transformers) (4.11.3)\n",
      "Requirement already satisfied: typing-extensions>=3.7.4.3 in /Users/olgapodolska/opt/anaconda3/envs/mlenv/lib/python3.7/site-packages (from huggingface-hub<1.0,>=0.1.0->transformers) (4.1.1)\n",
      "Requirement already satisfied: pyparsing!=3.0.5,>=2.0.2 in /Users/olgapodolska/opt/anaconda3/envs/mlenv/lib/python3.7/site-packages (from packaging>=20.0->transformers) (3.0.4)\n",
      "Requirement already satisfied: zipp>=0.5 in /Users/olgapodolska/opt/anaconda3/envs/mlenv/lib/python3.7/site-packages (from importlib-metadata->transformers) (3.8.0)\n",
      "Requirement already satisfied: urllib3<1.27,>=1.21.1 in /Users/olgapodolska/opt/anaconda3/envs/mlenv/lib/python3.7/site-packages (from requests->transformers) (1.26.9)\n",
      "Requirement already satisfied: charset-normalizer<3,>=2 in /Users/olgapodolska/opt/anaconda3/envs/mlenv/lib/python3.7/site-packages (from requests->transformers) (2.0.4)\n",
      "Requirement already satisfied: certifi>=2017.4.17 in /Users/olgapodolska/opt/anaconda3/envs/mlenv/lib/python3.7/site-packages (from requests->transformers) (2022.6.15)\n",
      "Requirement already satisfied: idna<4,>=2.5 in /Users/olgapodolska/opt/anaconda3/envs/mlenv/lib/python3.7/site-packages (from requests->transformers) (3.3)\n"
     ]
    }
   ],
   "source": [
    "import numpy as np \n",
    "import pandas as pd \n",
    "import re\n",
    "import json\n",
    "\n",
    "import os\n",
    "import matplotlib.pyplot as plt\n",
    "import seaborn as sns\n",
    "%matplotlib inline\n",
    "\n",
    "!pip install emoji --upgrade\n",
    "import emoji\n",
    "\n",
    "!pip install tweet-preprocessor\n",
    "import preprocessor as p\n",
    "\n",
    "!pip install transformers\n",
    "from transformers import AutoTokenizer, AutoModelForSequenceClassification\n",
    "from transformers import BertTokenizer, TFBertForSequenceClassification\n",
    "from transformers import InputExample, InputFeatures\n",
    "\n",
    "from wordcloud import WordCloud, STOPWORDS, ImageColorGenerator"
   ]
  },
  {
   "cell_type": "code",
   "execution_count": 2,
   "id": "674ac08c",
   "metadata": {},
   "outputs": [],
   "source": [
    "all_files = []\n",
    "for dirname, _, filenames in os.walk('/Users/olgapodolska/Desktop/Ukraine_War/input/'):\n",
    "    for filename in filenames:\n",
    "        full_path=os.path.join(dirname, filename)\n",
    "        all_files.append(full_path)"
   ]
  },
  {
   "cell_type": "code",
   "execution_count": 3,
   "id": "60970883",
   "metadata": {},
   "outputs": [
    {
     "data": {
      "text/plain": [
       "['/Users/olgapodolska/Desktop/Ukraine_War/input/.DS_Store',\n",
       " '/Users/olgapodolska/Desktop/Ukraine_War/input/0401_UkraineCombinedTweetsDeduped.csv.gzip',\n",
       " '/Users/olgapodolska/Desktop/Ukraine_War/input/0402_UkraineCombinedTweetsDeduped.csv.gzip',\n",
       " '/Users/olgapodolska/Desktop/Ukraine_War/input/0403_UkraineCombinedTweetsDeduped.csv.gzip',\n",
       " '/Users/olgapodolska/Desktop/Ukraine_War/input/0404_UkraineCombinedTweetsDeduped.csv.gzip',\n",
       " '/Users/olgapodolska/Desktop/Ukraine_War/input/0405_UkraineCombinedTweetsDeduped.csv.gzip',\n",
       " '/Users/olgapodolska/Desktop/Ukraine_War/input/0406_UkraineCombinedTweetsDeduped.csv.gzip',\n",
       " '/Users/olgapodolska/Desktop/Ukraine_War/input/0407_UkraineCombinedTweetsDeduped.csv.gzip',\n",
       " '/Users/olgapodolska/Desktop/Ukraine_War/input/0408_UkraineCombinedTweetsDeduped.csv.gzip',\n",
       " '/Users/olgapodolska/Desktop/Ukraine_War/input/0409_UkraineCombinedTweetsDeduped.csv.gzip',\n",
       " '/Users/olgapodolska/Desktop/Ukraine_War/input/0410_UkraineCombinedTweetsDeduped.csv.gzip',\n",
       " '/Users/olgapodolska/Desktop/Ukraine_War/input/0411_UkraineCombinedTweetsDeduped.csv.gzip',\n",
       " '/Users/olgapodolska/Desktop/Ukraine_War/input/0412_UkraineCombinedTweetsDeduped.csv.gzip',\n",
       " '/Users/olgapodolska/Desktop/Ukraine_War/input/0413_UkraineCombinedTweetsDeduped.csv.gzip',\n",
       " '/Users/olgapodolska/Desktop/Ukraine_War/input/0414_UkraineCombinedTweetsDeduped.csv.gzip',\n",
       " '/Users/olgapodolska/Desktop/Ukraine_War/input/0415_UkraineCombinedTweetsDeduped.csv.gzip',\n",
       " '/Users/olgapodolska/Desktop/Ukraine_War/input/0416_UkraineCombinedTweetsDeduped.csv.gzip',\n",
       " '/Users/olgapodolska/Desktop/Ukraine_War/input/0417_UkraineCombinedTweetsDeduped.csv.gzip',\n",
       " '/Users/olgapodolska/Desktop/Ukraine_War/input/0418_UkraineCombinedTweetsDeduped.csv.gzip',\n",
       " '/Users/olgapodolska/Desktop/Ukraine_War/input/0419_UkraineCombinedTweetsDeduped.csv.gzip',\n",
       " '/Users/olgapodolska/Desktop/Ukraine_War/input/0420_UkraineCombinedTweetsDeduped.csv.gzip',\n",
       " '/Users/olgapodolska/Desktop/Ukraine_War/input/0421_UkraineCombinedTweetsDeduped.csv.gzip',\n",
       " '/Users/olgapodolska/Desktop/Ukraine_War/input/0422_UkraineCombinedTweetsDeduped.csv.gzip',\n",
       " '/Users/olgapodolska/Desktop/Ukraine_War/input/0423_UkraineCombinedTweetsDeduped.csv.gzip',\n",
       " '/Users/olgapodolska/Desktop/Ukraine_War/input/0424_UkraineCombinedTweetsDeduped.csv.gzip',\n",
       " '/Users/olgapodolska/Desktop/Ukraine_War/input/0425_UkraineCombinedTweetsDeduped.csv.gzip',\n",
       " '/Users/olgapodolska/Desktop/Ukraine_War/input/0426_UkraineCombinedTweetsDeduped.csv.gzip',\n",
       " '/Users/olgapodolska/Desktop/Ukraine_War/input/0427_UkraineCombinedTweetsDeduped.csv.gzip',\n",
       " '/Users/olgapodolska/Desktop/Ukraine_War/input/0428_UkraineCombinedTweetsDeduped.csv.gzip',\n",
       " '/Users/olgapodolska/Desktop/Ukraine_War/input/0429_UkraineCombinedTweetsDeduped.csv.gzip',\n",
       " '/Users/olgapodolska/Desktop/Ukraine_War/input/0430_UkraineCombinedTweetsDeduped.csv.gzip',\n",
       " '/Users/olgapodolska/Desktop/Ukraine_War/input/0501_UkraineCombinedTweetsDeduped.csv.gzip',\n",
       " '/Users/olgapodolska/Desktop/Ukraine_War/input/0502_UkraineCombinedTweetsDeduped.csv.gzip',\n",
       " '/Users/olgapodolska/Desktop/Ukraine_War/input/0503_UkraineCombinedTweetsDeduped.csv.gzip',\n",
       " '/Users/olgapodolska/Desktop/Ukraine_War/input/0504_UkraineCombinedTweetsDeduped.csv.gzip',\n",
       " '/Users/olgapodolska/Desktop/Ukraine_War/input/0505_to_0507_UkraineCombinedTweetsDeduped.csv.gzip',\n",
       " '/Users/olgapodolska/Desktop/Ukraine_War/input/0508_UkraineCombinedTweetsDeduped.csv.gzip',\n",
       " '/Users/olgapodolska/Desktop/Ukraine_War/input/0509_UkraineCombinedTweetsDeduped.csv.gzip',\n",
       " '/Users/olgapodolska/Desktop/Ukraine_War/input/0510_UkraineCombinedTweetsDeduped.csv.gzip',\n",
       " '/Users/olgapodolska/Desktop/Ukraine_War/input/0511_UkraineCombinedTweetsDeduped.csv.gzip',\n",
       " '/Users/olgapodolska/Desktop/Ukraine_War/input/0512_UkraineCombinedTweetsDeduped.csv.gzip',\n",
       " '/Users/olgapodolska/Desktop/Ukraine_War/input/0513_UkraineCombinedTweetsDeduped.csv.gzip',\n",
       " '/Users/olgapodolska/Desktop/Ukraine_War/input/0514_UkraineCombinedTweetsDeduped.csv.gzip',\n",
       " '/Users/olgapodolska/Desktop/Ukraine_War/input/0515_UkraineCombinedTweetsDeduped.csv.gzip',\n",
       " '/Users/olgapodolska/Desktop/Ukraine_War/input/0516_UkraineCombinedTweetsDeduped.csv.gzip',\n",
       " '/Users/olgapodolska/Desktop/Ukraine_War/input/0517_UkraineCombinedTweetsDeduped.csv.gzip',\n",
       " '/Users/olgapodolska/Desktop/Ukraine_War/input/0518_UkraineCombinedTweetsDeduped.csv.gzip',\n",
       " '/Users/olgapodolska/Desktop/Ukraine_War/input/0519_UkraineCombinedTweetsDeduped.csv.gzip',\n",
       " '/Users/olgapodolska/Desktop/Ukraine_War/input/0520_UkraineCombinedTweetsDeduped.csv.gzip',\n",
       " '/Users/olgapodolska/Desktop/Ukraine_War/input/0521_UkraineCombinedTweetsDeduped.csv.gzip',\n",
       " '/Users/olgapodolska/Desktop/Ukraine_War/input/0522_UkraineCombinedTweetsDeduped.csv.gzip',\n",
       " '/Users/olgapodolska/Desktop/Ukraine_War/input/0523_UkraineCombinedTweetsDeduped.csv.gzip',\n",
       " '/Users/olgapodolska/Desktop/Ukraine_War/input/0524_UkraineCombinedTweetsDeduped.csv.gzip',\n",
       " '/Users/olgapodolska/Desktop/Ukraine_War/input/0525_UkraineCombinedTweetsDeduped.csv.gzip',\n",
       " '/Users/olgapodolska/Desktop/Ukraine_War/input/0526_UkraineCombinedTweetsDeduped.csv.gzip',\n",
       " '/Users/olgapodolska/Desktop/Ukraine_War/input/0527_UkraineCombinedTweetsDeduped.csv.gzip',\n",
       " '/Users/olgapodolska/Desktop/Ukraine_War/input/0528_UkraineCombinedTweetsDeduped.csv.gzip',\n",
       " '/Users/olgapodolska/Desktop/Ukraine_War/input/0529_UkraineCombinedTweetsDeduped.csv.gzip',\n",
       " '/Users/olgapodolska/Desktop/Ukraine_War/input/0530_UkraineCombinedTweetsDeduped.csv.gzip',\n",
       " '/Users/olgapodolska/Desktop/Ukraine_War/input/0531_UkraineCombinedTweetsDeduped.csv.gzip',\n",
       " '/Users/olgapodolska/Desktop/Ukraine_War/input/0601_UkraineCombinedTweetsDeduped.csv.gzip',\n",
       " '/Users/olgapodolska/Desktop/Ukraine_War/input/0602_UkraineCombinedTweetsDeduped.csv.gzip',\n",
       " '/Users/olgapodolska/Desktop/Ukraine_War/input/0603_UkraineCombinedTweetsDeduped.csv.gzip',\n",
       " '/Users/olgapodolska/Desktop/Ukraine_War/input/0604_UkraineCombinedTweetsDeduped.csv.gzip',\n",
       " '/Users/olgapodolska/Desktop/Ukraine_War/input/0605_UkraineCombinedTweetsDeduped.csv.gzip',\n",
       " '/Users/olgapodolska/Desktop/Ukraine_War/input/0606_to_08_UkraineCombinedTweetsDeduped.csv.gzip',\n",
       " '/Users/olgapodolska/Desktop/Ukraine_War/input/0609_UkraineCombinedTweetsDeduped.csv.gzip',\n",
       " '/Users/olgapodolska/Desktop/Ukraine_War/input/0610_UkraineCombinedTweetsDeduped.csv.gzip',\n",
       " '/Users/olgapodolska/Desktop/Ukraine_War/input/0611_UkraineCombinedTweetsDeduped.csv.gzip',\n",
       " '/Users/olgapodolska/Desktop/Ukraine_War/input/0612_UkraineCombinedTweetsDeduped.csv.gzip',\n",
       " '/Users/olgapodolska/Desktop/Ukraine_War/input/0613_UkraineCombinedTweetsDeduped.csv.gzip',\n",
       " '/Users/olgapodolska/Desktop/Ukraine_War/input/0614_UkraineCombinedTweetsDeduped.csv.gzip',\n",
       " '/Users/olgapodolska/Desktop/Ukraine_War/input/0615_UkraineCombinedTweetsDeduped.csv.gzip',\n",
       " '/Users/olgapodolska/Desktop/Ukraine_War/input/0616_UkraineCombinedTweetsDeduped.csv.gzip',\n",
       " '/Users/olgapodolska/Desktop/Ukraine_War/input/0617_UkraineCombinedTweetsDeduped.csv.gzip',\n",
       " '/Users/olgapodolska/Desktop/Ukraine_War/input/0618_UkraineCombinedTweetsDeduped.csv.gzip',\n",
       " '/Users/olgapodolska/Desktop/Ukraine_War/input/0619_UkraineCombinedTweetsDeduped.csv.gzip',\n",
       " '/Users/olgapodolska/Desktop/Ukraine_War/input/0620_UkraineCombinedTweetsDeduped.csv.gzip',\n",
       " '/Users/olgapodolska/Desktop/Ukraine_War/input/0621_UkraineCombinedTweetsDeduped.csv.gzip',\n",
       " '/Users/olgapodolska/Desktop/Ukraine_War/input/0622_UkraineCombinedTweetsDeduped.csv.gzip',\n",
       " '/Users/olgapodolska/Desktop/Ukraine_War/input/0623_UkraineCombinedTweetsDeduped.csv.gzip',\n",
       " '/Users/olgapodolska/Desktop/Ukraine_War/input/0624_UkraineCombinedTweetsDeduped.csv.gzip',\n",
       " '/Users/olgapodolska/Desktop/Ukraine_War/input/0625_UkraineCombinedTweetsDeduped.csv.gzip',\n",
       " '/Users/olgapodolska/Desktop/Ukraine_War/input/0626_UkraineCombinedTweetsDeduped.csv.gzip',\n",
       " '/Users/olgapodolska/Desktop/Ukraine_War/input/0627_UkraineCombinedTweetsDeduped.csv.gzip',\n",
       " '/Users/olgapodolska/Desktop/Ukraine_War/input/0628_UkraineCombinedTweetsDeduped.csv.gzip',\n",
       " '/Users/olgapodolska/Desktop/Ukraine_War/input/0629_UkraineCombinedTweetsDeduped.csv.gzip',\n",
       " '/Users/olgapodolska/Desktop/Ukraine_War/input/0630_UkraineCombinedTweetsDeduped.csv.gzip',\n",
       " '/Users/olgapodolska/Desktop/Ukraine_War/input/0701_UkraineCombinedTweetsDeduped.csv.gzip',\n",
       " '/Users/olgapodolska/Desktop/Ukraine_War/input/0702_UkraineCombinedTweetsDeduped.csv.gzip',\n",
       " '/Users/olgapodolska/Desktop/Ukraine_War/input/0703_UkraineCombinedTweetsDeduped.csv.gzip',\n",
       " '/Users/olgapodolska/Desktop/Ukraine_War/input/0704_UkraineCombinedTweetsDeduped.csv.gzip',\n",
       " '/Users/olgapodolska/Desktop/Ukraine_War/input/0705_UkraineCombinedTweetsDeduped.csv.gzip',\n",
       " '/Users/olgapodolska/Desktop/Ukraine_War/input/0706_UkraineCombinedTweetsDeduped.csv.gzip',\n",
       " '/Users/olgapodolska/Desktop/Ukraine_War/input/0707_UkraineCombinedTweetsDeduped.csv.gzip',\n",
       " '/Users/olgapodolska/Desktop/Ukraine_War/input/0708_UkraineCombinedTweetsDeduped.csv.gzip',\n",
       " '/Users/olgapodolska/Desktop/Ukraine_War/input/0709_UkraineCombinedTweetsDeduped.csv.gzip',\n",
       " '/Users/olgapodolska/Desktop/Ukraine_War/input/0710_UkraineCombinedTweetsDeduped.csv.gzip',\n",
       " '/Users/olgapodolska/Desktop/Ukraine_War/input/0711_UkraineCombinedTweetsDeduped.csv.gzip',\n",
       " '/Users/olgapodolska/Desktop/Ukraine_War/input/0712_UkraineCombinedTweetsDeduped.csv.gzip',\n",
       " '/Users/olgapodolska/Desktop/Ukraine_War/input/0713_UkraineCombinedTweetsDeduped.csv.gzip',\n",
       " '/Users/olgapodolska/Desktop/Ukraine_War/input/0714_UkraineCombinedTweetsDeduped.csv.gzip',\n",
       " '/Users/olgapodolska/Desktop/Ukraine_War/input/0715_UkraineCombinedTweetsDeduped.csv.gzip',\n",
       " '/Users/olgapodolska/Desktop/Ukraine_War/input/0716_UkraineCombinedTweetsDeduped.csv.gzip',\n",
       " '/Users/olgapodolska/Desktop/Ukraine_War/input/0717_UkraineCombinedTweetsDeduped.csv.gzip',\n",
       " '/Users/olgapodolska/Desktop/Ukraine_War/input/0718_UkraineCombinedTweetsDeduped.csv.gzip',\n",
       " '/Users/olgapodolska/Desktop/Ukraine_War/input/0719_UkraineCombinedTweetsDeduped.csv.gzip',\n",
       " '/Users/olgapodolska/Desktop/Ukraine_War/input/0720_UkraineCombinedTweetsDeduped.csv.gzip',\n",
       " '/Users/olgapodolska/Desktop/Ukraine_War/input/0721_UkraineCombinedTweetsDeduped.csv.gzip',\n",
       " '/Users/olgapodolska/Desktop/Ukraine_War/input/0722_UkraineCombinedTweetsDeduped.csv.gzip',\n",
       " '/Users/olgapodolska/Desktop/Ukraine_War/input/0723_UkraineCombinedTweetsDeduped.csv.gzip',\n",
       " '/Users/olgapodolska/Desktop/Ukraine_War/input/0724_UkraineCombinedTweetsDeduped.csv.gzip',\n",
       " '/Users/olgapodolska/Desktop/Ukraine_War/input/0725_UkraineCombinedTweetsDeduped.csv.gzip',\n",
       " '/Users/olgapodolska/Desktop/Ukraine_War/input/0726_UkraineCombinedTweetsDeduped.csv.gzip',\n",
       " '/Users/olgapodolska/Desktop/Ukraine_War/input/0727_UkraineCombinedTweetsDeduped.csv.gzip',\n",
       " '/Users/olgapodolska/Desktop/Ukraine_War/input/0728_UkraineCombinedTweetsDeduped.csv.gzip',\n",
       " '/Users/olgapodolska/Desktop/Ukraine_War/input/0729_UkraineCombinedTweetsDeduped.csv.gzip',\n",
       " '/Users/olgapodolska/Desktop/Ukraine_War/input/0730_UkraineCombinedTweetsDeduped.csv.gzip',\n",
       " '/Users/olgapodolska/Desktop/Ukraine_War/input/0731_UkraineCombinedTweetsDeduped.csv.gzip',\n",
       " '/Users/olgapodolska/Desktop/Ukraine_War/input/0801_UkraineCombinedTweetsDeduped.csv.gzip',\n",
       " '/Users/olgapodolska/Desktop/Ukraine_War/input/0802_UkraineCombinedTweetsDeduped.csv.gzip',\n",
       " '/Users/olgapodolska/Desktop/Ukraine_War/input/0803_UkraineCombinedTweetsDeduped.csv.gzip',\n",
       " '/Users/olgapodolska/Desktop/Ukraine_War/input/0804_UkraineCombinedTweetsDeduped.csv.gzip',\n",
       " '/Users/olgapodolska/Desktop/Ukraine_War/input/0805_UkraineCombinedTweetsDeduped.csv.gzip',\n",
       " '/Users/olgapodolska/Desktop/Ukraine_War/input/0806_UkraineCombinedTweetsDeduped.csv.gzip',\n",
       " '/Users/olgapodolska/Desktop/Ukraine_War/input/0807_UkraineCombinedTweetsDeduped.csv.gzip',\n",
       " '/Users/olgapodolska/Desktop/Ukraine_War/input/0808_UkraineCombinedTweetsDeduped.csv.gzip',\n",
       " '/Users/olgapodolska/Desktop/Ukraine_War/input/0809_UkraineCombinedTweetsDeduped.csv.gzip',\n",
       " '/Users/olgapodolska/Desktop/Ukraine_War/input/0810_UkraineCombinedTweetsDeduped.csv.gzip',\n",
       " '/Users/olgapodolska/Desktop/Ukraine_War/input/0811_UkraineCombinedTweetsDeduped.csv.gzip',\n",
       " '/Users/olgapodolska/Desktop/Ukraine_War/input/0812_UkraineCombinedTweetsDeduped.csv.gzip',\n",
       " '/Users/olgapodolska/Desktop/Ukraine_War/input/UkraineCombinedTweetsDeduped20220227-131611.csv.gzip',\n",
       " '/Users/olgapodolska/Desktop/Ukraine_War/input/UkraineCombinedTweetsDeduped_FEB27.csv.gzip',\n",
       " '/Users/olgapodolska/Desktop/Ukraine_War/input/UkraineCombinedTweetsDeduped_FEB28_part1.csv.gzip',\n",
       " '/Users/olgapodolska/Desktop/Ukraine_War/input/UkraineCombinedTweetsDeduped_FEB28_part2.csv.gzip',\n",
       " '/Users/olgapodolska/Desktop/Ukraine_War/input/UkraineCombinedTweetsDeduped_MAR01.csv.gzip',\n",
       " '/Users/olgapodolska/Desktop/Ukraine_War/input/UkraineCombinedTweetsDeduped_MAR02.csv.gzip',\n",
       " '/Users/olgapodolska/Desktop/Ukraine_War/input/UkraineCombinedTweetsDeduped_MAR03.csv.gzip',\n",
       " '/Users/olgapodolska/Desktop/Ukraine_War/input/UkraineCombinedTweetsDeduped_MAR04.csv.gzip',\n",
       " '/Users/olgapodolska/Desktop/Ukraine_War/input/UkraineCombinedTweetsDeduped_MAR05.csv.gzip',\n",
       " '/Users/olgapodolska/Desktop/Ukraine_War/input/UkraineCombinedTweetsDeduped_MAR06.csv.gzip',\n",
       " '/Users/olgapodolska/Desktop/Ukraine_War/input/UkraineCombinedTweetsDeduped_MAR07.csv.gzip',\n",
       " '/Users/olgapodolska/Desktop/Ukraine_War/input/UkraineCombinedTweetsDeduped_MAR08.csv.gzip',\n",
       " '/Users/olgapodolska/Desktop/Ukraine_War/input/UkraineCombinedTweetsDeduped_MAR09.csv.gzip',\n",
       " '/Users/olgapodolska/Desktop/Ukraine_War/input/UkraineCombinedTweetsDeduped_MAR10.csv.gzip',\n",
       " '/Users/olgapodolska/Desktop/Ukraine_War/input/UkraineCombinedTweetsDeduped_MAR11.csv.gzip',\n",
       " '/Users/olgapodolska/Desktop/Ukraine_War/input/UkraineCombinedTweetsDeduped_MAR12.csv.gzip',\n",
       " '/Users/olgapodolska/Desktop/Ukraine_War/input/UkraineCombinedTweetsDeduped_MAR13.csv.gzip',\n",
       " '/Users/olgapodolska/Desktop/Ukraine_War/input/UkraineCombinedTweetsDeduped_MAR14.csv.gzip',\n",
       " '/Users/olgapodolska/Desktop/Ukraine_War/input/UkraineCombinedTweetsDeduped_MAR15.csv.gzip',\n",
       " '/Users/olgapodolska/Desktop/Ukraine_War/input/UkraineCombinedTweetsDeduped_MAR16.csv.gzip',\n",
       " '/Users/olgapodolska/Desktop/Ukraine_War/input/UkraineCombinedTweetsDeduped_MAR17.csv.gzip',\n",
       " '/Users/olgapodolska/Desktop/Ukraine_War/input/UkraineCombinedTweetsDeduped_MAR18.csv.gzip',\n",
       " '/Users/olgapodolska/Desktop/Ukraine_War/input/UkraineCombinedTweetsDeduped_MAR19.csv.gzip',\n",
       " '/Users/olgapodolska/Desktop/Ukraine_War/input/UkraineCombinedTweetsDeduped_MAR20.csv.gzip',\n",
       " '/Users/olgapodolska/Desktop/Ukraine_War/input/UkraineCombinedTweetsDeduped_MAR21.csv.gzip',\n",
       " '/Users/olgapodolska/Desktop/Ukraine_War/input/UkraineCombinedTweetsDeduped_MAR22.csv.gzip',\n",
       " '/Users/olgapodolska/Desktop/Ukraine_War/input/UkraineCombinedTweetsDeduped_MAR23.csv.gzip',\n",
       " '/Users/olgapodolska/Desktop/Ukraine_War/input/UkraineCombinedTweetsDeduped_MAR24.csv.gzip',\n",
       " '/Users/olgapodolska/Desktop/Ukraine_War/input/UkraineCombinedTweetsDeduped_MAR25.csv.gzip',\n",
       " '/Users/olgapodolska/Desktop/Ukraine_War/input/UkraineCombinedTweetsDeduped_MAR26.csv.gzip',\n",
       " '/Users/olgapodolska/Desktop/Ukraine_War/input/UkraineCombinedTweetsDeduped_MAR27_to_28.csv.gzip',\n",
       " '/Users/olgapodolska/Desktop/Ukraine_War/input/UkraineCombinedTweetsDeduped_MAR29.csv.gzip',\n",
       " '/Users/olgapodolska/Desktop/Ukraine_War/input/UkraineCombinedTweetsDeduped_MAR30_REAL.csv.gzip',\n",
       " '/Users/olgapodolska/Desktop/Ukraine_War/input/UkraineCombinedTweetsDeduped_MAR31.csv.gzip']"
      ]
     },
     "execution_count": 3,
     "metadata": {},
     "output_type": "execute_result"
    }
   ],
   "source": [
    "# sort the files\n",
    "all_files.sort()\n",
    "all_files"
   ]
  },
  {
   "cell_type": "code",
   "execution_count": 18,
   "id": "886692ea",
   "metadata": {},
   "outputs": [
    {
     "data": {
      "text/plain": [
       "['/Users/olgapodolska/Desktop/Ukraine_War/input/0801_UkraineCombinedTweetsDeduped.csv.gzip',\n",
       " '/Users/olgapodolska/Desktop/Ukraine_War/input/0802_UkraineCombinedTweetsDeduped.csv.gzip',\n",
       " '/Users/olgapodolska/Desktop/Ukraine_War/input/0803_UkraineCombinedTweetsDeduped.csv.gzip',\n",
       " '/Users/olgapodolska/Desktop/Ukraine_War/input/0804_UkraineCombinedTweetsDeduped.csv.gzip',\n",
       " '/Users/olgapodolska/Desktop/Ukraine_War/input/0805_UkraineCombinedTweetsDeduped.csv.gzip',\n",
       " '/Users/olgapodolska/Desktop/Ukraine_War/input/0806_UkraineCombinedTweetsDeduped.csv.gzip',\n",
       " '/Users/olgapodolska/Desktop/Ukraine_War/input/0807_UkraineCombinedTweetsDeduped.csv.gzip',\n",
       " '/Users/olgapodolska/Desktop/Ukraine_War/input/0808_UkraineCombinedTweetsDeduped.csv.gzip',\n",
       " '/Users/olgapodolska/Desktop/Ukraine_War/input/0809_UkraineCombinedTweetsDeduped.csv.gzip',\n",
       " '/Users/olgapodolska/Desktop/Ukraine_War/input/0810_UkraineCombinedTweetsDeduped.csv.gzip',\n",
       " '/Users/olgapodolska/Desktop/Ukraine_War/input/0811_UkraineCombinedTweetsDeduped.csv.gzip',\n",
       " '/Users/olgapodolska/Desktop/Ukraine_War/input/0812_UkraineCombinedTweetsDeduped.csv.gzip']"
      ]
     },
     "execution_count": 18,
     "metadata": {},
     "output_type": "execute_result"
    }
   ],
   "source": [
    "# fetch all August files - filenames containing \"AUG\" or \"202208\"\n",
    "aug_files = [file for file in all_files if re.search(\"/08\", file)]\n",
    "aug_files"
   ]
  },
  {
   "cell_type": "code",
   "execution_count": 19,
   "id": "f4c0f097",
   "metadata": {},
   "outputs": [
    {
     "name": "stdout",
     "output_type": "stream",
     "text": [
      "Reading in /Users/olgapodolska/Desktop/Ukraine_War/input/0801_UkraineCombinedTweetsDeduped.csv.gzip\n",
      "Reading in /Users/olgapodolska/Desktop/Ukraine_War/input/0802_UkraineCombinedTweetsDeduped.csv.gzip\n",
      "Reading in /Users/olgapodolska/Desktop/Ukraine_War/input/0803_UkraineCombinedTweetsDeduped.csv.gzip\n",
      "Reading in /Users/olgapodolska/Desktop/Ukraine_War/input/0804_UkraineCombinedTweetsDeduped.csv.gzip\n",
      "Reading in /Users/olgapodolska/Desktop/Ukraine_War/input/0805_UkraineCombinedTweetsDeduped.csv.gzip\n",
      "Reading in /Users/olgapodolska/Desktop/Ukraine_War/input/0806_UkraineCombinedTweetsDeduped.csv.gzip\n"
     ]
    },
    {
     "name": "stderr",
     "output_type": "stream",
     "text": [
      "/Users/olgapodolska/opt/anaconda3/envs/mlenv/lib/python3.7/site-packages/IPython/core/interactiveshell.py:3457: DtypeWarning: Columns (15) have mixed types.Specify dtype option on import or set low_memory=False.\n",
      "  exec(code_obj, self.user_global_ns, self.user_ns)\n"
     ]
    },
    {
     "name": "stdout",
     "output_type": "stream",
     "text": [
      "Reading in /Users/olgapodolska/Desktop/Ukraine_War/input/0807_UkraineCombinedTweetsDeduped.csv.gzip\n",
      "Reading in /Users/olgapodolska/Desktop/Ukraine_War/input/0808_UkraineCombinedTweetsDeduped.csv.gzip\n"
     ]
    },
    {
     "name": "stderr",
     "output_type": "stream",
     "text": [
      "/Users/olgapodolska/opt/anaconda3/envs/mlenv/lib/python3.7/site-packages/IPython/core/interactiveshell.py:3457: DtypeWarning: Columns (20) have mixed types.Specify dtype option on import or set low_memory=False.\n",
      "  exec(code_obj, self.user_global_ns, self.user_ns)\n"
     ]
    },
    {
     "name": "stdout",
     "output_type": "stream",
     "text": [
      "Reading in /Users/olgapodolska/Desktop/Ukraine_War/input/0809_UkraineCombinedTweetsDeduped.csv.gzip\n",
      "Reading in /Users/olgapodolska/Desktop/Ukraine_War/input/0810_UkraineCombinedTweetsDeduped.csv.gzip\n",
      "Reading in /Users/olgapodolska/Desktop/Ukraine_War/input/0811_UkraineCombinedTweetsDeduped.csv.gzip\n",
      "Reading in /Users/olgapodolska/Desktop/Ukraine_War/input/0812_UkraineCombinedTweetsDeduped.csv.gzip\n",
      "Concatenating the DataFrames\n",
      "Concatenation complete!\n"
     ]
    }
   ],
   "source": [
    "# Unzip the files and concatenate them into one pandas DataFrame\n",
    "tmp_df_list = []\n",
    "for file in aug_files:\n",
    "    print(f\"Reading in {file}\")\n",
    "    # unzip and read in the csv file as a dataframe\n",
    "    tmp_df = pd.read_csv(file, compression=\"gzip\", header=0, index_col=0)\n",
    "    # append dataframe to temp list\n",
    "    tmp_df_list.append(tmp_df)\n",
    "\n",
    "print(\"Concatenating the DataFrames\")\n",
    "# concatenate the dataframes in the temp list row-wise\n",
    "aug_df= pd.concat(tmp_df_list, axis=0)\n",
    "print(\"Concatenation complete!\")"
   ]
  },
  {
   "cell_type": "code",
   "execution_count": 20,
   "id": "8772a294",
   "metadata": {},
   "outputs": [
    {
     "data": {
      "text/html": [
       "<div>\n",
       "<style scoped>\n",
       "    .dataframe tbody tr th:only-of-type {\n",
       "        vertical-align: middle;\n",
       "    }\n",
       "\n",
       "    .dataframe tbody tr th {\n",
       "        vertical-align: top;\n",
       "    }\n",
       "\n",
       "    .dataframe thead th {\n",
       "        text-align: right;\n",
       "    }\n",
       "</style>\n",
       "<table border=\"1\" class=\"dataframe\">\n",
       "  <thead>\n",
       "    <tr style=\"text-align: right;\">\n",
       "      <th></th>\n",
       "      <th>userid</th>\n",
       "      <th>username</th>\n",
       "      <th>acctdesc</th>\n",
       "      <th>location</th>\n",
       "      <th>following</th>\n",
       "      <th>followers</th>\n",
       "      <th>totaltweets</th>\n",
       "      <th>usercreatedts</th>\n",
       "      <th>tweetid</th>\n",
       "      <th>tweetcreatedts</th>\n",
       "      <th>...</th>\n",
       "      <th>original_tweet_userid</th>\n",
       "      <th>original_tweet_username</th>\n",
       "      <th>in_reply_to_status_id</th>\n",
       "      <th>in_reply_to_user_id</th>\n",
       "      <th>in_reply_to_screen_name</th>\n",
       "      <th>is_quote_status</th>\n",
       "      <th>quoted_status_id</th>\n",
       "      <th>quoted_status_userid</th>\n",
       "      <th>quoted_status_username</th>\n",
       "      <th>extractedts</th>\n",
       "    </tr>\n",
       "  </thead>\n",
       "  <tbody>\n",
       "    <tr>\n",
       "      <th>0</th>\n",
       "      <td>369869874</td>\n",
       "      <td>ORFMumbai</td>\n",
       "      <td>Non–partisan, independent analyses on security...</td>\n",
       "      <td>Nariman Point, Mumbai, India</td>\n",
       "      <td>51</td>\n",
       "      <td>3362</td>\n",
       "      <td>71331</td>\n",
       "      <td>2011-09-08 02:34:54.000000</td>\n",
       "      <td>1553893270027063297</td>\n",
       "      <td>2022-08-01 00:00:00.000000</td>\n",
       "      <td>...</td>\n",
       "      <td>0</td>\n",
       "      <td>NaN</td>\n",
       "      <td>0</td>\n",
       "      <td>0</td>\n",
       "      <td>NaN</td>\n",
       "      <td>False</td>\n",
       "      <td>0</td>\n",
       "      <td>0</td>\n",
       "      <td>NaN</td>\n",
       "      <td>2022-08-01 02:30:13.601013</td>\n",
       "    </tr>\n",
       "    <tr>\n",
       "      <th>1</th>\n",
       "      <td>882984605028102144</td>\n",
       "      <td>For2000years</td>\n",
       "      <td>\"I have certain rules I live by. My first rule...</td>\n",
       "      <td>Facing East</td>\n",
       "      <td>2964</td>\n",
       "      <td>4669</td>\n",
       "      <td>119795</td>\n",
       "      <td>2017-07-06 15:28:29.000000</td>\n",
       "      <td>1553893270983409670</td>\n",
       "      <td>2022-08-01 00:00:00.000000</td>\n",
       "      <td>...</td>\n",
       "      <td>56575418</td>\n",
       "      <td>timand2037</td>\n",
       "      <td>0</td>\n",
       "      <td>0</td>\n",
       "      <td>NaN</td>\n",
       "      <td>False</td>\n",
       "      <td>0</td>\n",
       "      <td>0</td>\n",
       "      <td>NaN</td>\n",
       "      <td>2022-08-01 02:30:13.573250</td>\n",
       "    </tr>\n",
       "    <tr>\n",
       "      <th>2</th>\n",
       "      <td>862842887565869056</td>\n",
       "      <td>CumanaCandanga</td>\n",
       "      <td>IG: @CumanaCandanga\\nEn #Cumaná también somos ...</td>\n",
       "      <td>Cumana, Venezuela</td>\n",
       "      <td>6033</td>\n",
       "      <td>6730</td>\n",
       "      <td>18870</td>\n",
       "      <td>2017-05-12 01:32:30.000000</td>\n",
       "      <td>1553893271671382024</td>\n",
       "      <td>2022-08-01 00:00:00.000000</td>\n",
       "      <td>...</td>\n",
       "      <td>1441312629155237888</td>\n",
       "      <td>ProfeJesusDavid</td>\n",
       "      <td>0</td>\n",
       "      <td>0</td>\n",
       "      <td>NaN</td>\n",
       "      <td>False</td>\n",
       "      <td>0</td>\n",
       "      <td>0</td>\n",
       "      <td>NaN</td>\n",
       "      <td>2022-08-01 00:29:56.081894</td>\n",
       "    </tr>\n",
       "    <tr>\n",
       "      <th>3</th>\n",
       "      <td>1366546460557385729</td>\n",
       "      <td>EnfoquesEnCorto</td>\n",
       "      <td>📻Sigue nuestros cortes informativos 🎙Escúchano...</td>\n",
       "      <td>Mexico, ME</td>\n",
       "      <td>195</td>\n",
       "      <td>192</td>\n",
       "      <td>20780</td>\n",
       "      <td>2021-03-02 00:30:59.000000</td>\n",
       "      <td>1553893273751666691</td>\n",
       "      <td>2022-08-01 00:00:01.000000</td>\n",
       "      <td>...</td>\n",
       "      <td>0</td>\n",
       "      <td>NaN</td>\n",
       "      <td>0</td>\n",
       "      <td>0</td>\n",
       "      <td>NaN</td>\n",
       "      <td>False</td>\n",
       "      <td>0</td>\n",
       "      <td>0</td>\n",
       "      <td>NaN</td>\n",
       "      <td>2022-08-01 10:29:39.709724</td>\n",
       "    </tr>\n",
       "    <tr>\n",
       "      <th>4</th>\n",
       "      <td>1378766002792583168</td>\n",
       "      <td>kaotiskhund</td>\n",
       "      <td>NaN</td>\n",
       "      <td>NaN</td>\n",
       "      <td>49</td>\n",
       "      <td>8</td>\n",
       "      <td>112</td>\n",
       "      <td>2021-04-04 17:47:00.000000</td>\n",
       "      <td>1553893274687094785</td>\n",
       "      <td>2022-08-01 00:00:01.000000</td>\n",
       "      <td>...</td>\n",
       "      <td>0</td>\n",
       "      <td>NaN</td>\n",
       "      <td>0</td>\n",
       "      <td>0</td>\n",
       "      <td>NaN</td>\n",
       "      <td>False</td>\n",
       "      <td>0</td>\n",
       "      <td>0</td>\n",
       "      <td>NaN</td>\n",
       "      <td>2022-08-01 06:59:10.496078</td>\n",
       "    </tr>\n",
       "  </tbody>\n",
       "</table>\n",
       "<p>5 rows × 28 columns</p>\n",
       "</div>"
      ],
      "text/plain": [
       "                userid         username  \\\n",
       "0            369869874        ORFMumbai   \n",
       "1   882984605028102144     For2000years   \n",
       "2   862842887565869056   CumanaCandanga   \n",
       "3  1366546460557385729  EnfoquesEnCorto   \n",
       "4  1378766002792583168      kaotiskhund   \n",
       "\n",
       "                                            acctdesc  \\\n",
       "0  Non–partisan, independent analyses on security...   \n",
       "1  \"I have certain rules I live by. My first rule...   \n",
       "2  IG: @CumanaCandanga\\nEn #Cumaná también somos ...   \n",
       "3  📻Sigue nuestros cortes informativos 🎙Escúchano...   \n",
       "4                                                NaN   \n",
       "\n",
       "                       location  following  followers  totaltweets  \\\n",
       "0  Nariman Point, Mumbai, India         51       3362        71331   \n",
       "1                   Facing East       2964       4669       119795   \n",
       "2             Cumana, Venezuela       6033       6730        18870   \n",
       "3                    Mexico, ME        195        192        20780   \n",
       "4                           NaN         49          8          112   \n",
       "\n",
       "                usercreatedts              tweetid  \\\n",
       "0  2011-09-08 02:34:54.000000  1553893270027063297   \n",
       "1  2017-07-06 15:28:29.000000  1553893270983409670   \n",
       "2  2017-05-12 01:32:30.000000  1553893271671382024   \n",
       "3  2021-03-02 00:30:59.000000  1553893273751666691   \n",
       "4  2021-04-04 17:47:00.000000  1553893274687094785   \n",
       "\n",
       "               tweetcreatedts  ...  original_tweet_userid  \\\n",
       "0  2022-08-01 00:00:00.000000  ...                      0   \n",
       "1  2022-08-01 00:00:00.000000  ...               56575418   \n",
       "2  2022-08-01 00:00:00.000000  ...    1441312629155237888   \n",
       "3  2022-08-01 00:00:01.000000  ...                      0   \n",
       "4  2022-08-01 00:00:01.000000  ...                      0   \n",
       "\n",
       "  original_tweet_username in_reply_to_status_id in_reply_to_user_id  \\\n",
       "0                     NaN                     0                   0   \n",
       "1              timand2037                     0                   0   \n",
       "2         ProfeJesusDavid                     0                   0   \n",
       "3                     NaN                     0                   0   \n",
       "4                     NaN                     0                   0   \n",
       "\n",
       "  in_reply_to_screen_name  is_quote_status  quoted_status_id  \\\n",
       "0                     NaN            False                 0   \n",
       "1                     NaN            False                 0   \n",
       "2                     NaN            False                 0   \n",
       "3                     NaN            False                 0   \n",
       "4                     NaN            False                 0   \n",
       "\n",
       "   quoted_status_userid  quoted_status_username                 extractedts  \n",
       "0                     0                     NaN  2022-08-01 02:30:13.601013  \n",
       "1                     0                     NaN  2022-08-01 02:30:13.573250  \n",
       "2                     0                     NaN  2022-08-01 00:29:56.081894  \n",
       "3                     0                     NaN  2022-08-01 10:29:39.709724  \n",
       "4                     0                     NaN  2022-08-01 06:59:10.496078  \n",
       "\n",
       "[5 rows x 28 columns]"
      ]
     },
     "execution_count": 20,
     "metadata": {},
     "output_type": "execute_result"
    }
   ],
   "source": [
    "# show the first 5 rows of the august dataframe\n",
    "aug_df.head()"
   ]
  },
  {
   "cell_type": "code",
   "execution_count": 21,
   "id": "c7f96f2b",
   "metadata": {},
   "outputs": [
    {
     "name": "stdout",
     "output_type": "stream",
     "text": [
      "1849926 rows and 28 columns\n"
     ]
    }
   ],
   "source": [
    "# get shape of the DataFrame\n",
    "print(f\"{aug_df.shape[0]} rows and {aug_df.shape[1]} columns\")"
   ]
  },
  {
   "cell_type": "code",
   "execution_count": 22,
   "id": "fee348ea",
   "metadata": {},
   "outputs": [
    {
     "name": "stdout",
     "output_type": "stream",
     "text": [
      "<class 'pandas.core.frame.DataFrame'>\n",
      "Int64Index: 1849926 entries, 0 to 59744\n",
      "Data columns (total 28 columns):\n",
      " #   Column                   Dtype \n",
      "---  ------                   ----- \n",
      " 0   userid                   int64 \n",
      " 1   username                 object\n",
      " 2   acctdesc                 object\n",
      " 3   location                 object\n",
      " 4   following                int64 \n",
      " 5   followers                int64 \n",
      " 6   totaltweets              int64 \n",
      " 7   usercreatedts            object\n",
      " 8   tweetid                  int64 \n",
      " 9   tweetcreatedts           object\n",
      " 10  retweetcount             int64 \n",
      " 11  text                     object\n",
      " 12  hashtags                 object\n",
      " 13  language                 object\n",
      " 14  coordinates              object\n",
      " 15  favorite_count           int64 \n",
      " 16  is_retweet               bool  \n",
      " 17  original_tweet_id        int64 \n",
      " 18  original_tweet_userid    int64 \n",
      " 19  original_tweet_username  object\n",
      " 20  in_reply_to_status_id    int64 \n",
      " 21  in_reply_to_user_id      int64 \n",
      " 22  in_reply_to_screen_name  object\n",
      " 23  is_quote_status          bool  \n",
      " 24  quoted_status_id         int64 \n",
      " 25  quoted_status_userid     int64 \n",
      " 26  quoted_status_username   object\n",
      " 27  extractedts              object\n",
      "dtypes: bool(2), int64(13), object(13)\n",
      "memory usage: 384.6+ MB\n"
     ]
    }
   ],
   "source": [
    "# Check data types\n",
    "aug_df.info()"
   ]
  },
  {
   "cell_type": "code",
   "execution_count": 23,
   "id": "8beff581",
   "metadata": {},
   "outputs": [
    {
     "name": "stdout",
     "output_type": "stream",
     "text": [
      "<class 'pandas.core.frame.DataFrame'>\n",
      "Int64Index: 1849926 entries, 0 to 59744\n",
      "Data columns (total 28 columns):\n",
      " #   Column                   Dtype         \n",
      "---  ------                   -----         \n",
      " 0   userid                   int64         \n",
      " 1   username                 object        \n",
      " 2   acctdesc                 object        \n",
      " 3   location                 object        \n",
      " 4   following                int64         \n",
      " 5   followers                int64         \n",
      " 6   totaltweets              int64         \n",
      " 7   usercreatedts            datetime64[ns]\n",
      " 8   tweetid                  int64         \n",
      " 9   tweetcreatedts           datetime64[ns]\n",
      " 10  retweetcount             int64         \n",
      " 11  text                     object        \n",
      " 12  hashtags                 object        \n",
      " 13  language                 object        \n",
      " 14  coordinates              object        \n",
      " 15  favorite_count           int64         \n",
      " 16  is_retweet               bool          \n",
      " 17  original_tweet_id        int64         \n",
      " 18  original_tweet_userid    int64         \n",
      " 19  original_tweet_username  object        \n",
      " 20  in_reply_to_status_id    int64         \n",
      " 21  in_reply_to_user_id      int64         \n",
      " 22  in_reply_to_screen_name  object        \n",
      " 23  is_quote_status          bool          \n",
      " 24  quoted_status_id         int64         \n",
      " 25  quoted_status_userid     int64         \n",
      " 26  quoted_status_username   object        \n",
      " 27  extractedts              datetime64[ns]\n",
      "dtypes: bool(2), datetime64[ns](3), int64(13), object(10)\n",
      "memory usage: 384.6+ MB\n"
     ]
    }
   ],
   "source": [
    "# Change the dtypes of usercreatedts, tweetcreatedts, and extractedts to datetime64 for easier operation later\n",
    "aug_df[\"usercreatedts\"] = pd.to_datetime(aug_df[\"usercreatedts\"])\n",
    "aug_df[\"tweetcreatedts\"] = pd.to_datetime(aug_df[\"tweetcreatedts\"])\n",
    "aug_df[\"extractedts\"] = pd.to_datetime(aug_df[\"extractedts\"])\n",
    "\n",
    "# check dtypes\n",
    "aug_df.info()"
   ]
  },
  {
   "cell_type": "code",
   "execution_count": 24,
   "id": "6c6e1658",
   "metadata": {},
   "outputs": [
    {
     "name": "stdout",
     "output_type": "stream",
     "text": [
      "The earliest tweet was at 2022-08-01 00:00:00, and the latest was at 2022-08-12 23:59:58\n"
     ]
    }
   ],
   "source": [
    "# When were the earliest and latest tweets in this dataset created\n",
    "earliest_tweet = aug_df[\"tweetcreatedts\"].min()\n",
    "latest_tweet = aug_df[\"tweetcreatedts\"].max()\n",
    "\n",
    "print(f\"The earliest tweet was at {earliest_tweet}, and the latest was at {latest_tweet}\")"
   ]
  },
  {
   "cell_type": "code",
   "execution_count": 25,
   "id": "2e3749f6",
   "metadata": {},
   "outputs": [
    {
     "data": {
      "image/png": "[encoded data removed]",
      "text/plain": [
       "<Figure size 432x288 with 1 Axes>"
      ]
     },
     "metadata": {
      "needs_background": "light"
     },
     "output_type": "display_data"
    }
   ],
   "source": [
    "# Visualize tweet frequency by date\n",
    "# get dates in the dataframe \n",
    "dates = aug_df[\"tweetcreatedts\"].dt.day\n",
    "# group tweet timestamps by date and get tweet count for each date\n",
    "tweetcount_by_date = aug_df[\"tweetcreatedts\"].groupby(dates).size()\n",
    "\n",
    "# plot bar graph of tweet count by date\n",
    "tweetcount_by_date.plot.bar();\n",
    "\n",
    "plt.title(\"August Tweet Count by Date\")\n",
    "plt.xlabel(\"Tweet Date\")\n",
    "plt.ylabel(\"Tweet Count\")\n",
    "plt.xticks(rotation=0)\n",
    "plt.show()"
   ]
  },
  {
   "cell_type": "code",
   "execution_count": 26,
   "id": "d392b96a",
   "metadata": {},
   "outputs": [
    {
     "name": "stdout",
     "output_type": "stream",
     "text": [
      "There are 66 unique languages in this DataFrame.\n"
     ]
    },
    {
     "data": {
      "text/plain": [
       "array(['en', 'es', 'zh', 'fr', 'el', 'pl', 'und', 'de', 'it', 'ja', 'nl',\n",
       "       'ru', 'lv', 'ar', 'uk', 'tr', 'in', 'sr', 'sl', 'ro', 'th', 'fi',\n",
       "       'pt', 'tl', 'ca', 'da', 'sv', 'ht', 'fa', 'et', 'ta', 'lt', 'hi',\n",
       "       'iw', 'bn', 'ur', 'vi', 'is', 'cs', 'ko', 'kn', 'te', 'eu', 'no',\n",
       "       'gu', 'ka', 'my', 'ps', 'bg', 'mr', 'hu', 'am', 'ml', 'cy', 'pa',\n",
       "       'ckb', 'ne', 'si', 'hy', 'or', 'lo', 'bo', 'sd', 'km', 'ug', 'dv'],\n",
       "      dtype=object)"
      ]
     },
     "execution_count": 26,
     "metadata": {},
     "output_type": "execute_result"
    }
   ],
   "source": [
    "# How many languages are in this dataset\n",
    "print(f\"There are {aug_df['language'].nunique()} unique languages in this DataFrame.\")\n",
    "aug_df[\"language\"].unique()"
   ]
  },
  {
   "cell_type": "code",
   "execution_count": 28,
   "id": "a64900d8",
   "metadata": {},
   "outputs": [
    {
     "name": "stdout",
     "output_type": "stream",
     "text": [
      "56.76% of the tweets are in English.\n"
     ]
    }
   ],
   "source": [
    "# What percentage of the tweets is in English (en)\n",
    "print(f\"{round(aug_df.loc[aug_df['language']=='en'].shape[0]/aug_df.shape[0]*100, 2)}% of the tweets are in English.\")"
   ]
  },
  {
   "cell_type": "code",
   "execution_count": 30,
   "id": "e5cfdad9",
   "metadata": {},
   "outputs": [
    {
     "data": {
      "image/png": "[encoded data removed]",
      "text/plain": [
       "<Figure size 864x432 with 1 Axes>"
      ]
     },
     "metadata": {
      "needs_background": "light"
     },
     "output_type": "display_data"
    }
   ],
   "source": [
    "# Plot the distribution of different languages\n",
    "language_counts = aug_df.groupby(\"language\").size().sort_values(ascending=False)[0:20].plot.bar(figsize=(12,6),\n",
    "                                                                                         title=\"Top 20 Languages by Frequency\",\n",
    "                                                                                         xlabel=\"Language Code\",\n",
    "                                                                                         ylabel=\"Number of Tweets\",\n",
    "                                                                                         rot=90\n",
    "                                                                                         );\n",
    "\n",
    "plt.xticks(rotation=0)\n",
    "plt.show()"
   ]
  },
  {
   "cell_type": "markdown",
   "id": "d2c5bc6d",
   "metadata": {},
   "source": [
    "We can see that English (en) was by far the most prevalent language in this dataset, nearing 1.2 million tweets out of 1.96 million. The second and third most prevalent languages were French and Thai, respectively.\n",
    "\n",
    "Note that the forth most prevalent language was \"und\", which is used to indicate that Twitter could not detect a language. We can safely inspect English language only."
   ]
  },
  {
   "cell_type": "code",
   "execution_count": 31,
   "id": "ef583a5f",
   "metadata": {},
   "outputs": [
    {
     "name": "stdout",
     "output_type": "stream",
     "text": [
      "Shortest tweet has 1 chars.\n",
      "Longest tweet has 1027 chars.\n"
     ]
    }
   ],
   "source": [
    "# Inspect shortest and longest tweets\n",
    "min_len = aug_df[\"text\"].str.len().min()\n",
    "max_len = aug_df[\"text\"].str.len().max()\n",
    "\n",
    "\n",
    "print(f\"Shortest tweet has {min_len} chars.\")\n",
    "print(f\"Longest tweet has {max_len} chars.\")"
   ]
  },
  {
   "cell_type": "markdown",
   "id": "7efac282",
   "metadata": {},
   "source": [
    "Hold on, a tweet can have 280 characters max. How could one have more than the limit?"
   ]
  },
  {
   "cell_type": "code",
   "execution_count": 33,
   "id": "9ec09562",
   "metadata": {},
   "outputs": [
    {
     "data": {
      "text/plain": [
       "73894    1xbet her zaman en iyisi ve en çok kazandıranı...\n",
       "73894    📽️Fields of #Kherson Oblast, destroyed Russian...\n",
       "73894    Every day more and more war crimes and terrori...\n",
       "73894    🔴 VIDÉO - \"Si la #Chine attaque, c'est la fin ...\n",
       "73894    #ExpectUs Putin aka Hitler\\n\\n🇷🇺 Russian NTV T...\n",
       "73894    \"San Fermín, tres años después\":\\n\\nhttps://t....\n",
       "73894    @HashmatRuhul @mosad42027539 @SinghRakeshKu14 ...\n",
       "Name: text, dtype: object"
      ]
     },
     "execution_count": 33,
     "metadata": {},
     "output_type": "execute_result"
    }
   ],
   "source": [
    "# get index of the tweet that has the max length\n",
    "max_len_index = aug_df[\"text\"].str.len().idxmax()\n",
    "# pull out the text of that index\n",
    "aug_df.loc[max_len_index, \"text\"]"
   ]
  },
  {
   "cell_type": "markdown",
   "id": "49cf055b",
   "metadata": {},
   "source": [
    "Upon research, mentions supposedly do not count toward the character limit when the tweet is a reply."
   ]
  },
  {
   "cell_type": "code",
   "execution_count": 34,
   "id": "2bdc2910",
   "metadata": {},
   "outputs": [
    {
     "data": {
      "image/png": "[encoded data removed]",
      "text/plain": [
       "<Figure size 432x288 with 1 Axes>"
      ]
     },
     "metadata": {
      "needs_background": "light"
     },
     "output_type": "display_data"
    },
    {
     "name": "stdout",
     "output_type": "stream",
     "text": [
      "Mean: 192.23341690424374 chars\n",
      "Median: 199.0 chars\n",
      "Standard deviation: 86.09440823148087 chars\n"
     ]
    }
   ],
   "source": [
    "# Check the distribution of tweet lengths\n",
    "tweet_len_series = aug_df[\"text\"].str.len()\n",
    "tweet_len_series.plot.hist();\n",
    "plt.title(\"Distribution of Tweet Length\")\n",
    "plt.xlabel(\"Tweet Length (Characters)\")\n",
    "plt.ylabel(\"Frequency\")\n",
    "# draw a vertical line for the mean\n",
    "plt.axvline(x=tweet_len_series.mean(), color=\"red\")\n",
    "# draw a vertical line for the median\n",
    "plt.axvline(x=tweet_len_series.median(), color=\"yellow\")\n",
    "plt.show()\n",
    "\n",
    "print(f\"Mean: {tweet_len_series.mean()} chars\")\n",
    "print(f\"Median: {tweet_len_series.median()} chars\")\n",
    "print(f\"Standard deviation: {tweet_len_series.std()} chars\")"
   ]
  },
  {
   "cell_type": "markdown",
   "id": "db361f71",
   "metadata": {},
   "source": [
    "The distribution is right-skewed. Most tweets appear to be below 300 characers in length. But because we have a few outlying tweets that have anomalously long lengths, as investigated above, the histogram has an elongated x-axis"
   ]
  },
  {
   "cell_type": "code",
   "execution_count": null,
   "id": "a8574c74",
   "metadata": {},
   "outputs": [],
   "source": []
  },
  {
   "cell_type": "markdown",
   "id": "e4decbdf",
   "metadata": {},
   "source": []
  }
 ],
 "metadata": {
  "kernelspec": {
   "display_name": "mlenv",
   "language": "python",
   "name": "mlenv"
  },
  "language_info": {
   "codemirror_mode": {
    "name": "ipython",
    "version": 3
   },
   "file_extension": ".py",
   "mimetype": "text/x-python",
   "name": "python",
   "nbconvert_exporter": "python",
   "pygments_lexer": "ipython3",
   "version": "3.7.13"
  }
 },
 "nbformat": 4,
 "nbformat_minor": 5
}
