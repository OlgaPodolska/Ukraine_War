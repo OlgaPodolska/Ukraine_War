{
  "nbformat": 4,
  "nbformat_minor": 0,
  "metadata": {
    "colab": {
      "name": "Copy of Twitter ETL.ipynb",
      "provenance": [],
      "collapsed_sections": []
    },
    "kernelspec": {
      "name": "python3",
      "display_name": "Python 3"
    },
    "language_info": {
      "name": "python"
    }
  },
  "cells": [
    {
      "cell_type": "code",
      "execution_count": 1,
      "metadata": {
        "colab": {
          "base_uri": "https://localhost:8080/"
        },
        "id": "fI18fPxxmjnQ",
        "outputId": "76044300-2b55-4d2e-8511-6f048dbf79bf"
      },
      "outputs": [
        {
          "output_type": "stream",
          "name": "stdout",
          "text": [
            "\r0% [Working]\r            \rHit:1 http://archive.ubuntu.com/ubuntu bionic InRelease\n",
            "Get:2 http://archive.ubuntu.com/ubuntu bionic-updates InRelease [88.7 kB]\n",
            "Get:3 https://cloud.r-project.org/bin/linux/ubuntu bionic-cran40/ InRelease [3,626 B]\n",
            "Get:4 http://ppa.launchpad.net/c2d4u.team/c2d4u4.0+/ubuntu bionic InRelease [15.9 kB]\n",
            "Get:5 http://security.ubuntu.com/ubuntu bionic-security InRelease [88.7 kB]\n",
            "Ign:6 https://developer.download.nvidia.com/compute/machine-learning/repos/ubuntu1804/x86_64  InRelease\n",
            "Get:7 http://archive.ubuntu.com/ubuntu bionic-backports InRelease [74.6 kB]\n",
            "Get:8 https://developer.download.nvidia.com/compute/cuda/repos/ubuntu1804/x86_64  InRelease [1,581 B]\n",
            "Hit:9 https://developer.download.nvidia.com/compute/machine-learning/repos/ubuntu1804/x86_64  Release\n",
            "Hit:10 http://ppa.launchpad.net/cran/libgit2/ubuntu bionic InRelease\n",
            "Hit:11 http://ppa.launchpad.net/deadsnakes/ppa/ubuntu bionic InRelease\n",
            "Hit:12 http://ppa.launchpad.net/graphics-drivers/ppa/ubuntu bionic InRelease\n",
            "Get:13 https://cloud.r-project.org/bin/linux/ubuntu bionic-cran40/ Packages [91.1 kB]\n",
            "Get:14 http://archive.ubuntu.com/ubuntu bionic-updates/universe amd64 Packages [2,311 kB]\n",
            "Get:15 http://archive.ubuntu.com/ubuntu bionic-updates/main amd64 Packages [3,369 kB]\n",
            "Get:16 https://developer.download.nvidia.com/compute/cuda/repos/ubuntu1804/x86_64  Packages [912 kB]\n",
            "Get:18 http://ppa.launchpad.net/c2d4u.team/c2d4u4.0+/ubuntu bionic/main Sources [2,093 kB]\n",
            "Get:19 http://security.ubuntu.com/ubuntu bionic-security/main amd64 Packages [2,938 kB]\n",
            "Get:20 http://security.ubuntu.com/ubuntu bionic-security/universe amd64 Packages [1,534 kB]\n",
            "Get:21 http://ppa.launchpad.net/c2d4u.team/c2d4u4.0+/ubuntu bionic/main amd64 Packages [1,073 kB]\n",
            "Fetched 14.6 MB in 9s (1,713 kB/s)\n",
            "Reading package lists... Done\n"
          ]
        }
      ],
      "source": [
        "import os\n",
        "# Find the latest version of spark 3.0 from http://www.apache.org/dist/spark/ and enter as the spark version\n",
        "# For example:\n",
        "# spark_version = 'spark-3.0.3'\n",
        "spark_version = 'spark-3.2.2'\n",
        "os.environ['SPARK_VERSION']=spark_version\n",
        "\n",
        "# Install Spark and Java\n",
        "!apt-get update\n",
        "!apt-get install openjdk-11-jdk-headless -qq > /dev/null\n",
        "!wget -q http://www.apache.org/dist/spark/$SPARK_VERSION/$SPARK_VERSION-bin-hadoop2.7.tgz\n",
        "!tar xf $SPARK_VERSION-bin-hadoop2.7.tgz\n",
        "!pip install -q findspark\n",
        "\n",
        "# Set Environment Variables\n",
        "import os\n",
        "os.environ[\"JAVA_HOME\"] = \"/usr/lib/jvm/java-11-openjdk-amd64\"\n",
        "os.environ[\"SPARK_HOME\"] = f\"/content/{spark_version}-bin-hadoop2.7\"\n",
        "\n",
        "# Start a SparkSession\n",
        "import findspark\n",
        "findspark.init()\n"
      ]
    },
    {
      "cell_type": "code",
      "source": [
        "# Download a Postgres driver that will allow Spark to interact with Postgres\n",
        "!wget https://jdbc.postgresql.org/download/postgresql-42.2.16.jar"
      ],
      "metadata": {
        "colab": {
          "base_uri": "https://localhost:8080/"
        },
        "id": "jkfNAMO0oyhV",
        "outputId": "13fb26cb-8f3c-4fd5-d435-e39833ca74d0"
      },
      "execution_count": 2,
      "outputs": [
        {
          "output_type": "stream",
          "name": "stdout",
          "text": [
            "--2022-08-27 18:22:48--  https://jdbc.postgresql.org/download/postgresql-42.2.16.jar\n",
            "Resolving jdbc.postgresql.org (jdbc.postgresql.org)... 72.32.157.228, 2001:4800:3e1:1::228\n",
            "Connecting to jdbc.postgresql.org (jdbc.postgresql.org)|72.32.157.228|:443... connected.\n",
            "HTTP request sent, awaiting response... 200 OK\n",
            "Length: 1002883 (979K) [application/java-archive]\n",
            "Saving to: ‘postgresql-42.2.16.jar’\n",
            "\n",
            "postgresql-42.2.16. 100%[===================>] 979.38K  6.22MB/s    in 0.2s    \n",
            "\n",
            "2022-08-27 18:22:48 (6.22 MB/s) - ‘postgresql-42.2.16.jar’ saved [1002883/1002883]\n",
            "\n"
          ]
        }
      ]
    },
    {
      "cell_type": "code",
      "source": [
        "# Add drivers to Spark\n",
        "from pyspark.sql import SparkSession\n",
        "spark = SparkSession.builder.appName(\"CloudETL\").config(\"spark.driver.extraClassPath\",\"/content/postgresql-42.2.16.jar\").getOrCreate()"
      ],
      "metadata": {
        "id": "nmUzedI5pE-9"
      },
      "execution_count": 3,
      "outputs": []
    },
    {
      "cell_type": "markdown",
      "source": [
        "**Tweets**"
      ],
      "metadata": {
        "id": "QgH0lIqd_5rh"
      }
    },
    {
      "cell_type": "code",
      "source": [
        "# Read in data from S3 Buckets\n",
        "from pyspark import SparkFiles\n",
        "url =\"https://uaresources.s3.amazonaws.com/aug_twitter_sentiments.csv\"\n",
        "\n",
        "spark.sparkContext.addFile(url)\n",
        "tweets_df = spark.read.csv(SparkFiles.get(\"aug_twitter_sentiments.csv\"), sep=\",\", header=True, inferSchema=True)\n",
        "\n",
        "\n",
        "# Show DataFrame\n",
        "tweets_df.show()"
      ],
      "metadata": {
        "colab": {
          "base_uri": "https://localhost:8080/"
        },
        "id": "EPz78NoiqQ44",
        "outputId": "0e1ed5f6-ed23-43f9-e3d9-2dd4af7ecb00"
      },
      "execution_count": 4,
      "outputs": [
        {
          "output_type": "stream",
          "name": "stdout",
          "text": [
            "+-------------------+--------------------+--------------------+-------------------+--------------------+\n",
            "|     tweetcreatedts|        cleaned_text|            negative|            neutral|            positive|\n",
            "+-------------------+--------------------+--------------------+-------------------+--------------------+\n",
            "|2022-08-01 00:00:00|the conflict is b...|  0.6027116775512695|0.38163381814956665|  0.0156544279307127|\n",
            "|2022-08-01 00:00:00|remember when sma...| 0.21225015819072723| 0.7508949041366577|0.036854907870292664|\n",
            "|2022-08-01 00:00:01|hi  you have to u...|  0.4901295006275177|   0.46605184674263|0.043818794190883636|\n",
            "|2022-08-01 00:00:01|the world is in d...|  0.8760228157043457|0.11690670996904373|0.007070485968142748|\n",
            "|2022-08-01 00:00:01|will the imposed ...| 0.04450933262705803| 0.9108507633209229| 0.04463988170027733|\n",
            "|2022-08-01 00:00:01|owner of ukraines...|  0.8333820104598999| 0.1629866510629654|  0.0036314248573035|\n",
            "|2022-08-01 00:00:01|animal shelter do...|0.013312107883393764| 0.5061615705490112|  0.4805263578891754|\n",
            "|2022-08-01 00:00:01|    eb5f211900p4acc7| 0.25498586893081665| 0.5923590660095215|  0.1526549756526947|\n",
            "|2022-08-01 00:00:02|why  relations li...|  0.4097645580768585|  0.567717432975769| 0.02251804992556572|\n",
            "|2022-08-01 00:00:02|crypto tattoos to...|0.005395875778049231|0.49085691571235657|   0.503747284412384|\n",
            "|2022-08-01 00:00:02|its happening on ...| 0.06149577349424362| 0.8488444089889526| 0.08965984731912613|\n",
            "|2022-08-01 00:00:03|will certainly lo...|  0.8814930319786072| 0.1130574569106102|0.005449410527944565|\n",
            "|2022-08-01 00:00:03|serbian vucic is ...|  0.9745429754257202| 0.0236344151198864|0.001822606893256...|\n",
            "|2022-08-01 00:00:04|animal shelter do...|0.013312107883393764| 0.5061615705490112|  0.4805263578891754|\n",
            "|2022-08-01 00:00:04|fm  adheres to th...| 0.06715180724859238| 0.7516893744468689| 0.18115876615047455|\n",
            "|2022-08-01 00:00:05|ran up a trillion...|  0.8632195591926575|0.12945032119750977|0.007330106105655432|\n",
            "|2022-08-01 00:00:05|latvian media lat...|   0.338054358959198| 0.6421377062797546| 0.01980798877775669|\n",
            "|2022-08-01 00:00:06|make your site gr...|0.003999318461865187| 0.0698360875248909|  0.9261645674705505|\n",
            "|2022-08-01 00:00:07| a new video of a...|0.042680997401475906| 0.9255276918411255|0.031791165471076965|\n",
            "|2022-08-01 00:00:08|russian rocket ki...|  0.9219619035720825|0.07327497750520706|   0.004763163626194|\n",
            "+-------------------+--------------------+--------------------+-------------------+--------------------+\n",
            "only showing top 20 rows\n",
            "\n"
          ]
        }
      ]
    },
    {
      "cell_type": "code",
      "source": [
        "# Import pandas\n",
        "import pandas as pd\n",
        "\n",
        "#Import datetime\n",
        "import datetime as dt"
      ],
      "metadata": {
        "id": "MT6d9rqDaXhB"
      },
      "execution_count": 5,
      "outputs": []
    },
    {
      "cell_type": "code",
      "source": [
        "# Change column name tweetcreatedts to Date\n",
        "tweets_df = tweets_df.withColumnRenamed(\"tweetcreatedts\", \"Date\")\n",
        "\n",
        "# Change date format \n",
        "# tweets_df = tweets_df.dt.strftime('%Y-%m-%d')\n",
        "\n",
        "# Show DataFrame\n",
        "tweets_df.show()"
      ],
      "metadata": {
        "id": "eTwgvI7TZL6R",
        "outputId": "1d303523-bcaa-4f15-86e7-9b2fe6294cba",
        "colab": {
          "base_uri": "https://localhost:8080/"
        }
      },
      "execution_count": 6,
      "outputs": [
        {
          "output_type": "stream",
          "name": "stdout",
          "text": [
            "+-------------------+--------------------+--------------------+-------------------+--------------------+\n",
            "|               Date|        cleaned_text|            negative|            neutral|            positive|\n",
            "+-------------------+--------------------+--------------------+-------------------+--------------------+\n",
            "|2022-08-01 00:00:00|the conflict is b...|  0.6027116775512695|0.38163381814956665|  0.0156544279307127|\n",
            "|2022-08-01 00:00:00|remember when sma...| 0.21225015819072723| 0.7508949041366577|0.036854907870292664|\n",
            "|2022-08-01 00:00:01|hi  you have to u...|  0.4901295006275177|   0.46605184674263|0.043818794190883636|\n",
            "|2022-08-01 00:00:01|the world is in d...|  0.8760228157043457|0.11690670996904373|0.007070485968142748|\n",
            "|2022-08-01 00:00:01|will the imposed ...| 0.04450933262705803| 0.9108507633209229| 0.04463988170027733|\n",
            "|2022-08-01 00:00:01|owner of ukraines...|  0.8333820104598999| 0.1629866510629654|  0.0036314248573035|\n",
            "|2022-08-01 00:00:01|animal shelter do...|0.013312107883393764| 0.5061615705490112|  0.4805263578891754|\n",
            "|2022-08-01 00:00:01|    eb5f211900p4acc7| 0.25498586893081665| 0.5923590660095215|  0.1526549756526947|\n",
            "|2022-08-01 00:00:02|why  relations li...|  0.4097645580768585|  0.567717432975769| 0.02251804992556572|\n",
            "|2022-08-01 00:00:02|crypto tattoos to...|0.005395875778049231|0.49085691571235657|   0.503747284412384|\n",
            "|2022-08-01 00:00:02|its happening on ...| 0.06149577349424362| 0.8488444089889526| 0.08965984731912613|\n",
            "|2022-08-01 00:00:03|will certainly lo...|  0.8814930319786072| 0.1130574569106102|0.005449410527944565|\n",
            "|2022-08-01 00:00:03|serbian vucic is ...|  0.9745429754257202| 0.0236344151198864|0.001822606893256...|\n",
            "|2022-08-01 00:00:04|animal shelter do...|0.013312107883393764| 0.5061615705490112|  0.4805263578891754|\n",
            "|2022-08-01 00:00:04|fm  adheres to th...| 0.06715180724859238| 0.7516893744468689| 0.18115876615047455|\n",
            "|2022-08-01 00:00:05|ran up a trillion...|  0.8632195591926575|0.12945032119750977|0.007330106105655432|\n",
            "|2022-08-01 00:00:05|latvian media lat...|   0.338054358959198| 0.6421377062797546| 0.01980798877775669|\n",
            "|2022-08-01 00:00:06|make your site gr...|0.003999318461865187| 0.0698360875248909|  0.9261645674705505|\n",
            "|2022-08-01 00:00:07| a new video of a...|0.042680997401475906| 0.9255276918411255|0.031791165471076965|\n",
            "|2022-08-01 00:00:08|russian rocket ki...|  0.9219619035720825|0.07327497750520706|   0.004763163626194|\n",
            "+-------------------+--------------------+--------------------+-------------------+--------------------+\n",
            "only showing top 20 rows\n",
            "\n"
          ]
        }
      ]
    },
    {
      "cell_type": "code",
      "source": [
        "# Save the tweets_df as a csv file.\n",
        "tweets_df.toPandas().to_csv('cleanedtweets.csv', encoding='utf-8',header=True)\n",
        "\n",
        "# tweets_df.toPandas().to_csv('cleanedtweets.csv')"
      ],
      "metadata": {
        "id": "GjurOtOKzuu4",
        "colab": {
          "base_uri": "https://localhost:8080/",
          "height": 371
        },
        "outputId": "962eff6d-a565-4290-e51f-f74ad048c533"
      },
      "execution_count": 7,
      "outputs": [
        {
          "output_type": "error",
          "ename": "KeyboardInterrupt",
          "evalue": "ignored",
          "traceback": [
            "\u001b[0;31m---------------------------------------------------------------------------\u001b[0m",
            "\u001b[0;31mKeyboardInterrupt\u001b[0m                         Traceback (most recent call last)",
            "\u001b[0;32m<ipython-input-7-05ebfd7f0cdb>\u001b[0m in \u001b[0;36m<module>\u001b[0;34m\u001b[0m\n\u001b[1;32m      1\u001b[0m \u001b[0;31m# Save the tweets_df as a csv file.\u001b[0m\u001b[0;34m\u001b[0m\u001b[0;34m\u001b[0m\u001b[0;34m\u001b[0m\u001b[0m\n\u001b[0;32m----> 2\u001b[0;31m \u001b[0mtweets_df\u001b[0m\u001b[0;34m.\u001b[0m\u001b[0mtoPandas\u001b[0m\u001b[0;34m(\u001b[0m\u001b[0;34m)\u001b[0m\u001b[0;34m.\u001b[0m\u001b[0mto_csv\u001b[0m\u001b[0;34m(\u001b[0m\u001b[0;34m'cleanedtweets.csv'\u001b[0m\u001b[0;34m,\u001b[0m \u001b[0mencoding\u001b[0m\u001b[0;34m=\u001b[0m\u001b[0;34m'utf-8'\u001b[0m\u001b[0;34m,\u001b[0m\u001b[0mheader\u001b[0m\u001b[0;34m=\u001b[0m\u001b[0;32mTrue\u001b[0m\u001b[0;34m)\u001b[0m\u001b[0;34m\u001b[0m\u001b[0;34m\u001b[0m\u001b[0m\n\u001b[0m\u001b[1;32m      3\u001b[0m \u001b[0;34m\u001b[0m\u001b[0m\n\u001b[1;32m      4\u001b[0m \u001b[0;31m# tweets_df.toPandas().to_csv('cleanedtweets.csv')\u001b[0m\u001b[0;34m\u001b[0m\u001b[0;34m\u001b[0m\u001b[0;34m\u001b[0m\u001b[0m\n",
            "\u001b[0;32m/usr/local/lib/python3.7/dist-packages/pandas/core/generic.py\u001b[0m in \u001b[0;36mto_csv\u001b[0;34m(self, path_or_buf, sep, na_rep, float_format, columns, header, index, index_label, mode, encoding, compression, quoting, quotechar, line_terminator, chunksize, date_format, doublequote, escapechar, decimal, errors, storage_options)\u001b[0m\n\u001b[1;32m   3480\u001b[0m             \u001b[0mdoublequote\u001b[0m\u001b[0;34m=\u001b[0m\u001b[0mdoublequote\u001b[0m\u001b[0;34m,\u001b[0m\u001b[0;34m\u001b[0m\u001b[0;34m\u001b[0m\u001b[0m\n\u001b[1;32m   3481\u001b[0m             \u001b[0mescapechar\u001b[0m\u001b[0;34m=\u001b[0m\u001b[0mescapechar\u001b[0m\u001b[0;34m,\u001b[0m\u001b[0;34m\u001b[0m\u001b[0;34m\u001b[0m\u001b[0m\n\u001b[0;32m-> 3482\u001b[0;31m             \u001b[0mstorage_options\u001b[0m\u001b[0;34m=\u001b[0m\u001b[0mstorage_options\u001b[0m\u001b[0;34m,\u001b[0m\u001b[0;34m\u001b[0m\u001b[0;34m\u001b[0m\u001b[0m\n\u001b[0m\u001b[1;32m   3483\u001b[0m         )\n\u001b[1;32m   3484\u001b[0m \u001b[0;34m\u001b[0m\u001b[0m\n",
            "\u001b[0;32m/usr/local/lib/python3.7/dist-packages/pandas/io/formats/format.py\u001b[0m in \u001b[0;36mto_csv\u001b[0;34m(self, path_or_buf, encoding, sep, columns, index_label, mode, compression, quoting, quotechar, line_terminator, chunksize, date_format, doublequote, escapechar, errors, storage_options)\u001b[0m\n\u001b[1;32m   1103\u001b[0m             \u001b[0mformatter\u001b[0m\u001b[0;34m=\u001b[0m\u001b[0mself\u001b[0m\u001b[0;34m.\u001b[0m\u001b[0mfmt\u001b[0m\u001b[0;34m,\u001b[0m\u001b[0;34m\u001b[0m\u001b[0;34m\u001b[0m\u001b[0m\n\u001b[1;32m   1104\u001b[0m         )\n\u001b[0;32m-> 1105\u001b[0;31m         \u001b[0mcsv_formatter\u001b[0m\u001b[0;34m.\u001b[0m\u001b[0msave\u001b[0m\u001b[0;34m(\u001b[0m\u001b[0;34m)\u001b[0m\u001b[0;34m\u001b[0m\u001b[0;34m\u001b[0m\u001b[0m\n\u001b[0m\u001b[1;32m   1106\u001b[0m \u001b[0;34m\u001b[0m\u001b[0m\n\u001b[1;32m   1107\u001b[0m         \u001b[0;32mif\u001b[0m \u001b[0mcreated_buffer\u001b[0m\u001b[0;34m:\u001b[0m\u001b[0;34m\u001b[0m\u001b[0;34m\u001b[0m\u001b[0m\n",
            "\u001b[0;32m/usr/local/lib/python3.7/dist-packages/pandas/io/formats/csvs.py\u001b[0m in \u001b[0;36msave\u001b[0;34m(self)\u001b[0m\n\u001b[1;32m    255\u001b[0m             )\n\u001b[1;32m    256\u001b[0m \u001b[0;34m\u001b[0m\u001b[0m\n\u001b[0;32m--> 257\u001b[0;31m             \u001b[0mself\u001b[0m\u001b[0;34m.\u001b[0m\u001b[0m_save\u001b[0m\u001b[0;34m(\u001b[0m\u001b[0;34m)\u001b[0m\u001b[0;34m\u001b[0m\u001b[0;34m\u001b[0m\u001b[0m\n\u001b[0m\u001b[1;32m    258\u001b[0m \u001b[0;34m\u001b[0m\u001b[0m\n\u001b[1;32m    259\u001b[0m     \u001b[0;32mdef\u001b[0m \u001b[0m_save\u001b[0m\u001b[0;34m(\u001b[0m\u001b[0mself\u001b[0m\u001b[0;34m)\u001b[0m \u001b[0;34m->\u001b[0m \u001b[0;32mNone\u001b[0m\u001b[0;34m:\u001b[0m\u001b[0;34m\u001b[0m\u001b[0;34m\u001b[0m\u001b[0m\n",
            "\u001b[0;32m/usr/local/lib/python3.7/dist-packages/pandas/io/formats/csvs.py\u001b[0m in \u001b[0;36m_save\u001b[0;34m(self)\u001b[0m\n\u001b[1;32m    260\u001b[0m         \u001b[0;32mif\u001b[0m \u001b[0mself\u001b[0m\u001b[0;34m.\u001b[0m\u001b[0m_need_to_save_header\u001b[0m\u001b[0;34m:\u001b[0m\u001b[0;34m\u001b[0m\u001b[0;34m\u001b[0m\u001b[0m\n\u001b[1;32m    261\u001b[0m             \u001b[0mself\u001b[0m\u001b[0;34m.\u001b[0m\u001b[0m_save_header\u001b[0m\u001b[0;34m(\u001b[0m\u001b[0;34m)\u001b[0m\u001b[0;34m\u001b[0m\u001b[0;34m\u001b[0m\u001b[0m\n\u001b[0;32m--> 262\u001b[0;31m         \u001b[0mself\u001b[0m\u001b[0;34m.\u001b[0m\u001b[0m_save_body\u001b[0m\u001b[0;34m(\u001b[0m\u001b[0;34m)\u001b[0m\u001b[0;34m\u001b[0m\u001b[0;34m\u001b[0m\u001b[0m\n\u001b[0m\u001b[1;32m    263\u001b[0m \u001b[0;34m\u001b[0m\u001b[0m\n\u001b[1;32m    264\u001b[0m     \u001b[0;32mdef\u001b[0m \u001b[0m_save_header\u001b[0m\u001b[0;34m(\u001b[0m\u001b[0mself\u001b[0m\u001b[0;34m)\u001b[0m \u001b[0;34m->\u001b[0m \u001b[0;32mNone\u001b[0m\u001b[0;34m:\u001b[0m\u001b[0;34m\u001b[0m\u001b[0;34m\u001b[0m\u001b[0m\n",
            "\u001b[0;32m/usr/local/lib/python3.7/dist-packages/pandas/io/formats/csvs.py\u001b[0m in \u001b[0;36m_save_body\u001b[0;34m(self)\u001b[0m\n\u001b[1;32m    298\u001b[0m             \u001b[0;32mif\u001b[0m \u001b[0mstart_i\u001b[0m \u001b[0;34m>=\u001b[0m \u001b[0mend_i\u001b[0m\u001b[0;34m:\u001b[0m\u001b[0;34m\u001b[0m\u001b[0;34m\u001b[0m\u001b[0m\n\u001b[1;32m    299\u001b[0m                 \u001b[0;32mbreak\u001b[0m\u001b[0;34m\u001b[0m\u001b[0;34m\u001b[0m\u001b[0m\n\u001b[0;32m--> 300\u001b[0;31m             \u001b[0mself\u001b[0m\u001b[0;34m.\u001b[0m\u001b[0m_save_chunk\u001b[0m\u001b[0;34m(\u001b[0m\u001b[0mstart_i\u001b[0m\u001b[0;34m,\u001b[0m \u001b[0mend_i\u001b[0m\u001b[0;34m)\u001b[0m\u001b[0;34m\u001b[0m\u001b[0;34m\u001b[0m\u001b[0m\n\u001b[0m\u001b[1;32m    301\u001b[0m \u001b[0;34m\u001b[0m\u001b[0m\n\u001b[1;32m    302\u001b[0m     \u001b[0;32mdef\u001b[0m \u001b[0m_save_chunk\u001b[0m\u001b[0;34m(\u001b[0m\u001b[0mself\u001b[0m\u001b[0;34m,\u001b[0m \u001b[0mstart_i\u001b[0m\u001b[0;34m:\u001b[0m \u001b[0mint\u001b[0m\u001b[0;34m,\u001b[0m \u001b[0mend_i\u001b[0m\u001b[0;34m:\u001b[0m \u001b[0mint\u001b[0m\u001b[0;34m)\u001b[0m \u001b[0;34m->\u001b[0m \u001b[0;32mNone\u001b[0m\u001b[0;34m:\u001b[0m\u001b[0;34m\u001b[0m\u001b[0;34m\u001b[0m\u001b[0m\n",
            "\u001b[0;32m/usr/local/lib/python3.7/dist-packages/pandas/io/formats/csvs.py\u001b[0m in \u001b[0;36m_save_chunk\u001b[0;34m(self, start_i, end_i)\u001b[0m\n\u001b[1;32m    305\u001b[0m         \u001b[0mdf\u001b[0m \u001b[0;34m=\u001b[0m \u001b[0mself\u001b[0m\u001b[0;34m.\u001b[0m\u001b[0mobj\u001b[0m\u001b[0;34m.\u001b[0m\u001b[0miloc\u001b[0m\u001b[0;34m[\u001b[0m\u001b[0mslicer\u001b[0m\u001b[0;34m]\u001b[0m\u001b[0;34m\u001b[0m\u001b[0;34m\u001b[0m\u001b[0m\n\u001b[1;32m    306\u001b[0m \u001b[0;34m\u001b[0m\u001b[0m\n\u001b[0;32m--> 307\u001b[0;31m         \u001b[0mres\u001b[0m \u001b[0;34m=\u001b[0m \u001b[0mdf\u001b[0m\u001b[0;34m.\u001b[0m\u001b[0m_mgr\u001b[0m\u001b[0;34m.\u001b[0m\u001b[0mto_native_types\u001b[0m\u001b[0;34m(\u001b[0m\u001b[0;34m**\u001b[0m\u001b[0mself\u001b[0m\u001b[0;34m.\u001b[0m\u001b[0m_number_format\u001b[0m\u001b[0;34m)\u001b[0m\u001b[0;34m\u001b[0m\u001b[0;34m\u001b[0m\u001b[0m\n\u001b[0m\u001b[1;32m    308\u001b[0m         \u001b[0mdata\u001b[0m \u001b[0;34m=\u001b[0m \u001b[0;34m[\u001b[0m\u001b[0mres\u001b[0m\u001b[0;34m.\u001b[0m\u001b[0miget_values\u001b[0m\u001b[0;34m(\u001b[0m\u001b[0mi\u001b[0m\u001b[0;34m)\u001b[0m \u001b[0;32mfor\u001b[0m \u001b[0mi\u001b[0m \u001b[0;32min\u001b[0m \u001b[0mrange\u001b[0m\u001b[0;34m(\u001b[0m\u001b[0mlen\u001b[0m\u001b[0;34m(\u001b[0m\u001b[0mres\u001b[0m\u001b[0;34m.\u001b[0m\u001b[0mitems\u001b[0m\u001b[0;34m)\u001b[0m\u001b[0;34m)\u001b[0m\u001b[0;34m]\u001b[0m\u001b[0;34m\u001b[0m\u001b[0;34m\u001b[0m\u001b[0m\n\u001b[1;32m    309\u001b[0m \u001b[0;34m\u001b[0m\u001b[0m\n",
            "\u001b[0;32m/usr/local/lib/python3.7/dist-packages/pandas/core/internals/managers.py\u001b[0m in \u001b[0;36mto_native_types\u001b[0;34m(self, **kwargs)\u001b[0m\n\u001b[1;32m    464\u001b[0m         \u001b[0;32min\u001b[0m \u001b[0mformatting\u001b[0m \u001b[0;34m(\u001b[0m\u001b[0mrepr\u001b[0m \u001b[0;34m/\u001b[0m \u001b[0mcsv\u001b[0m\u001b[0;34m)\u001b[0m\u001b[0;34m.\u001b[0m\u001b[0;34m\u001b[0m\u001b[0;34m\u001b[0m\u001b[0m\n\u001b[1;32m    465\u001b[0m         \"\"\"\n\u001b[0;32m--> 466\u001b[0;31m         \u001b[0;32mreturn\u001b[0m \u001b[0mself\u001b[0m\u001b[0;34m.\u001b[0m\u001b[0mapply\u001b[0m\u001b[0;34m(\u001b[0m\u001b[0;34m\"to_native_types\"\u001b[0m\u001b[0;34m,\u001b[0m \u001b[0;34m**\u001b[0m\u001b[0mkwargs\u001b[0m\u001b[0;34m)\u001b[0m\u001b[0;34m\u001b[0m\u001b[0;34m\u001b[0m\u001b[0m\n\u001b[0m\u001b[1;32m    467\u001b[0m \u001b[0;34m\u001b[0m\u001b[0m\n\u001b[1;32m    468\u001b[0m     \u001b[0;32mdef\u001b[0m \u001b[0mis_consolidated\u001b[0m\u001b[0;34m(\u001b[0m\u001b[0mself\u001b[0m\u001b[0;34m)\u001b[0m \u001b[0;34m->\u001b[0m \u001b[0mbool\u001b[0m\u001b[0;34m:\u001b[0m\u001b[0;34m\u001b[0m\u001b[0;34m\u001b[0m\u001b[0m\n",
            "\u001b[0;32m/usr/local/lib/python3.7/dist-packages/pandas/core/internals/managers.py\u001b[0m in \u001b[0;36mapply\u001b[0;34m(self, f, align_keys, ignore_failures, **kwargs)\u001b[0m\n\u001b[1;32m    325\u001b[0m                     \u001b[0mapplied\u001b[0m \u001b[0;34m=\u001b[0m \u001b[0mb\u001b[0m\u001b[0;34m.\u001b[0m\u001b[0mapply\u001b[0m\u001b[0;34m(\u001b[0m\u001b[0mf\u001b[0m\u001b[0;34m,\u001b[0m \u001b[0;34m**\u001b[0m\u001b[0mkwargs\u001b[0m\u001b[0;34m)\u001b[0m\u001b[0;34m\u001b[0m\u001b[0;34m\u001b[0m\u001b[0m\n\u001b[1;32m    326\u001b[0m                 \u001b[0;32melse\u001b[0m\u001b[0;34m:\u001b[0m\u001b[0;34m\u001b[0m\u001b[0;34m\u001b[0m\u001b[0m\n\u001b[0;32m--> 327\u001b[0;31m                     \u001b[0mapplied\u001b[0m \u001b[0;34m=\u001b[0m \u001b[0mgetattr\u001b[0m\u001b[0;34m(\u001b[0m\u001b[0mb\u001b[0m\u001b[0;34m,\u001b[0m \u001b[0mf\u001b[0m\u001b[0;34m)\u001b[0m\u001b[0;34m(\u001b[0m\u001b[0;34m**\u001b[0m\u001b[0mkwargs\u001b[0m\u001b[0;34m)\u001b[0m\u001b[0;34m\u001b[0m\u001b[0;34m\u001b[0m\u001b[0m\n\u001b[0m\u001b[1;32m    328\u001b[0m             \u001b[0;32mexcept\u001b[0m \u001b[0;34m(\u001b[0m\u001b[0mTypeError\u001b[0m\u001b[0;34m,\u001b[0m \u001b[0mNotImplementedError\u001b[0m\u001b[0;34m)\u001b[0m\u001b[0;34m:\u001b[0m\u001b[0;34m\u001b[0m\u001b[0;34m\u001b[0m\u001b[0m\n\u001b[1;32m    329\u001b[0m                 \u001b[0;32mif\u001b[0m \u001b[0;32mnot\u001b[0m \u001b[0mignore_failures\u001b[0m\u001b[0;34m:\u001b[0m\u001b[0;34m\u001b[0m\u001b[0;34m\u001b[0m\u001b[0m\n",
            "\u001b[0;32m/usr/local/lib/python3.7/dist-packages/pandas/core/internals/blocks.py\u001b[0m in \u001b[0;36mto_native_types\u001b[0;34m(self, na_rep, quoting, **kwargs)\u001b[0m\n\u001b[1;32m    639\u001b[0m     \u001b[0;32mdef\u001b[0m \u001b[0mto_native_types\u001b[0m\u001b[0;34m(\u001b[0m\u001b[0mself\u001b[0m\u001b[0;34m,\u001b[0m \u001b[0mna_rep\u001b[0m\u001b[0;34m=\u001b[0m\u001b[0;34m\"nan\"\u001b[0m\u001b[0;34m,\u001b[0m \u001b[0mquoting\u001b[0m\u001b[0;34m=\u001b[0m\u001b[0;32mNone\u001b[0m\u001b[0;34m,\u001b[0m \u001b[0;34m**\u001b[0m\u001b[0mkwargs\u001b[0m\u001b[0;34m)\u001b[0m\u001b[0;34m:\u001b[0m\u001b[0;34m\u001b[0m\u001b[0;34m\u001b[0m\u001b[0m\n\u001b[1;32m    640\u001b[0m         \u001b[0;34m\"\"\"convert to our native types format\"\"\"\u001b[0m\u001b[0;34m\u001b[0m\u001b[0;34m\u001b[0m\u001b[0m\n\u001b[0;32m--> 641\u001b[0;31m         \u001b[0mresult\u001b[0m \u001b[0;34m=\u001b[0m \u001b[0mto_native_types\u001b[0m\u001b[0;34m(\u001b[0m\u001b[0mself\u001b[0m\u001b[0;34m.\u001b[0m\u001b[0mvalues\u001b[0m\u001b[0;34m,\u001b[0m \u001b[0mna_rep\u001b[0m\u001b[0;34m=\u001b[0m\u001b[0mna_rep\u001b[0m\u001b[0;34m,\u001b[0m \u001b[0mquoting\u001b[0m\u001b[0;34m=\u001b[0m\u001b[0mquoting\u001b[0m\u001b[0;34m,\u001b[0m \u001b[0;34m**\u001b[0m\u001b[0mkwargs\u001b[0m\u001b[0;34m)\u001b[0m\u001b[0;34m\u001b[0m\u001b[0;34m\u001b[0m\u001b[0m\n\u001b[0m\u001b[1;32m    642\u001b[0m         \u001b[0;32mreturn\u001b[0m \u001b[0mself\u001b[0m\u001b[0;34m.\u001b[0m\u001b[0mmake_block\u001b[0m\u001b[0;34m(\u001b[0m\u001b[0mresult\u001b[0m\u001b[0;34m)\u001b[0m\u001b[0;34m\u001b[0m\u001b[0;34m\u001b[0m\u001b[0m\n\u001b[1;32m    643\u001b[0m \u001b[0;34m\u001b[0m\u001b[0m\n",
            "\u001b[0;32m/usr/local/lib/python3.7/dist-packages/pandas/core/internals/blocks.py\u001b[0m in \u001b[0;36mto_native_types\u001b[0;34m(values, na_rep, quoting, float_format, decimal, **kwargs)\u001b[0m\n\u001b[1;32m   2072\u001b[0m \u001b[0;34m\u001b[0m\u001b[0m\n\u001b[1;32m   2073\u001b[0m             \u001b[0;32mif\u001b[0m \u001b[0;32mnot\u001b[0m \u001b[0mquoting\u001b[0m\u001b[0;34m:\u001b[0m\u001b[0;34m\u001b[0m\u001b[0;34m\u001b[0m\u001b[0m\n\u001b[0;32m-> 2074\u001b[0;31m                 \u001b[0mvalues\u001b[0m \u001b[0;34m=\u001b[0m \u001b[0mvalues\u001b[0m\u001b[0;34m.\u001b[0m\u001b[0mastype\u001b[0m\u001b[0;34m(\u001b[0m\u001b[0mstr\u001b[0m\u001b[0;34m)\u001b[0m\u001b[0;34m\u001b[0m\u001b[0;34m\u001b[0m\u001b[0m\n\u001b[0m\u001b[1;32m   2075\u001b[0m             \u001b[0;32melse\u001b[0m\u001b[0;34m:\u001b[0m\u001b[0;34m\u001b[0m\u001b[0;34m\u001b[0m\u001b[0m\n\u001b[1;32m   2076\u001b[0m                 \u001b[0mvalues\u001b[0m \u001b[0;34m=\u001b[0m \u001b[0mnp\u001b[0m\u001b[0;34m.\u001b[0m\u001b[0marray\u001b[0m\u001b[0;34m(\u001b[0m\u001b[0mvalues\u001b[0m\u001b[0;34m,\u001b[0m \u001b[0mdtype\u001b[0m\u001b[0;34m=\u001b[0m\u001b[0;34m\"object\"\u001b[0m\u001b[0;34m)\u001b[0m\u001b[0;34m\u001b[0m\u001b[0;34m\u001b[0m\u001b[0m\n",
            "\u001b[0;31mKeyboardInterrupt\u001b[0m: "
          ]
        }
      ]
    },
    {
      "cell_type": "code",
      "source": [
        "# Veronica this is the command to download the csv from colab -Jesse\n",
        "from google.colab import files\n",
        "files.download('cleanedtweets.csv')"
      ],
      "metadata": {
        "id": "cOyIWoYXE6E4",
        "colab": {
          "base_uri": "https://localhost:8080/",
          "height": 17
        },
        "outputId": "0d81a943-9240-412e-c615-161d75b8d5ac"
      },
      "execution_count": null,
      "outputs": [
        {
          "output_type": "display_data",
          "data": {
            "text/plain": [
              "<IPython.core.display.Javascript object>"
            ],
            "application/javascript": [
              "\n",
              "    async function download(id, filename, size) {\n",
              "      if (!google.colab.kernel.accessAllowed) {\n",
              "        return;\n",
              "      }\n",
              "      const div = document.createElement('div');\n",
              "      const label = document.createElement('label');\n",
              "      label.textContent = `Downloading \"${filename}\": `;\n",
              "      div.appendChild(label);\n",
              "      const progress = document.createElement('progress');\n",
              "      progress.max = size;\n",
              "      div.appendChild(progress);\n",
              "      document.body.appendChild(div);\n",
              "\n",
              "      const buffers = [];\n",
              "      let downloaded = 0;\n",
              "\n",
              "      const channel = await google.colab.kernel.comms.open(id);\n",
              "      // Send a message to notify the kernel that we're ready.\n",
              "      channel.send({})\n",
              "\n",
              "      for await (const message of channel.messages) {\n",
              "        // Send a message to notify the kernel that we're ready.\n",
              "        channel.send({})\n",
              "        if (message.buffers) {\n",
              "          for (const buffer of message.buffers) {\n",
              "            buffers.push(buffer);\n",
              "            downloaded += buffer.byteLength;\n",
              "            progress.value = downloaded;\n",
              "          }\n",
              "        }\n",
              "      }\n",
              "      const blob = new Blob(buffers, {type: 'application/binary'});\n",
              "      const a = document.createElement('a');\n",
              "      a.href = window.URL.createObjectURL(blob);\n",
              "      a.download = filename;\n",
              "      div.appendChild(a);\n",
              "      a.click();\n",
              "      div.remove();\n",
              "    }\n",
              "  "
            ]
          },
          "metadata": {}
        },
        {
          "output_type": "display_data",
          "data": {
            "text/plain": [
              "<IPython.core.display.Javascript object>"
            ],
            "application/javascript": [
              "download(\"download_97883f5a-6a2c-4aa5-9bde-eb7a23d39dac\", \"cleanedtweets.csv\", 176644470)"
            ]
          },
          "metadata": {}
        }
      ]
    },
    {
      "cell_type": "markdown",
      "source": [
        "**Events**"
      ],
      "metadata": {
        "id": "G-jmN5YJ_vfc"
      }
    },
    {
      "cell_type": "code",
      "source": [
        "# Read in data from S3 Buckets\n",
        "url =\"https://uaresources.s3.amazonaws.com/EventsUA.csv\"\n",
        "spark.sparkContext.addFile(url)\n",
        "event_df = spark.read.csv(SparkFiles.get(\"EventsUA.csv\"), sep=\",\", header=True, inferSchema=True)\n",
        "\n",
        "# Change column name tweetcreatedts to Date\n",
        "event_df = event_df.withColumnRenamed(\"Date\", \"Date\")\n",
        "\n",
        "# Show DataFrame\n",
        "event_df.show()"
      ],
      "metadata": {
        "colab": {
          "base_uri": "https://localhost:8080/"
        },
        "id": "LQfv32i41RUZ",
        "outputId": "9349e5cd-ac1f-42f5-8e1b-98818eef25d8"
      },
      "execution_count": 10,
      "outputs": [
        {
          "output_type": "stream",
          "name": "stdout",
          "text": [
            "+----+-------+--------------------+------+\n",
            "| _c0|   Date|               Event|Weight|\n",
            "+----+-------+--------------------+------+\n",
            "|null|2/24/22|Start Russian Inv...|   1.0|\n",
            "|null|2/25/22|Battles for Kyiv,...|  0.75|\n",
            "|null| 3/1/22|Bombing of Babiy ...|  0.75|\n",
            "|null| 3/3/22|Russian attack fo...|  0.75|\n",
            "|null| 3/6/22|Bombing of the th...|  0.75|\n",
            "|null| 3/9/22|Bombing of the ma...|  0.75|\n",
            "|null|3/13/22|Documentary maker...|   0.3|\n",
            "|null|3/24/22|Surviving prisone...|   0.3|\n",
            "|null| 4/3/22|Evidence of massa...|  0.75|\n",
            "|null| 4/8/22|The shelling of t...|  0.75|\n",
            "|null| 4/9/22|British Prime Min...|   0.3|\n",
            "|null|4/14/22|Sinking of the Ru...|   0.5|\n",
            "|null|4/28/22|The U.S. House of...|   0.5|\n",
            "|null|5/16/22|Exit of the wound...|   0.3|\n",
            "|null|6/27/22|Rocket attack on ...|   0.5|\n",
            "|null|7/28/22|Torture and murde...|   0.3|\n",
            "|null| 8/1/22|In Kharkov, shell...|  null|\n",
            "|null| 8/2/22|Russian Armed For...|  null|\n",
            "|null|8/12/22|�Battles in easte...|   0.1|\n",
            "|null|8/11/22|Ukraine and Russi...|   0.1|\n",
            "+----+-------+--------------------+------+\n",
            "only showing top 20 rows\n",
            "\n"
          ]
        }
      ]
    },
    {
      "cell_type": "code",
      "source": [
        "# Join the two DataFrame\n",
        "joined_df=tweets_df.join(event_df, on='Date', how='left')\n",
        "joined_df.show()"
      ],
      "metadata": {
        "colab": {
          "base_uri": "https://localhost:8080/"
        },
        "id": "PsLmoNXB1eFE",
        "outputId": "06347c0c-320f-4820-9867-eabb5fd1fa85"
      },
      "execution_count": 9,
      "outputs": [
        {
          "output_type": "stream",
          "name": "stdout",
          "text": [
            "+-------------------+--------------------+--------------------+-------------------+--------------------+----+-----+------+\n",
            "|               Date|        cleaned_text|            negative|            neutral|            positive| _c0|Event|Weight|\n",
            "+-------------------+--------------------+--------------------+-------------------+--------------------+----+-----+------+\n",
            "|2022-08-01 00:00:00|the conflict is b...|  0.6027116775512695|0.38163381814956665|  0.0156544279307127|null| null|  null|\n",
            "|2022-08-01 00:00:00|remember when sma...| 0.21225015819072723| 0.7508949041366577|0.036854907870292664|null| null|  null|\n",
            "|2022-08-01 00:00:01|hi  you have to u...|  0.4901295006275177|   0.46605184674263|0.043818794190883636|null| null|  null|\n",
            "|2022-08-01 00:00:01|the world is in d...|  0.8760228157043457|0.11690670996904373|0.007070485968142748|null| null|  null|\n",
            "|2022-08-01 00:00:01|will the imposed ...| 0.04450933262705803| 0.9108507633209229| 0.04463988170027733|null| null|  null|\n",
            "|2022-08-01 00:00:01|owner of ukraines...|  0.8333820104598999| 0.1629866510629654|  0.0036314248573035|null| null|  null|\n",
            "|2022-08-01 00:00:01|animal shelter do...|0.013312107883393764| 0.5061615705490112|  0.4805263578891754|null| null|  null|\n",
            "|2022-08-01 00:00:01|    eb5f211900p4acc7| 0.25498586893081665| 0.5923590660095215|  0.1526549756526947|null| null|  null|\n",
            "|2022-08-01 00:00:02|why  relations li...|  0.4097645580768585|  0.567717432975769| 0.02251804992556572|null| null|  null|\n",
            "|2022-08-01 00:00:02|crypto tattoos to...|0.005395875778049231|0.49085691571235657|   0.503747284412384|null| null|  null|\n",
            "|2022-08-01 00:00:02|its happening on ...| 0.06149577349424362| 0.8488444089889526| 0.08965984731912613|null| null|  null|\n",
            "|2022-08-01 00:00:03|will certainly lo...|  0.8814930319786072| 0.1130574569106102|0.005449410527944565|null| null|  null|\n",
            "|2022-08-01 00:00:03|serbian vucic is ...|  0.9745429754257202| 0.0236344151198864|0.001822606893256...|null| null|  null|\n",
            "|2022-08-01 00:00:04|animal shelter do...|0.013312107883393764| 0.5061615705490112|  0.4805263578891754|null| null|  null|\n",
            "|2022-08-01 00:00:04|fm  adheres to th...| 0.06715180724859238| 0.7516893744468689| 0.18115876615047455|null| null|  null|\n",
            "|2022-08-01 00:00:05|ran up a trillion...|  0.8632195591926575|0.12945032119750977|0.007330106105655432|null| null|  null|\n",
            "|2022-08-01 00:00:05|latvian media lat...|   0.338054358959198| 0.6421377062797546| 0.01980798877775669|null| null|  null|\n",
            "|2022-08-01 00:00:06|make your site gr...|0.003999318461865187| 0.0698360875248909|  0.9261645674705505|null| null|  null|\n",
            "|2022-08-01 00:00:07| a new video of a...|0.042680997401475906| 0.9255276918411255|0.031791165471076965|null| null|  null|\n",
            "|2022-08-01 00:00:08|russian rocket ki...|  0.9219619035720825|0.07327497750520706|   0.004763163626194|null| null|  null|\n",
            "+-------------------+--------------------+--------------------+-------------------+--------------------+----+-----+------+\n",
            "only showing top 20 rows\n",
            "\n"
          ]
        }
      ]
    },
    {
      "cell_type": "code",
      "source": [
        "# Drop null values\n",
        "dropna_df=joined_df.dropna()\n",
        "dropna_df.show()"
      ],
      "metadata": {
        "colab": {
          "base_uri": "https://localhost:8080/"
        },
        "id": "7-U8760X1_Up",
        "outputId": "61f9db38-1067-4a30-b880-cabde74dfda3"
      },
      "execution_count": null,
      "outputs": [
        {
          "output_type": "stream",
          "name": "stdout",
          "text": [
            "+----+------------+--------+-------+--------+---+-----+------+\n",
            "|Date|cleaned_text|negative|neutral|positive|_c0|Event|Weight|\n",
            "+----+------------+--------+-------+--------+---+-----+------+\n",
            "+----+------------+--------+-------+--------+---+-----+------+\n",
            "\n"
          ]
        }
      ]
    },
    {
      "cell_type": "code",
      "source": [
        "# Looking at joined_df again since dropna_df came up with nothing \n",
        "joined_df.show()"
      ],
      "metadata": {
        "colab": {
          "base_uri": "https://localhost:8080/"
        },
        "id": "FJRqxifzdhog",
        "outputId": "3d9f2875-f6f1-4757-f008-eb3fe2202e8a"
      },
      "execution_count": null,
      "outputs": [
        {
          "output_type": "stream",
          "name": "stdout",
          "text": [
            "+-------------------+--------------------+--------------------+-------------------+--------------------+----+-----+------+\n",
            "|               Date|        cleaned_text|            negative|            neutral|            positive| _c0|Event|Weight|\n",
            "+-------------------+--------------------+--------------------+-------------------+--------------------+----+-----+------+\n",
            "|2022-08-01 00:00:00|the conflict is b...|  0.6027116775512695|0.38163381814956665|  0.0156544279307127|null| null|  null|\n",
            "|2022-08-01 00:00:00|remember when sma...| 0.21225015819072723| 0.7508949041366577|0.036854907870292664|null| null|  null|\n",
            "|2022-08-01 00:00:01|hi  you have to u...|  0.4901295006275177|   0.46605184674263|0.043818794190883636|null| null|  null|\n",
            "|2022-08-01 00:00:01|the world is in d...|  0.8760228157043457|0.11690670996904373|0.007070485968142748|null| null|  null|\n",
            "|2022-08-01 00:00:01|will the imposed ...| 0.04450933262705803| 0.9108507633209229| 0.04463988170027733|null| null|  null|\n",
            "|2022-08-01 00:00:01|owner of ukraines...|  0.8333820104598999| 0.1629866510629654|  0.0036314248573035|null| null|  null|\n",
            "|2022-08-01 00:00:01|animal shelter do...|0.013312107883393764| 0.5061615705490112|  0.4805263578891754|null| null|  null|\n",
            "|2022-08-01 00:00:01|    eb5f211900p4acc7| 0.25498586893081665| 0.5923590660095215|  0.1526549756526947|null| null|  null|\n",
            "|2022-08-01 00:00:02|why  relations li...|  0.4097645580768585|  0.567717432975769| 0.02251804992556572|null| null|  null|\n",
            "|2022-08-01 00:00:02|crypto tattoos to...|0.005395875778049231|0.49085691571235657|   0.503747284412384|null| null|  null|\n",
            "|2022-08-01 00:00:02|its happening on ...| 0.06149577349424362| 0.8488444089889526| 0.08965984731912613|null| null|  null|\n",
            "|2022-08-01 00:00:03|will certainly lo...|  0.8814930319786072| 0.1130574569106102|0.005449410527944565|null| null|  null|\n",
            "|2022-08-01 00:00:03|serbian vucic is ...|  0.9745429754257202| 0.0236344151198864|0.001822606893256...|null| null|  null|\n",
            "|2022-08-01 00:00:04|animal shelter do...|0.013312107883393764| 0.5061615705490112|  0.4805263578891754|null| null|  null|\n",
            "|2022-08-01 00:00:04|fm  adheres to th...| 0.06715180724859238| 0.7516893744468689| 0.18115876615047455|null| null|  null|\n",
            "|2022-08-01 00:00:05|ran up a trillion...|  0.8632195591926575|0.12945032119750977|0.007330106105655432|null| null|  null|\n",
            "|2022-08-01 00:00:05|latvian media lat...|   0.338054358959198| 0.6421377062797546| 0.01980798877775669|null| null|  null|\n",
            "|2022-08-01 00:00:06|make your site gr...|0.003999318461865187| 0.0698360875248909|  0.9261645674705505|null| null|  null|\n",
            "|2022-08-01 00:00:07| a new video of a...|0.042680997401475906| 0.9255276918411255|0.031791165471076965|null| null|  null|\n",
            "|2022-08-01 00:00:08|russian rocket ki...|  0.9219619035720825|0.07327497750520706|   0.004763163626194|null| null|  null|\n",
            "+-------------------+--------------------+--------------------+-------------------+--------------------+----+-----+------+\n",
            "only showing top 20 rows\n",
            "\n"
          ]
        }
      ]
    },
    {
      "cell_type": "markdown",
      "source": [
        "**Get our transformed raw data into our database - Don't need this as we already have a pgAdmin 4 Database**"
      ],
      "metadata": {
        "id": "ATojnogKLDl4"
      }
    },
    {
      "cell_type": "code",
      "source": [
        "# Store environmental variable\n",
        "from getpass import getpass\n",
        "password = getpass('password')\n",
        "# Configure settings for RDS\n",
        "mode = \"append\"\n",
        "jdbc_url=\"jdbc:postgresql://tweets.cnzbbvrrhst7.us-west-1.rds.amazonaws.com:5432/postgres\"\n",
        "config = {\"user\":\"uatweets\",\n",
        "          \"password\": password,\n",
        "          \"driver\":\"org.postgresql.Driver\"}"
      ],
      "metadata": {
        "colab": {
          "base_uri": "https://localhost:8080/"
        },
        "id": "f3KZN-bpK51U",
        "outputId": "c584475f-998c-4125-8607-c59d5b638064"
      },
      "execution_count": 21,
      "outputs": [
        {
          "name": "stdout",
          "output_type": "stream",
          "text": [
            "password··········\n"
          ]
        }
      ]
    },
    {
      "cell_type": "code",
      "source": [
        "# Write DataFrame to tweets_df table in RDS\n",
        "tweets_df.write.jdbc(url=jdbc_url, table='test', mode=mode, properties=config)"
      ],
      "metadata": {
        "id": "7RciZsk5RSkb"
      },
      "execution_count": 22,
      "outputs": []
    },
    {
      "cell_type": "code",
      "source": [],
      "metadata": {
        "id": "gUDWPqBJRlv8"
      },
      "execution_count": null,
      "outputs": []
    },
    {
      "cell_type": "code",
      "source": [],
      "metadata": {
        "id": "PIjjUdq4Ryov"
      },
      "execution_count": null,
      "outputs": []
    },
    {
      "cell_type": "code",
      "source": [],
      "metadata": {
        "id": "4hQ3VVsBR4uE"
      },
      "execution_count": null,
      "outputs": []
    }
  ]
}