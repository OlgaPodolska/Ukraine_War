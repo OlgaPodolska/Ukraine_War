{
 "cells": [
  {
   "cell_type": "markdown",
   "id": "9b540561",
   "metadata": {},
   "source": [
    "ukraine war articles since february 2022 - About 199,000,000 results\n",
    "https://www.google.com/search?q=ukraine+war+articles+since+february+2022&ei=YKYOY-HCNrG30PEP1sKf6Aw&oq=ukraine+war+articles+since+feb&gs_lcp=Cgdnd3Mtd2l6EAEYADIFCCEQoAEyBQghEKABMgUIIRCgATIFCCEQqwI6BwgAEEcQsAM6CAghEB4QFhAdOgcIIRCgARAKSgQIQRgASgQIRhgAULoDWM8VYNgeaARwAXgAgAG_AYgBqQuSAQM0LjiYAQCgAQHIAQjAAQE&sclient=gws-wiz"
   ]
  },
  {
   "cell_type": "code",
   "execution_count": 1,
   "id": "8d3b4031",
   "metadata": {},
   "outputs": [
    {
     "name": "stdout",
     "output_type": "stream",
     "text": [
      "           Date  Search Results    Weights\n",
      "0    2022-02-24           356000  0.001789\n",
      "1    2022-02-25           206000  0.001035\n",
      "2    2022-02-26           106000  0.000533\n",
      "3    2022-02-27           111000  0.000558\n",
      "4    2022-02-28           142000  0.000714\n",
      "..          ...              ...       ...\n",
      "165  2022-08-08           362000  0.001819\n",
      "166  2022-08-09           514000  0.002583\n",
      "167  2022-08-10           580000  0.002915\n",
      "168  2022-08-11           598000  0.003005\n",
      "169  2022-08-12          1170000  0.005879\n",
      "\n",
      "[170 rows x 3 columns]\n"
     ]
    }
   ],
   "source": [
    "# Make dataframe from CSV file\n",
    "\n",
    "import pandas as pd\n",
    "\n",
    "# read csv file\n",
    "events = pd.read_csv(\"/Users/veronicalobkina/Desktop/Events Data - Sheet2.csv\")\n",
    "\n",
    "# display DataFrame\n",
    "print(events)"
   ]
  },
  {
   "cell_type": "code",
   "execution_count": 3,
   "id": "5a25aae7",
   "metadata": {},
   "outputs": [
    {
     "data": {
      "text/html": [
       "<div>\n",
       "<style scoped>\n",
       "    .dataframe tbody tr th:only-of-type {\n",
       "        vertical-align: middle;\n",
       "    }\n",
       "\n",
       "    .dataframe tbody tr th {\n",
       "        vertical-align: top;\n",
       "    }\n",
       "\n",
       "    .dataframe thead th {\n",
       "        text-align: right;\n",
       "    }\n",
       "</style>\n",
       "<table border=\"1\" class=\"dataframe\">\n",
       "  <thead>\n",
       "    <tr style=\"text-align: right;\">\n",
       "      <th></th>\n",
       "      <th>Date</th>\n",
       "      <th>Search Results</th>\n",
       "      <th>Weights</th>\n",
       "    </tr>\n",
       "  </thead>\n",
       "  <tbody>\n",
       "    <tr>\n",
       "      <th>0</th>\n",
       "      <td>2022-02-24</td>\n",
       "      <td>356000</td>\n",
       "      <td>0.001789</td>\n",
       "    </tr>\n",
       "    <tr>\n",
       "      <th>1</th>\n",
       "      <td>2022-02-25</td>\n",
       "      <td>206000</td>\n",
       "      <td>0.001035</td>\n",
       "    </tr>\n",
       "    <tr>\n",
       "      <th>2</th>\n",
       "      <td>2022-02-26</td>\n",
       "      <td>106000</td>\n",
       "      <td>0.000533</td>\n",
       "    </tr>\n",
       "    <tr>\n",
       "      <th>3</th>\n",
       "      <td>2022-02-27</td>\n",
       "      <td>111000</td>\n",
       "      <td>0.000558</td>\n",
       "    </tr>\n",
       "    <tr>\n",
       "      <th>4</th>\n",
       "      <td>2022-02-28</td>\n",
       "      <td>142000</td>\n",
       "      <td>0.000714</td>\n",
       "    </tr>\n",
       "    <tr>\n",
       "      <th>...</th>\n",
       "      <td>...</td>\n",
       "      <td>...</td>\n",
       "      <td>...</td>\n",
       "    </tr>\n",
       "    <tr>\n",
       "      <th>165</th>\n",
       "      <td>2022-08-08</td>\n",
       "      <td>362000</td>\n",
       "      <td>0.001819</td>\n",
       "    </tr>\n",
       "    <tr>\n",
       "      <th>166</th>\n",
       "      <td>2022-08-09</td>\n",
       "      <td>514000</td>\n",
       "      <td>0.002583</td>\n",
       "    </tr>\n",
       "    <tr>\n",
       "      <th>167</th>\n",
       "      <td>2022-08-10</td>\n",
       "      <td>580000</td>\n",
       "      <td>0.002915</td>\n",
       "    </tr>\n",
       "    <tr>\n",
       "      <th>168</th>\n",
       "      <td>2022-08-11</td>\n",
       "      <td>598000</td>\n",
       "      <td>0.003005</td>\n",
       "    </tr>\n",
       "    <tr>\n",
       "      <th>169</th>\n",
       "      <td>2022-08-12</td>\n",
       "      <td>1170000</td>\n",
       "      <td>0.005879</td>\n",
       "    </tr>\n",
       "  </tbody>\n",
       "</table>\n",
       "<p>170 rows × 3 columns</p>\n",
       "</div>"
      ],
      "text/plain": [
       "           Date  Search Results    Weights\n",
       "0    2022-02-24           356000  0.001789\n",
       "1    2022-02-25           206000  0.001035\n",
       "2    2022-02-26           106000  0.000533\n",
       "3    2022-02-27           111000  0.000558\n",
       "4    2022-02-28           142000  0.000714\n",
       "..          ...              ...       ...\n",
       "165  2022-08-08           362000  0.001819\n",
       "166  2022-08-09           514000  0.002583\n",
       "167  2022-08-10           580000  0.002915\n",
       "168  2022-08-11           598000  0.003005\n",
       "169  2022-08-12          1170000  0.005879\n",
       "\n",
       "[170 rows x 3 columns]"
      ]
     },
     "execution_count": 3,
     "metadata": {},
     "output_type": "execute_result"
    }
   ],
   "source": [
    "events_df = pd.DataFrame(events)\n",
    "events_df"
   ]
  },
  {
   "cell_type": "code",
   "execution_count": null,
   "id": "6d14d05b",
   "metadata": {},
   "outputs": [],
   "source": []
  }
 ],
 "metadata": {
  "kernelspec": {
   "display_name": "Python 3 (ipykernel)",
   "language": "python",
   "name": "python3"
  },
  "language_info": {
   "codemirror_mode": {
    "name": "ipython",
    "version": 3
   },
   "file_extension": ".py",
   "mimetype": "text/x-python",
   "name": "python",
   "nbconvert_exporter": "python",
   "pygments_lexer": "ipython3",
   "version": "3.9.7"
  }
 },
 "nbformat": 4,
 "nbformat_minor": 5
}
