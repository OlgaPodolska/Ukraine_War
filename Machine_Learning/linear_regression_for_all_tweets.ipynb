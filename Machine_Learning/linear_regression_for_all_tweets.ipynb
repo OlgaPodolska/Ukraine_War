{
  "nbformat": 4,
  "nbformat_minor": 0,
  "metadata": {
    "colab": {
      "provenance": [],
      "collapsed_sections": [],
      "authorship_tag": "ABX9TyMF1Sqfajdh7uGhNU6b3o0T",
      "include_colab_link": true
    },
    "kernelspec": {
      "name": "python3",
      "display_name": "Python 3"
    },
    "language_info": {
      "name": "python"
    }
  },
  "cells": [
    {
      "cell_type": "markdown",
      "metadata": {
        "id": "view-in-github",
        "colab_type": "text"
      },
      "source": [
        "<a href=\"https://colab.research.google.com/github/aiscience-22/UA_War/blob/olgap%2Fmachine_learning_0.06/linear_regression_for_all_tweets.ipynb\" target=\"_parent\"><img src=\"https://colab.research.google.com/assets/colab-badge.svg\" alt=\"Open In Colab\"/></a>"
      ]
    },
    {
      "cell_type": "code",
      "execution_count": 1,
      "metadata": {
        "id": "OPhWA1gGzjfb"
      },
      "outputs": [],
      "source": [
        "import os\n",
        "import pandas as pd\n",
        "import matplotlib.pyplot as plt\n",
        "from sklearn.linear_model import LinearRegression"
      ]
    },
    {
      "cell_type": "code",
      "source": [
        "spark_version = 'spark-3.2.2'\n",
        "os.environ['SPARK_VERSION']=spark_version\n",
        "\n",
        "# Install Spark and Java\n",
        "!apt-get update\n",
        "!apt-get install openjdk-11-jdk-headless -qq > /dev/null\n",
        "!wget -q http://www.apache.org/dist/spark/$SPARK_VERSION/$SPARK_VERSION-bin-hadoop2.7.tgz\n",
        "!tar xf $SPARK_VERSION-bin-hadoop2.7.tgz\n",
        "!pip install -q findspark\n",
        "\n",
        "# Set Environment Variables\n",
        "os.environ[\"JAVA_HOME\"] = \"/usr/lib/jvm/java-11-openjdk-amd64\"\n",
        "os.environ[\"SPARK_HOME\"] = f\"/content/{spark_version}-bin-hadoop2.7\"\n",
        "\n",
        "# Start a SparkSession\n",
        "import findspark\n",
        "findspark.init()"
      ],
      "metadata": {
        "id": "45624S98zsbl",
        "colab": {
          "base_uri": "https://localhost:8080/"
        },
        "outputId": "3303ec23-eaca-44f3-a274-173fda95c3c8"
      },
      "execution_count": 3,
      "outputs": [
        {
          "output_type": "stream",
          "name": "stdout",
          "text": [
            "\r0% [Working]\r            \rGet:1 https://cloud.r-project.org/bin/linux/ubuntu bionic-cran40/ InRelease [3,626 B]\n",
            "\r0% [Waiting for headers] [Connecting to security.ubuntu.com (185.125.190.39)] [\r0% [Waiting for headers] [Connecting to security.ubuntu.com (185.125.190.39)] [\r0% [1 InRelease gpgv 3,626 B] [Waiting for headers] [Connecting to security.ubu\r                                                                               \rIgn:2 https://developer.download.nvidia.com/compute/machine-learning/repos/ubuntu1804/x86_64  InRelease\n",
            "\r0% [1 InRelease gpgv 3,626 B] [Waiting for headers] [Connecting to security.ubu\r                                                                               \rHit:3 http://archive.ubuntu.com/ubuntu bionic InRelease\n",
            "\r0% [1 InRelease gpgv 3,626 B] [Waiting for headers] [Connecting to security.ubu\r                                                                               \rHit:4 https://developer.download.nvidia.com/compute/cuda/repos/ubuntu1804/x86_64  InRelease\n",
            "\r0% [1 InRelease gpgv 3,626 B] [Waiting for headers] [Connecting to security.ubu\r                                                                               \rHit:5 https://developer.download.nvidia.com/compute/machine-learning/repos/ubuntu1804/x86_64  Release\n",
            "Get:6 http://archive.ubuntu.com/ubuntu bionic-updates InRelease [88.7 kB]\n",
            "Get:7 http://security.ubuntu.com/ubuntu bionic-security InRelease [88.7 kB]\n",
            "Get:8 https://cloud.r-project.org/bin/linux/ubuntu bionic-cran40/ Packages [91.7 kB]\n",
            "Get:9 http://ppa.launchpad.net/c2d4u.team/c2d4u4.0+/ubuntu bionic InRelease [15.9 kB]\n",
            "Get:10 http://archive.ubuntu.com/ubuntu bionic-backports InRelease [74.6 kB]\n",
            "Hit:11 http://ppa.launchpad.net/cran/libgit2/ubuntu bionic InRelease\n",
            "Get:13 http://ppa.launchpad.net/deadsnakes/ppa/ubuntu bionic InRelease [15.9 kB]\n",
            "Get:14 http://archive.ubuntu.com/ubuntu bionic-updates/restricted amd64 Packages [1,172 kB]\n",
            "Hit:15 http://ppa.launchpad.net/graphics-drivers/ppa/ubuntu bionic InRelease\n",
            "Get:16 http://archive.ubuntu.com/ubuntu bionic-updates/main amd64 Packages [3,396 kB]\n",
            "Get:17 http://ppa.launchpad.net/c2d4u.team/c2d4u4.0+/ubuntu bionic/main Sources [2,099 kB]\n",
            "Get:18 http://security.ubuntu.com/ubuntu bionic-security/restricted amd64 Packages [1,131 kB]\n",
            "Get:19 http://security.ubuntu.com/ubuntu bionic-security/universe amd64 Packages [1,540 kB]\n",
            "Get:20 http://security.ubuntu.com/ubuntu bionic-security/main amd64 Packages [2,965 kB]\n",
            "Get:21 http://ppa.launchpad.net/c2d4u.team/c2d4u4.0+/ubuntu bionic/main amd64 Packages [1,076 kB]\n",
            "Get:22 http://ppa.launchpad.net/deadsnakes/ppa/ubuntu bionic/main amd64 Packages [46.1 kB]\n",
            "Fetched 13.8 MB in 5s (3,037 kB/s)\n",
            "Reading package lists... Done\n"
          ]
        }
      ]
    },
    {
      "cell_type": "code",
      "source": [
        "# Add drivers to Spark\n",
        "from pyspark.sql import SparkSession\n",
        "spark = SparkSession.builder.appName(\"CloudETL\").config(\"spark.driver.extraClassPath\",\"/content/postgresql-42.2.16.jar\").getOrCreate()"
      ],
      "metadata": {
        "id": "DFmYobUrrVAY"
      },
      "execution_count": 5,
      "outputs": []
    },
    {
      "cell_type": "markdown",
      "source": [
        "# Read the CSV and Perform Basic Data Cleaning"
      ],
      "metadata": {
        "id": "zCkXrETHz3fM"
      }
    },
    {
      "cell_type": "code",
      "source": [
        "# Read in data from S3 Buckets\n",
        "from pyspark import SparkFiles\n",
        "url =\"https://uaresources.s3.us-west-1.amazonaws.com/sentiment_joined_events_twitter_post_ml.csv\"\n",
        "\n",
        "spark.sparkContext.addFile(url)\n",
        "joined_data_df = spark.read.csv(SparkFiles.get(\"sentiment_joined_events_twitter_post_ml.csv\"), sep=\",\", header=True, inferSchema=True)\n",
        "\n",
        "\n",
        "# Show DataFrame\n",
        "joined_data_df.show()"
      ],
      "metadata": {
        "colab": {
          "base_uri": "https://localhost:8080/"
        },
        "id": "E4i71sMR0D-v",
        "outputId": "9e4fabe9-3cf1-486f-fd0f-3709b45c8abd"
      },
      "execution_count": 44,
      "outputs": [
        {
          "output_type": "stream",
          "name": "stdout",
          "text": [
            "+---+---------------+---------+---------+-----------+-------------+--------------+------------+--------------------+--------+--------------+----------+---------------+-----------+----------+--------------+-------------+-------+--------------------+--------------------+--------------------+--------------------+\n",
            "|_c0|       username|following|followers|totaltweets|usercreatedts|tweetcreatedts|retweetcount|            hashtags|language|favorite_count|is_retweet|is_quote_status|extractedts|weekofyear|date_published|search_result| weight|        cleaned_text|            negative|             neutral|            positive|\n",
            "+---+---------------+---------+---------+-----------+-------------+--------------+------------+--------------------+--------+--------------+----------+---------------+-----------+----------+--------------+-------------+-------+--------------------+--------------------+--------------------+--------------------+\n",
            "|  0|      WashTimes|   1893.0| 417389.0|   335685.0|   2008-05-05|    2022-02-26|         0.0|[{'text': 'Ukrain...|      en|           0.0|      null|           null| 2022-02-26|       8.0|    2022-02-26|     106000.0|5.33E-4|democrats urge bi...|  0.2224726676940918|  0.7470845580101013|0.030442820861935616|\n",
            "|  1|      jacarroll|     64.0|    254.0|      110.0|   2008-01-07|    2022-02-26|         0.0|[{'text': 'StandW...|      en|           0.0|      null|           null| 2022-02-26|       8.0|    2022-02-26|     106000.0|5.33E-4|now is the time t...| 0.07832402735948563|  0.7999049425125122| 0.12177100032567978|\n",
            "|  2|          axelk|   5766.0|   5329.0|   119448.0|   2007-06-14|    2022-02-26|         4.0|                  []|      en|           0.0|      null|           null| 2022-02-26|       8.0|    2022-02-26|     106000.0|5.33E-4|just grasping at ...| 0.14749988913536072|  0.8244428634643555|0.028057189658284187|\n",
            "|  3|         ds2719|    294.0|    172.0|    15270.0|   2007-07-21|    2022-02-26|       894.0|                  []|      en|           0.0|      null|           null| 2022-02-26|       8.0|    2022-02-26|     106000.0|5.33E-4|this is huge russ...|  0.8839549422264099| 0.10992876440286636|0.006116343662142754|\n",
            "|  4|scholar_at_arms|    975.0|     75.0|     1988.0|   2008-09-26|    2022-02-26|         0.0|[{'text': 'KyivDe...|      en|           0.0|      null|           null| 2022-02-26|       8.0|    2022-02-26|     106000.0|5.33E-4|    please take care| 0.06343661993741989|  0.6434507369995117|  0.2931126654148102|\n",
            "|  5|         ronlin|   5055.0|  13180.0|    18953.0|   2008-04-22|    2022-02-26|        98.0|[{'text': 'Kyiv',...|      en|           0.0|      null|           null| 2022-02-26|       8.0|    2022-02-26|     106000.0|5.33E-4|     building hit in|  0.1364041119813919|  0.6727378368377686| 0.19085803627967834|\n",
            "|  6|        catmuir|    772.0|    161.0|     4843.0|   2006-12-06|    2022-02-26|      2407.0|                  []|      en|           0.0|      null|           null| 2022-02-26|       8.0|    2022-02-26|     106000.0|5.33E-4|faith in humanity...|0.002919120248407...|0.033193085342645645|  0.9638878703117371|\n",
            "|  7|        kimvais|    706.0|    262.0|     5145.0|   2008-04-25|    2022-02-26|        78.0|                  []|      en|           0.0|      null|           null| 2022-02-26|       8.0|    2022-02-26|     106000.0|5.33E-4|since finnish pol...| 0.11655925959348679|  0.8311118483543396| 0.05232888087630272|\n",
            "|  8|michpendergrass|    150.0|   1526.0|    30428.0|   2008-04-08|    2022-02-26|      4196.0|[{'text': 'Kyiv',...|      en|           0.0|      null|           null| 2022-02-26|       8.0|    2022-02-26|     106000.0|5.33E-4|in 60 mins will b...|  0.8187430500984192| 0.17362196743488312|0.007634981535375118|\n",
            "|  9|         ccc530|   1046.0|    172.0|    12741.0|   2008-07-20|    2022-02-26|         4.0|[{'text': 'Ukrain...|      en|           0.0|      null|           null| 2022-02-26|       8.0|    2022-02-26|     106000.0|5.33E-4|i cant wait for t...|0.007732528261840...| 0.02516697533428669|  0.9671004414558411|\n",
            "| 10|     dSebastien|    120.0|   1666.0|     9383.0|   2007-09-08|    2022-02-26|      9639.0|                  []|      en|           0.0|      null|           null| 2022-02-26|       8.0|    2022-02-26|     106000.0|5.33E-4|so ive been asked...|  0.3604144752025604|  0.6137970089912415|0.025788525119423866|\n",
            "| 11|       SaraSees|    174.0|    159.0|     1473.0|   2008-07-30|    2022-02-26|       567.0|[{'text': 'Ukrain...|      en|           0.0|      null|           null| 2022-02-26|       8.0|    2022-02-26|     106000.0|5.33E-4|      rip braveheart| 0.01728304848074913|  0.4310351014137268|  0.5516818761825562|\n",
            "| 12|      jacarroll|     64.0|    254.0|      111.0|   2008-01-07|    2022-02-26|         0.0|[{'text': 'Freedo...|      en|           0.0|      null|           null| 2022-02-26|       8.0|    2022-02-26|     106000.0|5.33E-4|wonder how all th...|  0.7072803974151611|  0.2759404182434082|0.016779163852334023|\n",
            "| 13| mistergrainger|    732.0|    355.0|     1925.0|   2008-04-28|    2022-02-26|       131.0|                  []|      en|           0.0|      null|           null| 2022-02-26|       8.0|    2022-02-26|     106000.0|5.33E-4|pr agency friends...| 0.17842553555965424|  0.6558187007904053| 0.16575568914413452|\n",
            "| 14|         Maartn|    762.0|  19633.0|    12984.0|   2008-12-14|    2022-02-26|      8194.0|[{'text': 'Russia...|      en|           0.0|      null|           null| 2022-02-26|       8.0|    2022-02-26|     106000.0|5.33E-4|just in state tv ...|  0.5507236123085022| 0.43690672516822815|0.012369711883366108|\n",
            "| 15|        0xKruzr|   1487.0|   3021.0|   234295.0|   2007-04-23|    2022-02-26|       336.0|[{'text': 'PutinH...|      en|           0.0|      null|           null| 2022-02-26|       8.0|    2022-02-26|     106000.0|5.33E-4|residential area ...| 0.21445541083812714|  0.7651109099388123|0.020433666184544563|\n",
            "| 16|    firejack007|   1085.0|    520.0|    56005.0|   2008-09-24|    2022-02-26|         6.0|[{'text': 'BREAKI...|      en|           0.0|      null|           null| 2022-02-26|       8.0|    2022-02-26|     106000.0|5.33E-4| mariupol is bein...|  0.6662042140960693|  0.3265540599822998|0.007241743616759777|\n",
            "| 17|       gcruchon|   1224.0|    778.0|     5130.0|   2008-08-23|    2022-02-26|         0.0|[{'text': 'Anonym...|      en|           0.0|      null|           null| 2022-02-26|       8.0|    2022-02-26|     106000.0|5.33E-4|so proud of  the ...|0.006055434700101614| 0.11299528181552887|  0.8809493184089661|\n",
            "| 18|      crazyintx|    801.0|    158.0|    12580.0|   2008-11-10|    2022-02-26|        63.0|[{'text': 'kyiv',...|      en|           0.0|      null|           null| 2022-02-26|       8.0|    2022-02-26|     106000.0|5.33E-4|air raid sirens  ...|  0.2825124263763428|  0.6869344711303711|0.030553089454770088|\n",
            "| 19|      proudmari|   1834.0|    517.0|    20397.0|   2008-03-20|    2022-02-26|      8996.0|[{'text': 'Ukrain...|      en|           0.0|      null|           null| 2022-02-26|       8.0|    2022-02-26|     106000.0|5.33E-4|russian state tv ...|  0.6606462597846985|  0.3296593129634857| 0.00969446450471878|\n",
            "+---+---------------+---------+---------+-----------+-------------+--------------+------------+--------------------+--------+--------------+----------+---------------+-----------+----------+--------------+-------------+-------+--------------------+--------------------+--------------------+--------------------+\n",
            "only showing top 20 rows\n",
            "\n"
          ]
        }
      ]
    },
    {
      "cell_type": "code",
      "source": [
        "# convert spark dataframe to pandas\n",
        "joined_data_df = joined_data_df.toPandas()\n",
        "joined_data_df.head(5)\n",
        "\n",
        "\n"
      ],
      "metadata": {
        "id": "hFi1Cllx1Sc_",
        "colab": {
          "base_uri": "https://localhost:8080/",
          "height": 535
        },
        "outputId": "a1329f95-97d2-4f88-a166-e96686a50880"
      },
      "execution_count": 45,
      "outputs": [
        {
          "output_type": "execute_result",
          "data": {
            "text/plain": [
              "   _c0         username  following  followers  totaltweets usercreatedts  \\\n",
              "0    0        WashTimes     1893.0   417389.0     335685.0    2008-05-05   \n",
              "1    1        jacarroll       64.0      254.0        110.0    2008-01-07   \n",
              "2    2            axelk     5766.0     5329.0     119448.0    2007-06-14   \n",
              "3    3           ds2719      294.0      172.0      15270.0    2007-07-21   \n",
              "4    4  scholar_at_arms      975.0       75.0       1988.0    2008-09-26   \n",
              "\n",
              "  tweetcreatedts  retweetcount  \\\n",
              "0     2022-02-26           0.0   \n",
              "1     2022-02-26           0.0   \n",
              "2     2022-02-26           4.0   \n",
              "3     2022-02-26         894.0   \n",
              "4     2022-02-26           0.0   \n",
              "\n",
              "                                            hashtags language  ...  \\\n",
              "0  [{'text': 'UkraineCrisis', 'indices': [102, 11...       en  ...   \n",
              "1  [{'text': 'StandWithUkriane', 'indices': [58, ...       en  ...   \n",
              "2                                                 []       en  ...   \n",
              "3                                                 []       en  ...   \n",
              "4  [{'text': 'KyivDefiant', 'indices': [18, 30]},...       en  ...   \n",
              "\n",
              "   is_quote_status extractedts weekofyear date_published  search_result  \\\n",
              "0             None  2022-02-26        8.0     2022-02-26       106000.0   \n",
              "1             None  2022-02-26        8.0     2022-02-26       106000.0   \n",
              "2             None  2022-02-26        8.0     2022-02-26       106000.0   \n",
              "3             None  2022-02-26        8.0     2022-02-26       106000.0   \n",
              "4             None  2022-02-26        8.0     2022-02-26       106000.0   \n",
              "\n",
              "     weight                                       cleaned_text  negative  \\\n",
              "0  0.000533  democrats urge biden to counter pain at pump w...  0.222473   \n",
              "1  0.000533           now is the time to annex cuba just sayin  0.078324   \n",
              "2  0.000533  just grasping at straws here but does anyone h...  0.147500   \n",
              "3  0.000533  this is huge russia will be expelled from the ...  0.883955   \n",
              "4  0.000533                                   please take care  0.063437   \n",
              "\n",
              "    neutral  positive  \n",
              "0  0.747085  0.030443  \n",
              "1  0.799905  0.121771  \n",
              "2  0.824443  0.028057  \n",
              "3  0.109929  0.006116  \n",
              "4  0.643451  0.293113  \n",
              "\n",
              "[5 rows x 22 columns]"
            ],
            "text/html": [
              "\n",
              "  <div id=\"df-16282a6f-9ca3-4388-b03a-25bfd7daf7ae\">\n",
              "    <div class=\"colab-df-container\">\n",
              "      <div>\n",
              "<style scoped>\n",
              "    .dataframe tbody tr th:only-of-type {\n",
              "        vertical-align: middle;\n",
              "    }\n",
              "\n",
              "    .dataframe tbody tr th {\n",
              "        vertical-align: top;\n",
              "    }\n",
              "\n",
              "    .dataframe thead th {\n",
              "        text-align: right;\n",
              "    }\n",
              "</style>\n",
              "<table border=\"1\" class=\"dataframe\">\n",
              "  <thead>\n",
              "    <tr style=\"text-align: right;\">\n",
              "      <th></th>\n",
              "      <th>_c0</th>\n",
              "      <th>username</th>\n",
              "      <th>following</th>\n",
              "      <th>followers</th>\n",
              "      <th>totaltweets</th>\n",
              "      <th>usercreatedts</th>\n",
              "      <th>tweetcreatedts</th>\n",
              "      <th>retweetcount</th>\n",
              "      <th>hashtags</th>\n",
              "      <th>language</th>\n",
              "      <th>...</th>\n",
              "      <th>is_quote_status</th>\n",
              "      <th>extractedts</th>\n",
              "      <th>weekofyear</th>\n",
              "      <th>date_published</th>\n",
              "      <th>search_result</th>\n",
              "      <th>weight</th>\n",
              "      <th>cleaned_text</th>\n",
              "      <th>negative</th>\n",
              "      <th>neutral</th>\n",
              "      <th>positive</th>\n",
              "    </tr>\n",
              "  </thead>\n",
              "  <tbody>\n",
              "    <tr>\n",
              "      <th>0</th>\n",
              "      <td>0</td>\n",
              "      <td>WashTimes</td>\n",
              "      <td>1893.0</td>\n",
              "      <td>417389.0</td>\n",
              "      <td>335685.0</td>\n",
              "      <td>2008-05-05</td>\n",
              "      <td>2022-02-26</td>\n",
              "      <td>0.0</td>\n",
              "      <td>[{'text': 'UkraineCrisis', 'indices': [102, 11...</td>\n",
              "      <td>en</td>\n",
              "      <td>...</td>\n",
              "      <td>None</td>\n",
              "      <td>2022-02-26</td>\n",
              "      <td>8.0</td>\n",
              "      <td>2022-02-26</td>\n",
              "      <td>106000.0</td>\n",
              "      <td>0.000533</td>\n",
              "      <td>democrats urge biden to counter pain at pump w...</td>\n",
              "      <td>0.222473</td>\n",
              "      <td>0.747085</td>\n",
              "      <td>0.030443</td>\n",
              "    </tr>\n",
              "    <tr>\n",
              "      <th>1</th>\n",
              "      <td>1</td>\n",
              "      <td>jacarroll</td>\n",
              "      <td>64.0</td>\n",
              "      <td>254.0</td>\n",
              "      <td>110.0</td>\n",
              "      <td>2008-01-07</td>\n",
              "      <td>2022-02-26</td>\n",
              "      <td>0.0</td>\n",
              "      <td>[{'text': 'StandWithUkriane', 'indices': [58, ...</td>\n",
              "      <td>en</td>\n",
              "      <td>...</td>\n",
              "      <td>None</td>\n",
              "      <td>2022-02-26</td>\n",
              "      <td>8.0</td>\n",
              "      <td>2022-02-26</td>\n",
              "      <td>106000.0</td>\n",
              "      <td>0.000533</td>\n",
              "      <td>now is the time to annex cuba just sayin</td>\n",
              "      <td>0.078324</td>\n",
              "      <td>0.799905</td>\n",
              "      <td>0.121771</td>\n",
              "    </tr>\n",
              "    <tr>\n",
              "      <th>2</th>\n",
              "      <td>2</td>\n",
              "      <td>axelk</td>\n",
              "      <td>5766.0</td>\n",
              "      <td>5329.0</td>\n",
              "      <td>119448.0</td>\n",
              "      <td>2007-06-14</td>\n",
              "      <td>2022-02-26</td>\n",
              "      <td>4.0</td>\n",
              "      <td>[]</td>\n",
              "      <td>en</td>\n",
              "      <td>...</td>\n",
              "      <td>None</td>\n",
              "      <td>2022-02-26</td>\n",
              "      <td>8.0</td>\n",
              "      <td>2022-02-26</td>\n",
              "      <td>106000.0</td>\n",
              "      <td>0.000533</td>\n",
              "      <td>just grasping at straws here but does anyone h...</td>\n",
              "      <td>0.147500</td>\n",
              "      <td>0.824443</td>\n",
              "      <td>0.028057</td>\n",
              "    </tr>\n",
              "    <tr>\n",
              "      <th>3</th>\n",
              "      <td>3</td>\n",
              "      <td>ds2719</td>\n",
              "      <td>294.0</td>\n",
              "      <td>172.0</td>\n",
              "      <td>15270.0</td>\n",
              "      <td>2007-07-21</td>\n",
              "      <td>2022-02-26</td>\n",
              "      <td>894.0</td>\n",
              "      <td>[]</td>\n",
              "      <td>en</td>\n",
              "      <td>...</td>\n",
              "      <td>None</td>\n",
              "      <td>2022-02-26</td>\n",
              "      <td>8.0</td>\n",
              "      <td>2022-02-26</td>\n",
              "      <td>106000.0</td>\n",
              "      <td>0.000533</td>\n",
              "      <td>this is huge russia will be expelled from the ...</td>\n",
              "      <td>0.883955</td>\n",
              "      <td>0.109929</td>\n",
              "      <td>0.006116</td>\n",
              "    </tr>\n",
              "    <tr>\n",
              "      <th>4</th>\n",
              "      <td>4</td>\n",
              "      <td>scholar_at_arms</td>\n",
              "      <td>975.0</td>\n",
              "      <td>75.0</td>\n",
              "      <td>1988.0</td>\n",
              "      <td>2008-09-26</td>\n",
              "      <td>2022-02-26</td>\n",
              "      <td>0.0</td>\n",
              "      <td>[{'text': 'KyivDefiant', 'indices': [18, 30]},...</td>\n",
              "      <td>en</td>\n",
              "      <td>...</td>\n",
              "      <td>None</td>\n",
              "      <td>2022-02-26</td>\n",
              "      <td>8.0</td>\n",
              "      <td>2022-02-26</td>\n",
              "      <td>106000.0</td>\n",
              "      <td>0.000533</td>\n",
              "      <td>please take care</td>\n",
              "      <td>0.063437</td>\n",
              "      <td>0.643451</td>\n",
              "      <td>0.293113</td>\n",
              "    </tr>\n",
              "  </tbody>\n",
              "</table>\n",
              "<p>5 rows × 22 columns</p>\n",
              "</div>\n",
              "      <button class=\"colab-df-convert\" onclick=\"convertToInteractive('df-16282a6f-9ca3-4388-b03a-25bfd7daf7ae')\"\n",
              "              title=\"Convert this dataframe to an interactive table.\"\n",
              "              style=\"display:none;\">\n",
              "        \n",
              "  <svg xmlns=\"http://www.w3.org/2000/svg\" height=\"24px\"viewBox=\"0 0 24 24\"\n",
              "       width=\"24px\">\n",
              "    <path d=\"M0 0h24v24H0V0z\" fill=\"none\"/>\n",
              "    <path d=\"M18.56 5.44l.94 2.06.94-2.06 2.06-.94-2.06-.94-.94-2.06-.94 2.06-2.06.94zm-11 1L8.5 8.5l.94-2.06 2.06-.94-2.06-.94L8.5 2.5l-.94 2.06-2.06.94zm10 10l.94 2.06.94-2.06 2.06-.94-2.06-.94-.94-2.06-.94 2.06-2.06.94z\"/><path d=\"M17.41 7.96l-1.37-1.37c-.4-.4-.92-.59-1.43-.59-.52 0-1.04.2-1.43.59L10.3 9.45l-7.72 7.72c-.78.78-.78 2.05 0 2.83L4 21.41c.39.39.9.59 1.41.59.51 0 1.02-.2 1.41-.59l7.78-7.78 2.81-2.81c.8-.78.8-2.07 0-2.86zM5.41 20L4 18.59l7.72-7.72 1.47 1.35L5.41 20z\"/>\n",
              "  </svg>\n",
              "      </button>\n",
              "      \n",
              "  <style>\n",
              "    .colab-df-container {\n",
              "      display:flex;\n",
              "      flex-wrap:wrap;\n",
              "      gap: 12px;\n",
              "    }\n",
              "\n",
              "    .colab-df-convert {\n",
              "      background-color: #E8F0FE;\n",
              "      border: none;\n",
              "      border-radius: 50%;\n",
              "      cursor: pointer;\n",
              "      display: none;\n",
              "      fill: #1967D2;\n",
              "      height: 32px;\n",
              "      padding: 0 0 0 0;\n",
              "      width: 32px;\n",
              "    }\n",
              "\n",
              "    .colab-df-convert:hover {\n",
              "      background-color: #E2EBFA;\n",
              "      box-shadow: 0px 1px 2px rgba(60, 64, 67, 0.3), 0px 1px 3px 1px rgba(60, 64, 67, 0.15);\n",
              "      fill: #174EA6;\n",
              "    }\n",
              "\n",
              "    [theme=dark] .colab-df-convert {\n",
              "      background-color: #3B4455;\n",
              "      fill: #D2E3FC;\n",
              "    }\n",
              "\n",
              "    [theme=dark] .colab-df-convert:hover {\n",
              "      background-color: #434B5C;\n",
              "      box-shadow: 0px 1px 3px 1px rgba(0, 0, 0, 0.15);\n",
              "      filter: drop-shadow(0px 1px 2px rgba(0, 0, 0, 0.3));\n",
              "      fill: #FFFFFF;\n",
              "    }\n",
              "  </style>\n",
              "\n",
              "      <script>\n",
              "        const buttonEl =\n",
              "          document.querySelector('#df-16282a6f-9ca3-4388-b03a-25bfd7daf7ae button.colab-df-convert');\n",
              "        buttonEl.style.display =\n",
              "          google.colab.kernel.accessAllowed ? 'block' : 'none';\n",
              "\n",
              "        async function convertToInteractive(key) {\n",
              "          const element = document.querySelector('#df-16282a6f-9ca3-4388-b03a-25bfd7daf7ae');\n",
              "          const dataTable =\n",
              "            await google.colab.kernel.invokeFunction('convertToInteractive',\n",
              "                                                     [key], {});\n",
              "          if (!dataTable) return;\n",
              "\n",
              "          const docLinkHtml = 'Like what you see? Visit the ' +\n",
              "            '<a target=\"_blank\" href=https://colab.research.google.com/notebooks/data_table.ipynb>data table notebook</a>'\n",
              "            + ' to learn more about interactive tables.';\n",
              "          element.innerHTML = '';\n",
              "          dataTable['output_type'] = 'display_data';\n",
              "          await google.colab.output.renderOutput(dataTable, element);\n",
              "          const docLink = document.createElement('div');\n",
              "          docLink.innerHTML = docLinkHtml;\n",
              "          element.appendChild(docLink);\n",
              "        }\n",
              "      </script>\n",
              "    </div>\n",
              "  </div>\n",
              "  "
            ]
          },
          "metadata": {},
          "execution_count": 45
        }
      ]
    },
    {
      "cell_type": "markdown",
      "source": [
        "# Cleaning data\n"
      ],
      "metadata": {
        "id": "8b3gcZOCrpvS"
      }
    },
    {
      "cell_type": "code",
      "source": [
        "# Check data types\n",
        "joined_data_df.info()"
      ],
      "metadata": {
        "colab": {
          "base_uri": "https://localhost:8080/"
        },
        "id": "AyBZtQVxsBPy",
        "outputId": "4a9ba6cb-d6f5-41e6-fb63-99af4b84df31"
      },
      "execution_count": 46,
      "outputs": [
        {
          "output_type": "stream",
          "name": "stdout",
          "text": [
            "<class 'pandas.core.frame.DataFrame'>\n",
            "RangeIndex: 713009 entries, 0 to 713008\n",
            "Data columns (total 22 columns):\n",
            " #   Column           Non-Null Count   Dtype  \n",
            "---  ------           --------------   -----  \n",
            " 0   _c0              713009 non-null  int32  \n",
            " 1   username         713008 non-null  object \n",
            " 2   following        713008 non-null  float64\n",
            " 3   followers        713008 non-null  float64\n",
            " 4   totaltweets      713008 non-null  float64\n",
            " 5   usercreatedts    713008 non-null  object \n",
            " 6   tweetcreatedts   713008 non-null  object \n",
            " 7   retweetcount     713008 non-null  float64\n",
            " 8   hashtags         713008 non-null  object \n",
            " 9   language         713008 non-null  object \n",
            " 10  favorite_count   713008 non-null  float64\n",
            " 11  is_retweet       344456 non-null  object \n",
            " 12  is_quote_status  344456 non-null  object \n",
            " 13  extractedts      713008 non-null  object \n",
            " 14  weekofyear       713008 non-null  float64\n",
            " 15  date_published   710367 non-null  object \n",
            " 16  search_result    710367 non-null  float64\n",
            " 17  weight           710367 non-null  float64\n",
            " 18  cleaned_text     712998 non-null  object \n",
            " 19  negative         713009 non-null  float64\n",
            " 20  neutral          713009 non-null  float64\n",
            " 21  positive         713009 non-null  float64\n",
            "dtypes: float64(11), int32(1), object(10)\n",
            "memory usage: 117.0+ MB\n"
          ]
        }
      ]
    },
    {
      "cell_type": "code",
      "source": [
        "joined_data_df.shape"
      ],
      "metadata": {
        "colab": {
          "base_uri": "https://localhost:8080/"
        },
        "id": "3NbcWOkMsLy1",
        "outputId": "8f04dd74-e49d-402c-f95a-99944f4c2f64"
      },
      "execution_count": 47,
      "outputs": [
        {
          "output_type": "execute_result",
          "data": {
            "text/plain": [
              "(713009, 22)"
            ]
          },
          "metadata": {},
          "execution_count": 47
        }
      ]
    },
    {
      "cell_type": "code",
      "source": [
        "#Check the null values\n",
        "for column in joined_data_df.columns:\n",
        "    print(f'Column {column} has {joined_data_df[column].isnull().sum()} null values')"
      ],
      "metadata": {
        "colab": {
          "base_uri": "https://localhost:8080/"
        },
        "id": "tf8pk1L1sWAU",
        "outputId": "daf544c1-8f32-4289-e384-d25a827533c5"
      },
      "execution_count": 48,
      "outputs": [
        {
          "output_type": "stream",
          "name": "stdout",
          "text": [
            "Column _c0 has 0 null values\n",
            "Column username has 1 null values\n",
            "Column following has 1 null values\n",
            "Column followers has 1 null values\n",
            "Column totaltweets has 1 null values\n",
            "Column usercreatedts has 1 null values\n",
            "Column tweetcreatedts has 1 null values\n",
            "Column retweetcount has 1 null values\n",
            "Column hashtags has 1 null values\n",
            "Column language has 1 null values\n",
            "Column favorite_count has 1 null values\n",
            "Column is_retweet has 368553 null values\n",
            "Column is_quote_status has 368553 null values\n",
            "Column extractedts has 1 null values\n",
            "Column weekofyear has 1 null values\n",
            "Column date_published has 2642 null values\n",
            "Column search_result has 2642 null values\n",
            "Column weight has 2642 null values\n",
            "Column cleaned_text has 11 null values\n",
            "Column negative has 0 null values\n",
            "Column neutral has 0 null values\n",
            "Column positive has 0 null values\n"
          ]
        }
      ]
    },
    {
      "cell_type": "code",
      "source": [
        "# Change object type to boolean for columns 'is_retweet' and 'is_quote_status'\n",
        "joined_data_df[\"is_retweet\"] = joined_data_df['is_retweet'].astype(bool)\n",
        "joined_data_df[\"is_quote_status\"] = joined_data_df['is_quote_status'].astype(bool)"
      ],
      "metadata": {
        "id": "cD7ZiZLDsiLQ"
      },
      "execution_count": 49,
      "outputs": []
    },
    {
      "cell_type": "code",
      "source": [
        "# drop the row with any NaT values in the tweetcreatedts column\n",
        "joined_data_df = joined_data_df.dropna(axis=0, subset=['tweetcreatedts'])"
      ],
      "metadata": {
        "id": "VgZ3koQAsyA6"
      },
      "execution_count": 50,
      "outputs": []
    },
    {
      "cell_type": "code",
      "source": [
        "# convert text to text lenght\n",
        "joined_data_df['text_length']  = joined_data_df['cleaned_text'].str.len()\n",
        "# Drop the columns with text values\n",
        "joined_data_df.drop(\"cleaned_text\", axis=1, inplace=True)\n",
        "\n",
        "joined_data_df.head(5)"
      ],
      "metadata": {
        "colab": {
          "base_uri": "https://localhost:8080/",
          "height": 416
        },
        "id": "PN7-MYJFZD2w",
        "outputId": "02e80c03-f57b-4fc0-d69d-cb5b3c081b29"
      },
      "execution_count": 51,
      "outputs": [
        {
          "output_type": "execute_result",
          "data": {
            "text/plain": [
              "   _c0         username  following  followers  totaltweets usercreatedts  \\\n",
              "0    0        WashTimes     1893.0   417389.0     335685.0    2008-05-05   \n",
              "1    1        jacarroll       64.0      254.0        110.0    2008-01-07   \n",
              "2    2            axelk     5766.0     5329.0     119448.0    2007-06-14   \n",
              "3    3           ds2719      294.0      172.0      15270.0    2007-07-21   \n",
              "4    4  scholar_at_arms      975.0       75.0       1988.0    2008-09-26   \n",
              "\n",
              "  tweetcreatedts  retweetcount  \\\n",
              "0     2022-02-26           0.0   \n",
              "1     2022-02-26           0.0   \n",
              "2     2022-02-26           4.0   \n",
              "3     2022-02-26         894.0   \n",
              "4     2022-02-26           0.0   \n",
              "\n",
              "                                            hashtags language  ...  \\\n",
              "0  [{'text': 'UkraineCrisis', 'indices': [102, 11...       en  ...   \n",
              "1  [{'text': 'StandWithUkriane', 'indices': [58, ...       en  ...   \n",
              "2                                                 []       en  ...   \n",
              "3                                                 []       en  ...   \n",
              "4  [{'text': 'KyivDefiant', 'indices': [18, 30]},...       en  ...   \n",
              "\n",
              "   is_quote_status  extractedts  weekofyear date_published  search_result  \\\n",
              "0            False   2022-02-26         8.0     2022-02-26       106000.0   \n",
              "1            False   2022-02-26         8.0     2022-02-26       106000.0   \n",
              "2            False   2022-02-26         8.0     2022-02-26       106000.0   \n",
              "3            False   2022-02-26         8.0     2022-02-26       106000.0   \n",
              "4            False   2022-02-26         8.0     2022-02-26       106000.0   \n",
              "\n",
              "     weight  negative   neutral  positive  text_length  \n",
              "0  0.000533  0.222473  0.747085  0.030443         77.0  \n",
              "1  0.000533  0.078324  0.799905  0.121771         40.0  \n",
              "2  0.000533  0.147500  0.824443  0.028057        138.0  \n",
              "3  0.000533  0.883955  0.109929  0.006116        220.0  \n",
              "4  0.000533  0.063437  0.643451  0.293113         16.0  \n",
              "\n",
              "[5 rows x 22 columns]"
            ],
            "text/html": [
              "\n",
              "  <div id=\"df-fd6e2231-a014-48e3-ad94-720f67eb1de1\">\n",
              "    <div class=\"colab-df-container\">\n",
              "      <div>\n",
              "<style scoped>\n",
              "    .dataframe tbody tr th:only-of-type {\n",
              "        vertical-align: middle;\n",
              "    }\n",
              "\n",
              "    .dataframe tbody tr th {\n",
              "        vertical-align: top;\n",
              "    }\n",
              "\n",
              "    .dataframe thead th {\n",
              "        text-align: right;\n",
              "    }\n",
              "</style>\n",
              "<table border=\"1\" class=\"dataframe\">\n",
              "  <thead>\n",
              "    <tr style=\"text-align: right;\">\n",
              "      <th></th>\n",
              "      <th>_c0</th>\n",
              "      <th>username</th>\n",
              "      <th>following</th>\n",
              "      <th>followers</th>\n",
              "      <th>totaltweets</th>\n",
              "      <th>usercreatedts</th>\n",
              "      <th>tweetcreatedts</th>\n",
              "      <th>retweetcount</th>\n",
              "      <th>hashtags</th>\n",
              "      <th>language</th>\n",
              "      <th>...</th>\n",
              "      <th>is_quote_status</th>\n",
              "      <th>extractedts</th>\n",
              "      <th>weekofyear</th>\n",
              "      <th>date_published</th>\n",
              "      <th>search_result</th>\n",
              "      <th>weight</th>\n",
              "      <th>negative</th>\n",
              "      <th>neutral</th>\n",
              "      <th>positive</th>\n",
              "      <th>text_length</th>\n",
              "    </tr>\n",
              "  </thead>\n",
              "  <tbody>\n",
              "    <tr>\n",
              "      <th>0</th>\n",
              "      <td>0</td>\n",
              "      <td>WashTimes</td>\n",
              "      <td>1893.0</td>\n",
              "      <td>417389.0</td>\n",
              "      <td>335685.0</td>\n",
              "      <td>2008-05-05</td>\n",
              "      <td>2022-02-26</td>\n",
              "      <td>0.0</td>\n",
              "      <td>[{'text': 'UkraineCrisis', 'indices': [102, 11...</td>\n",
              "      <td>en</td>\n",
              "      <td>...</td>\n",
              "      <td>False</td>\n",
              "      <td>2022-02-26</td>\n",
              "      <td>8.0</td>\n",
              "      <td>2022-02-26</td>\n",
              "      <td>106000.0</td>\n",
              "      <td>0.000533</td>\n",
              "      <td>0.222473</td>\n",
              "      <td>0.747085</td>\n",
              "      <td>0.030443</td>\n",
              "      <td>77.0</td>\n",
              "    </tr>\n",
              "    <tr>\n",
              "      <th>1</th>\n",
              "      <td>1</td>\n",
              "      <td>jacarroll</td>\n",
              "      <td>64.0</td>\n",
              "      <td>254.0</td>\n",
              "      <td>110.0</td>\n",
              "      <td>2008-01-07</td>\n",
              "      <td>2022-02-26</td>\n",
              "      <td>0.0</td>\n",
              "      <td>[{'text': 'StandWithUkriane', 'indices': [58, ...</td>\n",
              "      <td>en</td>\n",
              "      <td>...</td>\n",
              "      <td>False</td>\n",
              "      <td>2022-02-26</td>\n",
              "      <td>8.0</td>\n",
              "      <td>2022-02-26</td>\n",
              "      <td>106000.0</td>\n",
              "      <td>0.000533</td>\n",
              "      <td>0.078324</td>\n",
              "      <td>0.799905</td>\n",
              "      <td>0.121771</td>\n",
              "      <td>40.0</td>\n",
              "    </tr>\n",
              "    <tr>\n",
              "      <th>2</th>\n",
              "      <td>2</td>\n",
              "      <td>axelk</td>\n",
              "      <td>5766.0</td>\n",
              "      <td>5329.0</td>\n",
              "      <td>119448.0</td>\n",
              "      <td>2007-06-14</td>\n",
              "      <td>2022-02-26</td>\n",
              "      <td>4.0</td>\n",
              "      <td>[]</td>\n",
              "      <td>en</td>\n",
              "      <td>...</td>\n",
              "      <td>False</td>\n",
              "      <td>2022-02-26</td>\n",
              "      <td>8.0</td>\n",
              "      <td>2022-02-26</td>\n",
              "      <td>106000.0</td>\n",
              "      <td>0.000533</td>\n",
              "      <td>0.147500</td>\n",
              "      <td>0.824443</td>\n",
              "      <td>0.028057</td>\n",
              "      <td>138.0</td>\n",
              "    </tr>\n",
              "    <tr>\n",
              "      <th>3</th>\n",
              "      <td>3</td>\n",
              "      <td>ds2719</td>\n",
              "      <td>294.0</td>\n",
              "      <td>172.0</td>\n",
              "      <td>15270.0</td>\n",
              "      <td>2007-07-21</td>\n",
              "      <td>2022-02-26</td>\n",
              "      <td>894.0</td>\n",
              "      <td>[]</td>\n",
              "      <td>en</td>\n",
              "      <td>...</td>\n",
              "      <td>False</td>\n",
              "      <td>2022-02-26</td>\n",
              "      <td>8.0</td>\n",
              "      <td>2022-02-26</td>\n",
              "      <td>106000.0</td>\n",
              "      <td>0.000533</td>\n",
              "      <td>0.883955</td>\n",
              "      <td>0.109929</td>\n",
              "      <td>0.006116</td>\n",
              "      <td>220.0</td>\n",
              "    </tr>\n",
              "    <tr>\n",
              "      <th>4</th>\n",
              "      <td>4</td>\n",
              "      <td>scholar_at_arms</td>\n",
              "      <td>975.0</td>\n",
              "      <td>75.0</td>\n",
              "      <td>1988.0</td>\n",
              "      <td>2008-09-26</td>\n",
              "      <td>2022-02-26</td>\n",
              "      <td>0.0</td>\n",
              "      <td>[{'text': 'KyivDefiant', 'indices': [18, 30]},...</td>\n",
              "      <td>en</td>\n",
              "      <td>...</td>\n",
              "      <td>False</td>\n",
              "      <td>2022-02-26</td>\n",
              "      <td>8.0</td>\n",
              "      <td>2022-02-26</td>\n",
              "      <td>106000.0</td>\n",
              "      <td>0.000533</td>\n",
              "      <td>0.063437</td>\n",
              "      <td>0.643451</td>\n",
              "      <td>0.293113</td>\n",
              "      <td>16.0</td>\n",
              "    </tr>\n",
              "  </tbody>\n",
              "</table>\n",
              "<p>5 rows × 22 columns</p>\n",
              "</div>\n",
              "      <button class=\"colab-df-convert\" onclick=\"convertToInteractive('df-fd6e2231-a014-48e3-ad94-720f67eb1de1')\"\n",
              "              title=\"Convert this dataframe to an interactive table.\"\n",
              "              style=\"display:none;\">\n",
              "        \n",
              "  <svg xmlns=\"http://www.w3.org/2000/svg\" height=\"24px\"viewBox=\"0 0 24 24\"\n",
              "       width=\"24px\">\n",
              "    <path d=\"M0 0h24v24H0V0z\" fill=\"none\"/>\n",
              "    <path d=\"M18.56 5.44l.94 2.06.94-2.06 2.06-.94-2.06-.94-.94-2.06-.94 2.06-2.06.94zm-11 1L8.5 8.5l.94-2.06 2.06-.94-2.06-.94L8.5 2.5l-.94 2.06-2.06.94zm10 10l.94 2.06.94-2.06 2.06-.94-2.06-.94-.94-2.06-.94 2.06-2.06.94z\"/><path d=\"M17.41 7.96l-1.37-1.37c-.4-.4-.92-.59-1.43-.59-.52 0-1.04.2-1.43.59L10.3 9.45l-7.72 7.72c-.78.78-.78 2.05 0 2.83L4 21.41c.39.39.9.59 1.41.59.51 0 1.02-.2 1.41-.59l7.78-7.78 2.81-2.81c.8-.78.8-2.07 0-2.86zM5.41 20L4 18.59l7.72-7.72 1.47 1.35L5.41 20z\"/>\n",
              "  </svg>\n",
              "      </button>\n",
              "      \n",
              "  <style>\n",
              "    .colab-df-container {\n",
              "      display:flex;\n",
              "      flex-wrap:wrap;\n",
              "      gap: 12px;\n",
              "    }\n",
              "\n",
              "    .colab-df-convert {\n",
              "      background-color: #E8F0FE;\n",
              "      border: none;\n",
              "      border-radius: 50%;\n",
              "      cursor: pointer;\n",
              "      display: none;\n",
              "      fill: #1967D2;\n",
              "      height: 32px;\n",
              "      padding: 0 0 0 0;\n",
              "      width: 32px;\n",
              "    }\n",
              "\n",
              "    .colab-df-convert:hover {\n",
              "      background-color: #E2EBFA;\n",
              "      box-shadow: 0px 1px 2px rgba(60, 64, 67, 0.3), 0px 1px 3px 1px rgba(60, 64, 67, 0.15);\n",
              "      fill: #174EA6;\n",
              "    }\n",
              "\n",
              "    [theme=dark] .colab-df-convert {\n",
              "      background-color: #3B4455;\n",
              "      fill: #D2E3FC;\n",
              "    }\n",
              "\n",
              "    [theme=dark] .colab-df-convert:hover {\n",
              "      background-color: #434B5C;\n",
              "      box-shadow: 0px 1px 3px 1px rgba(0, 0, 0, 0.15);\n",
              "      filter: drop-shadow(0px 1px 2px rgba(0, 0, 0, 0.3));\n",
              "      fill: #FFFFFF;\n",
              "    }\n",
              "  </style>\n",
              "\n",
              "      <script>\n",
              "        const buttonEl =\n",
              "          document.querySelector('#df-fd6e2231-a014-48e3-ad94-720f67eb1de1 button.colab-df-convert');\n",
              "        buttonEl.style.display =\n",
              "          google.colab.kernel.accessAllowed ? 'block' : 'none';\n",
              "\n",
              "        async function convertToInteractive(key) {\n",
              "          const element = document.querySelector('#df-fd6e2231-a014-48e3-ad94-720f67eb1de1');\n",
              "          const dataTable =\n",
              "            await google.colab.kernel.invokeFunction('convertToInteractive',\n",
              "                                                     [key], {});\n",
              "          if (!dataTable) return;\n",
              "\n",
              "          const docLinkHtml = 'Like what you see? Visit the ' +\n",
              "            '<a target=\"_blank\" href=https://colab.research.google.com/notebooks/data_table.ipynb>data table notebook</a>'\n",
              "            + ' to learn more about interactive tables.';\n",
              "          element.innerHTML = '';\n",
              "          dataTable['output_type'] = 'display_data';\n",
              "          await google.colab.output.renderOutput(dataTable, element);\n",
              "          const docLink = document.createElement('div');\n",
              "          docLink.innerHTML = docLinkHtml;\n",
              "          element.appendChild(docLink);\n",
              "        }\n",
              "      </script>\n",
              "    </div>\n",
              "  </div>\n",
              "  "
            ]
          },
          "metadata": {},
          "execution_count": 51
        }
      ]
    },
    {
      "cell_type": "code",
      "source": [
        "# Drop the not meaningful columns\n",
        "joined_data_df.drop(\"username\", axis=1, inplace=True)\n",
        "joined_data_df.drop(\"usercreatedts\", axis=1, inplace=True)\n",
        "joined_data_df.drop(\"language\", axis=1, inplace=True)\n",
        "joined_data_df.drop(\"favorite_count\", axis=1, inplace=True)\n",
        "joined_data_df.drop(\"extractedts\", axis=1, inplace=True)\n",
        "joined_data_df.drop(\"weekofyear\", axis=1, inplace=True)\n",
        "joined_data_df.drop(\"neutral\", axis=1, inplace=True)\n",
        "joined_data_df.drop(\"positive\", axis=1, inplace=True)\n",
        "joined_data_df.drop(\"search_result\", axis=1, inplace=True)\n",
        "joined_data_df.drop(\"retweetcount\", axis=1, inplace=True)\n",
        "joined_data_df.drop(\"hashtags\", axis=1, inplace=True)\n",
        "joined_data_df.drop(\"date_published\", axis=1, inplace=True)\n",
        "\n",
        "# convert datetime to numerical\n",
        "# importing the datetime module\n",
        "import datetime as dt\n",
        "joined_data_df['tweetcreatedts'] = pd.to_datetime(joined_data_df['tweetcreatedts'])\n",
        "joined_data_df['tweetcreatedts'] = joined_data_df['tweetcreatedts'].map(dt.datetime.toordinal)"
      ],
      "metadata": {
        "id": "hOJdcnEp0uUA"
      },
      "execution_count": 52,
      "outputs": []
    },
    {
      "cell_type": "code",
      "source": [
        "joined_data_df.shape"
      ],
      "metadata": {
        "colab": {
          "base_uri": "https://localhost:8080/"
        },
        "id": "Cegfvn4nvHig",
        "outputId": "8fdb30b8-daac-4e7f-e92c-d9b204e9eaa9"
      },
      "execution_count": 53,
      "outputs": [
        {
          "output_type": "execute_result",
          "data": {
            "text/plain": [
              "(713008, 10)"
            ]
          },
          "metadata": {},
          "execution_count": 53
        }
      ]
    },
    {
      "cell_type": "code",
      "source": [
        "# Check data types again\n",
        "joined_data_df.info()"
      ],
      "metadata": {
        "colab": {
          "base_uri": "https://localhost:8080/"
        },
        "id": "tW5JV5fpvksi",
        "outputId": "433fc16b-2df1-4825-af36-62d38ae25ead"
      },
      "execution_count": 43,
      "outputs": [
        {
          "output_type": "stream",
          "name": "stdout",
          "text": [
            "<class 'pandas.core.frame.DataFrame'>\n",
            "Int64Index: 713008 entries, 0 to 713007\n",
            "Data columns (total 11 columns):\n",
            " #   Column           Non-Null Count   Dtype  \n",
            "---  ------           --------------   -----  \n",
            " 0   _c0              713008 non-null  int32  \n",
            " 1   following        713008 non-null  float64\n",
            " 2   followers        713008 non-null  float64\n",
            " 3   totaltweets      713008 non-null  float64\n",
            " 4   usercreatedts    713008 non-null  object \n",
            " 5   tweetcreatedts   713008 non-null  int64  \n",
            " 6   is_retweet       713008 non-null  bool   \n",
            " 7   is_quote_status  713008 non-null  bool   \n",
            " 8   weight           710366 non-null  float64\n",
            " 9   negative         713008 non-null  float64\n",
            " 10  text_length      712997 non-null  float64\n",
            "dtypes: bool(2), float64(6), int32(1), int64(1), object(1)\n",
            "memory usage: 53.0+ MB\n"
          ]
        }
      ]
    },
    {
      "cell_type": "code",
      "source": [
        "# Drop the data from August 12 till 18 where aren't news data\n",
        "joined_data_df = joined_data_df.dropna()\n",
        "joined_data_df.shape"
      ],
      "metadata": {
        "colab": {
          "base_uri": "https://localhost:8080/"
        },
        "id": "MElNplOw027g",
        "outputId": "0efe097e-8f5b-48cf-8676-6660c32ab6dd"
      },
      "execution_count": 54,
      "outputs": [
        {
          "output_type": "execute_result",
          "data": {
            "text/plain": [
              "(710355, 10)"
            ]
          },
          "metadata": {},
          "execution_count": 54
        }
      ]
    },
    {
      "cell_type": "code",
      "source": [
        "joined_data_df.head()"
      ],
      "metadata": {
        "colab": {
          "base_uri": "https://localhost:8080/",
          "height": 204
        },
        "id": "p8bJdt5ibs_b",
        "outputId": "a1807fd3-2c4e-4f8a-af5e-e8fe9f84b256"
      },
      "execution_count": 55,
      "outputs": [
        {
          "output_type": "execute_result",
          "data": {
            "text/plain": [
              "   _c0  following  followers  totaltweets  tweetcreatedts  is_retweet  \\\n",
              "0    0     1893.0   417389.0     335685.0          738212       False   \n",
              "1    1       64.0      254.0        110.0          738212       False   \n",
              "2    2     5766.0     5329.0     119448.0          738212       False   \n",
              "3    3      294.0      172.0      15270.0          738212       False   \n",
              "4    4      975.0       75.0       1988.0          738212       False   \n",
              "\n",
              "   is_quote_status    weight  negative  text_length  \n",
              "0            False  0.000533  0.222473         77.0  \n",
              "1            False  0.000533  0.078324         40.0  \n",
              "2            False  0.000533  0.147500        138.0  \n",
              "3            False  0.000533  0.883955        220.0  \n",
              "4            False  0.000533  0.063437         16.0  "
            ],
            "text/html": [
              "\n",
              "  <div id=\"df-544e5445-6e63-4242-b4df-b1310179084f\">\n",
              "    <div class=\"colab-df-container\">\n",
              "      <div>\n",
              "<style scoped>\n",
              "    .dataframe tbody tr th:only-of-type {\n",
              "        vertical-align: middle;\n",
              "    }\n",
              "\n",
              "    .dataframe tbody tr th {\n",
              "        vertical-align: top;\n",
              "    }\n",
              "\n",
              "    .dataframe thead th {\n",
              "        text-align: right;\n",
              "    }\n",
              "</style>\n",
              "<table border=\"1\" class=\"dataframe\">\n",
              "  <thead>\n",
              "    <tr style=\"text-align: right;\">\n",
              "      <th></th>\n",
              "      <th>_c0</th>\n",
              "      <th>following</th>\n",
              "      <th>followers</th>\n",
              "      <th>totaltweets</th>\n",
              "      <th>tweetcreatedts</th>\n",
              "      <th>is_retweet</th>\n",
              "      <th>is_quote_status</th>\n",
              "      <th>weight</th>\n",
              "      <th>negative</th>\n",
              "      <th>text_length</th>\n",
              "    </tr>\n",
              "  </thead>\n",
              "  <tbody>\n",
              "    <tr>\n",
              "      <th>0</th>\n",
              "      <td>0</td>\n",
              "      <td>1893.0</td>\n",
              "      <td>417389.0</td>\n",
              "      <td>335685.0</td>\n",
              "      <td>738212</td>\n",
              "      <td>False</td>\n",
              "      <td>False</td>\n",
              "      <td>0.000533</td>\n",
              "      <td>0.222473</td>\n",
              "      <td>77.0</td>\n",
              "    </tr>\n",
              "    <tr>\n",
              "      <th>1</th>\n",
              "      <td>1</td>\n",
              "      <td>64.0</td>\n",
              "      <td>254.0</td>\n",
              "      <td>110.0</td>\n",
              "      <td>738212</td>\n",
              "      <td>False</td>\n",
              "      <td>False</td>\n",
              "      <td>0.000533</td>\n",
              "      <td>0.078324</td>\n",
              "      <td>40.0</td>\n",
              "    </tr>\n",
              "    <tr>\n",
              "      <th>2</th>\n",
              "      <td>2</td>\n",
              "      <td>5766.0</td>\n",
              "      <td>5329.0</td>\n",
              "      <td>119448.0</td>\n",
              "      <td>738212</td>\n",
              "      <td>False</td>\n",
              "      <td>False</td>\n",
              "      <td>0.000533</td>\n",
              "      <td>0.147500</td>\n",
              "      <td>138.0</td>\n",
              "    </tr>\n",
              "    <tr>\n",
              "      <th>3</th>\n",
              "      <td>3</td>\n",
              "      <td>294.0</td>\n",
              "      <td>172.0</td>\n",
              "      <td>15270.0</td>\n",
              "      <td>738212</td>\n",
              "      <td>False</td>\n",
              "      <td>False</td>\n",
              "      <td>0.000533</td>\n",
              "      <td>0.883955</td>\n",
              "      <td>220.0</td>\n",
              "    </tr>\n",
              "    <tr>\n",
              "      <th>4</th>\n",
              "      <td>4</td>\n",
              "      <td>975.0</td>\n",
              "      <td>75.0</td>\n",
              "      <td>1988.0</td>\n",
              "      <td>738212</td>\n",
              "      <td>False</td>\n",
              "      <td>False</td>\n",
              "      <td>0.000533</td>\n",
              "      <td>0.063437</td>\n",
              "      <td>16.0</td>\n",
              "    </tr>\n",
              "  </tbody>\n",
              "</table>\n",
              "</div>\n",
              "      <button class=\"colab-df-convert\" onclick=\"convertToInteractive('df-544e5445-6e63-4242-b4df-b1310179084f')\"\n",
              "              title=\"Convert this dataframe to an interactive table.\"\n",
              "              style=\"display:none;\">\n",
              "        \n",
              "  <svg xmlns=\"http://www.w3.org/2000/svg\" height=\"24px\"viewBox=\"0 0 24 24\"\n",
              "       width=\"24px\">\n",
              "    <path d=\"M0 0h24v24H0V0z\" fill=\"none\"/>\n",
              "    <path d=\"M18.56 5.44l.94 2.06.94-2.06 2.06-.94-2.06-.94-.94-2.06-.94 2.06-2.06.94zm-11 1L8.5 8.5l.94-2.06 2.06-.94-2.06-.94L8.5 2.5l-.94 2.06-2.06.94zm10 10l.94 2.06.94-2.06 2.06-.94-2.06-.94-.94-2.06-.94 2.06-2.06.94z\"/><path d=\"M17.41 7.96l-1.37-1.37c-.4-.4-.92-.59-1.43-.59-.52 0-1.04.2-1.43.59L10.3 9.45l-7.72 7.72c-.78.78-.78 2.05 0 2.83L4 21.41c.39.39.9.59 1.41.59.51 0 1.02-.2 1.41-.59l7.78-7.78 2.81-2.81c.8-.78.8-2.07 0-2.86zM5.41 20L4 18.59l7.72-7.72 1.47 1.35L5.41 20z\"/>\n",
              "  </svg>\n",
              "      </button>\n",
              "      \n",
              "  <style>\n",
              "    .colab-df-container {\n",
              "      display:flex;\n",
              "      flex-wrap:wrap;\n",
              "      gap: 12px;\n",
              "    }\n",
              "\n",
              "    .colab-df-convert {\n",
              "      background-color: #E8F0FE;\n",
              "      border: none;\n",
              "      border-radius: 50%;\n",
              "      cursor: pointer;\n",
              "      display: none;\n",
              "      fill: #1967D2;\n",
              "      height: 32px;\n",
              "      padding: 0 0 0 0;\n",
              "      width: 32px;\n",
              "    }\n",
              "\n",
              "    .colab-df-convert:hover {\n",
              "      background-color: #E2EBFA;\n",
              "      box-shadow: 0px 1px 2px rgba(60, 64, 67, 0.3), 0px 1px 3px 1px rgba(60, 64, 67, 0.15);\n",
              "      fill: #174EA6;\n",
              "    }\n",
              "\n",
              "    [theme=dark] .colab-df-convert {\n",
              "      background-color: #3B4455;\n",
              "      fill: #D2E3FC;\n",
              "    }\n",
              "\n",
              "    [theme=dark] .colab-df-convert:hover {\n",
              "      background-color: #434B5C;\n",
              "      box-shadow: 0px 1px 3px 1px rgba(0, 0, 0, 0.15);\n",
              "      filter: drop-shadow(0px 1px 2px rgba(0, 0, 0, 0.3));\n",
              "      fill: #FFFFFF;\n",
              "    }\n",
              "  </style>\n",
              "\n",
              "      <script>\n",
              "        const buttonEl =\n",
              "          document.querySelector('#df-544e5445-6e63-4242-b4df-b1310179084f button.colab-df-convert');\n",
              "        buttonEl.style.display =\n",
              "          google.colab.kernel.accessAllowed ? 'block' : 'none';\n",
              "\n",
              "        async function convertToInteractive(key) {\n",
              "          const element = document.querySelector('#df-544e5445-6e63-4242-b4df-b1310179084f');\n",
              "          const dataTable =\n",
              "            await google.colab.kernel.invokeFunction('convertToInteractive',\n",
              "                                                     [key], {});\n",
              "          if (!dataTable) return;\n",
              "\n",
              "          const docLinkHtml = 'Like what you see? Visit the ' +\n",
              "            '<a target=\"_blank\" href=https://colab.research.google.com/notebooks/data_table.ipynb>data table notebook</a>'\n",
              "            + ' to learn more about interactive tables.';\n",
              "          element.innerHTML = '';\n",
              "          dataTable['output_type'] = 'display_data';\n",
              "          await google.colab.output.renderOutput(dataTable, element);\n",
              "          const docLink = document.createElement('div');\n",
              "          docLink.innerHTML = docLinkHtml;\n",
              "          element.appendChild(docLink);\n",
              "        }\n",
              "      </script>\n",
              "    </div>\n",
              "  </div>\n",
              "  "
            ]
          },
          "metadata": {},
          "execution_count": 55
        }
      ]
    },
    {
      "cell_type": "markdown",
      "source": [
        "# Linear regression\n"
      ],
      "metadata": {
        "id": "fPuZVUHg4XAE"
      }
    },
    {
      "cell_type": "markdown",
      "source": [
        "We assume that we can predict emotional importance of the events of war by the sentiment analysis of tweets. For first segment we use for that simple linear regression, but at the next segment we could try to make clasterisation for Twitter users for more accurate trend prediction.\n",
        "\n",
        "Our mockup dataset has data for two days only from 180 days of war yet. This is due to the duration of the calculation of sentiment analysis data: even for that two days it took 6 hours to get the result due to size of twitter data."
      ],
      "metadata": {
        "id": "tih2-0VtGjRp"
      }
    },
    {
      "cell_type": "code",
      "source": [
        "# Format the data to meet the requirements of the Scikit-learn library\n",
        "# Examine the first five entries in X\n",
        "X = joined_data_df.weight.values.reshape(-1, 1)\n",
        "X[:5]"
      ],
      "metadata": {
        "colab": {
          "base_uri": "https://localhost:8080/"
        },
        "id": "EXAuA8KGwhGG",
        "outputId": "ff67b090-6de7-4eab-ac2b-651e36eb1605"
      },
      "execution_count": 59,
      "outputs": [
        {
          "output_type": "execute_result",
          "data": {
            "text/plain": [
              "array([[0.000533],\n",
              "       [0.000533],\n",
              "       [0.000533],\n",
              "       [0.000533],\n",
              "       [0.000533]])"
            ]
          },
          "metadata": {},
          "execution_count": 59
        }
      ]
    },
    {
      "cell_type": "code",
      "source": [
        "# What is the shape of X - rows and columns\n",
        "X.shape"
      ],
      "metadata": {
        "colab": {
          "base_uri": "https://localhost:8080/"
        },
        "id": "OzzJ8PgHtGsY",
        "outputId": "5e95a45c-ceb3-49cd-cf8e-cd18a041b299"
      },
      "execution_count": 60,
      "outputs": [
        {
          "output_type": "execute_result",
          "data": {
            "text/plain": [
              "(710355, 1)"
            ]
          },
          "metadata": {},
          "execution_count": 60
        }
      ]
    },
    {
      "cell_type": "code",
      "source": [
        "# Assign the target variable, or the Weight column, to y. \n",
        "# It's possible to reshape this column, as we did with X, it's not required in this instance\n",
        "y = joined_data_df.negative\n",
        "y[:5]"
      ],
      "metadata": {
        "colab": {
          "base_uri": "https://localhost:8080/"
        },
        "id": "spUNfgK2vNZY",
        "outputId": "5c19c89a-fc11-4e02-a9b1-b951468f8cc3"
      },
      "execution_count": 61,
      "outputs": [
        {
          "output_type": "execute_result",
          "data": {
            "text/plain": [
              "0    0.222473\n",
              "1    0.078324\n",
              "2    0.147500\n",
              "3    0.883955\n",
              "4    0.063437\n",
              "Name: negative, dtype: float64"
            ]
          },
          "metadata": {},
          "execution_count": 61
        }
      ]
    },
    {
      "cell_type": "code",
      "source": [
        "# What is the shape of y - rows and columns\n",
        "y.shape"
      ],
      "metadata": {
        "colab": {
          "base_uri": "https://localhost:8080/"
        },
        "id": "Iccsho_A8HnY",
        "outputId": "26278270-ab28-490b-afe5-c3b2a4f051eb"
      },
      "execution_count": 62,
      "outputs": [
        {
          "output_type": "execute_result",
          "data": {
            "text/plain": [
              "(710355,)"
            ]
          },
          "metadata": {},
          "execution_count": 62
        }
      ]
    },
    {
      "cell_type": "code",
      "source": [
        "# Create an instance of the linear regression model\n",
        "# That will analyze the data and store information specific to this dataset\n",
        "model = LinearRegression()\n",
        "model.fit(X,y)"
      ],
      "metadata": {
        "colab": {
          "base_uri": "https://localhost:8080/"
        },
        "id": "pkWB-5qp6dO1",
        "outputId": "59b5c88c-56cd-4bb5-c4af-3df2989d0249"
      },
      "execution_count": 63,
      "outputs": [
        {
          "output_type": "execute_result",
          "data": {
            "text/plain": [
              "LinearRegression()"
            ]
          },
          "metadata": {},
          "execution_count": 63
        }
      ]
    },
    {
      "cell_type": "code",
      "source": [
        "# Generate predictions\n",
        "y_pred = model.predict(X)\n",
        "print(y_pred.shape)"
      ],
      "metadata": {
        "colab": {
          "base_uri": "https://localhost:8080/"
        },
        "id": "eCxt2Wl2jR_s",
        "outputId": "7657244b-86ce-48ae-f613-8af87042613c"
      },
      "execution_count": 64,
      "outputs": [
        {
          "output_type": "stream",
          "name": "stdout",
          "text": [
            "(710355,)\n"
          ]
        }
      ]
    },
    {
      "cell_type": "code",
      "source": [
        "# Plot the predictions as a red line against the data points\n",
        "plt.scatter(X, y)\n",
        "plt.plot(X, y_pred, color='red')\n",
        "plt.show()"
      ],
      "metadata": {
        "id": "-MUc2lrGjC-y",
        "colab": {
          "base_uri": "https://localhost:8080/",
          "height": 265
        },
        "outputId": "6a610095-bca1-4117-bed2-92d422e27ad7"
      },
      "execution_count": 65,
      "outputs": [
        {
          "output_type": "display_data",
          "data": {
            "text/plain": [
              "<Figure size 432x288 with 1 Axes>"
            ],
            "image/png": "[encoded data removed]"
          },
          "metadata": {
            "needs_background": "light"
          }
        }
      ]
    },
    {
      "cell_type": "code",
      "source": [
        "# Examine the specific parameters of our model: the slope and the y-intercept\n",
        "print(model.coef_)\n",
        "print(model.intercept_)"
      ],
      "metadata": {
        "id": "gfbY8d3J12HU",
        "colab": {
          "base_uri": "https://localhost:8080/"
        },
        "outputId": "9b51623b-5824-409f-81ab-9401a7b8cf4a"
      },
      "execution_count": 66,
      "outputs": [
        {
          "output_type": "stream",
          "name": "stdout",
          "text": [
            "[-1.28734975]\n",
            "0.40512304558371576\n"
          ]
        }
      ]
    }
  ]
}