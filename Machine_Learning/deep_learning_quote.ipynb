{
  "nbformat": 4,
  "nbformat_minor": 0,
  "metadata": {
    "colab": {
      "provenance": [],
      "collapsed_sections": [],
      "authorship_tag": "ABX9TyPldPfEh81Hg290W2Omczm4",
      "include_colab_link": true
    },
    "kernelspec": {
      "name": "python3",
      "display_name": "Python 3"
    },
    "language_info": {
      "name": "python"
    }
  },
  "cells": [
    {
      "cell_type": "markdown",
      "metadata": {
        "id": "view-in-github",
        "colab_type": "text"
      },
      "source": [
        "<a href=\"https://colab.research.google.com/github/aiscience-22/UA_War/blob/olgap%2Fmachine_learning_0.06/deep_learning_quote.ipynb\" target=\"_parent\"><img src=\"https://colab.research.google.com/assets/colab-badge.svg\" alt=\"Open In Colab\"/></a>"
      ]
    },
    {
      "cell_type": "code",
      "source": [
        "# Installs latest version of TensorFlow 2.X \n",
        "# !pip install --upgrade tensorflow"
      ],
      "metadata": {
        "id": "z8bP1saLoMap"
      },
      "execution_count": null,
      "outputs": []
    },
    {
      "cell_type": "code",
      "execution_count": 1,
      "metadata": {
        "id": "JktWC-SkZS3n"
      },
      "outputs": [],
      "source": [
        "# Import our dependencies\n",
        "import os\n",
        "from sklearn.model_selection import train_test_split\n",
        "from sklearn.preprocessing import StandardScaler,OneHotEncoder\n",
        "import datetime\n",
        "from datetime import datetime\n",
        "import pandas as pd\n",
        "import matplotlib\n",
        "import matplotlib.pyplot as plt\n",
        "%matplotlib inline\n",
        "import sklearn as skl\n",
        "import tensorflow as tf"
      ]
    },
    {
      "cell_type": "code",
      "source": [
        "# Find the latest version of spark 3.0 from http://www.apache.org/dist/spark/ and enter as the spark version\n",
        "# For example:\n",
        "# spark_version = 'spark-3.0.3'\n",
        "spark_version = 'spark-3.2.2'\n",
        "os.environ['SPARK_VERSION']=spark_version\n",
        "\n",
        "# Install Spark and Java\n",
        "!apt-get update\n",
        "!apt-get install openjdk-11-jdk-headless -qq > /dev/null\n",
        "!wget -q http://www.apache.org/dist/spark/$SPARK_VERSION/$SPARK_VERSION-bin-hadoop2.7.tgz\n",
        "!tar xf $SPARK_VERSION-bin-hadoop2.7.tgz\n",
        "!pip install -q findspark\n",
        "\n",
        "# Set Environment Variables\n",
        "import os\n",
        "os.environ[\"JAVA_HOME\"] = \"/usr/lib/jvm/java-11-openjdk-amd64\"\n",
        "os.environ[\"SPARK_HOME\"] = f\"/content/{spark_version}-bin-hadoop2.7\"\n",
        "\n",
        "# Start a SparkSession\n",
        "import findspark\n",
        "findspark.init()"
      ],
      "metadata": {
        "colab": {
          "base_uri": "https://localhost:8080/"
        },
        "id": "Kiq6hp2xZYzr",
        "outputId": "ad9e9bde-60eb-4b1e-ffa0-074eb872655e"
      },
      "execution_count": 2,
      "outputs": [
        {
          "output_type": "stream",
          "name": "stdout",
          "text": [
            "\r0% [Working]\r            \rGet:1 http://security.ubuntu.com/ubuntu bionic-security InRelease [88.7 kB]\n",
            "\r0% [Connecting to archive.ubuntu.com (91.189.91.39)] [1 InRelease 14.2 kB/88.7 \r                                                                               \rHit:2 http://archive.ubuntu.com/ubuntu bionic InRelease\n",
            "\r0% [Waiting for headers] [1 InRelease 88.7 kB/88.7 kB 100%] [Connected to cloud\r                                                                               \rGet:3 http://archive.ubuntu.com/ubuntu bionic-updates InRelease [88.7 kB]\n",
            "\r                                                                               \rGet:4 https://cloud.r-project.org/bin/linux/ubuntu bionic-cran40/ InRelease [3,626 B]\n",
            "\r0% [3 InRelease 21.4 kB/88.7 kB 24%] [Waiting for headers] [Waiting for headers\r0% [2 InRelease gpgv 242 kB] [3 InRelease 21.4 kB/88.7 kB 24%] [Waiting for hea\r                                                                               \rIgn:5 https://developer.download.nvidia.com/compute/machine-learning/repos/ubuntu1804/x86_64  InRelease\n",
            "\r0% [2 InRelease gpgv 242 kB] [3 InRelease 35.9 kB/88.7 kB 40%] [Waiting for hea\r                                                                               \rHit:6 https://developer.download.nvidia.com/compute/cuda/repos/ubuntu1804/x86_64  InRelease\n",
            "\r0% [2 InRelease gpgv 242 kB] [3 InRelease 56.2 kB/88.7 kB 63%] [Waiting for hea\r                                                                               \rGet:7 http://ppa.launchpad.net/c2d4u.team/c2d4u4.0+/ubuntu bionic InRelease [15.9 kB]\n",
            "Hit:8 https://developer.download.nvidia.com/compute/machine-learning/repos/ubuntu1804/x86_64  Release\n",
            "Get:9 http://archive.ubuntu.com/ubuntu bionic-backports InRelease [74.6 kB]\n",
            "Hit:10 http://ppa.launchpad.net/cran/libgit2/ubuntu bionic InRelease\n",
            "Get:11 http://ppa.launchpad.net/deadsnakes/ppa/ubuntu bionic InRelease [15.9 kB]\n",
            "Hit:12 http://ppa.launchpad.net/graphics-drivers/ppa/ubuntu bionic InRelease\n",
            "Get:13 http://security.ubuntu.com/ubuntu bionic-security/restricted amd64 Packages [1,131 kB]\n",
            "Get:14 http://security.ubuntu.com/ubuntu bionic-security/universe amd64 Packages [1,540 kB]\n",
            "Get:15 http://security.ubuntu.com/ubuntu bionic-security/main amd64 Packages [2,965 kB]\n",
            "Get:16 https://cloud.r-project.org/bin/linux/ubuntu bionic-cran40/ Packages [91.7 kB]\n",
            "Get:18 http://archive.ubuntu.com/ubuntu bionic-updates/main amd64 Packages [3,396 kB]\n",
            "Get:19 http://archive.ubuntu.com/ubuntu bionic-updates/restricted amd64 Packages [1,172 kB]\n",
            "Get:20 http://ppa.launchpad.net/c2d4u.team/c2d4u4.0+/ubuntu bionic/main Sources [2,099 kB]\n",
            "Get:21 http://ppa.launchpad.net/c2d4u.team/c2d4u4.0+/ubuntu bionic/main amd64 Packages [1,076 kB]\n",
            "Get:22 http://ppa.launchpad.net/deadsnakes/ppa/ubuntu bionic/main amd64 Packages [45.2 kB]\n",
            "Fetched 13.8 MB in 8s (1,631 kB/s)\n",
            "Reading package lists... Done\n"
          ]
        }
      ]
    },
    {
      "cell_type": "code",
      "source": [
        "# Add drivers to Spark\n",
        "from pyspark.sql import SparkSession\n",
        "spark = SparkSession.builder.appName(\"CloudETL\").config(\"spark.driver.extraClassPath\",\"/content/postgresql-42.2.16.jar\").getOrCreate()"
      ],
      "metadata": {
        "id": "ZBdMUWu8ZqH-"
      },
      "execution_count": 20,
      "outputs": []
    },
    {
      "cell_type": "code",
      "source": [
        "# Read in data from S3 Buckets\n",
        "from pyspark import SparkFiles\n",
        "url =\"https://uaresources.s3.us-west-1.amazonaws.com/sentiment_joined_events_twitter_post_ml.csv\"\n",
        "\n",
        "spark.sparkContext.addFile(url)\n",
        "text_df = spark.read.csv(SparkFiles.get(\"sentiment_joined_events_twitter_post_ml.csv\"), sep=\",\", header=True, inferSchema=True)\n",
        "\n",
        "\n",
        "# Show DataFrame\n",
        "text_df.show()"
      ],
      "metadata": {
        "colab": {
          "base_uri": "https://localhost:8080/"
        },
        "id": "ZIsuvuhQZsE-",
        "outputId": "bbd1aa57-429a-4874-fe4e-4d1ac8d557a9"
      },
      "execution_count": 21,
      "outputs": [
        {
          "output_type": "stream",
          "name": "stdout",
          "text": [
            "+---+---------------+---------+---------+-----------+-------------+--------------+------------+--------------------+--------+--------------+----------+---------------+-----------+----------+--------------+-------------+-------+--------------------+--------------------+--------------------+--------------------+\n",
            "|_c0|       username|following|followers|totaltweets|usercreatedts|tweetcreatedts|retweetcount|            hashtags|language|favorite_count|is_retweet|is_quote_status|extractedts|weekofyear|date_published|search_result| weight|        cleaned_text|            negative|             neutral|            positive|\n",
            "+---+---------------+---------+---------+-----------+-------------+--------------+------------+--------------------+--------+--------------+----------+---------------+-----------+----------+--------------+-------------+-------+--------------------+--------------------+--------------------+--------------------+\n",
            "|  0|      WashTimes|   1893.0| 417389.0|   335685.0|   2008-05-05|    2022-02-26|         0.0|[{'text': 'Ukrain...|      en|           0.0|      null|           null| 2022-02-26|       8.0|    2022-02-26|     106000.0|5.33E-4|democrats urge bi...|  0.2224726676940918|  0.7470845580101013|0.030442820861935616|\n",
            "|  1|      jacarroll|     64.0|    254.0|      110.0|   2008-01-07|    2022-02-26|         0.0|[{'text': 'StandW...|      en|           0.0|      null|           null| 2022-02-26|       8.0|    2022-02-26|     106000.0|5.33E-4|now is the time t...| 0.07832402735948563|  0.7999049425125122| 0.12177100032567978|\n",
            "|  2|          axelk|   5766.0|   5329.0|   119448.0|   2007-06-14|    2022-02-26|         4.0|                  []|      en|           0.0|      null|           null| 2022-02-26|       8.0|    2022-02-26|     106000.0|5.33E-4|just grasping at ...| 0.14749988913536072|  0.8244428634643555|0.028057189658284187|\n",
            "|  3|         ds2719|    294.0|    172.0|    15270.0|   2007-07-21|    2022-02-26|       894.0|                  []|      en|           0.0|      null|           null| 2022-02-26|       8.0|    2022-02-26|     106000.0|5.33E-4|this is huge russ...|  0.8839549422264099| 0.10992876440286636|0.006116343662142754|\n",
            "|  4|scholar_at_arms|    975.0|     75.0|     1988.0|   2008-09-26|    2022-02-26|         0.0|[{'text': 'KyivDe...|      en|           0.0|      null|           null| 2022-02-26|       8.0|    2022-02-26|     106000.0|5.33E-4|    please take care| 0.06343661993741989|  0.6434507369995117|  0.2931126654148102|\n",
            "|  5|         ronlin|   5055.0|  13180.0|    18953.0|   2008-04-22|    2022-02-26|        98.0|[{'text': 'Kyiv',...|      en|           0.0|      null|           null| 2022-02-26|       8.0|    2022-02-26|     106000.0|5.33E-4|     building hit in|  0.1364041119813919|  0.6727378368377686| 0.19085803627967834|\n",
            "|  6|        catmuir|    772.0|    161.0|     4843.0|   2006-12-06|    2022-02-26|      2407.0|                  []|      en|           0.0|      null|           null| 2022-02-26|       8.0|    2022-02-26|     106000.0|5.33E-4|faith in humanity...|0.002919120248407...|0.033193085342645645|  0.9638878703117371|\n",
            "|  7|        kimvais|    706.0|    262.0|     5145.0|   2008-04-25|    2022-02-26|        78.0|                  []|      en|           0.0|      null|           null| 2022-02-26|       8.0|    2022-02-26|     106000.0|5.33E-4|since finnish pol...| 0.11655925959348679|  0.8311118483543396| 0.05232888087630272|\n",
            "|  8|michpendergrass|    150.0|   1526.0|    30428.0|   2008-04-08|    2022-02-26|      4196.0|[{'text': 'Kyiv',...|      en|           0.0|      null|           null| 2022-02-26|       8.0|    2022-02-26|     106000.0|5.33E-4|in 60 mins will b...|  0.8187430500984192| 0.17362196743488312|0.007634981535375118|\n",
            "|  9|         ccc530|   1046.0|    172.0|    12741.0|   2008-07-20|    2022-02-26|         4.0|[{'text': 'Ukrain...|      en|           0.0|      null|           null| 2022-02-26|       8.0|    2022-02-26|     106000.0|5.33E-4|i cant wait for t...|0.007732528261840...| 0.02516697533428669|  0.9671004414558411|\n",
            "| 10|     dSebastien|    120.0|   1666.0|     9383.0|   2007-09-08|    2022-02-26|      9639.0|                  []|      en|           0.0|      null|           null| 2022-02-26|       8.0|    2022-02-26|     106000.0|5.33E-4|so ive been asked...|  0.3604144752025604|  0.6137970089912415|0.025788525119423866|\n",
            "| 11|       SaraSees|    174.0|    159.0|     1473.0|   2008-07-30|    2022-02-26|       567.0|[{'text': 'Ukrain...|      en|           0.0|      null|           null| 2022-02-26|       8.0|    2022-02-26|     106000.0|5.33E-4|      rip braveheart| 0.01728304848074913|  0.4310351014137268|  0.5516818761825562|\n",
            "| 12|      jacarroll|     64.0|    254.0|      111.0|   2008-01-07|    2022-02-26|         0.0|[{'text': 'Freedo...|      en|           0.0|      null|           null| 2022-02-26|       8.0|    2022-02-26|     106000.0|5.33E-4|wonder how all th...|  0.7072803974151611|  0.2759404182434082|0.016779163852334023|\n",
            "| 13| mistergrainger|    732.0|    355.0|     1925.0|   2008-04-28|    2022-02-26|       131.0|                  []|      en|           0.0|      null|           null| 2022-02-26|       8.0|    2022-02-26|     106000.0|5.33E-4|pr agency friends...| 0.17842553555965424|  0.6558187007904053| 0.16575568914413452|\n",
            "| 14|         Maartn|    762.0|  19633.0|    12984.0|   2008-12-14|    2022-02-26|      8194.0|[{'text': 'Russia...|      en|           0.0|      null|           null| 2022-02-26|       8.0|    2022-02-26|     106000.0|5.33E-4|just in state tv ...|  0.5507236123085022| 0.43690672516822815|0.012369711883366108|\n",
            "| 15|        0xKruzr|   1487.0|   3021.0|   234295.0|   2007-04-23|    2022-02-26|       336.0|[{'text': 'PutinH...|      en|           0.0|      null|           null| 2022-02-26|       8.0|    2022-02-26|     106000.0|5.33E-4|residential area ...| 0.21445541083812714|  0.7651109099388123|0.020433666184544563|\n",
            "| 16|    firejack007|   1085.0|    520.0|    56005.0|   2008-09-24|    2022-02-26|         6.0|[{'text': 'BREAKI...|      en|           0.0|      null|           null| 2022-02-26|       8.0|    2022-02-26|     106000.0|5.33E-4| mariupol is bein...|  0.6662042140960693|  0.3265540599822998|0.007241743616759777|\n",
            "| 17|       gcruchon|   1224.0|    778.0|     5130.0|   2008-08-23|    2022-02-26|         0.0|[{'text': 'Anonym...|      en|           0.0|      null|           null| 2022-02-26|       8.0|    2022-02-26|     106000.0|5.33E-4|so proud of  the ...|0.006055434700101614| 0.11299528181552887|  0.8809493184089661|\n",
            "| 18|      crazyintx|    801.0|    158.0|    12580.0|   2008-11-10|    2022-02-26|        63.0|[{'text': 'kyiv',...|      en|           0.0|      null|           null| 2022-02-26|       8.0|    2022-02-26|     106000.0|5.33E-4|air raid sirens  ...|  0.2825124263763428|  0.6869344711303711|0.030553089454770088|\n",
            "| 19|      proudmari|   1834.0|    517.0|    20397.0|   2008-03-20|    2022-02-26|      8996.0|[{'text': 'Ukrain...|      en|           0.0|      null|           null| 2022-02-26|       8.0|    2022-02-26|     106000.0|5.33E-4|russian state tv ...|  0.6606462597846985|  0.3296593129634857| 0.00969446450471878|\n",
            "+---+---------------+---------+---------+-----------+-------------+--------------+------------+--------------------+--------+--------------+----------+---------------+-----------+----------+--------------+-------------+-------+--------------------+--------------------+--------------------+--------------------+\n",
            "only showing top 20 rows\n",
            "\n"
          ]
        }
      ]
    },
    {
      "cell_type": "markdown",
      "source": [
        "# Exploring the taken data"
      ],
      "metadata": {
        "id": "JDL7G1xM8IGS"
      }
    },
    {
      "cell_type": "code",
      "source": [
        "# Convert DataFrame to Pandas\n",
        "joined_data_df = text_df.toPandas()\n",
        "print(joined_data_df.shape)\n",
        "joined_data_df.head(5)"
      ],
      "metadata": {
        "colab": {
          "base_uri": "https://localhost:8080/",
          "height": 552
        },
        "id": "uuT--9TCa9T2",
        "outputId": "bf4cf95c-2e96-4a92-d05b-27a0142f4c40"
      },
      "execution_count": 29,
      "outputs": [
        {
          "output_type": "stream",
          "name": "stdout",
          "text": [
            "(713009, 22)\n"
          ]
        },
        {
          "output_type": "execute_result",
          "data": {
            "text/plain": [
              "   _c0         username  following  followers  totaltweets usercreatedts  \\\n",
              "0    0        WashTimes     1893.0   417389.0     335685.0    2008-05-05   \n",
              "1    1        jacarroll       64.0      254.0        110.0    2008-01-07   \n",
              "2    2            axelk     5766.0     5329.0     119448.0    2007-06-14   \n",
              "3    3           ds2719      294.0      172.0      15270.0    2007-07-21   \n",
              "4    4  scholar_at_arms      975.0       75.0       1988.0    2008-09-26   \n",
              "\n",
              "  tweetcreatedts  retweetcount  \\\n",
              "0     2022-02-26           0.0   \n",
              "1     2022-02-26           0.0   \n",
              "2     2022-02-26           4.0   \n",
              "3     2022-02-26         894.0   \n",
              "4     2022-02-26           0.0   \n",
              "\n",
              "                                            hashtags language  ...  \\\n",
              "0  [{'text': 'UkraineCrisis', 'indices': [102, 11...       en  ...   \n",
              "1  [{'text': 'StandWithUkriane', 'indices': [58, ...       en  ...   \n",
              "2                                                 []       en  ...   \n",
              "3                                                 []       en  ...   \n",
              "4  [{'text': 'KyivDefiant', 'indices': [18, 30]},...       en  ...   \n",
              "\n",
              "   is_quote_status extractedts weekofyear date_published  search_result  \\\n",
              "0             None  2022-02-26        8.0     2022-02-26       106000.0   \n",
              "1             None  2022-02-26        8.0     2022-02-26       106000.0   \n",
              "2             None  2022-02-26        8.0     2022-02-26       106000.0   \n",
              "3             None  2022-02-26        8.0     2022-02-26       106000.0   \n",
              "4             None  2022-02-26        8.0     2022-02-26       106000.0   \n",
              "\n",
              "     weight                                       cleaned_text  negative  \\\n",
              "0  0.000533  democrats urge biden to counter pain at pump w...  0.222473   \n",
              "1  0.000533           now is the time to annex cuba just sayin  0.078324   \n",
              "2  0.000533  just grasping at straws here but does anyone h...  0.147500   \n",
              "3  0.000533  this is huge russia will be expelled from the ...  0.883955   \n",
              "4  0.000533                                   please take care  0.063437   \n",
              "\n",
              "    neutral  positive  \n",
              "0  0.747085  0.030443  \n",
              "1  0.799905  0.121771  \n",
              "2  0.824443  0.028057  \n",
              "3  0.109929  0.006116  \n",
              "4  0.643451  0.293113  \n",
              "\n",
              "[5 rows x 22 columns]"
            ],
            "text/html": [
              "\n",
              "  <div id=\"df-971604e3-8170-4675-9de3-625357df2e42\">\n",
              "    <div class=\"colab-df-container\">\n",
              "      <div>\n",
              "<style scoped>\n",
              "    .dataframe tbody tr th:only-of-type {\n",
              "        vertical-align: middle;\n",
              "    }\n",
              "\n",
              "    .dataframe tbody tr th {\n",
              "        vertical-align: top;\n",
              "    }\n",
              "\n",
              "    .dataframe thead th {\n",
              "        text-align: right;\n",
              "    }\n",
              "</style>\n",
              "<table border=\"1\" class=\"dataframe\">\n",
              "  <thead>\n",
              "    <tr style=\"text-align: right;\">\n",
              "      <th></th>\n",
              "      <th>_c0</th>\n",
              "      <th>username</th>\n",
              "      <th>following</th>\n",
              "      <th>followers</th>\n",
              "      <th>totaltweets</th>\n",
              "      <th>usercreatedts</th>\n",
              "      <th>tweetcreatedts</th>\n",
              "      <th>retweetcount</th>\n",
              "      <th>hashtags</th>\n",
              "      <th>language</th>\n",
              "      <th>...</th>\n",
              "      <th>is_quote_status</th>\n",
              "      <th>extractedts</th>\n",
              "      <th>weekofyear</th>\n",
              "      <th>date_published</th>\n",
              "      <th>search_result</th>\n",
              "      <th>weight</th>\n",
              "      <th>cleaned_text</th>\n",
              "      <th>negative</th>\n",
              "      <th>neutral</th>\n",
              "      <th>positive</th>\n",
              "    </tr>\n",
              "  </thead>\n",
              "  <tbody>\n",
              "    <tr>\n",
              "      <th>0</th>\n",
              "      <td>0</td>\n",
              "      <td>WashTimes</td>\n",
              "      <td>1893.0</td>\n",
              "      <td>417389.0</td>\n",
              "      <td>335685.0</td>\n",
              "      <td>2008-05-05</td>\n",
              "      <td>2022-02-26</td>\n",
              "      <td>0.0</td>\n",
              "      <td>[{'text': 'UkraineCrisis', 'indices': [102, 11...</td>\n",
              "      <td>en</td>\n",
              "      <td>...</td>\n",
              "      <td>None</td>\n",
              "      <td>2022-02-26</td>\n",
              "      <td>8.0</td>\n",
              "      <td>2022-02-26</td>\n",
              "      <td>106000.0</td>\n",
              "      <td>0.000533</td>\n",
              "      <td>democrats urge biden to counter pain at pump w...</td>\n",
              "      <td>0.222473</td>\n",
              "      <td>0.747085</td>\n",
              "      <td>0.030443</td>\n",
              "    </tr>\n",
              "    <tr>\n",
              "      <th>1</th>\n",
              "      <td>1</td>\n",
              "      <td>jacarroll</td>\n",
              "      <td>64.0</td>\n",
              "      <td>254.0</td>\n",
              "      <td>110.0</td>\n",
              "      <td>2008-01-07</td>\n",
              "      <td>2022-02-26</td>\n",
              "      <td>0.0</td>\n",
              "      <td>[{'text': 'StandWithUkriane', 'indices': [58, ...</td>\n",
              "      <td>en</td>\n",
              "      <td>...</td>\n",
              "      <td>None</td>\n",
              "      <td>2022-02-26</td>\n",
              "      <td>8.0</td>\n",
              "      <td>2022-02-26</td>\n",
              "      <td>106000.0</td>\n",
              "      <td>0.000533</td>\n",
              "      <td>now is the time to annex cuba just sayin</td>\n",
              "      <td>0.078324</td>\n",
              "      <td>0.799905</td>\n",
              "      <td>0.121771</td>\n",
              "    </tr>\n",
              "    <tr>\n",
              "      <th>2</th>\n",
              "      <td>2</td>\n",
              "      <td>axelk</td>\n",
              "      <td>5766.0</td>\n",
              "      <td>5329.0</td>\n",
              "      <td>119448.0</td>\n",
              "      <td>2007-06-14</td>\n",
              "      <td>2022-02-26</td>\n",
              "      <td>4.0</td>\n",
              "      <td>[]</td>\n",
              "      <td>en</td>\n",
              "      <td>...</td>\n",
              "      <td>None</td>\n",
              "      <td>2022-02-26</td>\n",
              "      <td>8.0</td>\n",
              "      <td>2022-02-26</td>\n",
              "      <td>106000.0</td>\n",
              "      <td>0.000533</td>\n",
              "      <td>just grasping at straws here but does anyone h...</td>\n",
              "      <td>0.147500</td>\n",
              "      <td>0.824443</td>\n",
              "      <td>0.028057</td>\n",
              "    </tr>\n",
              "    <tr>\n",
              "      <th>3</th>\n",
              "      <td>3</td>\n",
              "      <td>ds2719</td>\n",
              "      <td>294.0</td>\n",
              "      <td>172.0</td>\n",
              "      <td>15270.0</td>\n",
              "      <td>2007-07-21</td>\n",
              "      <td>2022-02-26</td>\n",
              "      <td>894.0</td>\n",
              "      <td>[]</td>\n",
              "      <td>en</td>\n",
              "      <td>...</td>\n",
              "      <td>None</td>\n",
              "      <td>2022-02-26</td>\n",
              "      <td>8.0</td>\n",
              "      <td>2022-02-26</td>\n",
              "      <td>106000.0</td>\n",
              "      <td>0.000533</td>\n",
              "      <td>this is huge russia will be expelled from the ...</td>\n",
              "      <td>0.883955</td>\n",
              "      <td>0.109929</td>\n",
              "      <td>0.006116</td>\n",
              "    </tr>\n",
              "    <tr>\n",
              "      <th>4</th>\n",
              "      <td>4</td>\n",
              "      <td>scholar_at_arms</td>\n",
              "      <td>975.0</td>\n",
              "      <td>75.0</td>\n",
              "      <td>1988.0</td>\n",
              "      <td>2008-09-26</td>\n",
              "      <td>2022-02-26</td>\n",
              "      <td>0.0</td>\n",
              "      <td>[{'text': 'KyivDefiant', 'indices': [18, 30]},...</td>\n",
              "      <td>en</td>\n",
              "      <td>...</td>\n",
              "      <td>None</td>\n",
              "      <td>2022-02-26</td>\n",
              "      <td>8.0</td>\n",
              "      <td>2022-02-26</td>\n",
              "      <td>106000.0</td>\n",
              "      <td>0.000533</td>\n",
              "      <td>please take care</td>\n",
              "      <td>0.063437</td>\n",
              "      <td>0.643451</td>\n",
              "      <td>0.293113</td>\n",
              "    </tr>\n",
              "  </tbody>\n",
              "</table>\n",
              "<p>5 rows × 22 columns</p>\n",
              "</div>\n",
              "      <button class=\"colab-df-convert\" onclick=\"convertToInteractive('df-971604e3-8170-4675-9de3-625357df2e42')\"\n",
              "              title=\"Convert this dataframe to an interactive table.\"\n",
              "              style=\"display:none;\">\n",
              "        \n",
              "  <svg xmlns=\"http://www.w3.org/2000/svg\" height=\"24px\"viewBox=\"0 0 24 24\"\n",
              "       width=\"24px\">\n",
              "    <path d=\"M0 0h24v24H0V0z\" fill=\"none\"/>\n",
              "    <path d=\"M18.56 5.44l.94 2.06.94-2.06 2.06-.94-2.06-.94-.94-2.06-.94 2.06-2.06.94zm-11 1L8.5 8.5l.94-2.06 2.06-.94-2.06-.94L8.5 2.5l-.94 2.06-2.06.94zm10 10l.94 2.06.94-2.06 2.06-.94-2.06-.94-.94-2.06-.94 2.06-2.06.94z\"/><path d=\"M17.41 7.96l-1.37-1.37c-.4-.4-.92-.59-1.43-.59-.52 0-1.04.2-1.43.59L10.3 9.45l-7.72 7.72c-.78.78-.78 2.05 0 2.83L4 21.41c.39.39.9.59 1.41.59.51 0 1.02-.2 1.41-.59l7.78-7.78 2.81-2.81c.8-.78.8-2.07 0-2.86zM5.41 20L4 18.59l7.72-7.72 1.47 1.35L5.41 20z\"/>\n",
              "  </svg>\n",
              "      </button>\n",
              "      \n",
              "  <style>\n",
              "    .colab-df-container {\n",
              "      display:flex;\n",
              "      flex-wrap:wrap;\n",
              "      gap: 12px;\n",
              "    }\n",
              "\n",
              "    .colab-df-convert {\n",
              "      background-color: #E8F0FE;\n",
              "      border: none;\n",
              "      border-radius: 50%;\n",
              "      cursor: pointer;\n",
              "      display: none;\n",
              "      fill: #1967D2;\n",
              "      height: 32px;\n",
              "      padding: 0 0 0 0;\n",
              "      width: 32px;\n",
              "    }\n",
              "\n",
              "    .colab-df-convert:hover {\n",
              "      background-color: #E2EBFA;\n",
              "      box-shadow: 0px 1px 2px rgba(60, 64, 67, 0.3), 0px 1px 3px 1px rgba(60, 64, 67, 0.15);\n",
              "      fill: #174EA6;\n",
              "    }\n",
              "\n",
              "    [theme=dark] .colab-df-convert {\n",
              "      background-color: #3B4455;\n",
              "      fill: #D2E3FC;\n",
              "    }\n",
              "\n",
              "    [theme=dark] .colab-df-convert:hover {\n",
              "      background-color: #434B5C;\n",
              "      box-shadow: 0px 1px 3px 1px rgba(0, 0, 0, 0.15);\n",
              "      filter: drop-shadow(0px 1px 2px rgba(0, 0, 0, 0.3));\n",
              "      fill: #FFFFFF;\n",
              "    }\n",
              "  </style>\n",
              "\n",
              "      <script>\n",
              "        const buttonEl =\n",
              "          document.querySelector('#df-971604e3-8170-4675-9de3-625357df2e42 button.colab-df-convert');\n",
              "        buttonEl.style.display =\n",
              "          google.colab.kernel.accessAllowed ? 'block' : 'none';\n",
              "\n",
              "        async function convertToInteractive(key) {\n",
              "          const element = document.querySelector('#df-971604e3-8170-4675-9de3-625357df2e42');\n",
              "          const dataTable =\n",
              "            await google.colab.kernel.invokeFunction('convertToInteractive',\n",
              "                                                     [key], {});\n",
              "          if (!dataTable) return;\n",
              "\n",
              "          const docLinkHtml = 'Like what you see? Visit the ' +\n",
              "            '<a target=\"_blank\" href=https://colab.research.google.com/notebooks/data_table.ipynb>data table notebook</a>'\n",
              "            + ' to learn more about interactive tables.';\n",
              "          element.innerHTML = '';\n",
              "          dataTable['output_type'] = 'display_data';\n",
              "          await google.colab.output.renderOutput(dataTable, element);\n",
              "          const docLink = document.createElement('div');\n",
              "          docLink.innerHTML = docLinkHtml;\n",
              "          element.appendChild(docLink);\n",
              "        }\n",
              "      </script>\n",
              "    </div>\n",
              "  </div>\n",
              "  "
            ]
          },
          "metadata": {},
          "execution_count": 29
        }
      ]
    },
    {
      "cell_type": "code",
      "source": [
        "# Change the dtypes of tweetcreatedts\n",
        "joined_data_df[\"tweetcreatedts\"] = pd.to_datetime(joined_data_df[\"tweetcreatedts\"])\n",
        "\n",
        "# drop the row with any NaT values in the tweetcreatedts column\n",
        "joined_data_df = joined_data_df.dropna(axis=0, subset=['tweetcreatedts']) \n",
        "joined_data_df.shape"
      ],
      "metadata": {
        "colab": {
          "base_uri": "https://localhost:8080/"
        },
        "id": "KcLjIUlU7poR",
        "outputId": "063783a8-fdd5-4447-9039-23cd7f13d04b"
      },
      "execution_count": 30,
      "outputs": [
        {
          "output_type": "execute_result",
          "data": {
            "text/plain": [
              "(713008, 22)"
            ]
          },
          "metadata": {},
          "execution_count": 30
        }
      ]
    },
    {
      "cell_type": "code",
      "source": [
        "# convert text to text lenght and drop the text\n",
        "joined_data_df['text_length']  = joined_data_df['cleaned_text'].str.len()\n",
        "joined_data_df.drop(\"cleaned_text\", axis=1, inplace=True)"
      ],
      "metadata": {
        "id": "omRe6zR2AUgg"
      },
      "execution_count": 31,
      "outputs": []
    },
    {
      "cell_type": "code",
      "source": [
        "# Change object type to boolean for columns 'is_retweet' and 'is_quote_status'\n",
        "joined_data_df[\"is_retweet\"] = joined_data_df['is_retweet'].astype(bool)\n",
        "joined_data_df[\"is_quote_status\"] = joined_data_df['is_quote_status'].astype(bool)\n",
        "# Replace boolean columns\n",
        "joined_data_df['is_retweet'] = joined_data_df['is_retweet'].astype(int)\n",
        "joined_data_df['is_quote_status'] = joined_data_df['is_quote_status'].astype(int)\n",
        "joined_data_df.head()"
      ],
      "metadata": {
        "colab": {
          "base_uri": "https://localhost:8080/",
          "height": 416
        },
        "id": "7PtyZelrAaEu",
        "outputId": "44df8d5a-c965-4133-b57f-b689560d1f0d"
      },
      "execution_count": 32,
      "outputs": [
        {
          "output_type": "execute_result",
          "data": {
            "text/plain": [
              "   _c0         username  following  followers  totaltweets usercreatedts  \\\n",
              "0    0        WashTimes     1893.0   417389.0     335685.0    2008-05-05   \n",
              "1    1        jacarroll       64.0      254.0        110.0    2008-01-07   \n",
              "2    2            axelk     5766.0     5329.0     119448.0    2007-06-14   \n",
              "3    3           ds2719      294.0      172.0      15270.0    2007-07-21   \n",
              "4    4  scholar_at_arms      975.0       75.0       1988.0    2008-09-26   \n",
              "\n",
              "  tweetcreatedts  retweetcount  \\\n",
              "0     2022-02-26           0.0   \n",
              "1     2022-02-26           0.0   \n",
              "2     2022-02-26           4.0   \n",
              "3     2022-02-26         894.0   \n",
              "4     2022-02-26           0.0   \n",
              "\n",
              "                                            hashtags language  ...  \\\n",
              "0  [{'text': 'UkraineCrisis', 'indices': [102, 11...       en  ...   \n",
              "1  [{'text': 'StandWithUkriane', 'indices': [58, ...       en  ...   \n",
              "2                                                 []       en  ...   \n",
              "3                                                 []       en  ...   \n",
              "4  [{'text': 'KyivDefiant', 'indices': [18, 30]},...       en  ...   \n",
              "\n",
              "   is_quote_status  extractedts  weekofyear date_published  search_result  \\\n",
              "0                0   2022-02-26         8.0     2022-02-26       106000.0   \n",
              "1                0   2022-02-26         8.0     2022-02-26       106000.0   \n",
              "2                0   2022-02-26         8.0     2022-02-26       106000.0   \n",
              "3                0   2022-02-26         8.0     2022-02-26       106000.0   \n",
              "4                0   2022-02-26         8.0     2022-02-26       106000.0   \n",
              "\n",
              "     weight  negative   neutral  positive  text_length  \n",
              "0  0.000533  0.222473  0.747085  0.030443         77.0  \n",
              "1  0.000533  0.078324  0.799905  0.121771         40.0  \n",
              "2  0.000533  0.147500  0.824443  0.028057        138.0  \n",
              "3  0.000533  0.883955  0.109929  0.006116        220.0  \n",
              "4  0.000533  0.063437  0.643451  0.293113         16.0  \n",
              "\n",
              "[5 rows x 22 columns]"
            ],
            "text/html": [
              "\n",
              "  <div id=\"df-c57dde68-eddc-4e3e-abd9-f0bdd0d1f980\">\n",
              "    <div class=\"colab-df-container\">\n",
              "      <div>\n",
              "<style scoped>\n",
              "    .dataframe tbody tr th:only-of-type {\n",
              "        vertical-align: middle;\n",
              "    }\n",
              "\n",
              "    .dataframe tbody tr th {\n",
              "        vertical-align: top;\n",
              "    }\n",
              "\n",
              "    .dataframe thead th {\n",
              "        text-align: right;\n",
              "    }\n",
              "</style>\n",
              "<table border=\"1\" class=\"dataframe\">\n",
              "  <thead>\n",
              "    <tr style=\"text-align: right;\">\n",
              "      <th></th>\n",
              "      <th>_c0</th>\n",
              "      <th>username</th>\n",
              "      <th>following</th>\n",
              "      <th>followers</th>\n",
              "      <th>totaltweets</th>\n",
              "      <th>usercreatedts</th>\n",
              "      <th>tweetcreatedts</th>\n",
              "      <th>retweetcount</th>\n",
              "      <th>hashtags</th>\n",
              "      <th>language</th>\n",
              "      <th>...</th>\n",
              "      <th>is_quote_status</th>\n",
              "      <th>extractedts</th>\n",
              "      <th>weekofyear</th>\n",
              "      <th>date_published</th>\n",
              "      <th>search_result</th>\n",
              "      <th>weight</th>\n",
              "      <th>negative</th>\n",
              "      <th>neutral</th>\n",
              "      <th>positive</th>\n",
              "      <th>text_length</th>\n",
              "    </tr>\n",
              "  </thead>\n",
              "  <tbody>\n",
              "    <tr>\n",
              "      <th>0</th>\n",
              "      <td>0</td>\n",
              "      <td>WashTimes</td>\n",
              "      <td>1893.0</td>\n",
              "      <td>417389.0</td>\n",
              "      <td>335685.0</td>\n",
              "      <td>2008-05-05</td>\n",
              "      <td>2022-02-26</td>\n",
              "      <td>0.0</td>\n",
              "      <td>[{'text': 'UkraineCrisis', 'indices': [102, 11...</td>\n",
              "      <td>en</td>\n",
              "      <td>...</td>\n",
              "      <td>0</td>\n",
              "      <td>2022-02-26</td>\n",
              "      <td>8.0</td>\n",
              "      <td>2022-02-26</td>\n",
              "      <td>106000.0</td>\n",
              "      <td>0.000533</td>\n",
              "      <td>0.222473</td>\n",
              "      <td>0.747085</td>\n",
              "      <td>0.030443</td>\n",
              "      <td>77.0</td>\n",
              "    </tr>\n",
              "    <tr>\n",
              "      <th>1</th>\n",
              "      <td>1</td>\n",
              "      <td>jacarroll</td>\n",
              "      <td>64.0</td>\n",
              "      <td>254.0</td>\n",
              "      <td>110.0</td>\n",
              "      <td>2008-01-07</td>\n",
              "      <td>2022-02-26</td>\n",
              "      <td>0.0</td>\n",
              "      <td>[{'text': 'StandWithUkriane', 'indices': [58, ...</td>\n",
              "      <td>en</td>\n",
              "      <td>...</td>\n",
              "      <td>0</td>\n",
              "      <td>2022-02-26</td>\n",
              "      <td>8.0</td>\n",
              "      <td>2022-02-26</td>\n",
              "      <td>106000.0</td>\n",
              "      <td>0.000533</td>\n",
              "      <td>0.078324</td>\n",
              "      <td>0.799905</td>\n",
              "      <td>0.121771</td>\n",
              "      <td>40.0</td>\n",
              "    </tr>\n",
              "    <tr>\n",
              "      <th>2</th>\n",
              "      <td>2</td>\n",
              "      <td>axelk</td>\n",
              "      <td>5766.0</td>\n",
              "      <td>5329.0</td>\n",
              "      <td>119448.0</td>\n",
              "      <td>2007-06-14</td>\n",
              "      <td>2022-02-26</td>\n",
              "      <td>4.0</td>\n",
              "      <td>[]</td>\n",
              "      <td>en</td>\n",
              "      <td>...</td>\n",
              "      <td>0</td>\n",
              "      <td>2022-02-26</td>\n",
              "      <td>8.0</td>\n",
              "      <td>2022-02-26</td>\n",
              "      <td>106000.0</td>\n",
              "      <td>0.000533</td>\n",
              "      <td>0.147500</td>\n",
              "      <td>0.824443</td>\n",
              "      <td>0.028057</td>\n",
              "      <td>138.0</td>\n",
              "    </tr>\n",
              "    <tr>\n",
              "      <th>3</th>\n",
              "      <td>3</td>\n",
              "      <td>ds2719</td>\n",
              "      <td>294.0</td>\n",
              "      <td>172.0</td>\n",
              "      <td>15270.0</td>\n",
              "      <td>2007-07-21</td>\n",
              "      <td>2022-02-26</td>\n",
              "      <td>894.0</td>\n",
              "      <td>[]</td>\n",
              "      <td>en</td>\n",
              "      <td>...</td>\n",
              "      <td>0</td>\n",
              "      <td>2022-02-26</td>\n",
              "      <td>8.0</td>\n",
              "      <td>2022-02-26</td>\n",
              "      <td>106000.0</td>\n",
              "      <td>0.000533</td>\n",
              "      <td>0.883955</td>\n",
              "      <td>0.109929</td>\n",
              "      <td>0.006116</td>\n",
              "      <td>220.0</td>\n",
              "    </tr>\n",
              "    <tr>\n",
              "      <th>4</th>\n",
              "      <td>4</td>\n",
              "      <td>scholar_at_arms</td>\n",
              "      <td>975.0</td>\n",
              "      <td>75.0</td>\n",
              "      <td>1988.0</td>\n",
              "      <td>2008-09-26</td>\n",
              "      <td>2022-02-26</td>\n",
              "      <td>0.0</td>\n",
              "      <td>[{'text': 'KyivDefiant', 'indices': [18, 30]},...</td>\n",
              "      <td>en</td>\n",
              "      <td>...</td>\n",
              "      <td>0</td>\n",
              "      <td>2022-02-26</td>\n",
              "      <td>8.0</td>\n",
              "      <td>2022-02-26</td>\n",
              "      <td>106000.0</td>\n",
              "      <td>0.000533</td>\n",
              "      <td>0.063437</td>\n",
              "      <td>0.643451</td>\n",
              "      <td>0.293113</td>\n",
              "      <td>16.0</td>\n",
              "    </tr>\n",
              "  </tbody>\n",
              "</table>\n",
              "<p>5 rows × 22 columns</p>\n",
              "</div>\n",
              "      <button class=\"colab-df-convert\" onclick=\"convertToInteractive('df-c57dde68-eddc-4e3e-abd9-f0bdd0d1f980')\"\n",
              "              title=\"Convert this dataframe to an interactive table.\"\n",
              "              style=\"display:none;\">\n",
              "        \n",
              "  <svg xmlns=\"http://www.w3.org/2000/svg\" height=\"24px\"viewBox=\"0 0 24 24\"\n",
              "       width=\"24px\">\n",
              "    <path d=\"M0 0h24v24H0V0z\" fill=\"none\"/>\n",
              "    <path d=\"M18.56 5.44l.94 2.06.94-2.06 2.06-.94-2.06-.94-.94-2.06-.94 2.06-2.06.94zm-11 1L8.5 8.5l.94-2.06 2.06-.94-2.06-.94L8.5 2.5l-.94 2.06-2.06.94zm10 10l.94 2.06.94-2.06 2.06-.94-2.06-.94-.94-2.06-.94 2.06-2.06.94z\"/><path d=\"M17.41 7.96l-1.37-1.37c-.4-.4-.92-.59-1.43-.59-.52 0-1.04.2-1.43.59L10.3 9.45l-7.72 7.72c-.78.78-.78 2.05 0 2.83L4 21.41c.39.39.9.59 1.41.59.51 0 1.02-.2 1.41-.59l7.78-7.78 2.81-2.81c.8-.78.8-2.07 0-2.86zM5.41 20L4 18.59l7.72-7.72 1.47 1.35L5.41 20z\"/>\n",
              "  </svg>\n",
              "      </button>\n",
              "      \n",
              "  <style>\n",
              "    .colab-df-container {\n",
              "      display:flex;\n",
              "      flex-wrap:wrap;\n",
              "      gap: 12px;\n",
              "    }\n",
              "\n",
              "    .colab-df-convert {\n",
              "      background-color: #E8F0FE;\n",
              "      border: none;\n",
              "      border-radius: 50%;\n",
              "      cursor: pointer;\n",
              "      display: none;\n",
              "      fill: #1967D2;\n",
              "      height: 32px;\n",
              "      padding: 0 0 0 0;\n",
              "      width: 32px;\n",
              "    }\n",
              "\n",
              "    .colab-df-convert:hover {\n",
              "      background-color: #E2EBFA;\n",
              "      box-shadow: 0px 1px 2px rgba(60, 64, 67, 0.3), 0px 1px 3px 1px rgba(60, 64, 67, 0.15);\n",
              "      fill: #174EA6;\n",
              "    }\n",
              "\n",
              "    [theme=dark] .colab-df-convert {\n",
              "      background-color: #3B4455;\n",
              "      fill: #D2E3FC;\n",
              "    }\n",
              "\n",
              "    [theme=dark] .colab-df-convert:hover {\n",
              "      background-color: #434B5C;\n",
              "      box-shadow: 0px 1px 3px 1px rgba(0, 0, 0, 0.15);\n",
              "      filter: drop-shadow(0px 1px 2px rgba(0, 0, 0, 0.3));\n",
              "      fill: #FFFFFF;\n",
              "    }\n",
              "  </style>\n",
              "\n",
              "      <script>\n",
              "        const buttonEl =\n",
              "          document.querySelector('#df-c57dde68-eddc-4e3e-abd9-f0bdd0d1f980 button.colab-df-convert');\n",
              "        buttonEl.style.display =\n",
              "          google.colab.kernel.accessAllowed ? 'block' : 'none';\n",
              "\n",
              "        async function convertToInteractive(key) {\n",
              "          const element = document.querySelector('#df-c57dde68-eddc-4e3e-abd9-f0bdd0d1f980');\n",
              "          const dataTable =\n",
              "            await google.colab.kernel.invokeFunction('convertToInteractive',\n",
              "                                                     [key], {});\n",
              "          if (!dataTable) return;\n",
              "\n",
              "          const docLinkHtml = 'Like what you see? Visit the ' +\n",
              "            '<a target=\"_blank\" href=https://colab.research.google.com/notebooks/data_table.ipynb>data table notebook</a>'\n",
              "            + ' to learn more about interactive tables.';\n",
              "          element.innerHTML = '';\n",
              "          dataTable['output_type'] = 'display_data';\n",
              "          await google.colab.output.renderOutput(dataTable, element);\n",
              "          const docLink = document.createElement('div');\n",
              "          docLink.innerHTML = docLinkHtml;\n",
              "          element.appendChild(docLink);\n",
              "        }\n",
              "      </script>\n",
              "    </div>\n",
              "  </div>\n",
              "  "
            ]
          },
          "metadata": {},
          "execution_count": 32
        }
      ]
    },
    {
      "cell_type": "code",
      "source": [
        "# Drop the not needed column\n",
        "joined_data_df.drop(\"username\", axis=1, inplace=True)\n",
        "joined_data_df.drop(\"usercreatedts\", axis=1, inplace=True)\n",
        "joined_data_df.drop(\"language\", axis=1, inplace=True)\n",
        "joined_data_df.drop(\"favorite_count\", axis=1, inplace=True)\n",
        "joined_data_df.drop(\"extractedts\", axis=1, inplace=True)\n",
        "joined_data_df.drop(\"weekofyear\", axis=1, inplace=True)\n",
        "joined_data_df.drop(\"neutral\", axis=1, inplace=True)\n",
        "joined_data_df.drop(\"positive\", axis=1, inplace=True)\n",
        "joined_data_df.drop(\"search_result\", axis=1, inplace=True)\n",
        "joined_data_df.drop(\"retweetcount\", axis=1, inplace=True)\n",
        "joined_data_df.drop(\"date_published\", axis=1, inplace=True)\n",
        "joined_data_df.drop(\"hashtags\", axis=1, inplace=True)"
      ],
      "metadata": {
        "id": "Paw4rJh8fh3T"
      },
      "execution_count": 33,
      "outputs": []
    },
    {
      "cell_type": "code",
      "source": [
        "# Check data types\n",
        "joined_data_df.info()"
      ],
      "metadata": {
        "colab": {
          "base_uri": "https://localhost:8080/"
        },
        "id": "MmvG3a1I8aQt",
        "outputId": "87252222-d509-49b0-f9bc-a851ff3f3ad1"
      },
      "execution_count": 34,
      "outputs": [
        {
          "output_type": "stream",
          "name": "stdout",
          "text": [
            "<class 'pandas.core.frame.DataFrame'>\n",
            "Int64Index: 713008 entries, 0 to 713007\n",
            "Data columns (total 10 columns):\n",
            " #   Column           Non-Null Count   Dtype         \n",
            "---  ------           --------------   -----         \n",
            " 0   _c0              713008 non-null  int32         \n",
            " 1   following        713008 non-null  float64       \n",
            " 2   followers        713008 non-null  float64       \n",
            " 3   totaltweets      713008 non-null  float64       \n",
            " 4   tweetcreatedts   713008 non-null  datetime64[ns]\n",
            " 5   is_retweet       713008 non-null  int64         \n",
            " 6   is_quote_status  713008 non-null  int64         \n",
            " 7   weight           710366 non-null  float64       \n",
            " 8   negative         713008 non-null  float64       \n",
            " 9   text_length      712997 non-null  float64       \n",
            "dtypes: datetime64[ns](1), float64(6), int32(1), int64(2)\n",
            "memory usage: 57.1 MB\n"
          ]
        }
      ]
    },
    {
      "cell_type": "code",
      "source": [
        "# Convert datetime from object to dtype\n",
        "\n",
        "joined_data_df[\"tweetcreatedts\"] = pd.to_numeric(joined_data_df.index, downcast='float')\n",
        "\n",
        "print(joined_data_df[\"tweetcreatedts\"])"
      ],
      "metadata": {
        "colab": {
          "base_uri": "https://localhost:8080/"
        },
        "id": "9c3393uh8xNO",
        "outputId": "5a0fb05f-17f2-4117-a4d2-170a207e7463"
      },
      "execution_count": 35,
      "outputs": [
        {
          "output_type": "stream",
          "name": "stdout",
          "text": [
            "0              0.0\n",
            "1              1.0\n",
            "2              2.0\n",
            "3              3.0\n",
            "4              4.0\n",
            "            ...   \n",
            "713003    713003.0\n",
            "713004    713004.0\n",
            "713005    713005.0\n",
            "713006    713006.0\n",
            "713007    713007.0\n",
            "Name: tweetcreatedts, Length: 713008, dtype: float64\n"
          ]
        }
      ]
    },
    {
      "cell_type": "code",
      "source": [
        "# get the shape of the new DataFrame\n",
        "print(f\"{joined_data_df.shape[0]} rows and {joined_data_df.shape[1]} columns\")"
      ],
      "metadata": {
        "id": "qSIYwGEbhMSj",
        "colab": {
          "base_uri": "https://localhost:8080/"
        },
        "outputId": "55868ccb-9125-452c-e872-5b266c6c0167"
      },
      "execution_count": 36,
      "outputs": [
        {
          "output_type": "stream",
          "name": "stdout",
          "text": [
            "713008 rows and 10 columns\n"
          ]
        }
      ]
    },
    {
      "cell_type": "code",
      "source": [
        "# Drop the null rows\n",
        "joined_data_df = joined_data_df.dropna()\n",
        "print(f\"{joined_data_df.shape[0]} rows and {joined_data_df.shape[1]} columns\")"
      ],
      "metadata": {
        "id": "PpQ4Ot8fhgkX",
        "colab": {
          "base_uri": "https://localhost:8080/"
        },
        "outputId": "b89bb637-6f05-4dfc-88dd-e6b730c43579"
      },
      "execution_count": 37,
      "outputs": [
        {
          "output_type": "stream",
          "name": "stdout",
          "text": [
            "710355 rows and 10 columns\n"
          ]
        }
      ]
    },
    {
      "cell_type": "code",
      "source": [
        "# Plotting the data\n",
        "joined_data_df.plot.scatter(x=\"tweetcreatedts\", y=\"totaltweets\", c=\"is_quote_status\", colormap=\"winter\")"
      ],
      "metadata": {
        "id": "O78_6_eIiL5w",
        "colab": {
          "base_uri": "https://localhost:8080/",
          "height": 282
        },
        "outputId": "38b9ead5-8295-446c-c4e9-0c2fec1145e8"
      },
      "execution_count": 38,
      "outputs": [
        {
          "output_type": "execute_result",
          "data": {
            "text/plain": [
              "<matplotlib.axes._subplots.AxesSubplot at 0x7fa7f6336190>"
            ]
          },
          "metadata": {},
          "execution_count": 38
        },
        {
          "output_type": "display_data",
          "data": {
            "text/plain": [
              "<Figure size 432x288 with 2 Axes>"
            ],
            "image/png": "[encoded data removed]"
          },
          "metadata": {
            "needs_background": "light"
          }
        }
      ]
    },
    {
      "cell_type": "code",
      "source": [
        "# Convert datetime to float\n",
        "\n",
        "# time_df[\"tweetcreatedts\"] = pd.to_numeric(joined_data_df.index, downcast='float')\n",
        "\n",
        "joined_data_df['tweetcreatedts'] = joined_data_df['tweetcreatedts'].astype(str)\n",
        "joined_data_df['tweetcreatedts'] = joined_data_df['tweetcreatedts'].str.replace('-', '')\n",
        "joined_data_df['tweetcreatedts'] = joined_data_df['tweetcreatedts'].astype(float)\n",
        "print(joined_data_df[\"tweetcreatedts\"])"
      ],
      "metadata": {
        "colab": {
          "base_uri": "https://localhost:8080/"
        },
        "id": "umj7gNzC5cKM",
        "outputId": "a93512f5-4d09-459d-c732-847e1b99108d"
      },
      "execution_count": 39,
      "outputs": [
        {
          "output_type": "stream",
          "name": "stdout",
          "text": [
            "0              0.0\n",
            "1              1.0\n",
            "2              2.0\n",
            "3              3.0\n",
            "4              4.0\n",
            "            ...   \n",
            "713003    713003.0\n",
            "713004    713004.0\n",
            "713005    713005.0\n",
            "713006    713006.0\n",
            "713007    713007.0\n",
            "Name: tweetcreatedts, Length: 710355, dtype: float64\n"
          ]
        }
      ]
    },
    {
      "cell_type": "markdown",
      "source": [
        "# Standartization Data"
      ],
      "metadata": {
        "id": "yyPC1H2viaUr"
      }
    },
    {
      "cell_type": "code",
      "source": [
        "# Create the StandardScaler instance\n",
        "scaler = StandardScaler()\n",
        "\n",
        "# Fit the StandardScaler\n",
        "scaler.fit(joined_data_df)\n",
        "\n",
        "# Scale the data\n",
        "scaled_data = scaler.transform(joined_data_df)\n",
        "\n",
        "# Create a DataFrame with the scaled data\n",
        "transformed_scaled_data = pd.DataFrame(scaled_data, columns=joined_data_df.columns)\n",
        "transformed_scaled_data.head(5)"
      ],
      "metadata": {
        "id": "TyhmR7IUiqK8",
        "colab": {
          "base_uri": "https://localhost:8080/",
          "height": 204
        },
        "outputId": "b2afdada-6290-47d3-fc74-e65ffe260f41"
      },
      "execution_count": 40,
      "outputs": [
        {
          "output_type": "execute_result",
          "data": {
            "text/plain": [
              "        _c0  following  followers  totaltweets  tweetcreatedts  is_retweet  \\\n",
              "0 -1.730995  -0.177340   0.689392     1.330729       -1.730995   -0.645473   \n",
              "1 -1.730990  -0.298441  -0.101081    -0.678497       -1.730990   -0.645473   \n",
              "2 -1.730985   0.079098  -0.091464     0.036029       -1.730985   -0.645473   \n",
              "3 -1.730980  -0.283213  -0.101236    -0.587728       -1.730980   -0.645473   \n",
              "4 -1.730975  -0.238122  -0.101420    -0.667253       -1.730975   -0.645473   \n",
              "\n",
              "   is_quote_status   weight  negative  text_length  \n",
              "0        -0.222816 -0.78303 -0.542880    -0.925411  \n",
              "1        -0.222816 -0.78303 -0.974009    -1.446835  \n",
              "2        -0.222816 -0.78303 -0.767114    -0.065765  \n",
              "3        -0.222816 -0.78303  1.435525     1.089825  \n",
              "4        -0.222816 -0.78303 -1.018536    -1.785056  "
            ],
            "text/html": [
              "\n",
              "  <div id=\"df-f0737c0f-fa42-4553-9cbd-af53972be419\">\n",
              "    <div class=\"colab-df-container\">\n",
              "      <div>\n",
              "<style scoped>\n",
              "    .dataframe tbody tr th:only-of-type {\n",
              "        vertical-align: middle;\n",
              "    }\n",
              "\n",
              "    .dataframe tbody tr th {\n",
              "        vertical-align: top;\n",
              "    }\n",
              "\n",
              "    .dataframe thead th {\n",
              "        text-align: right;\n",
              "    }\n",
              "</style>\n",
              "<table border=\"1\" class=\"dataframe\">\n",
              "  <thead>\n",
              "    <tr style=\"text-align: right;\">\n",
              "      <th></th>\n",
              "      <th>_c0</th>\n",
              "      <th>following</th>\n",
              "      <th>followers</th>\n",
              "      <th>totaltweets</th>\n",
              "      <th>tweetcreatedts</th>\n",
              "      <th>is_retweet</th>\n",
              "      <th>is_quote_status</th>\n",
              "      <th>weight</th>\n",
              "      <th>negative</th>\n",
              "      <th>text_length</th>\n",
              "    </tr>\n",
              "  </thead>\n",
              "  <tbody>\n",
              "    <tr>\n",
              "      <th>0</th>\n",
              "      <td>-1.730995</td>\n",
              "      <td>-0.177340</td>\n",
              "      <td>0.689392</td>\n",
              "      <td>1.330729</td>\n",
              "      <td>-1.730995</td>\n",
              "      <td>-0.645473</td>\n",
              "      <td>-0.222816</td>\n",
              "      <td>-0.78303</td>\n",
              "      <td>-0.542880</td>\n",
              "      <td>-0.925411</td>\n",
              "    </tr>\n",
              "    <tr>\n",
              "      <th>1</th>\n",
              "      <td>-1.730990</td>\n",
              "      <td>-0.298441</td>\n",
              "      <td>-0.101081</td>\n",
              "      <td>-0.678497</td>\n",
              "      <td>-1.730990</td>\n",
              "      <td>-0.645473</td>\n",
              "      <td>-0.222816</td>\n",
              "      <td>-0.78303</td>\n",
              "      <td>-0.974009</td>\n",
              "      <td>-1.446835</td>\n",
              "    </tr>\n",
              "    <tr>\n",
              "      <th>2</th>\n",
              "      <td>-1.730985</td>\n",
              "      <td>0.079098</td>\n",
              "      <td>-0.091464</td>\n",
              "      <td>0.036029</td>\n",
              "      <td>-1.730985</td>\n",
              "      <td>-0.645473</td>\n",
              "      <td>-0.222816</td>\n",
              "      <td>-0.78303</td>\n",
              "      <td>-0.767114</td>\n",
              "      <td>-0.065765</td>\n",
              "    </tr>\n",
              "    <tr>\n",
              "      <th>3</th>\n",
              "      <td>-1.730980</td>\n",
              "      <td>-0.283213</td>\n",
              "      <td>-0.101236</td>\n",
              "      <td>-0.587728</td>\n",
              "      <td>-1.730980</td>\n",
              "      <td>-0.645473</td>\n",
              "      <td>-0.222816</td>\n",
              "      <td>-0.78303</td>\n",
              "      <td>1.435525</td>\n",
              "      <td>1.089825</td>\n",
              "    </tr>\n",
              "    <tr>\n",
              "      <th>4</th>\n",
              "      <td>-1.730975</td>\n",
              "      <td>-0.238122</td>\n",
              "      <td>-0.101420</td>\n",
              "      <td>-0.667253</td>\n",
              "      <td>-1.730975</td>\n",
              "      <td>-0.645473</td>\n",
              "      <td>-0.222816</td>\n",
              "      <td>-0.78303</td>\n",
              "      <td>-1.018536</td>\n",
              "      <td>-1.785056</td>\n",
              "    </tr>\n",
              "  </tbody>\n",
              "</table>\n",
              "</div>\n",
              "      <button class=\"colab-df-convert\" onclick=\"convertToInteractive('df-f0737c0f-fa42-4553-9cbd-af53972be419')\"\n",
              "              title=\"Convert this dataframe to an interactive table.\"\n",
              "              style=\"display:none;\">\n",
              "        \n",
              "  <svg xmlns=\"http://www.w3.org/2000/svg\" height=\"24px\"viewBox=\"0 0 24 24\"\n",
              "       width=\"24px\">\n",
              "    <path d=\"M0 0h24v24H0V0z\" fill=\"none\"/>\n",
              "    <path d=\"M18.56 5.44l.94 2.06.94-2.06 2.06-.94-2.06-.94-.94-2.06-.94 2.06-2.06.94zm-11 1L8.5 8.5l.94-2.06 2.06-.94-2.06-.94L8.5 2.5l-.94 2.06-2.06.94zm10 10l.94 2.06.94-2.06 2.06-.94-2.06-.94-.94-2.06-.94 2.06-2.06.94z\"/><path d=\"M17.41 7.96l-1.37-1.37c-.4-.4-.92-.59-1.43-.59-.52 0-1.04.2-1.43.59L10.3 9.45l-7.72 7.72c-.78.78-.78 2.05 0 2.83L4 21.41c.39.39.9.59 1.41.59.51 0 1.02-.2 1.41-.59l7.78-7.78 2.81-2.81c.8-.78.8-2.07 0-2.86zM5.41 20L4 18.59l7.72-7.72 1.47 1.35L5.41 20z\"/>\n",
              "  </svg>\n",
              "      </button>\n",
              "      \n",
              "  <style>\n",
              "    .colab-df-container {\n",
              "      display:flex;\n",
              "      flex-wrap:wrap;\n",
              "      gap: 12px;\n",
              "    }\n",
              "\n",
              "    .colab-df-convert {\n",
              "      background-color: #E8F0FE;\n",
              "      border: none;\n",
              "      border-radius: 50%;\n",
              "      cursor: pointer;\n",
              "      display: none;\n",
              "      fill: #1967D2;\n",
              "      height: 32px;\n",
              "      padding: 0 0 0 0;\n",
              "      width: 32px;\n",
              "    }\n",
              "\n",
              "    .colab-df-convert:hover {\n",
              "      background-color: #E2EBFA;\n",
              "      box-shadow: 0px 1px 2px rgba(60, 64, 67, 0.3), 0px 1px 3px 1px rgba(60, 64, 67, 0.15);\n",
              "      fill: #174EA6;\n",
              "    }\n",
              "\n",
              "    [theme=dark] .colab-df-convert {\n",
              "      background-color: #3B4455;\n",
              "      fill: #D2E3FC;\n",
              "    }\n",
              "\n",
              "    [theme=dark] .colab-df-convert:hover {\n",
              "      background-color: #434B5C;\n",
              "      box-shadow: 0px 1px 3px 1px rgba(0, 0, 0, 0.15);\n",
              "      filter: drop-shadow(0px 1px 2px rgba(0, 0, 0, 0.3));\n",
              "      fill: #FFFFFF;\n",
              "    }\n",
              "  </style>\n",
              "\n",
              "      <script>\n",
              "        const buttonEl =\n",
              "          document.querySelector('#df-f0737c0f-fa42-4553-9cbd-af53972be419 button.colab-df-convert');\n",
              "        buttonEl.style.display =\n",
              "          google.colab.kernel.accessAllowed ? 'block' : 'none';\n",
              "\n",
              "        async function convertToInteractive(key) {\n",
              "          const element = document.querySelector('#df-f0737c0f-fa42-4553-9cbd-af53972be419');\n",
              "          const dataTable =\n",
              "            await google.colab.kernel.invokeFunction('convertToInteractive',\n",
              "                                                     [key], {});\n",
              "          if (!dataTable) return;\n",
              "\n",
              "          const docLinkHtml = 'Like what you see? Visit the ' +\n",
              "            '<a target=\"_blank\" href=https://colab.research.google.com/notebooks/data_table.ipynb>data table notebook</a>'\n",
              "            + ' to learn more about interactive tables.';\n",
              "          element.innerHTML = '';\n",
              "          dataTable['output_type'] = 'display_data';\n",
              "          await google.colab.output.renderOutput(dataTable, element);\n",
              "          const docLink = document.createElement('div');\n",
              "          docLink.innerHTML = docLinkHtml;\n",
              "          element.appendChild(docLink);\n",
              "        }\n",
              "      </script>\n",
              "    </div>\n",
              "  </div>\n",
              "  "
            ]
          },
          "metadata": {},
          "execution_count": 40
        }
      ]
    },
    {
      "cell_type": "markdown",
      "source": [
        "#  What does the distribution look like"
      ],
      "metadata": {
        "id": "CU9LtO-jv0bO"
      }
    },
    {
      "cell_type": "markdown",
      "source": [
        "In statistics, kernel density estimation (KDE) is a non-parametric way to estimate the Probability Density Function (PDF) of a random variable. This function uses Gaussian kernels and includes automatic bandwidth determination."
      ],
      "metadata": {
        "id": "_6CEL8mmxxuP"
      }
    },
    {
      "cell_type": "code",
      "source": [
        "# Generate Kernel Density Estimate plot using Gaussian kernels, using the Density method to fing out\n",
        "\n",
        "ax = transformed_scaled_data.plot.kde()"
      ],
      "metadata": {
        "id": "5wSqxhwavyTB",
        "colab": {
          "base_uri": "https://localhost:8080/",
          "height": 319
        },
        "outputId": "8c1f1e79-8299-4489-9ba0-a448c2cadc9b"
      },
      "execution_count": 41,
      "outputs": [
        {
          "output_type": "stream",
          "name": "stderr",
          "text": [
            "/usr/local/lib/python3.7/dist-packages/pandas/plotting/_matplotlib/core.py:633: UserWarning: The handle <matplotlib.lines.Line2D object at 0x7fa7ca0e8310> has a label of '_c0' which cannot be automatically added to the legend.\n",
            "  ax.legend(handles, labels, loc=\"best\", title=title)\n"
          ]
        },
        {
          "output_type": "display_data",
          "data": {
            "text/plain": [
              "<Figure size 432x288 with 1 Axes>"
            ],
            "image/png": "[encoded data removed]"
          },
          "metadata": {
            "needs_background": "light"
          }
        }
      ]
    },
    {
      "cell_type": "code",
      "source": [
        "# Using a small bandwidth value \n",
        "ax = transformed_scaled_data.plot.kde(bw_method=0.3)"
      ],
      "metadata": {
        "id": "0RGrzzRtwYBC",
        "colab": {
          "base_uri": "https://localhost:8080/",
          "height": 319
        },
        "outputId": "d7dd7d75-2535-4580-9217-16b408557db8"
      },
      "execution_count": 42,
      "outputs": [
        {
          "output_type": "stream",
          "name": "stderr",
          "text": [
            "/usr/local/lib/python3.7/dist-packages/pandas/plotting/_matplotlib/core.py:633: UserWarning: The handle <matplotlib.lines.Line2D object at 0x7fa77e2279d0> has a label of '_c0' which cannot be automatically added to the legend.\n",
            "  ax.legend(handles, labels, loc=\"best\", title=title)\n"
          ]
        },
        {
          "output_type": "display_data",
          "data": {
            "text/plain": [
              "<Figure size 432x288 with 1 Axes>"
            ],
            "image/png": "[encoded data removed]"
          },
          "metadata": {
            "needs_background": "light"
          }
        }
      ]
    },
    {
      "cell_type": "code",
      "source": [
        "# Using a large bandwidt value\n",
        "ax = transformed_scaled_data.plot.kde(bw_method=20)"
      ],
      "metadata": {
        "id": "k1Jvn5q9xDKW",
        "colab": {
          "base_uri": "https://localhost:8080/",
          "height": 319
        },
        "outputId": "f6c8eb88-7b62-4bab-a3d0-0a226f6d1546"
      },
      "execution_count": 43,
      "outputs": [
        {
          "output_type": "stream",
          "name": "stderr",
          "text": [
            "/usr/local/lib/python3.7/dist-packages/pandas/plotting/_matplotlib/core.py:633: UserWarning: The handle <matplotlib.lines.Line2D object at 0x7fa7d51c5b10> has a label of '_c0' which cannot be automatically added to the legend.\n",
            "  ax.legend(handles, labels, loc=\"best\", title=title)\n"
          ]
        },
        {
          "output_type": "display_data",
          "data": {
            "text/plain": [
              "<Figure size 432x288 with 1 Axes>"
            ],
            "image/png": "[encoded data removed]"
          },
          "metadata": {
            "needs_background": "light"
          }
        }
      ]
    },
    {
      "cell_type": "code",
      "source": [
        "# Determine the evaluation points for the plot of the estimated PDF\n",
        "ax = transformed_scaled_data.plot.kde(ind=[1, 2, 3, 4, 5, 6])"
      ],
      "metadata": {
        "id": "lB5mLQJtxR1N",
        "colab": {
          "base_uri": "https://localhost:8080/",
          "height": 319
        },
        "outputId": "e72b4f0e-0245-40eb-f40c-e35ef65c73f2"
      },
      "execution_count": 44,
      "outputs": [
        {
          "output_type": "stream",
          "name": "stderr",
          "text": [
            "/usr/local/lib/python3.7/dist-packages/pandas/plotting/_matplotlib/core.py:633: UserWarning: The handle <matplotlib.lines.Line2D object at 0x7fa7db48e9d0> has a label of '_c0' which cannot be automatically added to the legend.\n",
            "  ax.legend(handles, labels, loc=\"best\", title=title)\n"
          ]
        },
        {
          "output_type": "display_data",
          "data": {
            "text/plain": [
              "<Figure size 432x288 with 1 Axes>"
            ],
            "image/png": "[encoded data removed]"
          },
          "metadata": {
            "needs_background": "light"
          }
        }
      ]
    },
    {
      "cell_type": "markdown",
      "source": [
        "# Use Deep Learning Model"
      ],
      "metadata": {
        "id": "XijHy1aZjbBO"
      }
    },
    {
      "cell_type": "code",
      "source": [
        "# Split our preprocessed data into our features and target arrays\n",
        "y = transformed_scaled_data[\"is_quote_status\"].values\n",
        "X = transformed_scaled_data.drop([\"is_quote_status\"],1).values\n",
        "\n",
        "# Split the preprocessed data into a training and testing dataset\n",
        "X_train, X_test, y_train, y_test = train_test_split(X, y, random_state=78)"
      ],
      "metadata": {
        "id": "VPHKWF5AjhqF",
        "colab": {
          "base_uri": "https://localhost:8080/"
        },
        "outputId": "af0abbec-14d2-4f97-dca7-3fdb653ccdb3"
      },
      "execution_count": 45,
      "outputs": [
        {
          "output_type": "stream",
          "name": "stderr",
          "text": [
            "/usr/local/lib/python3.7/dist-packages/ipykernel_launcher.py:3: FutureWarning: In a future version of pandas all arguments of DataFrame.drop except for the argument 'labels' will be keyword-only\n",
            "  This is separate from the ipykernel package so we can avoid doing imports until\n"
          ]
        }
      ]
    },
    {
      "cell_type": "code",
      "source": [
        "# Create scaler instance\n",
        "X_scaler = skl.preprocessing.StandardScaler()\n",
        "\n",
        "# Fit the scaler\n",
        "X_scaler.fit(X_train)\n",
        "\n",
        "# Scale the data\n",
        "X_train_scaled = X_scaler.transform(X_train)\n",
        "X_test_scaled = X_scaler.transform(X_test)"
      ],
      "metadata": {
        "id": "CR7AgRUznOjX"
      },
      "execution_count": 46,
      "outputs": []
    },
    {
      "cell_type": "code",
      "source": [
        "# Define the model - deep neural net\n",
        "number_input_features = len(X_train[0])\n",
        "hidden_nodes_layer1 = 8\n",
        "hidden_nodes_layer2 = 5\n",
        "\n",
        "nn = tf.keras.models.Sequential()\n",
        "\n",
        "# First hidden layer\n",
        "nn.add(\n",
        "    tf.keras.layers.Dense(units=hidden_nodes_layer1, input_dim=number_input_features, activation=\"relu\")\n",
        ")\n",
        "\n",
        "# Second hidden layer\n",
        "nn.add(tf.keras.layers.Dense(units=hidden_nodes_layer2, activation=\"relu\"))\n",
        "\n",
        "# Output layer\n",
        "nn.add(tf.keras.layers.Dense(units=1, activation='sigmoid'))\n",
        "\n",
        "# Check the structure of the model\n",
        "nn.summary()"
      ],
      "metadata": {
        "id": "LR9nzMGLnUpr",
        "colab": {
          "base_uri": "https://localhost:8080/"
        },
        "outputId": "a9703797-4d08-4f25-91a0-a3e8f1d2014d"
      },
      "execution_count": 47,
      "outputs": [
        {
          "output_type": "stream",
          "name": "stdout",
          "text": [
            "Model: \"sequential\"\n",
            "_________________________________________________________________\n",
            " Layer (type)                Output Shape              Param #   \n",
            "=================================================================\n",
            " dense (Dense)               (None, 8)                 80        \n",
            "                                                                 \n",
            " dense_1 (Dense)             (None, 5)                 45        \n",
            "                                                                 \n",
            " dense_2 (Dense)             (None, 1)                 6         \n",
            "                                                                 \n",
            "=================================================================\n",
            "Total params: 131\n",
            "Trainable params: 131\n",
            "Non-trainable params: 0\n",
            "_________________________________________________________________\n"
          ]
        }
      ]
    },
    {
      "cell_type": "code",
      "source": [
        "# Compile the model\n",
        "# tf.keras.losses.MeanAbsolutePercentageError(\n",
        "#    reduction=\"auto\", name=\"mean_absolute_percentage_error\")\n",
        "\t\n",
        "# nn.compile(loss='mean_squared_error', optimizer=\"adam\", metrics=[\"accuracy\"])\n",
        "nn.compile(loss=\"binary_crossentropy\", optimizer=\"adam\", metrics=[\"accuracy\"])"
      ],
      "metadata": {
        "id": "lgytCNcnnad1"
      },
      "execution_count": 48,
      "outputs": []
    },
    {
      "cell_type": "code",
      "source": [
        "# Fit the model to the training data\n",
        "# Train the model\n",
        "fit_model = nn.fit(X_train,y_train,epochs=100)\n",
        "# fit_model = nn_model.fit(X_train_scaled, y_train, epochs=100)"
      ],
      "metadata": {
        "id": "9dblFEbxne_8",
        "colab": {
          "base_uri": "https://localhost:8080/"
        },
        "outputId": "a85a8f66-b65f-49c1-90d1-d512c66cc942"
      },
      "execution_count": 49,
      "outputs": [
        {
          "output_type": "stream",
          "name": "stdout",
          "text": [
            "Epoch 1/100\n",
            "16649/16649 [==============================] - 33s 2ms/step - loss: -19339.5938 - accuracy: 0.0000e+00\n",
            "Epoch 2/100\n",
            "16649/16649 [==============================] - 33s 2ms/step - loss: -214125.9062 - accuracy: 0.0000e+00\n",
            "Epoch 3/100\n",
            "16649/16649 [==============================] - 33s 2ms/step - loss: -799617.6875 - accuracy: 0.0000e+00\n",
            "Epoch 4/100\n",
            "16649/16649 [==============================] - 33s 2ms/step - loss: -1981463.7500 - accuracy: 0.0000e+00\n",
            "Epoch 5/100\n",
            "16649/16649 [==============================] - 31s 2ms/step - loss: -3962832.2500 - accuracy: 0.0000e+00\n",
            "Epoch 6/100\n",
            "16649/16649 [==============================] - 31s 2ms/step - loss: -6940654.0000 - accuracy: 0.0000e+00\n",
            "Epoch 7/100\n",
            "16649/16649 [==============================] - 31s 2ms/step - loss: -11117421.0000 - accuracy: 0.0000e+00\n",
            "Epoch 8/100\n",
            "16649/16649 [==============================] - 31s 2ms/step - loss: -16682645.0000 - accuracy: 0.0000e+00\n",
            "Epoch 9/100\n",
            "16649/16649 [==============================] - 30s 2ms/step - loss: -23845610.0000 - accuracy: 0.0000e+00\n",
            "Epoch 10/100\n",
            "16649/16649 [==============================] - 30s 2ms/step - loss: -32795038.0000 - accuracy: 0.0000e+00\n",
            "Epoch 11/100\n",
            "16649/16649 [==============================] - 30s 2ms/step - loss: -43730560.0000 - accuracy: 0.0000e+00\n",
            "Epoch 12/100\n",
            "16649/16649 [==============================] - 30s 2ms/step - loss: -56844600.0000 - accuracy: 0.0000e+00\n",
            "Epoch 13/100\n",
            "16649/16649 [==============================] - 29s 2ms/step - loss: -72337488.0000 - accuracy: 0.0000e+00\n",
            "Epoch 14/100\n",
            "16649/16649 [==============================] - 28s 2ms/step - loss: -90406528.0000 - accuracy: 0.0000e+00\n",
            "Epoch 15/100\n",
            "16649/16649 [==============================] - 29s 2ms/step - loss: -111264592.0000 - accuracy: 0.0000e+00\n",
            "Epoch 16/100\n",
            "16649/16649 [==============================] - 28s 2ms/step - loss: -135059296.0000 - accuracy: 0.0000e+00\n",
            "Epoch 17/100\n",
            "16649/16649 [==============================] - 29s 2ms/step - loss: -162046592.0000 - accuracy: 0.0000e+00\n",
            "Epoch 18/100\n",
            "16649/16649 [==============================] - 29s 2ms/step - loss: -192374400.0000 - accuracy: 0.0000e+00\n",
            "Epoch 19/100\n",
            "16649/16649 [==============================] - 29s 2ms/step - loss: -226239936.0000 - accuracy: 0.0000e+00\n",
            "Epoch 20/100\n",
            "16649/16649 [==============================] - 29s 2ms/step - loss: -263921712.0000 - accuracy: 0.0000e+00\n",
            "Epoch 21/100\n",
            "16649/16649 [==============================] - 30s 2ms/step - loss: -305537184.0000 - accuracy: 0.0000e+00\n",
            "Epoch 22/100\n",
            "16649/16649 [==============================] - 29s 2ms/step - loss: -351276000.0000 - accuracy: 0.0000e+00\n",
            "Epoch 23/100\n",
            "16649/16649 [==============================] - 29s 2ms/step - loss: -401401952.0000 - accuracy: 0.0000e+00\n",
            "Epoch 24/100\n",
            "16649/16649 [==============================] - 29s 2ms/step - loss: -456012288.0000 - accuracy: 0.0000e+00\n",
            "Epoch 25/100\n",
            "16649/16649 [==============================] - 30s 2ms/step - loss: -515412288.0000 - accuracy: 0.0000e+00\n",
            "Epoch 26/100\n",
            "16649/16649 [==============================] - 29s 2ms/step - loss: -579690368.0000 - accuracy: 0.0000e+00\n",
            "Epoch 27/100\n",
            "16649/16649 [==============================] - 29s 2ms/step - loss: -649118848.0000 - accuracy: 0.0000e+00\n",
            "Epoch 28/100\n",
            "16649/16649 [==============================] - 29s 2ms/step - loss: -723800256.0000 - accuracy: 0.0000e+00\n",
            "Epoch 29/100\n",
            "16649/16649 [==============================] - 30s 2ms/step - loss: -803931136.0000 - accuracy: 0.0000e+00\n",
            "Epoch 30/100\n",
            "16649/16649 [==============================] - 29s 2ms/step - loss: -889950784.0000 - accuracy: 0.0000e+00\n",
            "Epoch 31/100\n",
            "16649/16649 [==============================] - 32s 2ms/step - loss: -981732288.0000 - accuracy: 0.0000e+00\n",
            "Epoch 32/100\n",
            "16649/16649 [==============================] - 32s 2ms/step - loss: -1079763968.0000 - accuracy: 0.0000e+00\n",
            "Epoch 33/100\n",
            "16649/16649 [==============================] - 33s 2ms/step - loss: -1184021632.0000 - accuracy: 0.0000e+00\n",
            "Epoch 34/100\n",
            "16649/16649 [==============================] - 32s 2ms/step - loss: -1294786176.0000 - accuracy: 0.0000e+00\n",
            "Epoch 35/100\n",
            "16649/16649 [==============================] - 33s 2ms/step - loss: -1412222464.0000 - accuracy: 0.0000e+00\n",
            "Epoch 36/100\n",
            "16649/16649 [==============================] - 31s 2ms/step - loss: -1536426240.0000 - accuracy: 0.0000e+00\n",
            "Epoch 37/100\n",
            "16649/16649 [==============================] - 32s 2ms/step - loss: -1667795200.0000 - accuracy: 0.0000e+00\n",
            "Epoch 38/100\n",
            "16649/16649 [==============================] - 31s 2ms/step - loss: -1806315264.0000 - accuracy: 0.0000e+00\n",
            "Epoch 39/100\n",
            "16649/16649 [==============================] - 30s 2ms/step - loss: -1952226048.0000 - accuracy: 0.0000e+00\n",
            "Epoch 40/100\n",
            "16649/16649 [==============================] - 31s 2ms/step - loss: -2105969408.0000 - accuracy: 0.0000e+00\n",
            "Epoch 41/100\n",
            "16649/16649 [==============================] - 33s 2ms/step - loss: -2267572480.0000 - accuracy: 0.0000e+00\n",
            "Epoch 42/100\n",
            "16649/16649 [==============================] - 32s 2ms/step - loss: -2437316096.0000 - accuracy: 0.0000e+00\n",
            "Epoch 43/100\n",
            "16649/16649 [==============================] - 30s 2ms/step - loss: -2614951936.0000 - accuracy: 0.0000e+00\n",
            "Epoch 44/100\n",
            "16649/16649 [==============================] - 29s 2ms/step - loss: -2801268480.0000 - accuracy: 0.0000e+00\n",
            "Epoch 45/100\n",
            "16649/16649 [==============================] - 31s 2ms/step - loss: -2996526848.0000 - accuracy: 0.0000e+00\n",
            "Epoch 46/100\n",
            "16649/16649 [==============================] - 29s 2ms/step - loss: -3200486656.0000 - accuracy: 0.0000e+00\n",
            "Epoch 47/100\n",
            "16649/16649 [==============================] - 29s 2ms/step - loss: -3413224704.0000 - accuracy: 0.0000e+00\n",
            "Epoch 48/100\n",
            "16649/16649 [==============================] - 30s 2ms/step - loss: -3635429376.0000 - accuracy: 0.0000e+00\n",
            "Epoch 49/100\n",
            "16649/16649 [==============================] - 32s 2ms/step - loss: -3866768640.0000 - accuracy: 0.0000e+00\n",
            "Epoch 50/100\n",
            "16649/16649 [==============================] - 30s 2ms/step - loss: -4108190464.0000 - accuracy: 0.0000e+00\n",
            "Epoch 51/100\n",
            "16649/16649 [==============================] - 30s 2ms/step - loss: -4359306752.0000 - accuracy: 0.0000e+00\n",
            "Epoch 52/100\n",
            "16649/16649 [==============================] - 29s 2ms/step - loss: -4620108800.0000 - accuracy: 0.0000e+00\n",
            "Epoch 53/100\n",
            "16649/16649 [==============================] - 30s 2ms/step - loss: -4891671552.0000 - accuracy: 0.0000e+00\n",
            "Epoch 54/100\n",
            "16649/16649 [==============================] - 31s 2ms/step - loss: -5173007872.0000 - accuracy: 0.0000e+00\n",
            "Epoch 55/100\n",
            "16649/16649 [==============================] - 30s 2ms/step - loss: -5465043968.0000 - accuracy: 0.0000e+00\n",
            "Epoch 56/100\n",
            "16649/16649 [==============================] - 30s 2ms/step - loss: -5767793152.0000 - accuracy: 0.0000e+00\n",
            "Epoch 57/100\n",
            "16649/16649 [==============================] - 31s 2ms/step - loss: -6081693184.0000 - accuracy: 0.0000e+00\n",
            "Epoch 58/100\n",
            "16649/16649 [==============================] - 30s 2ms/step - loss: -6407111680.0000 - accuracy: 0.0000e+00\n",
            "Epoch 59/100\n",
            "16649/16649 [==============================] - 31s 2ms/step - loss: -6743009280.0000 - accuracy: 0.0000e+00\n",
            "Epoch 60/100\n",
            "16649/16649 [==============================] - 30s 2ms/step - loss: -7091362304.0000 - accuracy: 0.0000e+00\n",
            "Epoch 61/100\n",
            "16649/16649 [==============================] - 32s 2ms/step - loss: -7451345408.0000 - accuracy: 0.0000e+00\n",
            "Epoch 62/100\n",
            "16649/16649 [==============================] - 29s 2ms/step - loss: -7823029760.0000 - accuracy: 0.0000e+00\n",
            "Epoch 63/100\n",
            "16649/16649 [==============================] - 29s 2ms/step - loss: -8206914560.0000 - accuracy: 0.0000e+00\n",
            "Epoch 64/100\n",
            "16649/16649 [==============================] - 30s 2ms/step - loss: -8602848256.0000 - accuracy: 0.0000e+00\n",
            "Epoch 65/100\n",
            "16649/16649 [==============================] - 30s 2ms/step - loss: -9011206144.0000 - accuracy: 0.0000e+00\n",
            "Epoch 66/100\n",
            "16649/16649 [==============================] - 30s 2ms/step - loss: -9433051136.0000 - accuracy: 0.0000e+00\n",
            "Epoch 67/100\n",
            "16649/16649 [==============================] - 31s 2ms/step - loss: -9866809344.0000 - accuracy: 0.0000e+00\n",
            "Epoch 68/100\n",
            "16649/16649 [==============================] - 31s 2ms/step - loss: -10314058752.0000 - accuracy: 0.0000e+00\n",
            "Epoch 69/100\n",
            "16649/16649 [==============================] - 30s 2ms/step - loss: -10774397952.0000 - accuracy: 0.0000e+00\n",
            "Epoch 70/100\n",
            "16649/16649 [==============================] - 31s 2ms/step - loss: -11248390144.0000 - accuracy: 0.0000e+00\n",
            "Epoch 71/100\n",
            "16649/16649 [==============================] - 30s 2ms/step - loss: -11736925184.0000 - accuracy: 0.0000e+00\n",
            "Epoch 72/100\n",
            "16649/16649 [==============================] - 30s 2ms/step - loss: -12239043584.0000 - accuracy: 0.0000e+00\n",
            "Epoch 73/100\n",
            "16649/16649 [==============================] - 30s 2ms/step - loss: -12755094528.0000 - accuracy: 0.0000e+00\n",
            "Epoch 74/100\n",
            "16649/16649 [==============================] - 30s 2ms/step - loss: -13285610496.0000 - accuracy: 0.0000e+00\n",
            "Epoch 75/100\n",
            "16649/16649 [==============================] - 30s 2ms/step - loss: -13829530624.0000 - accuracy: 0.0000e+00\n",
            "Epoch 76/100\n",
            "16649/16649 [==============================] - 30s 2ms/step - loss: -14389334016.0000 - accuracy: 0.0000e+00\n",
            "Epoch 77/100\n",
            "16649/16649 [==============================] - 29s 2ms/step - loss: -14964147200.0000 - accuracy: 0.0000e+00\n",
            "Epoch 78/100\n",
            "16649/16649 [==============================] - 31s 2ms/step - loss: -15553230848.0000 - accuracy: 0.0000e+00\n",
            "Epoch 79/100\n",
            "16649/16649 [==============================] - 30s 2ms/step - loss: -16156958720.0000 - accuracy: 0.0000e+00\n",
            "Epoch 80/100\n",
            "16649/16649 [==============================] - 29s 2ms/step - loss: -16777113600.0000 - accuracy: 0.0000e+00\n",
            "Epoch 81/100\n",
            "16649/16649 [==============================] - 30s 2ms/step - loss: -17412718592.0000 - accuracy: 0.0000e+00\n",
            "Epoch 82/100\n",
            "16649/16649 [==============================] - 30s 2ms/step - loss: -18064510976.0000 - accuracy: 0.0000e+00\n",
            "Epoch 83/100\n",
            "16649/16649 [==============================] - 29s 2ms/step - loss: -18732539904.0000 - accuracy: 0.0000e+00\n",
            "Epoch 84/100\n",
            "16649/16649 [==============================] - 30s 2ms/step - loss: -19416383488.0000 - accuracy: 0.0000e+00\n",
            "Epoch 85/100\n",
            "16649/16649 [==============================] - 30s 2ms/step - loss: -20116094976.0000 - accuracy: 0.0000e+00\n",
            "Epoch 86/100\n",
            "16649/16649 [==============================] - 31s 2ms/step - loss: -20833591296.0000 - accuracy: 0.0000e+00\n",
            "Epoch 87/100\n",
            "16649/16649 [==============================] - 30s 2ms/step - loss: -21566898176.0000 - accuracy: 0.0000e+00\n",
            "Epoch 88/100\n",
            "16649/16649 [==============================] - 30s 2ms/step - loss: -22318315520.0000 - accuracy: 0.0000e+00\n",
            "Epoch 89/100\n",
            "16649/16649 [==============================] - 30s 2ms/step - loss: -23086174208.0000 - accuracy: 0.0000e+00\n",
            "Epoch 90/100\n",
            "16649/16649 [==============================] - 31s 2ms/step - loss: -23871963136.0000 - accuracy: 0.0000e+00\n",
            "Epoch 91/100\n",
            "16649/16649 [==============================] - 30s 2ms/step - loss: -24675428352.0000 - accuracy: 0.0000e+00\n",
            "Epoch 92/100\n",
            "16649/16649 [==============================] - 29s 2ms/step - loss: -25496963072.0000 - accuracy: 0.0000e+00\n",
            "Epoch 93/100\n",
            "16649/16649 [==============================] - 29s 2ms/step - loss: -26335608832.0000 - accuracy: 0.0000e+00\n",
            "Epoch 94/100\n",
            "16649/16649 [==============================] - 30s 2ms/step - loss: -27193374720.0000 - accuracy: 0.0000e+00\n",
            "Epoch 95/100\n",
            "16649/16649 [==============================] - 30s 2ms/step - loss: -28068575232.0000 - accuracy: 0.0000e+00\n",
            "Epoch 96/100\n",
            "16649/16649 [==============================] - 29s 2ms/step - loss: -28963012608.0000 - accuracy: 0.0000e+00\n",
            "Epoch 97/100\n",
            "16649/16649 [==============================] - 29s 2ms/step - loss: -29875761152.0000 - accuracy: 0.0000e+00\n",
            "Epoch 98/100\n",
            "16649/16649 [==============================] - 31s 2ms/step - loss: -30808057856.0000 - accuracy: 0.0000e+00\n",
            "Epoch 99/100\n",
            "16649/16649 [==============================] - 30s 2ms/step - loss: -31759239168.0000 - accuracy: 0.0000e+00\n",
            "Epoch 100/100\n",
            "16649/16649 [==============================] - 29s 2ms/step - loss: -32729628672.0000 - accuracy: 0.0000e+00\n"
          ]
        }
      ]
    },
    {
      "cell_type": "code",
      "source": [
        "# Evaluate the model using the test data\n",
        "model_loss, model_accuracy = nn.evaluate(X_test,y_test,verbose=2)\n",
        "print(f\"Loss: {model_loss}, Accuracy: {model_accuracy}\")"
      ],
      "metadata": {
        "id": "6g_yg4NDnpSd",
        "colab": {
          "base_uri": "https://localhost:8080/"
        },
        "outputId": "80fbb0d7-d309-4be3-b564-7786dd7c12f2"
      },
      "execution_count": 50,
      "outputs": [
        {
          "output_type": "stream",
          "name": "stdout",
          "text": [
            "5550/5550 - 6s - loss: -3.3147e+10 - accuracy: 0.0000e+00 - 6s/epoch - 1ms/step\n",
            "Loss: -33146660864.0, Accuracy: 0.0\n"
          ]
        }
      ]
    },
    {
      "cell_type": "code",
      "source": [
        "# Create a DataFrame containing training history\n",
        "history_df = pd.DataFrame(fit_model.history, index=range(1,len(fit_model.history[\"loss\"])+1))\n",
        "\n",
        "# Plot the loss\n",
        "history_df.plot(y=\"loss\")"
      ],
      "metadata": {
        "id": "k3wmxzFLntMi",
        "colab": {
          "base_uri": "https://localhost:8080/",
          "height": 293
        },
        "outputId": "7b9438b9-7952-4596-ce93-15dd7c3210c2"
      },
      "execution_count": 51,
      "outputs": [
        {
          "output_type": "execute_result",
          "data": {
            "text/plain": [
              "<matplotlib.axes._subplots.AxesSubplot at 0x7fa7c1b96b90>"
            ]
          },
          "metadata": {},
          "execution_count": 51
        },
        {
          "output_type": "display_data",
          "data": {
            "text/plain": [
              "<Figure size 432x288 with 1 Axes>"
            ],
            "image/png": "[encoded data removed]"
          },
          "metadata": {
            "needs_background": "light"
          }
        }
      ]
    },
    {
      "cell_type": "code",
      "source": [
        "# Plot the accuracy\n",
        "history_df.plot(y=\"accuracy\")"
      ],
      "metadata": {
        "id": "a5JIPB4cnuqm",
        "colab": {
          "base_uri": "https://localhost:8080/",
          "height": 282
        },
        "outputId": "89fdfdfe-bf08-4f7e-c0d3-3a97d839ce7b"
      },
      "execution_count": 52,
      "outputs": [
        {
          "output_type": "execute_result",
          "data": {
            "text/plain": [
              "<matplotlib.axes._subplots.AxesSubplot at 0x7fa7d3b1af10>"
            ]
          },
          "metadata": {},
          "execution_count": 52
        },
        {
          "output_type": "display_data",
          "data": {
            "text/plain": [
              "<Figure size 432x288 with 1 Axes>"
            ],
            "image/png": "[encoded data removed]"
          },
          "metadata": {
            "needs_background": "light"
          }
        }
      ]
    },
    {
      "cell_type": "code",
      "source": [],
      "metadata": {
        "id": "RmbEWcPSny1j"
      },
      "execution_count": null,
      "outputs": []
    }
  ]
}