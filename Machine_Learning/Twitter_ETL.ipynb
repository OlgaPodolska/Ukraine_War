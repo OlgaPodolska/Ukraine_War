  "cells": [
    {
      "cell_type": "markdown",
      "metadata": {
        "colab_type": "text",
        "id": "view-in-github"
      },
      "source": [
        "<a href=\"https://colab.research.google.com/github/aiscience-22/UA_War/blob/machine_learning_0.03/Twitter_ETL.ipynb\" target=\"_parent\"><img src=\"https://colab.research.google.com/assets/colab-badge.svg\" alt=\"Open In Colab\"/></a>"
      ]
    },
    {
      "cell_type": "code",
      "execution_count": 22,
      "metadata": {
        "colab": {
          "base_uri": "https://localhost:8080/"
        },
        "id": "fI18fPxxmjnQ",
        "outputId": "3d62ef32-28ee-4e99-a2bd-27ba4f60358a"
      },
      "outputs": [
        {
          "name": "stdout",
          "output_type": "stream",
          "text": [
            "\r0% [Working]\r            \rHit:1 http://security.ubuntu.com/ubuntu bionic-security InRelease\n",
            "\r0% [Waiting for headers] [Connected to cloud.r-project.org (65.9.86.28)] [Conne\r0% [1 InRelease gpgv 88.7 kB] [Waiting for headers] [Connected to cloud.r-proje\r                                                                               \rHit:2 http://archive.ubuntu.com/ubuntu bionic InRelease\n",
            "\r0% [1 InRelease gpgv 88.7 kB] [Waiting for headers] [Connected to cloud.r-proje\r                                                                               \rHit:3 http://ppa.launchpad.net/c2d4u.team/c2d4u4.0+/ubuntu bionic InRelease\n",
            "\r0% [1 InRelease gpgv 88.7 kB] [Waiting for headers] [Connected to cloud.r-proje\r                                                                               \rHit:4 http://archive.ubuntu.com/ubuntu bionic-updates InRelease\n",
            "\r0% [1 InRelease gpgv 88.7 kB] [Waiting for headers] [Waiting for headers] [Wait\r                                                                               \rHit:5 https://cloud.r-project.org/bin/linux/ubuntu bionic-cran40/ InRelease\n",
            "\r0% [1 InRelease gpgv 88.7 kB] [Waiting for headers] [Waiting for headers] [Wait\r                                                                               \rHit:6 http://archive.ubuntu.com/ubuntu bionic-backports InRelease\n",
            "\r                                                                               \r0% [1 InRelease gpgv 88.7 kB] [Waiting for headers] [Waiting for headers]\r                                                                         \rHit:7 http://ppa.launchpad.net/cran/libgit2/ubuntu bionic InRelease\n",
            "\r                                                                         \r0% [1 InRelease gpgv 88.7 kB] [Waiting for headers]\r                                                   \rHit:8 http://ppa.launchpad.net/deadsnakes/ppa/ubuntu bionic InRelease\n",
            "Hit:9 http://ppa.launchpad.net/graphics-drivers/ppa/ubuntu bionic InRelease\n",
            "Ign:10 https://developer.download.nvidia.com/compute/machine-learning/repos/ubuntu1804/x86_64  InRelease\n",
            "Hit:11 https://developer.download.nvidia.com/compute/cuda/repos/ubuntu1804/x86_64  InRelease\n",
            "Hit:12 https://developer.download.nvidia.com/compute/machine-learning/repos/ubuntu1804/x86_64  Release\n",
            "Reading package lists... Done\n"
          ]
        }
      ],
      "source": [
        "import os\n",
        "import numpy as np\n",
        "import pandas as pd \n",
        "import matplotlib.pyplot as plt\n",
        "%matplotlib inline\n",
        "# Find the latest version of spark 3.0 from http://www.apache.org/dist/spark/ and enter as the spark version\n",
        "# For example:\n",
        "# spark_version = 'spark-3.0.3'\n",
        "spark_version = 'spark-3.2.2'\n",
        "os.environ['SPARK_VERSION']=spark_version\n",
        "\n",
        "# Install Spark and Java\n",
        "!apt-get update\n",
        "!apt-get install openjdk-11-jdk-headless -qq > /dev/null\n",
        "!wget -q http://www.apache.org/dist/spark/$SPARK_VERSION/$SPARK_VERSION-bin-hadoop2.7.tgz\n",
        "!tar xf $SPARK_VERSION-bin-hadoop2.7.tgz\n",
        "!pip install -q findspark\n",
        "\n",
        "# Set Environment Variables\n",
        "import os\n",
        "os.environ[\"JAVA_HOME\"] = \"/usr/lib/jvm/java-11-openjdk-amd64\"\n",
        "os.environ[\"SPARK_HOME\"] = f\"/content/{spark_version}-bin-hadoop2.7\"\n",
        "\n",
        "# Start a SparkSession\n",
        "import findspark\n",
        "findspark.init()\n"
      ]
    },
    {
      "cell_type": "code",
      "execution_count": 3,
      "metadata": {
        "colab": {
          "base_uri": "https://localhost:8080/"
        },
        "id": "jkfNAMO0oyhV",
        "outputId": "9497246c-d181-4e8f-d424-0e0c507479bd"
      },

      "outputs": [
        {
          "name": "stdout",
          "output_type": "stream",
          "text": [
            "--2022-08-30 22:59:41--  https://jdbc.postgresql.org/download/postgresql-42.2.16.jar\n",
            "Resolving jdbc.postgresql.org (jdbc.postgresql.org)... 72.32.157.228, 2001:4800:3e1:1::228\n",
            "Connecting to jdbc.postgresql.org (jdbc.postgresql.org)|72.32.157.228|:443... connected.\n",
            "HTTP request sent, awaiting response... 200 OK\n",
            "Length: 1002883 (979K) [application/java-archive]\n",
            "Saving to: ‘postgresql-42.2.16.jar’\n",
            "\n",
            "postgresql-42.2.16. 100%[===================>] 979.38K  1.59MB/s    in 0.6s    \n",
            "\n",
            "2022-08-30 22:59:42 (1.59 MB/s) - ‘postgresql-42.2.16.jar’ saved [1002883/1002883]\n",
            "\n"
          ]
        }
      ],
      "source": [
        "# Download a Postgres driver that will allow Spark to interact with Postgres\n",
        "!wget https://jdbc.postgresql.org/download/postgresql-42.2.16.jar"
      ]
    },
    {
      "cell_type": "code",

      "metadata": {
        "id": "rHUH3ek31O04"
      },
      "outputs": [],
      "source": []
    },
    {
      "cell_type": "code",
      "execution_count": 4,
      "metadata": {
        "id": "nmUzedI5pE-9"
      },
      "outputs": [],
      "source": [
        "# Add drivers to Spark\n",
        "from pyspark.sql import SparkSession\n",
        "spark = SparkSession.builder.appName(\"CloudETL\").config(\"spark.driver.extraClassPath\",\"/content/postgresql-42.2.16.jar\").getOrCreate()"

      "metadata": {
        "id": "9g3t5mdrpVYS"
      },
      "outputs": [],
      "source": []
    },
    {
      "cell_type": "code",

      "metadata": {
        "colab": {
          "base_uri": "https://localhost:8080/"
        },
        "id": "EPz78NoiqQ44",
        "outputId": "08cb7e31-7d38-472a-e42b-3e5044f251e6"
      },
      "outputs": [
        {
          "name": "stdout",
          "output_type": "stream",
          "text": [
            "+---------+---------+-----------+--------------------+-------------------+------------+--------------------+--------+--------------+----------+---------------+--------------------+--------------------+--------------------+--------------------+--------------------+\n",
            "|following|followers|totaltweets|       usercreatedts|     tweetcreatedts|retweetcount|            hashtags|language|favorite_count|is_retweet|is_quote_status|         extractedts|        cleaned_text|            negative|             neutral|            positive|\n",
            "+---------+---------+-----------+--------------------+-------------------+------------+--------------------+--------+--------------+----------+---------------+--------------------+--------------------+--------------------+--------------------+--------------------+\n",
            "|       51|     3362|      71331|2011-09-08 02:34:...|2022-08-01 00:00:00|           0|[{'text': 'Russia...|      en|           0.0|     false|          false|2022-08-01 02:30:...|the conflict is b...|  0.6027117371559143|  0.3816339075565338|  0.0156544279307127|\n",
            "|      137|   114789|     315096|2010-08-20 11:19:...|2022-08-01 00:00:01|           0|[{'text': 'Ukrain...|      en|           1.0|     false|          false|2022-08-01 01:44:...|the world is in d...|  0.8760229349136353| 0.11690667271614075|0.007070484571158886|\n",
            "|     7284|     6963|     264990|2009-06-07 05:36:...|2022-08-01 00:00:01|           0|[{'text': 'Ukrain...|      en|           1.0|     false|          false|2022-08-01 02:36:...|owner of ukraines...|  0.8333819508552551| 0.16298656165599823|0.003631420433521...|\n",
            "|     1080|    14429|      35346|2013-05-11 18:28:...|2022-08-01 00:00:02|           1|[{'text': 'Iran',...|      en|           2.0|     false|          false|2022-08-01 05:13:...|why  relations li...|  0.4097643494606018|  0.5677175521850586|0.022518066689372063|\n",
            "|     1980|     1827|      67996|2007-03-23 21:01:...|2022-08-01 00:00:02|           1|[{'text': 'ToryFa...|      en|           0.0|      true|           true|2022-08-01 02:36:...|its happening on ...| 0.06149579584598541|  0.8488444089889526| 0.08965984731912613|\n",
            "|      421|       87|       6591|2013-07-09 15:55:...|2022-08-01 00:00:03|           0|[{'text': 'kosovo...|      en|           0.0|     false|          false|2022-08-01 00:29:...|serbian vucic is ...|  0.9745429158210754|0.023634416982531548|0.001822606194764...|\n",
            "|      478|      163|       6760|2014-12-26 00:31:...|2022-08-01 00:00:08|          76|[{'text': 'Ukrain...|      en|           0.0|      true|          false|2022-08-01 02:30:...|russian rocket ki...|  0.9219619035720825| 0.07327494770288467|0.004763160366564989|\n",
            "|      155|       15|      16148|2014-07-29 13:13:...|2022-08-01 00:00:09|         282|[{'text': 'Russia...|      en|           0.0|      true|          false|2022-08-01 00:51:...|legion freedom of...|  0.0326119139790535|  0.9228765368461609| 0.04451160877943039|\n",
            "|     5001|     1912|     163860|2012-06-23 01:23:...|2022-08-01 00:00:10|         454|[{'text': 'sancti...|      en|           0.0|      true|          false|2022-08-01 00:51:...|are italian compa...|  0.2644941508769989|  0.6772770285606384|  0.0582287460565567|\n",
            "|      478|       59|      34296|2009-10-19 22:54:...|2022-08-01 00:00:10|          43|[{'text': 'Ukrain...|      en|           0.0|      true|          false|2022-08-01 01:44:...|turkey refused ru...|  0.5558522343635559|  0.4350818991661072|0.009065911173820496|\n",
            "|     5001|     1365|      77636|2014-01-03 09:33:...|2022-08-01 00:00:11|          29|[{'text': 'Ukrain...|      en|           0.0|      true|          false|2022-08-01 02:36:...|zelensky formal l...| 0.15101107954978943|  0.7638165354728699|  0.0851723775267601|\n",
            "|       74|     1543|         23|2011-01-12 05:49:...|2022-08-01 00:00:19|        1052|[{'text': 'Oleniv...|      en|           0.0|      true|          false|2022-08-01 00:06:...|i condemn brutal ...|  0.9047191143035889| 0.09236498177051544|0.002915868535637...|\n",
            "|      746|      442|      24758|2009-06-04 14:09:...|2022-08-01 00:00:21|           8|[{'text': 'Russia...|      en|           0.0|      true|          false|2022-08-01 01:44:...| a new video of a...|0.042681001126766205|  0.9255278706550598| 0.03179115802049637|\n",
            "|     1330|      306|       2011|2009-01-12 17:56:...|2022-08-01 00:00:24|         384|[{'text': 'Ukrain...|      en|           0.0|      true|          false|2022-08-01 01:44:...|good night world ...|0.002705698134377...| 0.06929384917020798|  0.9280004501342773|\n",
            "|      383|       50|       9707|2010-09-13 16:18:...|2022-08-01 00:00:29|          25|[{'text': 'Kosovo...|      en|           0.0|      true|          false|2022-08-01 00:29:...|support for kosov...| 0.10012583434581757| 0.49994635581970215| 0.39992785453796387|\n",
            "|     4990|      565|      83755|2012-06-11 17:01:...|2022-08-01 00:00:35|         235|[{'text': 'ActOnC...|      en|           0.0|      true|          false|2022-08-01 02:36:...|reminder russia c...|  0.8852719664573669| 0.11040213704109192|0.004325922578573227|\n",
            "|      804|      340|      35100|2011-11-16 19:45:...|2022-08-01 00:00:45|         276|[{'text': 'Faroes...|      en|           0.0|      true|          false|2022-08-01 00:51:...|this kills me a b...|  0.9716231822967529|0.026602070778608322|0.001774684293195...|\n",
            "|      184|      151|        251|2013-08-28 12:23:...|2022-08-01 00:00:46|           0|[{'text': 'Kosovo...|      en|           1.0|     false|          false|2022-08-01 00:29:...|why are you choos...|  0.3273519277572632|  0.6276887059211731| 0.04495938494801521|\n",
            "|     2031|     2051|     106112|2014-03-14 17:16:...|2022-08-01 00:00:48|         384|[{'text': 'Ukrain...|      en|           0.0|      true|          false|2022-08-01 01:44:...|good night world ...|0.002705698134377...| 0.06929384917020798|  0.9280004501342773|\n",
            "|       59|      187|      21958|2013-02-12 03:01:...|2022-08-01 00:00:51|        1315|[{'text': 'StandW...|      en|           0.0|      true|          false|2022-08-01 02:36:...|today prime minis...|0.018899668008089066| 0.25686609745025635|  0.7242342233657837|\n",
            "+---------+---------+-----------+--------------------+-------------------+------------+--------------------+--------+--------------+----------+---------------+--------------------+--------------------+--------------------+--------------------+--------------------+\n",
            "only showing top 20 rows\n",
            "\n"
          ]
        }
      ],
      "source": [

      "metadata": {
        "colab": {
          "base_uri": "https://localhost:8080/"
        },
        "id": "7-U8760X1_Up",
        "outputId": "b324f7c0-809b-4d05-e854-10f147684c97"
      },

      "outputs": [
        {
          "name": "stdout",
          "output_type": "stream",
          "text": [
            "+---------+---------+-----------+--------------------+-------------------+------------+--------------------+--------+--------------+----------+---------------+--------------------+--------------------+--------------------+--------------------+--------------------+\n",
            "|following|followers|totaltweets|       usercreatedts|     tweetcreatedts|retweetcount|            hashtags|language|favorite_count|is_retweet|is_quote_status|         extractedts|        cleaned_text|            negative|             neutral|            positive|\n",
            "+---------+---------+-----------+--------------------+-------------------+------------+--------------------+--------+--------------+----------+---------------+--------------------+--------------------+--------------------+--------------------+--------------------+\n",
            "|       51|     3362|      71331|2011-09-08 02:34:...|2022-08-01 00:00:00|           0|[{'text': 'Russia...|      en|           0.0|     false|          false|2022-08-01 02:30:...|the conflict is b...|  0.6027117371559143|  0.3816339075565338|  0.0156544279307127|\n",
            "|      137|   114789|     315096|2010-08-20 11:19:...|2022-08-01 00:00:01|           0|[{'text': 'Ukrain...|      en|           1.0|     false|          false|2022-08-01 01:44:...|the world is in d...|  0.8760229349136353| 0.11690667271614075|0.007070484571158886|\n",
            "|     7284|     6963|     264990|2009-06-07 05:36:...|2022-08-01 00:00:01|           0|[{'text': 'Ukrain...|      en|           1.0|     false|          false|2022-08-01 02:36:...|owner of ukraines...|  0.8333819508552551| 0.16298656165599823|0.003631420433521...|\n",
            "|     1080|    14429|      35346|2013-05-11 18:28:...|2022-08-01 00:00:02|           1|[{'text': 'Iran',...|      en|           2.0|     false|          false|2022-08-01 05:13:...|why  relations li...|  0.4097643494606018|  0.5677175521850586|0.022518066689372063|\n",
            "|     1980|     1827|      67996|2007-03-23 21:01:...|2022-08-01 00:00:02|           1|[{'text': 'ToryFa...|      en|           0.0|      true|           true|2022-08-01 02:36:...|its happening on ...| 0.06149579584598541|  0.8488444089889526| 0.08965984731912613|\n",
            "|      421|       87|       6591|2013-07-09 15:55:...|2022-08-01 00:00:03|           0|[{'text': 'kosovo...|      en|           0.0|     false|          false|2022-08-01 00:29:...|serbian vucic is ...|  0.9745429158210754|0.023634416982531548|0.001822606194764...|\n",
            "|      478|      163|       6760|2014-12-26 00:31:...|2022-08-01 00:00:08|          76|[{'text': 'Ukrain...|      en|           0.0|      true|          false|2022-08-01 02:30:...|russian rocket ki...|  0.9219619035720825| 0.07327494770288467|0.004763160366564989|\n",
            "|      155|       15|      16148|2014-07-29 13:13:...|2022-08-01 00:00:09|         282|[{'text': 'Russia...|      en|           0.0|      true|          false|2022-08-01 00:51:...|legion freedom of...|  0.0326119139790535|  0.9228765368461609| 0.04451160877943039|\n",
            "|     5001|     1912|     163860|2012-06-23 01:23:...|2022-08-01 00:00:10|         454|[{'text': 'sancti...|      en|           0.0|      true|          false|2022-08-01 00:51:...|are italian compa...|  0.2644941508769989|  0.6772770285606384|  0.0582287460565567|\n",
            "|      478|       59|      34296|2009-10-19 22:54:...|2022-08-01 00:00:10|          43|[{'text': 'Ukrain...|      en|           0.0|      true|          false|2022-08-01 01:44:...|turkey refused ru...|  0.5558522343635559|  0.4350818991661072|0.009065911173820496|\n",
            "|     5001|     1365|      77636|2014-01-03 09:33:...|2022-08-01 00:00:11|          29|[{'text': 'Ukrain...|      en|           0.0|      true|          false|2022-08-01 02:36:...|zelensky formal l...| 0.15101107954978943|  0.7638165354728699|  0.0851723775267601|\n",
            "|       74|     1543|         23|2011-01-12 05:49:...|2022-08-01 00:00:19|        1052|[{'text': 'Oleniv...|      en|           0.0|      true|          false|2022-08-01 00:06:...|i condemn brutal ...|  0.9047191143035889| 0.09236498177051544|0.002915868535637...|\n",
            "|      746|      442|      24758|2009-06-04 14:09:...|2022-08-01 00:00:21|           8|[{'text': 'Russia...|      en|           0.0|      true|          false|2022-08-01 01:44:...| a new video of a...|0.042681001126766205|  0.9255278706550598| 0.03179115802049637|\n",
            "|     1330|      306|       2011|2009-01-12 17:56:...|2022-08-01 00:00:24|         384|[{'text': 'Ukrain...|      en|           0.0|      true|          false|2022-08-01 01:44:...|good night world ...|0.002705698134377...| 0.06929384917020798|  0.9280004501342773|\n",
            "|      383|       50|       9707|2010-09-13 16:18:...|2022-08-01 00:00:29|          25|[{'text': 'Kosovo...|      en|           0.0|      true|          false|2022-08-01 00:29:...|support for kosov...| 0.10012583434581757| 0.49994635581970215| 0.39992785453796387|\n",
            "|     4990|      565|      83755|2012-06-11 17:01:...|2022-08-01 00:00:35|         235|[{'text': 'ActOnC...|      en|           0.0|      true|          false|2022-08-01 02:36:...|reminder russia c...|  0.8852719664573669| 0.11040213704109192|0.004325922578573227|\n",
            "|      804|      340|      35100|2011-11-16 19:45:...|2022-08-01 00:00:45|         276|[{'text': 'Faroes...|      en|           0.0|      true|          false|2022-08-01 00:51:...|this kills me a b...|  0.9716231822967529|0.026602070778608322|0.001774684293195...|\n",
            "|      184|      151|        251|2013-08-28 12:23:...|2022-08-01 00:00:46|           0|[{'text': 'Kosovo...|      en|           1.0|     false|          false|2022-08-01 00:29:...|why are you choos...|  0.3273519277572632|  0.6276887059211731| 0.04495938494801521|\n",
            "|     2031|     2051|     106112|2014-03-14 17:16:...|2022-08-01 00:00:48|         384|[{'text': 'Ukrain...|      en|           0.0|      true|          false|2022-08-01 01:44:...|good night world ...|0.002705698134377...| 0.06929384917020798|  0.9280004501342773|\n",
            "|       59|      187|      21958|2013-02-12 03:01:...|2022-08-01 00:00:51|        1315|[{'text': 'StandW...|      en|           0.0|      true|          false|2022-08-01 02:36:...|today prime minis...|0.018899668008089066| 0.25686609745025635|  0.7242342233657837|\n",
            "+---------+---------+-----------+--------------------+-------------------+------------+--------------------+--------+--------------+----------+---------------+--------------------+--------------------+--------------------+--------------------+--------------------+\n",
            "only showing top 20 rows\n",
            "\n"
          ]
        }
      ],
      "source": [
        "# Read in data from S3 Buckets\n",
        "url =\"https://uaresources.s3.amazonaws.com/EventsUA.csv\"\n",
        "spark.sparkContext.addFile(url)\n",
        "event_df = spark.read.csv(SparkFiles.get(\"EventsUA.csv\"), sep=\",\", header=True, inferSchema=True)\n",
        "\n",
        "# Show DataFrame\n",
        "event_df.show()"
      ]
    },
    {
      "cell_type": "code",

      "metadata": {
        "colab": {
          "base_uri": "https://localhost:8080/",
          "height": 300
        },
        "id": "LK4QtqyLE1QB",
        "outputId": "cf019043-e2a9-4244-bda6-2108829e182c"
      },

          "evalue": "ignored",
          "output_type": "error",
          "traceback": [
            "\u001b[0;31m---------------------------------------------------------------------------\u001b[0m",
            "\u001b[0;31mAttributeError\u001b[0m                            Traceback (most recent call last)",
            "\u001b[0;32m<ipython-input-23-03c9be5630e7>\u001b[0m in \u001b[0;36m<module>\u001b[0;34m\u001b[0m\n\u001b[1;32m      1\u001b[0m \u001b[0;31m# Check data types\u001b[0m\u001b[0;34m\u001b[0m\u001b[0;34m\u001b[0m\u001b[0;34m\u001b[0m\u001b[0m\n\u001b[0;32m----> 2\u001b[0;31m \u001b[0mtext_df\u001b[0m\u001b[0;34m.\u001b[0m\u001b[0minfo\u001b[0m\u001b[0;34m(\u001b[0m\u001b[0;34m)\u001b[0m\u001b[0;34m\u001b[0m\u001b[0;34m\u001b[0m\u001b[0m\n\u001b[0m",
            "\u001b[0;32m/content/spark-3.2.2-bin-hadoop2.7/python/pyspark/sql/dataframe.py\u001b[0m in \u001b[0;36m__getattr__\u001b[0;34m(self, name)\u001b[0m\n\u001b[1;32m   1658\u001b[0m         \u001b[0;32mif\u001b[0m \u001b[0mname\u001b[0m \u001b[0;32mnot\u001b[0m \u001b[0;32min\u001b[0m \u001b[0mself\u001b[0m\u001b[0;34m.\u001b[0m\u001b[0mcolumns\u001b[0m\u001b[0;34m:\u001b[0m\u001b[0;34m\u001b[0m\u001b[0;34m\u001b[0m\u001b[0m\n\u001b[1;32m   1659\u001b[0m             raise AttributeError(\n\u001b[0;32m-> 1660\u001b[0;31m                 \"'%s' object has no attribute '%s'\" % (self.__class__.__name__, name))\n\u001b[0m\u001b[1;32m   1661\u001b[0m         \u001b[0mjc\u001b[0m \u001b[0;34m=\u001b[0m \u001b[0mself\u001b[0m\u001b[0;34m.\u001b[0m\u001b[0m_jdf\u001b[0m\u001b[0;34m.\u001b[0m\u001b[0mapply\u001b[0m\u001b[0;34m(\u001b[0m\u001b[0mname\u001b[0m\u001b[0;34m)\u001b[0m\u001b[0;34m\u001b[0m\u001b[0;34m\u001b[0m\u001b[0m\n\u001b[1;32m   1662\u001b[0m         \u001b[0;32mreturn\u001b[0m \u001b[0mColumn\u001b[0m\u001b[0;34m(\u001b[0m\u001b[0mjc\u001b[0m\u001b[0;34m)\u001b[0m\u001b[0;34m\u001b[0m\u001b[0;34m\u001b[0m\u001b[0m\n",
            "\u001b[0;31mAttributeError\u001b[0m: 'DataFrame' object has no attribute 'info'"
          ]
        }
      ],
      "source": [
        "# Join the two DataFrame\n",
        "joined_df=user_data_df.join(event_df, on='Date', how='left')\n",
        "joined_df.show()"
      ]
    },
    {
      "cell_type": "code",

      "metadata": {
        "colab": {
          "base_uri": "https://localhost:8080/",
          "height": 375
        },
        "id": "yfU2C-QeGGPM",
        "outputId": "b06af9be-ad4e-45ca-8f6a-1ce87ad64013"
      },

          ]
        }
      ],
      "source": [
        "# Create a DataFrame to match the billing_info table\n",
        "clean_billing_df=cleaned_df.select(['billing_id', 'street_address', 'state', 'username'])\n",
        "clean_billing_df.show()"
      ]
    },
    {
      "cell_type": "code",

      "metadata": {
        "colab": {
          "base_uri": "https://localhost:8080/",
          "height": 375
        },
        "id": "1Gq6wr3tCWSH",
        "outputId": "362ca3c1-3ae6-41a9-cda8-52445f3a1d2b"
      },

          ]
        }
      ],
      "source": [
        "# Create a DataFrame to match the payment_info table\n",
        "clean_payment_df=cleaned_df.select(['billing_id', 'cc_encrypted'])\n",
        "clean_payment_df.show()"
      ]
    },
    {
      "cell_type": "markdown",
      "metadata": {
        "id": "ATojnogKLDl4"
      },
      "source": [
        "**Get our transformed raw data into our database**"
      ]
    },
    {
      "cell_type": "code",

      "metadata": {
        "colab": {
          "base_uri": "https://localhost:8080/"
        },
        "id": "f3KZN-bpK51U",
        "outputId": "88d5c8b7-9214-4f87-bbcb-ed4668a13d2b"
      },

      "outputs": [
        {
          "name": "stdout",
          "output_type": "stream",
          "text": [
            "password··········\n"
          ]
        }
      ],
      "source": [
        "# Store environmental variable\n",
        "from getpass import getpass\n",
        "password = getpass('Enter database password:')\n",
        "# Configure settings for RDS\n",
        "mode = \"append\"\n",
        "jdbc_url=\"jdbc:postgresql://databiz.c3x2frc4y9xs.us-east-1.rds.amazonaws.com:5432/my_data_class_db\"\n",
        "config = {\"user\":\"postgres\",\n",
        "          \"password\": password,\n",
        "          \"driver\":\"org.postgresql.Driver\"}"
      ]
    },
    {
      "cell_type": "code",

      ]
    },
    {
      "cell_type": "code",

      "metadata": {
        "id": "4hQ3VVsBR4uE"
      },
      "outputs": [],
      "source": []
    }
  ],
  "metadata": {
    "colab": {
      "authorship_tag": "ABX9TyPUS2SNV1Uefz3YdXNbBM/2",
      "collapsed_sections": [],
      "include_colab_link": true,
      "name": "Twitter ETL.ipynb",
      "provenance": []
    },
    "kernelspec": {
      "display_name": "Python 3.9.5 64-bit",
      "language": "python",
      "name": "python3"
    },
    "language_info": {
      "name": "python",
      "version": "3.9.5"
    },
    "vscode": {
      "interpreter": {
        "hash": "aee8b7b246df8f9039afb4144a1f6fd8d2ca17a180786b69acc140d282b71a49"
      }
    }
  },
  "nbformat": 4,
  "nbformat_minor": 0
}
