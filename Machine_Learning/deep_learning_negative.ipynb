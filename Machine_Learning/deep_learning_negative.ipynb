{
  "nbformat": 4,
  "nbformat_minor": 0,
  "metadata": {
    "colab": {
      "provenance": [],
      "collapsed_sections": [],
      "authorship_tag": "ABX9TyPu9tMBRGkM3NjZMaZqCr7+",
      "include_colab_link": true
    },
    "kernelspec": {
      "name": "python3",
      "display_name": "Python 3"
    },
    "language_info": {
      "name": "python"
    }
  },
  "cells": [
    {
      "cell_type": "markdown",
      "metadata": {
        "id": "view-in-github",
        "colab_type": "text"
      },
      "source": [
        "<a href=\"https://colab.research.google.com/github/aiscience-22/UA_War/blob/olgap%2Fmachine_learning_0.06/deep_learning_negative.ipynb\" target=\"_parent\"><img src=\"https://colab.research.google.com/assets/colab-badge.svg\" alt=\"Open In Colab\"/></a>"
      ]
    },
    {
      "cell_type": "code",
      "source": [
        "# Installs latest version of TensorFlow 2.X \n",
        "# !pip install --upgrade tensorflow"
      ],
      "metadata": {
        "id": "z8bP1saLoMap"
      },
      "execution_count": null,
      "outputs": []
    },
    {
      "cell_type": "code",
      "execution_count": null,
      "metadata": {
        "id": "JktWC-SkZS3n"
      },
      "outputs": [],
      "source": [
        "# Import our dependencies\n",
        "import os\n",
        "from sklearn.model_selection import train_test_split\n",
        "from sklearn.preprocessing import StandardScaler,OneHotEncoder\n",
        "import datetime\n",
        "from datetime import datetime\n",
        "import pandas as pd\n",
        "import matplotlib\n",
        "import matplotlib.pyplot as plt\n",
        "%matplotlib inline\n",
        "import sklearn as skl\n",
        "import tensorflow as tf"
      ]
    },
    {
      "cell_type": "code",
      "source": [
        "# Find the latest version of spark 3.0 from http://www.apache.org/dist/spark/ and enter as the spark version\n",
        "# For example:\n",
        "# spark_version = 'spark-3.0.3'\n",
        "spark_version = 'spark-3.2.2'\n",
        "os.environ['SPARK_VERSION']=spark_version\n",
        "\n",
        "# Install Spark and Java\n",
        "!apt-get update\n",
        "!apt-get install openjdk-11-jdk-headless -qq > /dev/null\n",
        "!wget -q http://www.apache.org/dist/spark/$SPARK_VERSION/$SPARK_VERSION-bin-hadoop2.7.tgz\n",
        "!tar xf $SPARK_VERSION-bin-hadoop2.7.tgz\n",
        "!pip install -q findspark\n",
        "\n",
        "# Set Environment Variables\n",
        "import os\n",
        "os.environ[\"JAVA_HOME\"] = \"/usr/lib/jvm/java-11-openjdk-amd64\"\n",
        "os.environ[\"SPARK_HOME\"] = f\"/content/{spark_version}-bin-hadoop2.7\"\n",
        "\n",
        "# Start a SparkSession\n",
        "import findspark\n",
        "findspark.init()"
      ],
      "metadata": {
        "colab": {
          "base_uri": "https://localhost:8080/"
        },
        "id": "Kiq6hp2xZYzr",
        "outputId": "f37d0011-ca0b-4e61-bc23-3f252a9a0261"
      },
      "execution_count": null,
      "outputs": [
        {
          "output_type": "stream",
          "name": "stdout",
          "text": [
            "\r0% [Working]\r            \rGet:1 https://cloud.r-project.org/bin/linux/ubuntu bionic-cran40/ InRelease [3,626 B]\n",
            "\r0% [Connecting to archive.ubuntu.com] [Connecting to security.ubuntu.com (91.18\r0% [Connecting to archive.ubuntu.com] [Connecting to security.ubuntu.com (91.18\r                                                                               \rHit:2 http://archive.ubuntu.com/ubuntu bionic InRelease\n",
            "\r                                                                               \rGet:3 http://security.ubuntu.com/ubuntu bionic-security InRelease [88.7 kB]\n",
            "\r0% [Waiting for headers] [3 InRelease 14.2 kB/88.7 kB 16%] [Connected to develo\r0% [1 InRelease gpgv 3,626 B] [Waiting for headers] [3 InRelease 14.2 kB/88.7 k\r                                                                               \rGet:4 http://archive.ubuntu.com/ubuntu bionic-updates InRelease [88.7 kB]\n",
            "\r0% [1 InRelease gpgv 3,626 B] [4 InRelease 14.2 kB/88.7 kB 16%] [3 InRelease 31\r0% [1 InRelease gpgv 3,626 B] [4 InRelease 64.9 kB/88.7 kB 73%] [Connected to d\r                                                                               \rGet:5 http://ppa.launchpad.net/c2d4u.team/c2d4u4.0+/ubuntu bionic InRelease [15.9 kB]\n",
            "Get:6 http://archive.ubuntu.com/ubuntu bionic-backports InRelease [74.6 kB]\n",
            "Hit:7 http://ppa.launchpad.net/cran/libgit2/ubuntu bionic InRelease\n",
            "Hit:8 http://ppa.launchpad.net/deadsnakes/ppa/ubuntu bionic InRelease\n",
            "Ign:9 https://developer.download.nvidia.com/compute/machine-learning/repos/ubuntu1804/x86_64  InRelease\n",
            "Hit:10 http://ppa.launchpad.net/graphics-drivers/ppa/ubuntu bionic InRelease\n",
            "Hit:11 https://developer.download.nvidia.com/compute/cuda/repos/ubuntu1804/x86_64  InRelease\n",
            "Hit:12 https://developer.download.nvidia.com/compute/machine-learning/repos/ubuntu1804/x86_64  Release\n",
            "Get:13 http://security.ubuntu.com/ubuntu bionic-security/restricted amd64 Packages [1,121 kB]\n",
            "Get:14 http://security.ubuntu.com/ubuntu bionic-security/universe amd64 Packages [1,540 kB]\n",
            "Get:15 http://security.ubuntu.com/ubuntu bionic-security/main amd64 Packages [2,959 kB]\n",
            "Get:16 http://archive.ubuntu.com/ubuntu bionic-updates/main amd64 Packages [3,390 kB]\n",
            "Get:17 http://archive.ubuntu.com/ubuntu bionic-updates/restricted amd64 Packages [1,162 kB]\n",
            "Get:18 http://ppa.launchpad.net/c2d4u.team/c2d4u4.0+/ubuntu bionic/main Sources [2,099 kB]\n",
            "Get:19 http://ppa.launchpad.net/c2d4u.team/c2d4u4.0+/ubuntu bionic/main amd64 Packages [1,076 kB]\n",
            "Fetched 13.6 MB in 6s (2,321 kB/s)\n",
            "Reading package lists... Done\n"
          ]
        }
      ]
    },
    {
      "cell_type": "code",
      "source": [
        "# Add drivers to Spark\n",
        "from pyspark.sql import SparkSession\n",
        "spark = SparkSession.builder.appName(\"CloudETL\").config(\"spark.driver.extraClassPath\",\"/content/postgresql-42.2.16.jar\").getOrCreate()"
      ],
      "metadata": {
        "id": "ZBdMUWu8ZqH-"
      },
      "execution_count": null,
      "outputs": []
    },
    {
      "cell_type": "code",
      "source": [
        "# Read in data from S3 Buckets\n",
        "from pyspark import SparkFiles\n",
        "url =\"https://aiscience22.s3.us-west-1.amazonaws.com/joined.csv\"\n",
        "\n",
        "spark.sparkContext.addFile(url)\n",
        "text_df = spark.read.csv(SparkFiles.get(\"joined.csv\"), sep=\",\", header=True, inferSchema=True)\n",
        "\n",
        "\n",
        "# Show DataFrame\n",
        "text_df.show()"
      ],
      "metadata": {
        "colab": {
          "base_uri": "https://localhost:8080/"
        },
        "id": "ZIsuvuhQZsE-",
        "outputId": "35b63218-a992-45cd-ccd7-86e104652608"
      },
      "execution_count": null,
      "outputs": [
        {
          "output_type": "stream",
          "name": "stdout",
          "text": [
            "+-------------+---------+---------+-----------+-------------+--------------+------------+--------------------+--------+--------------+-----------+----------+---------------+----------+--------------------+-----------+-----------+-----------+--------------+----------+\n",
            "|     username|following|followers|totaltweets|usercreatedts|tweetcreatedts|retweetcount|            hashtags|language|favorite_count|extractedts|is_retweet|is_quote_status|weekofyear|        cleaned_text|   negative|    neutral|   positive|search_results|    weight|\n",
            "+-------------+---------+---------+-----------+-------------+--------------+------------+--------------------+--------+--------------+-----------+----------+---------------+----------+--------------------+-----------+-----------+-----------+--------------+----------+\n",
            "|     Theo1001|      312|      123|      38156|   2008-05-14|    2022-04-22|          67|[{''text'': ''Sta...|      en|             0| 2022-04-22|      true|          false|        16|thank you sir we ...|0.010234239|0.719316363| 0.27044937|        196000|9.84925E-4|\n",
            "|      ereguly|     4787|     9149|      22818|   2008-12-31|    2022-04-24|           3|[{''text'': ''LeP...|      en|             5| 2022-04-24|     false|           true|        16|of course pas de ...|0.004823362|0.675432563| 0.31974408|         94500|4.74874E-4|\n",
            "| davidgodfrey|     5003|      464|      44931|   2008-10-12|    2022-04-24|          97|[{''text'': ''Mar...|      en|             0| 2022-04-24|      true|          false|        16|no corridors from...|0.018234028|0.883308649|0.098457314|         94500|4.74874E-4|\n",
            "|     cazacioc|     1712|     1019|      38691|   2008-12-06|    2022-04-24|         500|[{''text'': ''Sla...|      en|             0| 2022-04-24|      true|          false|        16|           thank you| 0.16979149|0.608387113|0.221821398|         94500|4.74874E-4|\n",
            "|Daily_Express|      761|   935851|    1066678|   2008-12-05|    2022-04-22|           0|[{''text'': ''Ukr...|      en|             2| 2022-04-22|     false|          false|        16|president biden u...| 0.15694426|0.766128123|0.076927625|        196000|9.84925E-4|\n",
            "|          hrw|    21249|  4944152|     126522|   2008-05-08|    2022-04-29|           7|[{''text'': ''Ukr...|      en|             0| 2022-04-29|      true|          false|        17|refugees from in ...|0.793118954|0.200591654|0.006289432|        165000|8.29146E-4|\n",
            "|   berrysname|     2831|     2161|     220797|   2008-09-07|    2022-04-29|         465|                  []|      en|             0| 2022-04-29|      true|          false|        17|the house passed ...| 0.04640222|0.323074758|0.630523026|        165000|8.29146E-4|\n",
            "|ScottLucas_EA|     5906|    11359|     147336|   2008-11-07|    2022-04-29|           0|[{''text'': ''Rus...|      en|             1| 2022-04-29|     false|           true|        17|uk military intel...|0.954946578|0.042540386|0.002512994|        165000|8.29146E-4|\n",
            "|      bracing|     3855|     1011|     336843|   2008-10-03|    2022-04-29|           7|[{''text'': ''Ukr...|      en|             0| 2022-04-29|      true|          false|        17|refugees from in ...|0.626249135|0.361375868| 0.01237498|        165000|8.29146E-4|\n",
            "|    greenpost|     4855|     4844|     105605|   2008-04-23|    2022-04-29|         121|                  []|      en|             0| 2022-04-29|      true|          false|        17|using multispectr...|0.004727311|0.816613853|0.178658798|        165000|8.29146E-4|\n",
            "|    greenpost|     4855|     4844|     105605|   2008-04-23|    2022-04-29|         130|                  []|      en|             0| 2022-04-29|      true|          false|        17|satellite imagery...|0.022478318|0.345644444|0.631877244|        165000|8.29146E-4|\n",
            "|    greenpost|     4855|     4844|     105613|   2008-04-23|    2022-04-29|         131|[{''text'': ''sat...|      en|             0| 2022-04-29|      true|          false|        17|in these before a...| 0.12595892|0.549196601| 0.32484445|        165000|8.29146E-4|\n",
            "|     aharring|     2393|     2247|      56768|   2008-10-25|    2022-04-29|           0|[{''text'': ''USA...|      en|             0| 2022-04-29|     false|           true|        17|trotting down the...| 0.01327248|0.795731664|0.190995812|        165000|8.29146E-4|\n",
            "|    greenpost|     4855|     4844|     105613|   2008-04-23|    2022-04-29|          99|[{''text'': ''sat...|      en|             0| 2022-04-29|      true|          false|        17|march  taken at 1...| 0.12595892|0.549196601| 0.32484445|        165000|8.29146E-4|\n",
            "|    greenpost|     4855|     4844|     105613|   2008-04-23|    2022-04-29|          78|[{''text'': ''sat...|      en|             0| 2022-04-29|      true|          false|        17|our latest imager...|0.782127023|0.209975347|0.007897621|        165000|8.29146E-4|\n",
            "|     KyivPost|     1573|   375642|      57320|   2008-03-09|    2022-04-29|          26|[{''text'': ''Rus...|      en|           103| 2022-04-29|     false|          false|        17|as part of an exc...|0.011635874|0.914978385|0.073385715|        165000|8.29146E-4|\n",
            "|      Tz_akgt|     1466|     2102|     120243|   2007-09-13|    2022-04-23|        1038|[{''text'': ''Ukr...|      en|             0| 2022-04-23|      true|          false|        16|the star among al...|0.484800726|0.431464285|0.083734967|        148000|7.43719E-4|\n",
            "|      tomwi76|      107|       42|       8543|   2008-12-18|    2022-04-24|        4784|[{''text'': ''Ukr...|      en|             0| 2022-04-24|      true|          false|        16|the star among al...| 0.12595892|0.549196601| 0.32484445|         94500|4.74874E-4|\n",
            "|    gploosley|      631|     1534|       5258|   2008-11-24|    2022-04-23|        1391|[{''text'': ''Ukr...|      en|             0| 2022-04-23|      true|          false|        16|the star among al...|0.684337974|0.277644992|0.038017016|        148000|7.43719E-4|\n",
            "|     EURACTIV|      823|   145623|      77059|   2008-05-17|    2022-04-29|           2|[{''text'': ''Ukr...|      en|             4| 2022-04-29|     false|          false|        17|romania moves to ...|0.432866305|0.497324497|0.069809228|        165000|8.29146E-4|\n",
            "+-------------+---------+---------+-----------+-------------+--------------+------------+--------------------+--------+--------------+-----------+----------+---------------+----------+--------------------+-----------+-----------+-----------+--------------+----------+\n",
            "only showing top 20 rows\n",
            "\n"
          ]
        }
      ]
    },
    {
      "cell_type": "markdown",
      "source": [
        "# Exploring the taken data"
      ],
      "metadata": {
        "id": "JDL7G1xM8IGS"
      }
    },
    {
      "cell_type": "code",
      "source": [
        "# Convert DataFrame to Pandas\n",
        "joined_data_df = text_df.toPandas()\n",
        "print(joined_data_df.shape)\n",
        "joined_data_df.head(5)"
      ],
      "metadata": {
        "colab": {
          "base_uri": "https://localhost:8080/",
          "height": 506
        },
        "id": "uuT--9TCa9T2",
        "outputId": "2173a2bc-39da-48b0-9b70-66845fc61050"
      },
      "execution_count": null,
      "outputs": [
        {
          "output_type": "stream",
          "name": "stdout",
          "text": [
            "(451700, 20)\n"
          ]
        },
        {
          "output_type": "execute_result",
          "data": {
            "text/plain": [
              "        username  following  followers  totaltweets usercreatedts  \\\n",
              "0       Theo1001        312        123        38156    2008-05-14   \n",
              "1        ereguly       4787       9149        22818    2008-12-31   \n",
              "2   davidgodfrey       5003        464        44931    2008-10-12   \n",
              "3       cazacioc       1712       1019        38691    2008-12-06   \n",
              "4  Daily_Express        761     935851      1066678    2008-12-05   \n",
              "\n",
              "  tweetcreatedts  retweetcount  \\\n",
              "0     2022-04-22            67   \n",
              "1     2022-04-24             3   \n",
              "2     2022-04-24            97   \n",
              "3     2022-04-24           500   \n",
              "4     2022-04-22             0   \n",
              "\n",
              "                                            hashtags language  favorite_count  \\\n",
              "0  [{''text'': ''StandWithUkraine'', ''indices'':...       en               0   \n",
              "1  [{''text'': ''LePen'', ''indices'': [28, 34]},...       en               5   \n",
              "2  [{''text'': ''Mariupol'', ''indices'': [36, 45]}]       en               0   \n",
              "3  [{''text'': ''SlavaUkraini'', ''indices'': [30...       en               0   \n",
              "4   [{''text'': ''Ukraine'', ''indices'': [63, 71]}]       en               2   \n",
              "\n",
              "  extractedts  is_retweet  is_quote_status  weekofyear  \\\n",
              "0  2022-04-22        True            False          16   \n",
              "1  2022-04-24       False             True          16   \n",
              "2  2022-04-24        True            False          16   \n",
              "3  2022-04-24        True            False          16   \n",
              "4  2022-04-22       False            False          16   \n",
              "\n",
              "                                        cleaned_text  negative   neutral  \\\n",
              "0  thank you sir we will not forget those who con...  0.010234  0.719316   \n",
              "1  of course pas de surprise tainted by her close...  0.004823  0.675433   \n",
              "2  no corridors from again russians did not allow...  0.018234  0.883309   \n",
              "3                                          thank you  0.169791  0.608387   \n",
              "4  president biden unveils m worth of military as...  0.156944  0.766128   \n",
              "\n",
              "   positive  search_results    weight  \n",
              "0  0.270449        196000.0  0.000985  \n",
              "1  0.319744         94500.0  0.000475  \n",
              "2  0.098457         94500.0  0.000475  \n",
              "3  0.221821         94500.0  0.000475  \n",
              "4  0.076928        196000.0  0.000985  "
            ],
            "text/html": [
              "\n",
              "  <div id=\"df-bf340656-d4fb-4f62-9e51-820fa0c8a826\">\n",
              "    <div class=\"colab-df-container\">\n",
              "      <div>\n",
              "<style scoped>\n",
              "    .dataframe tbody tr th:only-of-type {\n",
              "        vertical-align: middle;\n",
              "    }\n",
              "\n",
              "    .dataframe tbody tr th {\n",
              "        vertical-align: top;\n",
              "    }\n",
              "\n",
              "    .dataframe thead th {\n",
              "        text-align: right;\n",
              "    }\n",
              "</style>\n",
              "<table border=\"1\" class=\"dataframe\">\n",
              "  <thead>\n",
              "    <tr style=\"text-align: right;\">\n",
              "      <th></th>\n",
              "      <th>username</th>\n",
              "      <th>following</th>\n",
              "      <th>followers</th>\n",
              "      <th>totaltweets</th>\n",
              "      <th>usercreatedts</th>\n",
              "      <th>tweetcreatedts</th>\n",
              "      <th>retweetcount</th>\n",
              "      <th>hashtags</th>\n",
              "      <th>language</th>\n",
              "      <th>favorite_count</th>\n",
              "      <th>extractedts</th>\n",
              "      <th>is_retweet</th>\n",
              "      <th>is_quote_status</th>\n",
              "      <th>weekofyear</th>\n",
              "      <th>cleaned_text</th>\n",
              "      <th>negative</th>\n",
              "      <th>neutral</th>\n",
              "      <th>positive</th>\n",
              "      <th>search_results</th>\n",
              "      <th>weight</th>\n",
              "    </tr>\n",
              "  </thead>\n",
              "  <tbody>\n",
              "    <tr>\n",
              "      <th>0</th>\n",
              "      <td>Theo1001</td>\n",
              "      <td>312</td>\n",
              "      <td>123</td>\n",
              "      <td>38156</td>\n",
              "      <td>2008-05-14</td>\n",
              "      <td>2022-04-22</td>\n",
              "      <td>67</td>\n",
              "      <td>[{''text'': ''StandWithUkraine'', ''indices'':...</td>\n",
              "      <td>en</td>\n",
              "      <td>0</td>\n",
              "      <td>2022-04-22</td>\n",
              "      <td>True</td>\n",
              "      <td>False</td>\n",
              "      <td>16</td>\n",
              "      <td>thank you sir we will not forget those who con...</td>\n",
              "      <td>0.010234</td>\n",
              "      <td>0.719316</td>\n",
              "      <td>0.270449</td>\n",
              "      <td>196000.0</td>\n",
              "      <td>0.000985</td>\n",
              "    </tr>\n",
              "    <tr>\n",
              "      <th>1</th>\n",
              "      <td>ereguly</td>\n",
              "      <td>4787</td>\n",
              "      <td>9149</td>\n",
              "      <td>22818</td>\n",
              "      <td>2008-12-31</td>\n",
              "      <td>2022-04-24</td>\n",
              "      <td>3</td>\n",
              "      <td>[{''text'': ''LePen'', ''indices'': [28, 34]},...</td>\n",
              "      <td>en</td>\n",
              "      <td>5</td>\n",
              "      <td>2022-04-24</td>\n",
              "      <td>False</td>\n",
              "      <td>True</td>\n",
              "      <td>16</td>\n",
              "      <td>of course pas de surprise tainted by her close...</td>\n",
              "      <td>0.004823</td>\n",
              "      <td>0.675433</td>\n",
              "      <td>0.319744</td>\n",
              "      <td>94500.0</td>\n",
              "      <td>0.000475</td>\n",
              "    </tr>\n",
              "    <tr>\n",
              "      <th>2</th>\n",
              "      <td>davidgodfrey</td>\n",
              "      <td>5003</td>\n",
              "      <td>464</td>\n",
              "      <td>44931</td>\n",
              "      <td>2008-10-12</td>\n",
              "      <td>2022-04-24</td>\n",
              "      <td>97</td>\n",
              "      <td>[{''text'': ''Mariupol'', ''indices'': [36, 45]}]</td>\n",
              "      <td>en</td>\n",
              "      <td>0</td>\n",
              "      <td>2022-04-24</td>\n",
              "      <td>True</td>\n",
              "      <td>False</td>\n",
              "      <td>16</td>\n",
              "      <td>no corridors from again russians did not allow...</td>\n",
              "      <td>0.018234</td>\n",
              "      <td>0.883309</td>\n",
              "      <td>0.098457</td>\n",
              "      <td>94500.0</td>\n",
              "      <td>0.000475</td>\n",
              "    </tr>\n",
              "    <tr>\n",
              "      <th>3</th>\n",
              "      <td>cazacioc</td>\n",
              "      <td>1712</td>\n",
              "      <td>1019</td>\n",
              "      <td>38691</td>\n",
              "      <td>2008-12-06</td>\n",
              "      <td>2022-04-24</td>\n",
              "      <td>500</td>\n",
              "      <td>[{''text'': ''SlavaUkraini'', ''indices'': [30...</td>\n",
              "      <td>en</td>\n",
              "      <td>0</td>\n",
              "      <td>2022-04-24</td>\n",
              "      <td>True</td>\n",
              "      <td>False</td>\n",
              "      <td>16</td>\n",
              "      <td>thank you</td>\n",
              "      <td>0.169791</td>\n",
              "      <td>0.608387</td>\n",
              "      <td>0.221821</td>\n",
              "      <td>94500.0</td>\n",
              "      <td>0.000475</td>\n",
              "    </tr>\n",
              "    <tr>\n",
              "      <th>4</th>\n",
              "      <td>Daily_Express</td>\n",
              "      <td>761</td>\n",
              "      <td>935851</td>\n",
              "      <td>1066678</td>\n",
              "      <td>2008-12-05</td>\n",
              "      <td>2022-04-22</td>\n",
              "      <td>0</td>\n",
              "      <td>[{''text'': ''Ukraine'', ''indices'': [63, 71]}]</td>\n",
              "      <td>en</td>\n",
              "      <td>2</td>\n",
              "      <td>2022-04-22</td>\n",
              "      <td>False</td>\n",
              "      <td>False</td>\n",
              "      <td>16</td>\n",
              "      <td>president biden unveils m worth of military as...</td>\n",
              "      <td>0.156944</td>\n",
              "      <td>0.766128</td>\n",
              "      <td>0.076928</td>\n",
              "      <td>196000.0</td>\n",
              "      <td>0.000985</td>\n",
              "    </tr>\n",
              "  </tbody>\n",
              "</table>\n",
              "</div>\n",
              "      <button class=\"colab-df-convert\" onclick=\"convertToInteractive('df-bf340656-d4fb-4f62-9e51-820fa0c8a826')\"\n",
              "              title=\"Convert this dataframe to an interactive table.\"\n",
              "              style=\"display:none;\">\n",
              "        \n",
              "  <svg xmlns=\"http://www.w3.org/2000/svg\" height=\"24px\"viewBox=\"0 0 24 24\"\n",
              "       width=\"24px\">\n",
              "    <path d=\"M0 0h24v24H0V0z\" fill=\"none\"/>\n",
              "    <path d=\"M18.56 5.44l.94 2.06.94-2.06 2.06-.94-2.06-.94-.94-2.06-.94 2.06-2.06.94zm-11 1L8.5 8.5l.94-2.06 2.06-.94-2.06-.94L8.5 2.5l-.94 2.06-2.06.94zm10 10l.94 2.06.94-2.06 2.06-.94-2.06-.94-.94-2.06-.94 2.06-2.06.94z\"/><path d=\"M17.41 7.96l-1.37-1.37c-.4-.4-.92-.59-1.43-.59-.52 0-1.04.2-1.43.59L10.3 9.45l-7.72 7.72c-.78.78-.78 2.05 0 2.83L4 21.41c.39.39.9.59 1.41.59.51 0 1.02-.2 1.41-.59l7.78-7.78 2.81-2.81c.8-.78.8-2.07 0-2.86zM5.41 20L4 18.59l7.72-7.72 1.47 1.35L5.41 20z\"/>\n",
              "  </svg>\n",
              "      </button>\n",
              "      \n",
              "  <style>\n",
              "    .colab-df-container {\n",
              "      display:flex;\n",
              "      flex-wrap:wrap;\n",
              "      gap: 12px;\n",
              "    }\n",
              "\n",
              "    .colab-df-convert {\n",
              "      background-color: #E8F0FE;\n",
              "      border: none;\n",
              "      border-radius: 50%;\n",
              "      cursor: pointer;\n",
              "      display: none;\n",
              "      fill: #1967D2;\n",
              "      height: 32px;\n",
              "      padding: 0 0 0 0;\n",
              "      width: 32px;\n",
              "    }\n",
              "\n",
              "    .colab-df-convert:hover {\n",
              "      background-color: #E2EBFA;\n",
              "      box-shadow: 0px 1px 2px rgba(60, 64, 67, 0.3), 0px 1px 3px 1px rgba(60, 64, 67, 0.15);\n",
              "      fill: #174EA6;\n",
              "    }\n",
              "\n",
              "    [theme=dark] .colab-df-convert {\n",
              "      background-color: #3B4455;\n",
              "      fill: #D2E3FC;\n",
              "    }\n",
              "\n",
              "    [theme=dark] .colab-df-convert:hover {\n",
              "      background-color: #434B5C;\n",
              "      box-shadow: 0px 1px 3px 1px rgba(0, 0, 0, 0.15);\n",
              "      filter: drop-shadow(0px 1px 2px rgba(0, 0, 0, 0.3));\n",
              "      fill: #FFFFFF;\n",
              "    }\n",
              "  </style>\n",
              "\n",
              "      <script>\n",
              "        const buttonEl =\n",
              "          document.querySelector('#df-bf340656-d4fb-4f62-9e51-820fa0c8a826 button.colab-df-convert');\n",
              "        buttonEl.style.display =\n",
              "          google.colab.kernel.accessAllowed ? 'block' : 'none';\n",
              "\n",
              "        async function convertToInteractive(key) {\n",
              "          const element = document.querySelector('#df-bf340656-d4fb-4f62-9e51-820fa0c8a826');\n",
              "          const dataTable =\n",
              "            await google.colab.kernel.invokeFunction('convertToInteractive',\n",
              "                                                     [key], {});\n",
              "          if (!dataTable) return;\n",
              "\n",
              "          const docLinkHtml = 'Like what you see? Visit the ' +\n",
              "            '<a target=\"_blank\" href=https://colab.research.google.com/notebooks/data_table.ipynb>data table notebook</a>'\n",
              "            + ' to learn more about interactive tables.';\n",
              "          element.innerHTML = '';\n",
              "          dataTable['output_type'] = 'display_data';\n",
              "          await google.colab.output.renderOutput(dataTable, element);\n",
              "          const docLink = document.createElement('div');\n",
              "          docLink.innerHTML = docLinkHtml;\n",
              "          element.appendChild(docLink);\n",
              "        }\n",
              "      </script>\n",
              "    </div>\n",
              "  </div>\n",
              "  "
            ]
          },
          "metadata": {},
          "execution_count": 6
        }
      ]
    },
    {
      "cell_type": "code",
      "source": [
        "# Change the dtypes of tweetcreatedts\n",
        "joined_data_df[\"tweetcreatedts\"] = pd.to_datetime(joined_data_df[\"tweetcreatedts\"]).dt.date\n",
        "print (joined_data_df[\"tweetcreatedts\"])"
      ],
      "metadata": {
        "colab": {
          "base_uri": "https://localhost:8080/"
        },
        "id": "KcLjIUlU7poR",
        "outputId": "d9d19c96-696c-4705-ca31-9f953b2b22d6"
      },
      "execution_count": null,
      "outputs": [
        {
          "output_type": "stream",
          "name": "stdout",
          "text": [
            "0         2022-04-22\n",
            "1         2022-04-24\n",
            "2         2022-04-24\n",
            "3         2022-04-24\n",
            "4         2022-04-22\n",
            "             ...    \n",
            "451695    2022-07-31\n",
            "451696    2022-07-31\n",
            "451697    2022-07-31\n",
            "451698    2022-07-31\n",
            "451699    2022-07-31\n",
            "Name: tweetcreatedts, Length: 451700, dtype: object\n"
          ]
        }
      ]
    },
    {
      "cell_type": "markdown",
      "source": [
        "# Explore the data if nothing lost"
      ],
      "metadata": {
        "id": "AWh3xxuBDlTs"
      }
    },
    {
      "cell_type": "code",
      "source": [
        "earliest_tweet = joined_data_df[\"tweetcreatedts\"].min()\n",
        "latest_tweet = joined_data_df[\"tweetcreatedts\"].max()\n",
        "\n",
        "print(f\"The earliest tweet was at {earliest_tweet}, and the latest was at {latest_tweet}\")"
      ],
      "metadata": {
        "colab": {
          "base_uri": "https://localhost:8080/"
        },
        "id": "vsptJbIyAX_6",
        "outputId": "91a84180-eb50-49fa-81a6-e66415c347f6"
      },
      "execution_count": null,
      "outputs": [
        {
          "output_type": "stream",
          "name": "stdout",
          "text": [
            "The earliest tweet was at 2022-04-22, and the latest was at 2022-08-18\n"
          ]
        }
      ]
    },
    {
      "cell_type": "code",
      "source": [
        "from pandas.core.arrays.datetimelike import DatetimeLikeScalar\n",
        "from numpy.core.multiarray import datetime_as_string\n",
        "#Get the plot of tweet count by date \n",
        "dates = joined_data_df[\"tweetcreatedts\"]\n",
        "\n",
        "# group tweet timestamps by date and get tweet count for each date\n",
        "tweetcount_by_date = joined_data_df[\"tweetcreatedts\"].groupby(dates).size()\n",
        "\n",
        "# plot bar graph of tweet count by date\n",
        "tweetcount_by_date.plot.bar();\n",
        "\n",
        "plt.title(\"February Tweet Count by Date\")\n",
        "plt.xlabel(\"Tweet Date\")\n",
        "plt.ylabel(\"Tweet Count\")\n",
        "plt.xticks(rotation=45)\n",
        "plt.show()"
      ],
      "metadata": {
        "colab": {
          "base_uri": "https://localhost:8080/",
          "height": 333
        },
        "id": "A28QwCKXJxP6",
        "outputId": "7cc70ef3-7820-4087-9bb0-6c71b0aa2fd7"
      },
      "execution_count": null,
      "outputs": [
        {
          "output_type": "display_data",
          "data": {
            "text/plain": [
              "<Figure size 432x288 with 1 Axes>"
            ],
            "image/png": "[encoded data removed]"
          },
          "metadata": {
            "needs_background": "light"
          }
        }
      ]
    },
    {
      "cell_type": "code",
      "source": [
        "#Get the plot of negative score by date of tweet\n",
        "negative_df = joined_data_df[['tweetcreatedts', 'negative']]\n",
        "\n",
        "negative_by_date = negative_df.groupby([negative_df['tweetcreatedts']]).mean()\n",
        "\n",
        "# plot bar graph of tweet count by date\n",
        "negative_by_date.plot.line();\n",
        "\n",
        "plt.title(\"Negative Tweet Sentiments by Date\")\n",
        "plt.xlabel(\"Tweet Date\")\n",
        "plt.ylabel(\"Negative Sentiment\")\n",
        "plt.xticks(rotation=45)\n",
        "plt.show()\n"
      ],
      "metadata": {
        "colab": {
          "base_uri": "https://localhost:8080/",
          "height": 333
        },
        "id": "ngXkZ_LW7b03",
        "outputId": "ad62ba69-0c73-4269-ecff-f7618838038b"
      },
      "execution_count": null,
      "outputs": [
        {
          "output_type": "display_data",
          "data": {
            "text/plain": [
              "<Figure size 432x288 with 1 Axes>"
            ],
            "image/png": "[encoded data removed]"
          },
          "metadata": {
            "needs_background": "light"
          }
        }
      ]
    },
    {
      "cell_type": "code",
      "source": [
        "#Get the plot of day weight by date\n",
        "joined_data_df.plot.line(x='tweetcreatedts', y='weight');\n",
        "\n",
        "plt.title(\"Weight by Date\")\n",
        "plt.xlabel(\"Date\")\n",
        "plt.ylabel(\"Weight\")\n",
        "plt.xticks(rotation=45)\n",
        "plt.yticks(rotation=0)\n",
        "plt.show()"
      ],
      "metadata": {
        "colab": {
          "base_uri": "https://localhost:8080/",
          "height": 333
        },
        "id": "afMM6iwE7bI4",
        "outputId": "316e470a-b6e1-4ec1-8092-86f70c5fc2d7"
      },
      "execution_count": null,
      "outputs": [
        {
          "output_type": "display_data",
          "data": {
            "text/plain": [
              "<Figure size 432x288 with 1 Axes>"
            ],
            "image/png": "[encoded data removed]"
          },
          "metadata": {
            "needs_background": "light"
          }
        }
      ]
    },
    {
      "cell_type": "markdown",
      "source": [
        "# Cleaning data"
      ],
      "metadata": {
        "id": "wNka_8io7eK4"
      }
    },
    {
      "cell_type": "code",
      "source": [
        "# Drop the not needed column\n",
        "joined_data_df.drop(\"username\", axis=1, inplace=True)\n",
        "joined_data_df.drop(\"usercreatedts\", axis=1, inplace=True)\n",
        "joined_data_df.drop(\"language\", axis=1, inplace=True)\n",
        "joined_data_df.drop(\"favorite_count\", axis=1, inplace=True)\n",
        "joined_data_df.drop(\"extractedts\", axis=1, inplace=True)\n",
        "joined_data_df.drop(\"weekofyear\", axis=1, inplace=True)\n",
        "joined_data_df.drop(\"neutral\", axis=1, inplace=True)\n",
        "joined_data_df.drop(\"positive\", axis=1, inplace=True)\n",
        "joined_data_df.drop(\"search_results\", axis=1, inplace=True)\n",
        "joined_data_df.drop(\"retweetcount\", axis=1, inplace=True)\n"
      ],
      "metadata": {
        "id": "Paw4rJh8fh3T"
      },
      "execution_count": null,
      "outputs": []
    },
    {
      "cell_type": "code",
      "source": [
        "# Check data types\n",
        "joined_data_df.info()"
      ],
      "metadata": {
        "colab": {
          "base_uri": "https://localhost:8080/"
        },
        "id": "MmvG3a1I8aQt",
        "outputId": "a7ef8f40-d0ee-432e-d5bf-7dd1525ae68d"
      },
      "execution_count": null,
      "outputs": [
        {
          "output_type": "stream",
          "name": "stdout",
          "text": [
            "<class 'pandas.core.frame.DataFrame'>\n",
            "RangeIndex: 451700 entries, 0 to 451699\n",
            "Data columns (total 10 columns):\n",
            " #   Column           Non-Null Count   Dtype  \n",
            "---  ------           --------------   -----  \n",
            " 0   following        451700 non-null  int32  \n",
            " 1   followers        451700 non-null  int32  \n",
            " 2   totaltweets      451700 non-null  int32  \n",
            " 3   tweetcreatedts   451700 non-null  object \n",
            " 4   hashtags         451700 non-null  object \n",
            " 5   is_retweet       451700 non-null  bool   \n",
            " 6   is_quote_status  451700 non-null  bool   \n",
            " 7   cleaned_text     451680 non-null  object \n",
            " 8   negative         83148 non-null   float64\n",
            " 9   weight           449058 non-null  float64\n",
            "dtypes: bool(2), float64(2), int32(3), object(3)\n",
            "memory usage: 23.3+ MB\n"
          ]
        }
      ]
    },
    {
      "cell_type": "markdown",
      "source": [
        "# Categorical valuables"
      ],
      "metadata": {
        "id": "ftR_uilW2S1E"
      }
    },
    {
      "cell_type": "code",
      "source": [
        "# Convert datetime to float\n",
        "\n",
        "# time_df[\"tweetcreatedts\"] = pd.to_numeric(joined_data_df.index, downcast='float')\n",
        "\n",
        "joined_data_df['tweetcreatedts'] = joined_data_df['tweetcreatedts'].astype(str)\n",
        "joined_data_df['tweetcreatedts'] = joined_data_df['tweetcreatedts'].str.replace('-', '')\n",
        "joined_data_df['tweetcreatedts'] = joined_data_df['tweetcreatedts'].astype(float)\n",
        "print(joined_data_df[\"tweetcreatedts\"])"
      ],
      "metadata": {
        "colab": {
          "base_uri": "https://localhost:8080/"
        },
        "id": "9c3393uh8xNO",
        "outputId": "8c3d64fa-9359-45c2-ca8b-b988d1f415c6"
      },
      "execution_count": null,
      "outputs": [
        {
          "output_type": "stream",
          "name": "stdout",
          "text": [
            "0         20220422.0\n",
            "1         20220424.0\n",
            "2         20220424.0\n",
            "3         20220424.0\n",
            "4         20220422.0\n",
            "             ...    \n",
            "451695    20220731.0\n",
            "451696    20220731.0\n",
            "451697    20220731.0\n",
            "451698    20220731.0\n",
            "451699    20220731.0\n",
            "Name: tweetcreatedts, Length: 451700, dtype: float64\n"
          ]
        }
      ]
    },
    {
      "cell_type": "code",
      "source": [
        "# convert text to text lenght and drop the text\n",
        "joined_data_df['text_length']  = joined_data_df['cleaned_text'].str.len()\n",
        "joined_data_df.drop(\"cleaned_text\", axis=1, inplace=True)"
      ],
      "metadata": {
        "id": "Ub25dxuIgUuP"
      },
      "execution_count": null,
      "outputs": []
    },
    {
      "cell_type": "code",
      "source": [
        "# Replace boolean columns\n",
        "joined_data_df['is_retweet'] = joined_data_df['is_retweet'].astype(int)\n",
        "joined_data_df['is_quote_status'] = joined_data_df['is_quote_status'].astype(int)\n",
        "joined_data_df.head()"
      ],
      "metadata": {
        "colab": {
          "base_uri": "https://localhost:8080/",
          "height": 204
        },
        "id": "pSuTsUzv7CL3",
        "outputId": "9be0da92-1a41-4219-9767-1a9a15cd06f1"
      },
      "execution_count": null,
      "outputs": [
        {
          "output_type": "execute_result",
          "data": {
            "text/plain": [
              "   following  followers  totaltweets  tweetcreatedts  \\\n",
              "0        312        123        38156      20220422.0   \n",
              "1       4787       9149        22818      20220424.0   \n",
              "2       5003        464        44931      20220424.0   \n",
              "3       1712       1019        38691      20220424.0   \n",
              "4        761     935851      1066678      20220422.0   \n",
              "\n",
              "                                            hashtags  is_retweet  \\\n",
              "0  [{''text'': ''StandWithUkraine'', ''indices'':...           1   \n",
              "1  [{''text'': ''LePen'', ''indices'': [28, 34]},...           0   \n",
              "2  [{''text'': ''Mariupol'', ''indices'': [36, 45]}]           1   \n",
              "3  [{''text'': ''SlavaUkraini'', ''indices'': [30...           1   \n",
              "4   [{''text'': ''Ukraine'', ''indices'': [63, 71]}]           0   \n",
              "\n",
              "   is_quote_status  negative    weight  text_length  \n",
              "0                0  0.010234  0.000985         80.0  \n",
              "1                1  0.004823  0.000475         70.0  \n",
              "2                0  0.018234  0.000475        123.0  \n",
              "3                0  0.169791  0.000475          9.0  \n",
              "4                0  0.156944  0.000985         59.0  "
            ],
            "text/html": [
              "\n",
              "  <div id=\"df-8f9577b7-0304-4924-bcd4-8f4524ce7e32\">\n",
              "    <div class=\"colab-df-container\">\n",
              "      <div>\n",
              "<style scoped>\n",
              "    .dataframe tbody tr th:only-of-type {\n",
              "        vertical-align: middle;\n",
              "    }\n",
              "\n",
              "    .dataframe tbody tr th {\n",
              "        vertical-align: top;\n",
              "    }\n",
              "\n",
              "    .dataframe thead th {\n",
              "        text-align: right;\n",
              "    }\n",
              "</style>\n",
              "<table border=\"1\" class=\"dataframe\">\n",
              "  <thead>\n",
              "    <tr style=\"text-align: right;\">\n",
              "      <th></th>\n",
              "      <th>following</th>\n",
              "      <th>followers</th>\n",
              "      <th>totaltweets</th>\n",
              "      <th>tweetcreatedts</th>\n",
              "      <th>hashtags</th>\n",
              "      <th>is_retweet</th>\n",
              "      <th>is_quote_status</th>\n",
              "      <th>negative</th>\n",
              "      <th>weight</th>\n",
              "      <th>text_length</th>\n",
              "    </tr>\n",
              "  </thead>\n",
              "  <tbody>\n",
              "    <tr>\n",
              "      <th>0</th>\n",
              "      <td>312</td>\n",
              "      <td>123</td>\n",
              "      <td>38156</td>\n",
              "      <td>20220422.0</td>\n",
              "      <td>[{''text'': ''StandWithUkraine'', ''indices'':...</td>\n",
              "      <td>1</td>\n",
              "      <td>0</td>\n",
              "      <td>0.010234</td>\n",
              "      <td>0.000985</td>\n",
              "      <td>80.0</td>\n",
              "    </tr>\n",
              "    <tr>\n",
              "      <th>1</th>\n",
              "      <td>4787</td>\n",
              "      <td>9149</td>\n",
              "      <td>22818</td>\n",
              "      <td>20220424.0</td>\n",
              "      <td>[{''text'': ''LePen'', ''indices'': [28, 34]},...</td>\n",
              "      <td>0</td>\n",
              "      <td>1</td>\n",
              "      <td>0.004823</td>\n",
              "      <td>0.000475</td>\n",
              "      <td>70.0</td>\n",
              "    </tr>\n",
              "    <tr>\n",
              "      <th>2</th>\n",
              "      <td>5003</td>\n",
              "      <td>464</td>\n",
              "      <td>44931</td>\n",
              "      <td>20220424.0</td>\n",
              "      <td>[{''text'': ''Mariupol'', ''indices'': [36, 45]}]</td>\n",
              "      <td>1</td>\n",
              "      <td>0</td>\n",
              "      <td>0.018234</td>\n",
              "      <td>0.000475</td>\n",
              "      <td>123.0</td>\n",
              "    </tr>\n",
              "    <tr>\n",
              "      <th>3</th>\n",
              "      <td>1712</td>\n",
              "      <td>1019</td>\n",
              "      <td>38691</td>\n",
              "      <td>20220424.0</td>\n",
              "      <td>[{''text'': ''SlavaUkraini'', ''indices'': [30...</td>\n",
              "      <td>1</td>\n",
              "      <td>0</td>\n",
              "      <td>0.169791</td>\n",
              "      <td>0.000475</td>\n",
              "      <td>9.0</td>\n",
              "    </tr>\n",
              "    <tr>\n",
              "      <th>4</th>\n",
              "      <td>761</td>\n",
              "      <td>935851</td>\n",
              "      <td>1066678</td>\n",
              "      <td>20220422.0</td>\n",
              "      <td>[{''text'': ''Ukraine'', ''indices'': [63, 71]}]</td>\n",
              "      <td>0</td>\n",
              "      <td>0</td>\n",
              "      <td>0.156944</td>\n",
              "      <td>0.000985</td>\n",
              "      <td>59.0</td>\n",
              "    </tr>\n",
              "  </tbody>\n",
              "</table>\n",
              "</div>\n",
              "      <button class=\"colab-df-convert\" onclick=\"convertToInteractive('df-8f9577b7-0304-4924-bcd4-8f4524ce7e32')\"\n",
              "              title=\"Convert this dataframe to an interactive table.\"\n",
              "              style=\"display:none;\">\n",
              "        \n",
              "  <svg xmlns=\"http://www.w3.org/2000/svg\" height=\"24px\"viewBox=\"0 0 24 24\"\n",
              "       width=\"24px\">\n",
              "    <path d=\"M0 0h24v24H0V0z\" fill=\"none\"/>\n",
              "    <path d=\"M18.56 5.44l.94 2.06.94-2.06 2.06-.94-2.06-.94-.94-2.06-.94 2.06-2.06.94zm-11 1L8.5 8.5l.94-2.06 2.06-.94-2.06-.94L8.5 2.5l-.94 2.06-2.06.94zm10 10l.94 2.06.94-2.06 2.06-.94-2.06-.94-.94-2.06-.94 2.06-2.06.94z\"/><path d=\"M17.41 7.96l-1.37-1.37c-.4-.4-.92-.59-1.43-.59-.52 0-1.04.2-1.43.59L10.3 9.45l-7.72 7.72c-.78.78-.78 2.05 0 2.83L4 21.41c.39.39.9.59 1.41.59.51 0 1.02-.2 1.41-.59l7.78-7.78 2.81-2.81c.8-.78.8-2.07 0-2.86zM5.41 20L4 18.59l7.72-7.72 1.47 1.35L5.41 20z\"/>\n",
              "  </svg>\n",
              "      </button>\n",
              "      \n",
              "  <style>\n",
              "    .colab-df-container {\n",
              "      display:flex;\n",
              "      flex-wrap:wrap;\n",
              "      gap: 12px;\n",
              "    }\n",
              "\n",
              "    .colab-df-convert {\n",
              "      background-color: #E8F0FE;\n",
              "      border: none;\n",
              "      border-radius: 50%;\n",
              "      cursor: pointer;\n",
              "      display: none;\n",
              "      fill: #1967D2;\n",
              "      height: 32px;\n",
              "      padding: 0 0 0 0;\n",
              "      width: 32px;\n",
              "    }\n",
              "\n",
              "    .colab-df-convert:hover {\n",
              "      background-color: #E2EBFA;\n",
              "      box-shadow: 0px 1px 2px rgba(60, 64, 67, 0.3), 0px 1px 3px 1px rgba(60, 64, 67, 0.15);\n",
              "      fill: #174EA6;\n",
              "    }\n",
              "\n",
              "    [theme=dark] .colab-df-convert {\n",
              "      background-color: #3B4455;\n",
              "      fill: #D2E3FC;\n",
              "    }\n",
              "\n",
              "    [theme=dark] .colab-df-convert:hover {\n",
              "      background-color: #434B5C;\n",
              "      box-shadow: 0px 1px 3px 1px rgba(0, 0, 0, 0.15);\n",
              "      filter: drop-shadow(0px 1px 2px rgba(0, 0, 0, 0.3));\n",
              "      fill: #FFFFFF;\n",
              "    }\n",
              "  </style>\n",
              "\n",
              "      <script>\n",
              "        const buttonEl =\n",
              "          document.querySelector('#df-8f9577b7-0304-4924-bcd4-8f4524ce7e32 button.colab-df-convert');\n",
              "        buttonEl.style.display =\n",
              "          google.colab.kernel.accessAllowed ? 'block' : 'none';\n",
              "\n",
              "        async function convertToInteractive(key) {\n",
              "          const element = document.querySelector('#df-8f9577b7-0304-4924-bcd4-8f4524ce7e32');\n",
              "          const dataTable =\n",
              "            await google.colab.kernel.invokeFunction('convertToInteractive',\n",
              "                                                     [key], {});\n",
              "          if (!dataTable) return;\n",
              "\n",
              "          const docLinkHtml = 'Like what you see? Visit the ' +\n",
              "            '<a target=\"_blank\" href=https://colab.research.google.com/notebooks/data_table.ipynb>data table notebook</a>'\n",
              "            + ' to learn more about interactive tables.';\n",
              "          element.innerHTML = '';\n",
              "          dataTable['output_type'] = 'display_data';\n",
              "          await google.colab.output.renderOutput(dataTable, element);\n",
              "          const docLink = document.createElement('div');\n",
              "          docLink.innerHTML = docLinkHtml;\n",
              "          element.appendChild(docLink);\n",
              "        }\n",
              "      </script>\n",
              "    </div>\n",
              "  </div>\n",
              "  "
            ]
          },
          "metadata": {},
          "execution_count": 16
        }
      ]
    },
    {
      "cell_type": "code",
      "source": [
        "# Check data types\n",
        "joined_data_df.info()"
      ],
      "metadata": {
        "colab": {
          "base_uri": "https://localhost:8080/"
        },
        "id": "l0WxR-SuJArU",
        "outputId": "dea83b6d-82de-42fa-f556-b555d6abc1ae"
      },
      "execution_count": null,
      "outputs": [
        {
          "output_type": "stream",
          "name": "stdout",
          "text": [
            "<class 'pandas.core.frame.DataFrame'>\n",
            "RangeIndex: 451700 entries, 0 to 451699\n",
            "Data columns (total 10 columns):\n",
            " #   Column           Non-Null Count   Dtype  \n",
            "---  ------           --------------   -----  \n",
            " 0   following        451700 non-null  int32  \n",
            " 1   followers        451700 non-null  int32  \n",
            " 2   totaltweets      451700 non-null  int32  \n",
            " 3   tweetcreatedts   451700 non-null  float64\n",
            " 4   hashtags         451700 non-null  object \n",
            " 5   is_retweet       451700 non-null  int64  \n",
            " 6   is_quote_status  451700 non-null  int64  \n",
            " 7   negative         83148 non-null   float64\n",
            " 8   weight           449058 non-null  float64\n",
            " 9   text_length      451680 non-null  float64\n",
            "dtypes: float64(4), int32(3), int64(2), object(1)\n",
            "memory usage: 29.3+ MB\n"
          ]
        }
      ]
    },
    {
      "cell_type": "code",
      "source": [
        "# Find the top 20 hashtags by frequency\n",
        "plt.figure(figsize=(10,5))\n",
        "joined_data_df[\"hashtags\"].value_counts().sort_values(ascending=True)[-20:].plot.barh();\n",
        "plt.title(\"Top 20 hashtags by  Frequency\")\n",
        "plt.xlabel(\"Hashtag Frequency\")\n",
        "plt.ylabel(\"Hashtags\")\n",
        "plt.xticks(rotation=90)\n",
        "plt.yticks(rotation=0)\n",
        "plt.show()\n",
        "plt.show()"
      ],
      "metadata": {
        "colab": {
          "base_uri": "https://localhost:8080/",
          "height": 294
        },
        "id": "Detf-i56LBgP",
        "outputId": "192feed4-e29c-49c0-dfac-942573122543"
      },
      "execution_count": null,
      "outputs": [
        {
          "output_type": "display_data",
          "data": {
            "text/plain": [
              "<Figure size 720x360 with 1 Axes>"
            ],
            "image/png": "[encoded data removed]"
          },
          "metadata": {
            "needs_background": "light"
          }
        }
      ]
    },
    {
      "cell_type": "code",
      "source": [
        "# Generate our categorical variable list\n",
        "cat_var = joined_data_df.dtypes[joined_data_df.dtypes == \"object\"].index.tolist()\n",
        "\n",
        "# Check the number of unique values in each column\n",
        "joined_data_df[cat_var].nunique()"
      ],
      "metadata": {
        "colab": {
          "base_uri": "https://localhost:8080/"
        },
        "id": "MEeOVcCq2v72",
        "outputId": "9e7e4dc2-b89b-4add-fd4e-38d363d53dfd"
      },
      "execution_count": null,
      "outputs": [
        {
          "output_type": "execute_result",
          "data": {
            "text/plain": [
              "hashtags    152722\n",
              "dtype: int64"
            ]
          },
          "metadata": {},
          "execution_count": 19
        }
      ]
    },
    {
      "cell_type": "code",
      "source": [
        "print (joined_data_df[cat_var])"
      ],
      "metadata": {
        "colab": {
          "base_uri": "https://localhost:8080/"
        },
        "id": "z3TMnTzWMxZe",
        "outputId": "e8f3cc62-94cd-4a46-bb51-e2c0bc2f4f9c"
      },
      "execution_count": null,
      "outputs": [
        {
          "output_type": "stream",
          "name": "stdout",
          "text": [
            "                                                 hashtags\n",
            "0       [{''text'': ''StandWithUkraine'', ''indices'':...\n",
            "1       [{''text'': ''LePen'', ''indices'': [28, 34]},...\n",
            "2       [{''text'': ''Mariupol'', ''indices'': [36, 45]}]\n",
            "3       [{''text'': ''SlavaUkraini'', ''indices'': [30...\n",
            "4        [{''text'': ''Ukraine'', ''indices'': [63, 71]}]\n",
            "...                                                   ...\n",
            "451695  [{''text'': ''KOSOVO'', ''indices'': [0, 7]}, ...\n",
            "451696  [{''text'': ''StandWithUkraine'', ''indices'':...\n",
            "451697  [{''text'': ''Tyumen'', ''indices'': [3, 10]},...\n",
            "451698  [{''text'': ''Russia'', ''indices'': [9, 16]},...\n",
            "451699  [{''text'': ''UkraineRussiaWar'', ''indices'':...\n",
            "\n",
            "[451700 rows x 1 columns]\n"
          ]
        }
      ]
    },
    {
      "cell_type": "markdown",
      "source": [
        "### There is too much hashtags for creating a OneHotEncoder instance\n",
        "\n",
        "Create a OneHotEncoder instance\n",
        "enc = OneHotEncoder(sparse=False)\n",
        "\n",
        "Fit and transform the OneHotEncoder using the categorical variable list\n",
        "encode_df = pd.DataFrame(enc.fit_transform(joined_data_df[cat_var]))\n",
        "\n",
        "Add the encoded variable names to the DataFrame\n",
        "encode_df.columns = enc.get_feature_names(cat_var)\n",
        "encode_df.head()"
      ],
      "metadata": {
        "id": "d3451ZTKM7yD"
      }
    },
    {
      "cell_type": "code",
      "source": [
        "# Drop the hashtags column\n",
        "joined_data_df.drop(\"hashtags\", axis=1, inplace=True)"
      ],
      "metadata": {
        "id": "OVR8uywhOwVI"
      },
      "execution_count": null,
      "outputs": []
    },
    {
      "cell_type": "code",
      "source": [
        "# Check data types\n",
        "joined_data_df.info()"
      ],
      "metadata": {
        "colab": {
          "base_uri": "https://localhost:8080/"
        },
        "id": "GHgUhY7Mgjfb",
        "outputId": "b280b97f-1281-4d5b-d834-1ddf3c448d62"
      },
      "execution_count": null,
      "outputs": [
        {
          "output_type": "stream",
          "name": "stdout",
          "text": [
            "<class 'pandas.core.frame.DataFrame'>\n",
            "RangeIndex: 451700 entries, 0 to 451699\n",
            "Data columns (total 9 columns):\n",
            " #   Column           Non-Null Count   Dtype  \n",
            "---  ------           --------------   -----  \n",
            " 0   following        451700 non-null  int32  \n",
            " 1   followers        451700 non-null  int32  \n",
            " 2   totaltweets      451700 non-null  int32  \n",
            " 3   tweetcreatedts   451700 non-null  float64\n",
            " 4   is_retweet       451700 non-null  int64  \n",
            " 5   is_quote_status  451700 non-null  int64  \n",
            " 6   negative         83148 non-null   float64\n",
            " 7   weight           449058 non-null  float64\n",
            " 8   text_length      451680 non-null  float64\n",
            "dtypes: float64(4), int32(3), int64(2)\n",
            "memory usage: 25.8 MB\n"
          ]
        }
      ]
    },
    {
      "cell_type": "code",
      "source": [
        "# get the shape of the new DataFrame\n",
        "print(f\"{joined_data_df.shape[0]} rows and {joined_data_df.shape[1]} columns\")"
      ],
      "metadata": {
        "colab": {
          "base_uri": "https://localhost:8080/"
        },
        "id": "qSIYwGEbhMSj",
        "outputId": "04105925-818a-4acc-f548-8f2efa6c9d3f"
      },
      "execution_count": null,
      "outputs": [
        {
          "output_type": "stream",
          "name": "stdout",
          "text": [
            "451700 rows and 9 columns\n"
          ]
        }
      ]
    },
    {
      "cell_type": "code",
      "source": [
        "negative_df = joined_data_df[['tweetcreatedts', 'negative']]\n",
        "negative_df.head(5)"
      ],
      "metadata": {
        "colab": {
          "base_uri": "https://localhost:8080/",
          "height": 204
        },
        "id": "l3t-KWcvPUEF",
        "outputId": "edb7865d-4f8b-4348-97fd-45b9ee41966d"
      },
      "execution_count": null,
      "outputs": [
        {
          "output_type": "execute_result",
          "data": {
            "text/plain": [
              "   tweetcreatedts  negative\n",
              "0      20220422.0  0.010234\n",
              "1      20220424.0  0.004823\n",
              "2      20220424.0  0.018234\n",
              "3      20220424.0  0.169791\n",
              "4      20220422.0  0.156944"
            ],
            "text/html": [
              "\n",
              "  <div id=\"df-cccf17c8-a873-4c9d-b7ed-cde6536aa67b\">\n",
              "    <div class=\"colab-df-container\">\n",
              "      <div>\n",
              "<style scoped>\n",
              "    .dataframe tbody tr th:only-of-type {\n",
              "        vertical-align: middle;\n",
              "    }\n",
              "\n",
              "    .dataframe tbody tr th {\n",
              "        vertical-align: top;\n",
              "    }\n",
              "\n",
              "    .dataframe thead th {\n",
              "        text-align: right;\n",
              "    }\n",
              "</style>\n",
              "<table border=\"1\" class=\"dataframe\">\n",
              "  <thead>\n",
              "    <tr style=\"text-align: right;\">\n",
              "      <th></th>\n",
              "      <th>tweetcreatedts</th>\n",
              "      <th>negative</th>\n",
              "    </tr>\n",
              "  </thead>\n",
              "  <tbody>\n",
              "    <tr>\n",
              "      <th>0</th>\n",
              "      <td>20220422.0</td>\n",
              "      <td>0.010234</td>\n",
              "    </tr>\n",
              "    <tr>\n",
              "      <th>1</th>\n",
              "      <td>20220424.0</td>\n",
              "      <td>0.004823</td>\n",
              "    </tr>\n",
              "    <tr>\n",
              "      <th>2</th>\n",
              "      <td>20220424.0</td>\n",
              "      <td>0.018234</td>\n",
              "    </tr>\n",
              "    <tr>\n",
              "      <th>3</th>\n",
              "      <td>20220424.0</td>\n",
              "      <td>0.169791</td>\n",
              "    </tr>\n",
              "    <tr>\n",
              "      <th>4</th>\n",
              "      <td>20220422.0</td>\n",
              "      <td>0.156944</td>\n",
              "    </tr>\n",
              "  </tbody>\n",
              "</table>\n",
              "</div>\n",
              "      <button class=\"colab-df-convert\" onclick=\"convertToInteractive('df-cccf17c8-a873-4c9d-b7ed-cde6536aa67b')\"\n",
              "              title=\"Convert this dataframe to an interactive table.\"\n",
              "              style=\"display:none;\">\n",
              "        \n",
              "  <svg xmlns=\"http://www.w3.org/2000/svg\" height=\"24px\"viewBox=\"0 0 24 24\"\n",
              "       width=\"24px\">\n",
              "    <path d=\"M0 0h24v24H0V0z\" fill=\"none\"/>\n",
              "    <path d=\"M18.56 5.44l.94 2.06.94-2.06 2.06-.94-2.06-.94-.94-2.06-.94 2.06-2.06.94zm-11 1L8.5 8.5l.94-2.06 2.06-.94-2.06-.94L8.5 2.5l-.94 2.06-2.06.94zm10 10l.94 2.06.94-2.06 2.06-.94-2.06-.94-.94-2.06-.94 2.06-2.06.94z\"/><path d=\"M17.41 7.96l-1.37-1.37c-.4-.4-.92-.59-1.43-.59-.52 0-1.04.2-1.43.59L10.3 9.45l-7.72 7.72c-.78.78-.78 2.05 0 2.83L4 21.41c.39.39.9.59 1.41.59.51 0 1.02-.2 1.41-.59l7.78-7.78 2.81-2.81c.8-.78.8-2.07 0-2.86zM5.41 20L4 18.59l7.72-7.72 1.47 1.35L5.41 20z\"/>\n",
              "  </svg>\n",
              "      </button>\n",
              "      \n",
              "  <style>\n",
              "    .colab-df-container {\n",
              "      display:flex;\n",
              "      flex-wrap:wrap;\n",
              "      gap: 12px;\n",
              "    }\n",
              "\n",
              "    .colab-df-convert {\n",
              "      background-color: #E8F0FE;\n",
              "      border: none;\n",
              "      border-radius: 50%;\n",
              "      cursor: pointer;\n",
              "      display: none;\n",
              "      fill: #1967D2;\n",
              "      height: 32px;\n",
              "      padding: 0 0 0 0;\n",
              "      width: 32px;\n",
              "    }\n",
              "\n",
              "    .colab-df-convert:hover {\n",
              "      background-color: #E2EBFA;\n",
              "      box-shadow: 0px 1px 2px rgba(60, 64, 67, 0.3), 0px 1px 3px 1px rgba(60, 64, 67, 0.15);\n",
              "      fill: #174EA6;\n",
              "    }\n",
              "\n",
              "    [theme=dark] .colab-df-convert {\n",
              "      background-color: #3B4455;\n",
              "      fill: #D2E3FC;\n",
              "    }\n",
              "\n",
              "    [theme=dark] .colab-df-convert:hover {\n",
              "      background-color: #434B5C;\n",
              "      box-shadow: 0px 1px 3px 1px rgba(0, 0, 0, 0.15);\n",
              "      filter: drop-shadow(0px 1px 2px rgba(0, 0, 0, 0.3));\n",
              "      fill: #FFFFFF;\n",
              "    }\n",
              "  </style>\n",
              "\n",
              "      <script>\n",
              "        const buttonEl =\n",
              "          document.querySelector('#df-cccf17c8-a873-4c9d-b7ed-cde6536aa67b button.colab-df-convert');\n",
              "        buttonEl.style.display =\n",
              "          google.colab.kernel.accessAllowed ? 'block' : 'none';\n",
              "\n",
              "        async function convertToInteractive(key) {\n",
              "          const element = document.querySelector('#df-cccf17c8-a873-4c9d-b7ed-cde6536aa67b');\n",
              "          const dataTable =\n",
              "            await google.colab.kernel.invokeFunction('convertToInteractive',\n",
              "                                                     [key], {});\n",
              "          if (!dataTable) return;\n",
              "\n",
              "          const docLinkHtml = 'Like what you see? Visit the ' +\n",
              "            '<a target=\"_blank\" href=https://colab.research.google.com/notebooks/data_table.ipynb>data table notebook</a>'\n",
              "            + ' to learn more about interactive tables.';\n",
              "          element.innerHTML = '';\n",
              "          dataTable['output_type'] = 'display_data';\n",
              "          await google.colab.output.renderOutput(dataTable, element);\n",
              "          const docLink = document.createElement('div');\n",
              "          docLink.innerHTML = docLinkHtml;\n",
              "          element.appendChild(docLink);\n",
              "        }\n",
              "      </script>\n",
              "    </div>\n",
              "  </div>\n",
              "  "
            ]
          },
          "metadata": {},
          "execution_count": 24
        }
      ]
    },
    {
      "cell_type": "code",
      "source": [
        "# Drop the null rows\n",
        "joined_data_df = joined_data_df.dropna()\n",
        "print(f\"{joined_data_df.shape[0]} rows and {joined_data_df.shape[1]} columns\")"
      ],
      "metadata": {
        "colab": {
          "base_uri": "https://localhost:8080/"
        },
        "id": "PpQ4Ot8fhgkX",
        "outputId": "37a5ef22-0aea-4f12-cc2b-e240eef0931f"
      },
      "execution_count": null,
      "outputs": [
        {
          "output_type": "stream",
          "name": "stdout",
          "text": [
            "83147 rows and 9 columns\n"
          ]
        }
      ]
    },
    {
      "cell_type": "code",
      "source": [
        "negative_df = joined_data_df[['tweetcreatedts', 'negative']]\n",
        "negative_df.head(5)"
      ],
      "metadata": {
        "colab": {
          "base_uri": "https://localhost:8080/",
          "height": 204
        },
        "id": "76VH07wBrukI",
        "outputId": "c4a3898b-a100-4f9a-b7ba-46d82df8aad6"
      },
      "execution_count": null,
      "outputs": [
        {
          "output_type": "execute_result",
          "data": {
            "text/plain": [
              "   tweetcreatedts  negative\n",
              "0      20220422.0  0.010234\n",
              "1      20220424.0  0.004823\n",
              "2      20220424.0  0.018234\n",
              "3      20220424.0  0.169791\n",
              "4      20220422.0  0.156944"
            ],
            "text/html": [
              "\n",
              "  <div id=\"df-4da298db-7aed-48b2-a55e-95ec55ba49a5\">\n",
              "    <div class=\"colab-df-container\">\n",
              "      <div>\n",
              "<style scoped>\n",
              "    .dataframe tbody tr th:only-of-type {\n",
              "        vertical-align: middle;\n",
              "    }\n",
              "\n",
              "    .dataframe tbody tr th {\n",
              "        vertical-align: top;\n",
              "    }\n",
              "\n",
              "    .dataframe thead th {\n",
              "        text-align: right;\n",
              "    }\n",
              "</style>\n",
              "<table border=\"1\" class=\"dataframe\">\n",
              "  <thead>\n",
              "    <tr style=\"text-align: right;\">\n",
              "      <th></th>\n",
              "      <th>tweetcreatedts</th>\n",
              "      <th>negative</th>\n",
              "    </tr>\n",
              "  </thead>\n",
              "  <tbody>\n",
              "    <tr>\n",
              "      <th>0</th>\n",
              "      <td>20220422.0</td>\n",
              "      <td>0.010234</td>\n",
              "    </tr>\n",
              "    <tr>\n",
              "      <th>1</th>\n",
              "      <td>20220424.0</td>\n",
              "      <td>0.004823</td>\n",
              "    </tr>\n",
              "    <tr>\n",
              "      <th>2</th>\n",
              "      <td>20220424.0</td>\n",
              "      <td>0.018234</td>\n",
              "    </tr>\n",
              "    <tr>\n",
              "      <th>3</th>\n",
              "      <td>20220424.0</td>\n",
              "      <td>0.169791</td>\n",
              "    </tr>\n",
              "    <tr>\n",
              "      <th>4</th>\n",
              "      <td>20220422.0</td>\n",
              "      <td>0.156944</td>\n",
              "    </tr>\n",
              "  </tbody>\n",
              "</table>\n",
              "</div>\n",
              "      <button class=\"colab-df-convert\" onclick=\"convertToInteractive('df-4da298db-7aed-48b2-a55e-95ec55ba49a5')\"\n",
              "              title=\"Convert this dataframe to an interactive table.\"\n",
              "              style=\"display:none;\">\n",
              "        \n",
              "  <svg xmlns=\"http://www.w3.org/2000/svg\" height=\"24px\"viewBox=\"0 0 24 24\"\n",
              "       width=\"24px\">\n",
              "    <path d=\"M0 0h24v24H0V0z\" fill=\"none\"/>\n",
              "    <path d=\"M18.56 5.44l.94 2.06.94-2.06 2.06-.94-2.06-.94-.94-2.06-.94 2.06-2.06.94zm-11 1L8.5 8.5l.94-2.06 2.06-.94-2.06-.94L8.5 2.5l-.94 2.06-2.06.94zm10 10l.94 2.06.94-2.06 2.06-.94-2.06-.94-.94-2.06-.94 2.06-2.06.94z\"/><path d=\"M17.41 7.96l-1.37-1.37c-.4-.4-.92-.59-1.43-.59-.52 0-1.04.2-1.43.59L10.3 9.45l-7.72 7.72c-.78.78-.78 2.05 0 2.83L4 21.41c.39.39.9.59 1.41.59.51 0 1.02-.2 1.41-.59l7.78-7.78 2.81-2.81c.8-.78.8-2.07 0-2.86zM5.41 20L4 18.59l7.72-7.72 1.47 1.35L5.41 20z\"/>\n",
              "  </svg>\n",
              "      </button>\n",
              "      \n",
              "  <style>\n",
              "    .colab-df-container {\n",
              "      display:flex;\n",
              "      flex-wrap:wrap;\n",
              "      gap: 12px;\n",
              "    }\n",
              "\n",
              "    .colab-df-convert {\n",
              "      background-color: #E8F0FE;\n",
              "      border: none;\n",
              "      border-radius: 50%;\n",
              "      cursor: pointer;\n",
              "      display: none;\n",
              "      fill: #1967D2;\n",
              "      height: 32px;\n",
              "      padding: 0 0 0 0;\n",
              "      width: 32px;\n",
              "    }\n",
              "\n",
              "    .colab-df-convert:hover {\n",
              "      background-color: #E2EBFA;\n",
              "      box-shadow: 0px 1px 2px rgba(60, 64, 67, 0.3), 0px 1px 3px 1px rgba(60, 64, 67, 0.15);\n",
              "      fill: #174EA6;\n",
              "    }\n",
              "\n",
              "    [theme=dark] .colab-df-convert {\n",
              "      background-color: #3B4455;\n",
              "      fill: #D2E3FC;\n",
              "    }\n",
              "\n",
              "    [theme=dark] .colab-df-convert:hover {\n",
              "      background-color: #434B5C;\n",
              "      box-shadow: 0px 1px 3px 1px rgba(0, 0, 0, 0.15);\n",
              "      filter: drop-shadow(0px 1px 2px rgba(0, 0, 0, 0.3));\n",
              "      fill: #FFFFFF;\n",
              "    }\n",
              "  </style>\n",
              "\n",
              "      <script>\n",
              "        const buttonEl =\n",
              "          document.querySelector('#df-4da298db-7aed-48b2-a55e-95ec55ba49a5 button.colab-df-convert');\n",
              "        buttonEl.style.display =\n",
              "          google.colab.kernel.accessAllowed ? 'block' : 'none';\n",
              "\n",
              "        async function convertToInteractive(key) {\n",
              "          const element = document.querySelector('#df-4da298db-7aed-48b2-a55e-95ec55ba49a5');\n",
              "          const dataTable =\n",
              "            await google.colab.kernel.invokeFunction('convertToInteractive',\n",
              "                                                     [key], {});\n",
              "          if (!dataTable) return;\n",
              "\n",
              "          const docLinkHtml = 'Like what you see? Visit the ' +\n",
              "            '<a target=\"_blank\" href=https://colab.research.google.com/notebooks/data_table.ipynb>data table notebook</a>'\n",
              "            + ' to learn more about interactive tables.';\n",
              "          element.innerHTML = '';\n",
              "          dataTable['output_type'] = 'display_data';\n",
              "          await google.colab.output.renderOutput(dataTable, element);\n",
              "          const docLink = document.createElement('div');\n",
              "          docLink.innerHTML = docLinkHtml;\n",
              "          element.appendChild(docLink);\n",
              "        }\n",
              "      </script>\n",
              "    </div>\n",
              "  </div>\n",
              "  "
            ]
          },
          "metadata": {},
          "execution_count": 26
        }
      ]
    },
    {
      "cell_type": "code",
      "source": [
        "#Get the plot of negative score by date of tweet\n",
        "negative_by_date = negative_df.groupby([negative_df['tweetcreatedts']]).mean()\n",
        "\n",
        "# plot bar graph of tweet count by date\n",
        "negative_by_date.plot.line();\n",
        "\n",
        "plt.title(\"Negative Tweet Sentiments by Date\")\n",
        "plt.xlabel(\"Tweet Date\")\n",
        "plt.ylabel(\"Negative Sentiment\")\n",
        "plt.xticks(rotation=45)\n",
        "plt.show()"
      ],
      "metadata": {
        "colab": {
          "base_uri": "https://localhost:8080/",
          "height": 306
        },
        "id": "x2IsXrhSkJsT",
        "outputId": "42719ddd-b103-4eaf-e193-6632d9aedc88"
      },
      "execution_count": null,
      "outputs": [
        {
          "output_type": "display_data",
          "data": {
            "text/plain": [
              "<Figure size 432x288 with 1 Axes>"
            ],
            "image/png": "[encoded data removed]"
          },
          "metadata": {
            "needs_background": "light"
          }
        }
      ]
    },
    {
      "cell_type": "code",
      "source": [
        "#Get the plot of day weight by date\n",
        "joined_data_df.plot.line(x='tweetcreatedts', y='weight');\n",
        "\n",
        "plt.title(\"Weight by Date\")\n",
        "plt.xlabel(\"Date\")\n",
        "plt.ylabel(\"Weight\")\n",
        "plt.xticks(rotation=45)\n",
        "plt.yticks(rotation=0)\n",
        "plt.show()"
      ],
      "metadata": {
        "colab": {
          "base_uri": "https://localhost:8080/",
          "height": 306
        },
        "id": "NUZItHkAkJRH",
        "outputId": "291409d0-ec61-44e6-a9a1-5d9af98da266"
      },
      "execution_count": null,
      "outputs": [
        {
          "output_type": "display_data",
          "data": {
            "text/plain": [
              "<Figure size 432x288 with 1 Axes>"
            ],
            "image/png": "[encoded data removed]"
          },
          "metadata": {
            "needs_background": "light"
          }
        }
      ]
    },
    {
      "cell_type": "code",
      "source": [
        "# Plotting the data\n",
        "joined_data_df.plot.scatter(x=\"tweetcreatedts\", y=\"weight\", c=\"negative\", colormap=\"winter\")"
      ],
      "metadata": {
        "colab": {
          "base_uri": "https://localhost:8080/",
          "height": 278
        },
        "id": "O78_6_eIiL5w",
        "outputId": "faec2be0-c809-47c1-8da5-bfe3d633b404"
      },
      "execution_count": null,
      "outputs": [
        {
          "output_type": "execute_result",
          "data": {
            "text/plain": [
              "<matplotlib.axes._subplots.AxesSubplot at 0x7f6d2a138650>"
            ]
          },
          "metadata": {},
          "execution_count": 29
        },
        {
          "output_type": "display_data",
          "data": {
            "text/plain": [
              "<Figure size 432x288 with 2 Axes>"
            ],
            "image/png": "[encoded data removed]"
          },
          "metadata": {
            "needs_background": "light"
          }
        }
      ]
    },
    {
      "cell_type": "markdown",
      "source": [
        "# Standartization Data"
      ],
      "metadata": {
        "id": "yyPC1H2viaUr"
      }
    },
    {
      "cell_type": "code",
      "source": [
        "# Create the StandardScaler instance\n",
        "scaler = StandardScaler()\n",
        "\n",
        "# Fit the StandardScaler\n",
        "scaler.fit(joined_data_df)\n",
        "\n",
        "# Scale the data\n",
        "scaled_data = scaler.transform(joined_data_df)\n",
        "\n",
        "# Create a DataFrame with the scaled data\n",
        "transformed_scaled_data = pd.DataFrame(scaled_data, columns=joined_data_df.columns)\n",
        "transformed_scaled_data.head(5)"
      ],
      "metadata": {
        "colab": {
          "base_uri": "https://localhost:8080/",
          "height": 204
        },
        "id": "TyhmR7IUiqK8",
        "outputId": "18ab8e6d-7476-4bc6-9428-0cb7bca808bb"
      },
      "execution_count": null,
      "outputs": [
        {
          "output_type": "execute_result",
          "data": {
            "text/plain": [
              "   following  followers  totaltweets  tweetcreatedts  is_retweet  \\\n",
              "0  -0.336036  -0.090515    -0.458301       -0.973757     0.70371   \n",
              "1   0.022958  -0.076273    -0.549276       -0.939728    -1.42104   \n",
              "2   0.040286  -0.089977    -0.418117       -0.939728     0.70371   \n",
              "3  -0.223725  -0.089102    -0.455128       -0.939728     0.70371   \n",
              "4  -0.300016   1.385954     5.642176       -0.973757    -1.42104   \n",
              "\n",
              "   is_quote_status  negative    weight  text_length  \n",
              "0        -0.324969 -1.117614  1.000514    -0.893686  \n",
              "1         3.077219 -1.133617 -1.372268    -1.035154  \n",
              "2        -0.324969 -1.093953 -1.372268    -0.285373  \n",
              "3        -0.324969 -0.645699 -1.372268    -1.898110  \n",
              "4        -0.324969 -0.683697  1.000514    -1.190769  "
            ],
            "text/html": [
              "\n",
              "  <div id=\"df-b57fd135-250c-4ae7-a202-e9ec8948a442\">\n",
              "    <div class=\"colab-df-container\">\n",
              "      <div>\n",
              "<style scoped>\n",
              "    .dataframe tbody tr th:only-of-type {\n",
              "        vertical-align: middle;\n",
              "    }\n",
              "\n",
              "    .dataframe tbody tr th {\n",
              "        vertical-align: top;\n",
              "    }\n",
              "\n",
              "    .dataframe thead th {\n",
              "        text-align: right;\n",
              "    }\n",
              "</style>\n",
              "<table border=\"1\" class=\"dataframe\">\n",
              "  <thead>\n",
              "    <tr style=\"text-align: right;\">\n",
              "      <th></th>\n",
              "      <th>following</th>\n",
              "      <th>followers</th>\n",
              "      <th>totaltweets</th>\n",
              "      <th>tweetcreatedts</th>\n",
              "      <th>is_retweet</th>\n",
              "      <th>is_quote_status</th>\n",
              "      <th>negative</th>\n",
              "      <th>weight</th>\n",
              "      <th>text_length</th>\n",
              "    </tr>\n",
              "  </thead>\n",
              "  <tbody>\n",
              "    <tr>\n",
              "      <th>0</th>\n",
              "      <td>-0.336036</td>\n",
              "      <td>-0.090515</td>\n",
              "      <td>-0.458301</td>\n",
              "      <td>-0.973757</td>\n",
              "      <td>0.70371</td>\n",
              "      <td>-0.324969</td>\n",
              "      <td>-1.117614</td>\n",
              "      <td>1.000514</td>\n",
              "      <td>-0.893686</td>\n",
              "    </tr>\n",
              "    <tr>\n",
              "      <th>1</th>\n",
              "      <td>0.022958</td>\n",
              "      <td>-0.076273</td>\n",
              "      <td>-0.549276</td>\n",
              "      <td>-0.939728</td>\n",
              "      <td>-1.42104</td>\n",
              "      <td>3.077219</td>\n",
              "      <td>-1.133617</td>\n",
              "      <td>-1.372268</td>\n",
              "      <td>-1.035154</td>\n",
              "    </tr>\n",
              "    <tr>\n",
              "      <th>2</th>\n",
              "      <td>0.040286</td>\n",
              "      <td>-0.089977</td>\n",
              "      <td>-0.418117</td>\n",
              "      <td>-0.939728</td>\n",
              "      <td>0.70371</td>\n",
              "      <td>-0.324969</td>\n",
              "      <td>-1.093953</td>\n",
              "      <td>-1.372268</td>\n",
              "      <td>-0.285373</td>\n",
              "    </tr>\n",
              "    <tr>\n",
              "      <th>3</th>\n",
              "      <td>-0.223725</td>\n",
              "      <td>-0.089102</td>\n",
              "      <td>-0.455128</td>\n",
              "      <td>-0.939728</td>\n",
              "      <td>0.70371</td>\n",
              "      <td>-0.324969</td>\n",
              "      <td>-0.645699</td>\n",
              "      <td>-1.372268</td>\n",
              "      <td>-1.898110</td>\n",
              "    </tr>\n",
              "    <tr>\n",
              "      <th>4</th>\n",
              "      <td>-0.300016</td>\n",
              "      <td>1.385954</td>\n",
              "      <td>5.642176</td>\n",
              "      <td>-0.973757</td>\n",
              "      <td>-1.42104</td>\n",
              "      <td>-0.324969</td>\n",
              "      <td>-0.683697</td>\n",
              "      <td>1.000514</td>\n",
              "      <td>-1.190769</td>\n",
              "    </tr>\n",
              "  </tbody>\n",
              "</table>\n",
              "</div>\n",
              "      <button class=\"colab-df-convert\" onclick=\"convertToInteractive('df-b57fd135-250c-4ae7-a202-e9ec8948a442')\"\n",
              "              title=\"Convert this dataframe to an interactive table.\"\n",
              "              style=\"display:none;\">\n",
              "        \n",
              "  <svg xmlns=\"http://www.w3.org/2000/svg\" height=\"24px\"viewBox=\"0 0 24 24\"\n",
              "       width=\"24px\">\n",
              "    <path d=\"M0 0h24v24H0V0z\" fill=\"none\"/>\n",
              "    <path d=\"M18.56 5.44l.94 2.06.94-2.06 2.06-.94-2.06-.94-.94-2.06-.94 2.06-2.06.94zm-11 1L8.5 8.5l.94-2.06 2.06-.94-2.06-.94L8.5 2.5l-.94 2.06-2.06.94zm10 10l.94 2.06.94-2.06 2.06-.94-2.06-.94-.94-2.06-.94 2.06-2.06.94z\"/><path d=\"M17.41 7.96l-1.37-1.37c-.4-.4-.92-.59-1.43-.59-.52 0-1.04.2-1.43.59L10.3 9.45l-7.72 7.72c-.78.78-.78 2.05 0 2.83L4 21.41c.39.39.9.59 1.41.59.51 0 1.02-.2 1.41-.59l7.78-7.78 2.81-2.81c.8-.78.8-2.07 0-2.86zM5.41 20L4 18.59l7.72-7.72 1.47 1.35L5.41 20z\"/>\n",
              "  </svg>\n",
              "      </button>\n",
              "      \n",
              "  <style>\n",
              "    .colab-df-container {\n",
              "      display:flex;\n",
              "      flex-wrap:wrap;\n",
              "      gap: 12px;\n",
              "    }\n",
              "\n",
              "    .colab-df-convert {\n",
              "      background-color: #E8F0FE;\n",
              "      border: none;\n",
              "      border-radius: 50%;\n",
              "      cursor: pointer;\n",
              "      display: none;\n",
              "      fill: #1967D2;\n",
              "      height: 32px;\n",
              "      padding: 0 0 0 0;\n",
              "      width: 32px;\n",
              "    }\n",
              "\n",
              "    .colab-df-convert:hover {\n",
              "      background-color: #E2EBFA;\n",
              "      box-shadow: 0px 1px 2px rgba(60, 64, 67, 0.3), 0px 1px 3px 1px rgba(60, 64, 67, 0.15);\n",
              "      fill: #174EA6;\n",
              "    }\n",
              "\n",
              "    [theme=dark] .colab-df-convert {\n",
              "      background-color: #3B4455;\n",
              "      fill: #D2E3FC;\n",
              "    }\n",
              "\n",
              "    [theme=dark] .colab-df-convert:hover {\n",
              "      background-color: #434B5C;\n",
              "      box-shadow: 0px 1px 3px 1px rgba(0, 0, 0, 0.15);\n",
              "      filter: drop-shadow(0px 1px 2px rgba(0, 0, 0, 0.3));\n",
              "      fill: #FFFFFF;\n",
              "    }\n",
              "  </style>\n",
              "\n",
              "      <script>\n",
              "        const buttonEl =\n",
              "          document.querySelector('#df-b57fd135-250c-4ae7-a202-e9ec8948a442 button.colab-df-convert');\n",
              "        buttonEl.style.display =\n",
              "          google.colab.kernel.accessAllowed ? 'block' : 'none';\n",
              "\n",
              "        async function convertToInteractive(key) {\n",
              "          const element = document.querySelector('#df-b57fd135-250c-4ae7-a202-e9ec8948a442');\n",
              "          const dataTable =\n",
              "            await google.colab.kernel.invokeFunction('convertToInteractive',\n",
              "                                                     [key], {});\n",
              "          if (!dataTable) return;\n",
              "\n",
              "          const docLinkHtml = 'Like what you see? Visit the ' +\n",
              "            '<a target=\"_blank\" href=https://colab.research.google.com/notebooks/data_table.ipynb>data table notebook</a>'\n",
              "            + ' to learn more about interactive tables.';\n",
              "          element.innerHTML = '';\n",
              "          dataTable['output_type'] = 'display_data';\n",
              "          await google.colab.output.renderOutput(dataTable, element);\n",
              "          const docLink = document.createElement('div');\n",
              "          docLink.innerHTML = docLinkHtml;\n",
              "          element.appendChild(docLink);\n",
              "        }\n",
              "      </script>\n",
              "    </div>\n",
              "  </div>\n",
              "  "
            ]
          },
          "metadata": {},
          "execution_count": 30
        }
      ]
    },
    {
      "cell_type": "markdown",
      "source": [
        "# Deep Learning Model"
      ],
      "metadata": {
        "id": "XijHy1aZjbBO"
      }
    },
    {
      "cell_type": "markdown",
      "source": [
        "Considering the output is a number of negative score of tweet emotions, as Activation function for the hidden layers we choosed ReLU, and as Activation function for the output layer we choosed Linear. For compiling model we used loss='mean_squared_error'.\n",
        "\n"
      ],
      "metadata": {
        "id": "4BFifLDotBtG"
      }
    },
    {
      "cell_type": "code",
      "source": [
        "# Split our preprocessed data into our features and target arrays\n",
        "y = transformed_scaled_data[\"negative\"].values\n",
        "X = transformed_scaled_data.drop([\"negative\"],1).values\n",
        "\n",
        "# Split the preprocessed data into a training and testing dataset\n",
        "X_train, X_test, y_train, y_test = train_test_split(X, y, random_state=78)"
      ],
      "metadata": {
        "colab": {
          "base_uri": "https://localhost:8080/"
        },
        "id": "VPHKWF5AjhqF",
        "outputId": "509ebb9a-a74a-450f-b76d-118b727a975e"
      },
      "execution_count": null,
      "outputs": [
        {
          "output_type": "stream",
          "name": "stderr",
          "text": [
            "/usr/local/lib/python3.7/dist-packages/ipykernel_launcher.py:3: FutureWarning: In a future version of pandas all arguments of DataFrame.drop except for the argument 'labels' will be keyword-only\n",
            "  This is separate from the ipykernel package so we can avoid doing imports until\n"
          ]
        }
      ]
    },
    {
      "cell_type": "code",
      "source": [
        "# Create scaler instance\n",
        "X_scaler = skl.preprocessing.StandardScaler()\n",
        "\n",
        "# Fit the scaler\n",
        "X_scaler.fit(X_train)\n",
        "\n",
        "# Scale the data\n",
        "X_train_scaled = X_scaler.transform(X_train)\n",
        "X_test_scaled = X_scaler.transform(X_test)"
      ],
      "metadata": {
        "id": "CR7AgRUznOjX"
      },
      "execution_count": null,
      "outputs": []
    },
    {
      "cell_type": "code",
      "source": [
        "# Define the model - deep neural net\n",
        "number_input_features = len(X_train[0])\n",
        "hidden_nodes_layer1 = 8\n",
        "hidden_nodes_layer2 = 5\n",
        "\n",
        "nn = tf.keras.models.Sequential()\n",
        "\n",
        "# First hidden layer\n",
        "nn.add(\n",
        "    tf.keras.layers.Dense(units=hidden_nodes_layer1, input_dim=number_input_features, activation=\"relu\")\n",
        ")\n",
        "\n",
        "# Second hidden layer\n",
        "nn.add(tf.keras.layers.Dense(units=hidden_nodes_layer2, activation=\"relu\"))\n",
        "\n",
        "# Output layer\n",
        "nn.add(tf.keras.layers.Dense(units=1, activation='linear'))\n",
        "\n",
        "# Check the structure of the model\n",
        "nn.summary()"
      ],
      "metadata": {
        "colab": {
          "base_uri": "https://localhost:8080/"
        },
        "id": "LR9nzMGLnUpr",
        "outputId": "7aee3fe7-b83a-4c2f-d9fc-23f223ac483e"
      },
      "execution_count": null,
      "outputs": [
        {
          "output_type": "stream",
          "name": "stdout",
          "text": [
            "Model: \"sequential\"\n",
            "_________________________________________________________________\n",
            " Layer (type)                Output Shape              Param #   \n",
            "=================================================================\n",
            " dense (Dense)               (None, 8)                 72        \n",
            "                                                                 \n",
            " dense_1 (Dense)             (None, 5)                 45        \n",
            "                                                                 \n",
            " dense_2 (Dense)             (None, 1)                 6         \n",
            "                                                                 \n",
            "=================================================================\n",
            "Total params: 123\n",
            "Trainable params: 123\n",
            "Non-trainable params: 0\n",
            "_________________________________________________________________\n"
          ]
        }
      ]
    },
    {
      "cell_type": "code",
      "source": [
        "# Compile the model\n",
        "# tf.keras.losses.MeanAbsolutePercentageError(\n",
        "#    reduction=\"auto\", name=\"mean_absolute_percentage_error\")\n",
        "\t\n",
        "nn.compile(loss='mean_squared_error', optimizer=\"adam\", metrics=[\"accuracy\"])\n",
        "#nn.compile(loss=\"binary_crossentropy\", optimizer=\"adam\", metrics=[\"accuracy\"])"
      ],
      "metadata": {
        "id": "lgytCNcnnad1"
      },
      "execution_count": null,
      "outputs": []
    },
    {
      "cell_type": "code",
      "source": [
        "# Fit the model to the training data\n",
        "# Train the model\n",
        "fit_model = nn.fit(X_train,y_train,epochs=100)\n",
        "# fit_model = nn_model.fit(X_train_scaled, y_train, epochs=100)"
      ],
      "metadata": {
        "colab": {
          "base_uri": "https://localhost:8080/"
        },
        "id": "9dblFEbxne_8",
        "outputId": "71988222-5896-490e-870e-6378ad3dcf96"
      },
      "execution_count": null,
      "outputs": [
        {
          "output_type": "stream",
          "name": "stdout",
          "text": [
            "Epoch 1/100\n",
            "1949/1949 [==============================] - 3s 1ms/step - loss: 1.0625 - accuracy: 0.0000e+00\n",
            "Epoch 2/100\n",
            "1949/1949 [==============================] - 3s 1ms/step - loss: 0.9942 - accuracy: 0.0000e+00\n",
            "Epoch 3/100\n",
            "1949/1949 [==============================] - 3s 1ms/step - loss: 0.9926 - accuracy: 0.0000e+00\n",
            "Epoch 4/100\n",
            "1949/1949 [==============================] - 3s 1ms/step - loss: 0.9923 - accuracy: 0.0000e+00\n",
            "Epoch 5/100\n",
            "1949/1949 [==============================] - 3s 1ms/step - loss: 0.9915 - accuracy: 0.0000e+00\n",
            "Epoch 6/100\n",
            "1949/1949 [==============================] - 3s 1ms/step - loss: 0.9910 - accuracy: 0.0000e+00\n",
            "Epoch 7/100\n",
            "1949/1949 [==============================] - 3s 1ms/step - loss: 0.9911 - accuracy: 0.0000e+00\n",
            "Epoch 8/100\n",
            "1949/1949 [==============================] - 3s 1ms/step - loss: 0.9910 - accuracy: 0.0000e+00\n",
            "Epoch 9/100\n",
            "1949/1949 [==============================] - 3s 1ms/step - loss: 0.9907 - accuracy: 0.0000e+00\n",
            "Epoch 10/100\n",
            "1949/1949 [==============================] - 3s 1ms/step - loss: 0.9905 - accuracy: 0.0000e+00\n",
            "Epoch 11/100\n",
            "1949/1949 [==============================] - 3s 1ms/step - loss: 0.9905 - accuracy: 0.0000e+00\n",
            "Epoch 12/100\n",
            "1949/1949 [==============================] - 3s 1ms/step - loss: 0.9904 - accuracy: 0.0000e+00\n",
            "Epoch 13/100\n",
            "1949/1949 [==============================] - 3s 1ms/step - loss: 0.9905 - accuracy: 0.0000e+00\n",
            "Epoch 14/100\n",
            "1949/1949 [==============================] - 3s 1ms/step - loss: 0.9903 - accuracy: 0.0000e+00\n",
            "Epoch 15/100\n",
            "1949/1949 [==============================] - 3s 1ms/step - loss: 0.9903 - accuracy: 0.0000e+00\n",
            "Epoch 16/100\n",
            "1949/1949 [==============================] - 3s 1ms/step - loss: 0.9903 - accuracy: 0.0000e+00\n",
            "Epoch 17/100\n",
            "1949/1949 [==============================] - 3s 1ms/step - loss: 0.9902 - accuracy: 0.0000e+00\n",
            "Epoch 18/100\n",
            "1949/1949 [==============================] - 3s 1ms/step - loss: 0.9900 - accuracy: 0.0000e+00\n",
            "Epoch 19/100\n",
            "1949/1949 [==============================] - 3s 1ms/step - loss: 0.9897 - accuracy: 0.0000e+00\n",
            "Epoch 20/100\n",
            "1949/1949 [==============================] - 3s 1ms/step - loss: 0.9900 - accuracy: 0.0000e+00\n",
            "Epoch 21/100\n",
            "1949/1949 [==============================] - 3s 1ms/step - loss: 0.9901 - accuracy: 0.0000e+00\n",
            "Epoch 22/100\n",
            "1949/1949 [==============================] - 3s 1ms/step - loss: 0.9898 - accuracy: 0.0000e+00\n",
            "Epoch 23/100\n",
            "1949/1949 [==============================] - 3s 1ms/step - loss: 0.9899 - accuracy: 0.0000e+00\n",
            "Epoch 24/100\n",
            "1949/1949 [==============================] - 3s 1ms/step - loss: 0.9900 - accuracy: 0.0000e+00\n",
            "Epoch 25/100\n",
            "1949/1949 [==============================] - 3s 1ms/step - loss: 0.9896 - accuracy: 0.0000e+00\n",
            "Epoch 26/100\n",
            "1949/1949 [==============================] - 3s 1ms/step - loss: 0.9899 - accuracy: 0.0000e+00\n",
            "Epoch 27/100\n",
            "1949/1949 [==============================] - 3s 1ms/step - loss: 0.9896 - accuracy: 0.0000e+00\n",
            "Epoch 28/100\n",
            "1949/1949 [==============================] - 3s 2ms/step - loss: 0.9898 - accuracy: 0.0000e+00\n",
            "Epoch 29/100\n",
            "1949/1949 [==============================] - 3s 1ms/step - loss: 0.9897 - accuracy: 0.0000e+00\n",
            "Epoch 30/100\n",
            "1949/1949 [==============================] - 3s 1ms/step - loss: 0.9898 - accuracy: 0.0000e+00\n",
            "Epoch 31/100\n",
            "1949/1949 [==============================] - 3s 1ms/step - loss: 0.9897 - accuracy: 0.0000e+00\n",
            "Epoch 32/100\n",
            "1949/1949 [==============================] - 3s 1ms/step - loss: 0.9898 - accuracy: 0.0000e+00\n",
            "Epoch 33/100\n",
            "1949/1949 [==============================] - 3s 1ms/step - loss: 0.9896 - accuracy: 0.0000e+00\n",
            "Epoch 34/100\n",
            "1949/1949 [==============================] - 3s 1ms/step - loss: 0.9897 - accuracy: 0.0000e+00\n",
            "Epoch 35/100\n",
            "1949/1949 [==============================] - 3s 1ms/step - loss: 0.9896 - accuracy: 0.0000e+00\n",
            "Epoch 36/100\n",
            "1949/1949 [==============================] - 3s 1ms/step - loss: 0.9895 - accuracy: 0.0000e+00\n",
            "Epoch 37/100\n",
            "1949/1949 [==============================] - 3s 1ms/step - loss: 0.9897 - accuracy: 0.0000e+00\n",
            "Epoch 38/100\n",
            "1949/1949 [==============================] - 3s 1ms/step - loss: 0.9896 - accuracy: 0.0000e+00\n",
            "Epoch 39/100\n",
            "1949/1949 [==============================] - 3s 1ms/step - loss: 0.9895 - accuracy: 0.0000e+00\n",
            "Epoch 40/100\n",
            "1949/1949 [==============================] - 3s 1ms/step - loss: 0.9895 - accuracy: 0.0000e+00\n",
            "Epoch 41/100\n",
            "1949/1949 [==============================] - 3s 1ms/step - loss: 0.9896 - accuracy: 0.0000e+00\n",
            "Epoch 42/100\n",
            "1949/1949 [==============================] - 3s 1ms/step - loss: 0.9897 - accuracy: 0.0000e+00\n",
            "Epoch 43/100\n",
            "1949/1949 [==============================] - 3s 1ms/step - loss: 0.9895 - accuracy: 0.0000e+00\n",
            "Epoch 44/100\n",
            "1949/1949 [==============================] - 3s 1ms/step - loss: 0.9896 - accuracy: 0.0000e+00\n",
            "Epoch 45/100\n",
            "1949/1949 [==============================] - 3s 1ms/step - loss: 0.9895 - accuracy: 0.0000e+00\n",
            "Epoch 46/100\n",
            "1949/1949 [==============================] - 3s 1ms/step - loss: 0.9893 - accuracy: 0.0000e+00\n",
            "Epoch 47/100\n",
            "1949/1949 [==============================] - 3s 1ms/step - loss: 0.9893 - accuracy: 0.0000e+00\n",
            "Epoch 48/100\n",
            "1949/1949 [==============================] - 3s 1ms/step - loss: 0.9895 - accuracy: 0.0000e+00\n",
            "Epoch 49/100\n",
            "1949/1949 [==============================] - 3s 1ms/step - loss: 0.9894 - accuracy: 0.0000e+00\n",
            "Epoch 50/100\n",
            "1949/1949 [==============================] - 3s 1ms/step - loss: 0.9894 - accuracy: 0.0000e+00\n",
            "Epoch 51/100\n",
            "1949/1949 [==============================] - 3s 1ms/step - loss: 0.9893 - accuracy: 0.0000e+00\n",
            "Epoch 52/100\n",
            "1949/1949 [==============================] - 3s 1ms/step - loss: 0.9894 - accuracy: 0.0000e+00\n",
            "Epoch 53/100\n",
            "1949/1949 [==============================] - 3s 1ms/step - loss: 0.9894 - accuracy: 0.0000e+00\n",
            "Epoch 54/100\n",
            "1949/1949 [==============================] - 3s 1ms/step - loss: 0.9895 - accuracy: 0.0000e+00\n",
            "Epoch 55/100\n",
            "1949/1949 [==============================] - 3s 1ms/step - loss: 0.9894 - accuracy: 0.0000e+00\n",
            "Epoch 56/100\n",
            "1949/1949 [==============================] - 3s 1ms/step - loss: 0.9893 - accuracy: 0.0000e+00\n",
            "Epoch 57/100\n",
            "1949/1949 [==============================] - 3s 1ms/step - loss: 0.9893 - accuracy: 0.0000e+00\n",
            "Epoch 58/100\n",
            "1949/1949 [==============================] - 3s 1ms/step - loss: 0.9894 - accuracy: 0.0000e+00\n",
            "Epoch 59/100\n",
            "1949/1949 [==============================] - 3s 1ms/step - loss: 0.9893 - accuracy: 0.0000e+00\n",
            "Epoch 60/100\n",
            "1949/1949 [==============================] - 3s 1ms/step - loss: 0.9892 - accuracy: 0.0000e+00\n",
            "Epoch 61/100\n",
            "1949/1949 [==============================] - 3s 1ms/step - loss: 0.9893 - accuracy: 0.0000e+00\n",
            "Epoch 62/100\n",
            "1949/1949 [==============================] - 3s 1ms/step - loss: 0.9893 - accuracy: 0.0000e+00\n",
            "Epoch 63/100\n",
            "1949/1949 [==============================] - 3s 1ms/step - loss: 0.9893 - accuracy: 0.0000e+00\n",
            "Epoch 64/100\n",
            "1949/1949 [==============================] - 3s 1ms/step - loss: 0.9892 - accuracy: 0.0000e+00\n",
            "Epoch 65/100\n",
            "1949/1949 [==============================] - 3s 2ms/step - loss: 0.9893 - accuracy: 0.0000e+00\n",
            "Epoch 66/100\n",
            "1949/1949 [==============================] - 3s 2ms/step - loss: 0.9892 - accuracy: 0.0000e+00\n",
            "Epoch 67/100\n",
            "1949/1949 [==============================] - 3s 1ms/step - loss: 0.9892 - accuracy: 0.0000e+00\n",
            "Epoch 68/100\n",
            "1949/1949 [==============================] - 3s 1ms/step - loss: 0.9890 - accuracy: 0.0000e+00\n",
            "Epoch 69/100\n",
            "1949/1949 [==============================] - 3s 1ms/step - loss: 0.9892 - accuracy: 0.0000e+00\n",
            "Epoch 70/100\n",
            "1949/1949 [==============================] - 3s 1ms/step - loss: 0.9891 - accuracy: 0.0000e+00\n",
            "Epoch 71/100\n",
            "1949/1949 [==============================] - 3s 1ms/step - loss: 0.9890 - accuracy: 0.0000e+00\n",
            "Epoch 72/100\n",
            "1949/1949 [==============================] - 3s 1ms/step - loss: 0.9890 - accuracy: 0.0000e+00\n",
            "Epoch 73/100\n",
            "1949/1949 [==============================] - 3s 1ms/step - loss: 0.9889 - accuracy: 0.0000e+00\n",
            "Epoch 74/100\n",
            "1949/1949 [==============================] - 3s 1ms/step - loss: 0.9890 - accuracy: 0.0000e+00\n",
            "Epoch 75/100\n",
            "1949/1949 [==============================] - 3s 1ms/step - loss: 0.9892 - accuracy: 0.0000e+00\n",
            "Epoch 76/100\n",
            "1949/1949 [==============================] - 3s 1ms/step - loss: 0.9891 - accuracy: 0.0000e+00\n",
            "Epoch 77/100\n",
            "1949/1949 [==============================] - 3s 1ms/step - loss: 0.9891 - accuracy: 0.0000e+00\n",
            "Epoch 78/100\n",
            "1949/1949 [==============================] - 3s 1ms/step - loss: 0.9891 - accuracy: 0.0000e+00\n",
            "Epoch 79/100\n",
            "1949/1949 [==============================] - 3s 1ms/step - loss: 0.9889 - accuracy: 0.0000e+00\n",
            "Epoch 80/100\n",
            "1949/1949 [==============================] - 3s 1ms/step - loss: 0.9890 - accuracy: 0.0000e+00\n",
            "Epoch 81/100\n",
            "1949/1949 [==============================] - 3s 1ms/step - loss: 0.9891 - accuracy: 0.0000e+00\n",
            "Epoch 82/100\n",
            "1949/1949 [==============================] - 3s 1ms/step - loss: 0.9890 - accuracy: 0.0000e+00\n",
            "Epoch 83/100\n",
            "1949/1949 [==============================] - 3s 1ms/step - loss: 0.9890 - accuracy: 0.0000e+00\n",
            "Epoch 84/100\n",
            "1949/1949 [==============================] - 3s 1ms/step - loss: 0.9888 - accuracy: 0.0000e+00\n",
            "Epoch 85/100\n",
            "1949/1949 [==============================] - 3s 1ms/step - loss: 0.9890 - accuracy: 0.0000e+00\n",
            "Epoch 86/100\n",
            "1949/1949 [==============================] - 3s 1ms/step - loss: 0.9890 - accuracy: 0.0000e+00\n",
            "Epoch 87/100\n",
            "1949/1949 [==============================] - 3s 1ms/step - loss: 0.9890 - accuracy: 0.0000e+00\n",
            "Epoch 88/100\n",
            "1949/1949 [==============================] - 3s 1ms/step - loss: 0.9890 - accuracy: 0.0000e+00\n",
            "Epoch 89/100\n",
            "1949/1949 [==============================] - 3s 1ms/step - loss: 0.9890 - accuracy: 0.0000e+00\n",
            "Epoch 90/100\n",
            "1949/1949 [==============================] - 3s 1ms/step - loss: 0.9889 - accuracy: 0.0000e+00\n",
            "Epoch 91/100\n",
            "1949/1949 [==============================] - 3s 1ms/step - loss: 0.9888 - accuracy: 0.0000e+00\n",
            "Epoch 92/100\n",
            "1949/1949 [==============================] - 3s 1ms/step - loss: 0.9890 - accuracy: 0.0000e+00\n",
            "Epoch 93/100\n",
            "1949/1949 [==============================] - 3s 1ms/step - loss: 0.9888 - accuracy: 0.0000e+00\n",
            "Epoch 94/100\n",
            "1949/1949 [==============================] - 3s 1ms/step - loss: 0.9888 - accuracy: 0.0000e+00\n",
            "Epoch 95/100\n",
            "1949/1949 [==============================] - 3s 1ms/step - loss: 0.9889 - accuracy: 0.0000e+00\n",
            "Epoch 96/100\n",
            "1949/1949 [==============================] - 3s 1ms/step - loss: 0.9889 - accuracy: 0.0000e+00\n",
            "Epoch 97/100\n",
            "1949/1949 [==============================] - 3s 1ms/step - loss: 0.9889 - accuracy: 0.0000e+00\n",
            "Epoch 98/100\n",
            "1949/1949 [==============================] - 3s 1ms/step - loss: 0.9889 - accuracy: 0.0000e+00\n",
            "Epoch 99/100\n",
            "1949/1949 [==============================] - 3s 1ms/step - loss: 0.9889 - accuracy: 0.0000e+00\n",
            "Epoch 100/100\n",
            "1949/1949 [==============================] - 3s 1ms/step - loss: 0.9889 - accuracy: 0.0000e+00\n"
          ]
        }
      ]
    },
    {
      "cell_type": "code",
      "source": [
        "# Evaluate the model using the test data\n",
        "model_loss, model_accuracy = nn.evaluate(X_test,y_test,verbose=2)\n",
        "print(f\"Loss: {model_loss}, Accuracy: {model_accuracy}\")"
      ],
      "metadata": {
        "colab": {
          "base_uri": "https://localhost:8080/"
        },
        "id": "6g_yg4NDnpSd",
        "outputId": "00c8bb70-1a2e-4240-96ee-55f1ad031129"
      },
      "execution_count": null,
      "outputs": [
        {
          "output_type": "stream",
          "name": "stdout",
          "text": [
            "650/650 - 1s - loss: 0.9946 - accuracy: 0.0000e+00 - 748ms/epoch - 1ms/step\n",
            "Loss: 0.9946125745773315, Accuracy: 0.0\n"
          ]
        }
      ]
    },
    {
      "cell_type": "code",
      "source": [
        "# Create a DataFrame containing training history\n",
        "history_df = pd.DataFrame(fit_model.history, index=range(1,len(fit_model.history[\"loss\"])+1))\n",
        "\n",
        "# Plot the loss\n",
        "history_df.plot(y=\"loss\")"
      ],
      "metadata": {
        "colab": {
          "base_uri": "https://localhost:8080/",
          "height": 282
        },
        "id": "k3wmxzFLntMi",
        "outputId": "423fdac7-19ac-41d8-c86b-ae34a6fc39c9"
      },
      "execution_count": null,
      "outputs": [
        {
          "output_type": "execute_result",
          "data": {
            "text/plain": [
              "<matplotlib.axes._subplots.AxesSubplot at 0x7f6d29135f50>"
            ]
          },
          "metadata": {},
          "execution_count": 41
        },
        {
          "output_type": "display_data",
          "data": {
            "text/plain": [
              "<Figure size 432x288 with 1 Axes>"
            ],
            "image/png": "[encoded data removed]"
          },
          "metadata": {
            "needs_background": "light"
          }
        }
      ]
    },
    {
      "cell_type": "code",
      "source": [
        "# Plot the accuracy\n",
        "history_df.plot(y=\"accuracy\")"
      ],
      "metadata": {
        "colab": {
          "base_uri": "https://localhost:8080/",
          "height": 282
        },
        "id": "a5JIPB4cnuqm",
        "outputId": "02ee4d5c-69d5-402e-bdfe-d516d8637e39"
      },
      "execution_count": null,
      "outputs": [
        {
          "output_type": "execute_result",
          "data": {
            "text/plain": [
              "<matplotlib.axes._subplots.AxesSubplot at 0x7f6d292b0a50>"
            ]
          },
          "metadata": {},
          "execution_count": 42
        },
        {
          "output_type": "display_data",
          "data": {
            "text/plain": [
              "<Figure size 432x288 with 1 Axes>"
            ],
            "image/png": "[encoded data removed]"
          },
          "metadata": {
            "needs_background": "light"
          }
        }
      ]
    },
    {
      "cell_type": "code",
      "source": [],
      "metadata": {
        "id": "RmbEWcPSny1j"
      },
      "execution_count": null,
      "outputs": []
    }
  ]
}