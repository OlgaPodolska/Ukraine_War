{
  "nbformat": 4,
  "nbformat_minor": 0,
  "metadata": {
    "colab": {
      "provenance": [],
      "collapsed_sections": [],
      "authorship_tag": "ABX9TyPto+gujaHfbMRAeaiWUm1J",
      "include_colab_link": true
    },
    "kernelspec": {
      "name": "python3",
      "display_name": "Python 3"
    },
    "language_info": {
      "name": "python"
    }
  },
  "cells": [
    {
      "cell_type": "markdown",
      "metadata": {
        "id": "view-in-github",
        "colab_type": "text"
      },
      "source": [
        "<a href=\"https://colab.research.google.com/github/aiscience-22/UA_War/blob/olgap%2Fmachine_learning_0.06/LGBM_retweets.ipynb\" target=\"_parent\"><img src=\"https://colab.research.google.com/assets/colab-badge.svg\" alt=\"Open In Colab\"/></a>"
      ]
    },
    {
      "cell_type": "code",
      "source": [
        "# Installs latest version of TensorFlow 2.X \n",
        "# !pip install --upgrade tensorflow"
      ],
      "metadata": {
        "id": "z8bP1saLoMap"
      },
      "execution_count": 93,
      "outputs": []
    },
    {
      "cell_type": "code",
      "execution_count": 94,
      "metadata": {
        "id": "JktWC-SkZS3n"
      },
      "outputs": [],
      "source": [
        "# Import our dependencies\n",
        "import os\n",
        "from sklearn.model_selection import train_test_split\n",
        "from sklearn.preprocessing import StandardScaler,OneHotEncoder\n",
        "import datetime\n",
        "from datetime import datetime\n",
        "import pandas as pd\n",
        "import matplotlib\n",
        "import matplotlib.pyplot as plt\n",
        "%matplotlib inline\n",
        "import sklearn as skl\n",
        "import tensorflow as tf"
      ]
    },
    {
      "cell_type": "code",
      "source": [
        "# Find the latest version of spark 3.0 from http://www.apache.org/dist/spark/ and enter as the spark version\n",
        "# For example:\n",
        "# spark_version = 'spark-3.0.3'\n",
        "spark_version = 'spark-3.2.2'\n",
        "os.environ['SPARK_VERSION']=spark_version\n",
        "\n",
        "# Install Spark and Java\n",
        "!apt-get update\n",
        "!apt-get install openjdk-11-jdk-headless -qq > /dev/null\n",
        "!wget -q http://www.apache.org/dist/spark/$SPARK_VERSION/$SPARK_VERSION-bin-hadoop2.7.tgz\n",
        "!tar xf $SPARK_VERSION-bin-hadoop2.7.tgz\n",
        "!pip install -q findspark\n",
        "\n",
        "# Set Environment Variables\n",
        "import os\n",
        "os.environ[\"JAVA_HOME\"] = \"/usr/lib/jvm/java-11-openjdk-amd64\"\n",
        "os.environ[\"SPARK_HOME\"] = f\"/content/{spark_version}-bin-hadoop2.7\"\n",
        "\n",
        "# Start a SparkSession\n",
        "import findspark\n",
        "findspark.init()"
      ],
      "metadata": {
        "colab": {
          "base_uri": "https://localhost:8080/"
        },
        "id": "Kiq6hp2xZYzr",
        "outputId": "f54b13dd-ea5f-4214-fd58-061f81e6b459"
      },
      "execution_count": 95,
      "outputs": [
        {
          "output_type": "stream",
          "name": "stdout",
          "text": [
            "Hit:1 https://cloud.r-project.org/bin/linux/ubuntu bionic-cran40/ InRelease\n",
            "Get:2 http://security.ubuntu.com/ubuntu bionic-security InRelease [88.7 kB]\n",
            "Ign:3 https://developer.download.nvidia.com/compute/machine-learning/repos/ubuntu1804/x86_64  InRelease\n",
            "Hit:4 https://developer.download.nvidia.com/compute/cuda/repos/ubuntu1804/x86_64  InRelease\n",
            "Hit:5 https://developer.download.nvidia.com/compute/machine-learning/repos/ubuntu1804/x86_64  Release\n",
            "Hit:6 http://archive.ubuntu.com/ubuntu bionic InRelease\n",
            "Get:7 http://archive.ubuntu.com/ubuntu bionic-updates InRelease [88.7 kB]\n",
            "Hit:8 http://ppa.launchpad.net/c2d4u.team/c2d4u4.0+/ubuntu bionic InRelease\n",
            "Hit:10 http://ppa.launchpad.net/cran/libgit2/ubuntu bionic InRelease\n",
            "Get:11 http://archive.ubuntu.com/ubuntu bionic-backports InRelease [74.6 kB]\n",
            "Hit:12 http://ppa.launchpad.net/deadsnakes/ppa/ubuntu bionic InRelease\n",
            "Hit:13 http://ppa.launchpad.net/graphics-drivers/ppa/ubuntu bionic InRelease\n",
            "Fetched 252 kB in 3s (89.5 kB/s)\n",
            "Reading package lists... Done\n"
          ]
        }
      ]
    },
    {
      "cell_type": "code",
      "source": [
        "# Add drivers to Spark\n",
        "from pyspark.sql import SparkSession\n",
        "spark = SparkSession.builder.appName(\"CloudETL\").config(\"spark.driver.extraClassPath\",\"/content/postgresql-42.2.16.jar\").getOrCreate()"
      ],
      "metadata": {
        "id": "ZBdMUWu8ZqH-"
      },
      "execution_count": 96,
      "outputs": []
    },
    {
      "cell_type": "code",
      "source": [
        "# Read in data from S3 Buckets\n",
        "from pyspark import SparkFiles\n",
        "url =\"https://uaresources.s3.us-west-1.amazonaws.com/sentiment_joined_events_twitter_post_ml.csv\"\n",
        "\n",
        "spark.sparkContext.addFile(url)\n",
        "text_df = spark.read.csv(SparkFiles.get(\"sentiment_joined_events_twitter_post_ml.csv\"), sep=\",\", header=True, inferSchema=True)\n",
        "\n",
        "\n",
        "# Show DataFrame\n",
        "text_df.show()"
      ],
      "metadata": {
        "colab": {
          "base_uri": "https://localhost:8080/"
        },
        "id": "ZIsuvuhQZsE-",
        "outputId": "8cafe303-f0a5-41cd-a43c-ceeb7d783ea5"
      },
      "execution_count": 97,
      "outputs": [
        {
          "output_type": "stream",
          "name": "stdout",
          "text": [
            "+---+---------------+---------+---------+-----------+-------------+--------------+------------+--------------------+--------+--------------+----------+---------------+-----------+----------+--------------+-------------+-------+--------------------+--------------------+--------------------+--------------------+\n",
            "|_c0|       username|following|followers|totaltweets|usercreatedts|tweetcreatedts|retweetcount|            hashtags|language|favorite_count|is_retweet|is_quote_status|extractedts|weekofyear|date_published|search_result| weight|        cleaned_text|            negative|             neutral|            positive|\n",
            "+---+---------------+---------+---------+-----------+-------------+--------------+------------+--------------------+--------+--------------+----------+---------------+-----------+----------+--------------+-------------+-------+--------------------+--------------------+--------------------+--------------------+\n",
            "|  0|      WashTimes|   1893.0| 417389.0|   335685.0|   2008-05-05|    2022-02-26|         0.0|[{'text': 'Ukrain...|      en|           0.0|      null|           null| 2022-02-26|       8.0|    2022-02-26|     106000.0|5.33E-4|democrats urge bi...|  0.2224726676940918|  0.7470845580101013|0.030442820861935616|\n",
            "|  1|      jacarroll|     64.0|    254.0|      110.0|   2008-01-07|    2022-02-26|         0.0|[{'text': 'StandW...|      en|           0.0|      null|           null| 2022-02-26|       8.0|    2022-02-26|     106000.0|5.33E-4|now is the time t...| 0.07832402735948563|  0.7999049425125122| 0.12177100032567978|\n",
            "|  2|          axelk|   5766.0|   5329.0|   119448.0|   2007-06-14|    2022-02-26|         4.0|                  []|      en|           0.0|      null|           null| 2022-02-26|       8.0|    2022-02-26|     106000.0|5.33E-4|just grasping at ...| 0.14749988913536072|  0.8244428634643555|0.028057189658284187|\n",
            "|  3|         ds2719|    294.0|    172.0|    15270.0|   2007-07-21|    2022-02-26|       894.0|                  []|      en|           0.0|      null|           null| 2022-02-26|       8.0|    2022-02-26|     106000.0|5.33E-4|this is huge russ...|  0.8839549422264099| 0.10992876440286636|0.006116343662142754|\n",
            "|  4|scholar_at_arms|    975.0|     75.0|     1988.0|   2008-09-26|    2022-02-26|         0.0|[{'text': 'KyivDe...|      en|           0.0|      null|           null| 2022-02-26|       8.0|    2022-02-26|     106000.0|5.33E-4|    please take care| 0.06343661993741989|  0.6434507369995117|  0.2931126654148102|\n",
            "|  5|         ronlin|   5055.0|  13180.0|    18953.0|   2008-04-22|    2022-02-26|        98.0|[{'text': 'Kyiv',...|      en|           0.0|      null|           null| 2022-02-26|       8.0|    2022-02-26|     106000.0|5.33E-4|     building hit in|  0.1364041119813919|  0.6727378368377686| 0.19085803627967834|\n",
            "|  6|        catmuir|    772.0|    161.0|     4843.0|   2006-12-06|    2022-02-26|      2407.0|                  []|      en|           0.0|      null|           null| 2022-02-26|       8.0|    2022-02-26|     106000.0|5.33E-4|faith in humanity...|0.002919120248407...|0.033193085342645645|  0.9638878703117371|\n",
            "|  7|        kimvais|    706.0|    262.0|     5145.0|   2008-04-25|    2022-02-26|        78.0|                  []|      en|           0.0|      null|           null| 2022-02-26|       8.0|    2022-02-26|     106000.0|5.33E-4|since finnish pol...| 0.11655925959348679|  0.8311118483543396| 0.05232888087630272|\n",
            "|  8|michpendergrass|    150.0|   1526.0|    30428.0|   2008-04-08|    2022-02-26|      4196.0|[{'text': 'Kyiv',...|      en|           0.0|      null|           null| 2022-02-26|       8.0|    2022-02-26|     106000.0|5.33E-4|in 60 mins will b...|  0.8187430500984192| 0.17362196743488312|0.007634981535375118|\n",
            "|  9|         ccc530|   1046.0|    172.0|    12741.0|   2008-07-20|    2022-02-26|         4.0|[{'text': 'Ukrain...|      en|           0.0|      null|           null| 2022-02-26|       8.0|    2022-02-26|     106000.0|5.33E-4|i cant wait for t...|0.007732528261840...| 0.02516697533428669|  0.9671004414558411|\n",
            "| 10|     dSebastien|    120.0|   1666.0|     9383.0|   2007-09-08|    2022-02-26|      9639.0|                  []|      en|           0.0|      null|           null| 2022-02-26|       8.0|    2022-02-26|     106000.0|5.33E-4|so ive been asked...|  0.3604144752025604|  0.6137970089912415|0.025788525119423866|\n",
            "| 11|       SaraSees|    174.0|    159.0|     1473.0|   2008-07-30|    2022-02-26|       567.0|[{'text': 'Ukrain...|      en|           0.0|      null|           null| 2022-02-26|       8.0|    2022-02-26|     106000.0|5.33E-4|      rip braveheart| 0.01728304848074913|  0.4310351014137268|  0.5516818761825562|\n",
            "| 12|      jacarroll|     64.0|    254.0|      111.0|   2008-01-07|    2022-02-26|         0.0|[{'text': 'Freedo...|      en|           0.0|      null|           null| 2022-02-26|       8.0|    2022-02-26|     106000.0|5.33E-4|wonder how all th...|  0.7072803974151611|  0.2759404182434082|0.016779163852334023|\n",
            "| 13| mistergrainger|    732.0|    355.0|     1925.0|   2008-04-28|    2022-02-26|       131.0|                  []|      en|           0.0|      null|           null| 2022-02-26|       8.0|    2022-02-26|     106000.0|5.33E-4|pr agency friends...| 0.17842553555965424|  0.6558187007904053| 0.16575568914413452|\n",
            "| 14|         Maartn|    762.0|  19633.0|    12984.0|   2008-12-14|    2022-02-26|      8194.0|[{'text': 'Russia...|      en|           0.0|      null|           null| 2022-02-26|       8.0|    2022-02-26|     106000.0|5.33E-4|just in state tv ...|  0.5507236123085022| 0.43690672516822815|0.012369711883366108|\n",
            "| 15|        0xKruzr|   1487.0|   3021.0|   234295.0|   2007-04-23|    2022-02-26|       336.0|[{'text': 'PutinH...|      en|           0.0|      null|           null| 2022-02-26|       8.0|    2022-02-26|     106000.0|5.33E-4|residential area ...| 0.21445541083812714|  0.7651109099388123|0.020433666184544563|\n",
            "| 16|    firejack007|   1085.0|    520.0|    56005.0|   2008-09-24|    2022-02-26|         6.0|[{'text': 'BREAKI...|      en|           0.0|      null|           null| 2022-02-26|       8.0|    2022-02-26|     106000.0|5.33E-4| mariupol is bein...|  0.6662042140960693|  0.3265540599822998|0.007241743616759777|\n",
            "| 17|       gcruchon|   1224.0|    778.0|     5130.0|   2008-08-23|    2022-02-26|         0.0|[{'text': 'Anonym...|      en|           0.0|      null|           null| 2022-02-26|       8.0|    2022-02-26|     106000.0|5.33E-4|so proud of  the ...|0.006055434700101614| 0.11299528181552887|  0.8809493184089661|\n",
            "| 18|      crazyintx|    801.0|    158.0|    12580.0|   2008-11-10|    2022-02-26|        63.0|[{'text': 'kyiv',...|      en|           0.0|      null|           null| 2022-02-26|       8.0|    2022-02-26|     106000.0|5.33E-4|air raid sirens  ...|  0.2825124263763428|  0.6869344711303711|0.030553089454770088|\n",
            "| 19|      proudmari|   1834.0|    517.0|    20397.0|   2008-03-20|    2022-02-26|      8996.0|[{'text': 'Ukrain...|      en|           0.0|      null|           null| 2022-02-26|       8.0|    2022-02-26|     106000.0|5.33E-4|russian state tv ...|  0.6606462597846985|  0.3296593129634857| 0.00969446450471878|\n",
            "+---+---------------+---------+---------+-----------+-------------+--------------+------------+--------------------+--------+--------------+----------+---------------+-----------+----------+--------------+-------------+-------+--------------------+--------------------+--------------------+--------------------+\n",
            "only showing top 20 rows\n",
            "\n"
          ]
        }
      ]
    },
    {
      "cell_type": "markdown",
      "source": [
        "# Exploring the taken data"
      ],
      "metadata": {
        "id": "JDL7G1xM8IGS"
      }
    },
    {
      "cell_type": "code",
      "source": [
        "# Convert DataFrame to Pandas\n",
        "joined_data_df = text_df.toPandas()\n",
        "print(joined_data_df.shape)\n",
        "joined_data_df.head(5)"
      ],
      "metadata": {
        "colab": {
          "base_uri": "https://localhost:8080/",
          "height": 552
        },
        "id": "uuT--9TCa9T2",
        "outputId": "bfb308ab-6ca1-4805-f139-2e20f73191a3"
      },
      "execution_count": 123,
      "outputs": [
        {
          "output_type": "stream",
          "name": "stdout",
          "text": [
            "(713009, 22)\n"
          ]
        },
        {
          "output_type": "execute_result",
          "data": {
            "text/plain": [
              "   _c0         username  following  followers  totaltweets usercreatedts  \\\n",
              "0    0        WashTimes     1893.0   417389.0     335685.0    2008-05-05   \n",
              "1    1        jacarroll       64.0      254.0        110.0    2008-01-07   \n",
              "2    2            axelk     5766.0     5329.0     119448.0    2007-06-14   \n",
              "3    3           ds2719      294.0      172.0      15270.0    2007-07-21   \n",
              "4    4  scholar_at_arms      975.0       75.0       1988.0    2008-09-26   \n",
              "\n",
              "  tweetcreatedts  retweetcount  \\\n",
              "0     2022-02-26           0.0   \n",
              "1     2022-02-26           0.0   \n",
              "2     2022-02-26           4.0   \n",
              "3     2022-02-26         894.0   \n",
              "4     2022-02-26           0.0   \n",
              "\n",
              "                                            hashtags language  ...  \\\n",
              "0  [{'text': 'UkraineCrisis', 'indices': [102, 11...       en  ...   \n",
              "1  [{'text': 'StandWithUkriane', 'indices': [58, ...       en  ...   \n",
              "2                                                 []       en  ...   \n",
              "3                                                 []       en  ...   \n",
              "4  [{'text': 'KyivDefiant', 'indices': [18, 30]},...       en  ...   \n",
              "\n",
              "   is_quote_status extractedts weekofyear date_published  search_result  \\\n",
              "0             None  2022-02-26        8.0     2022-02-26       106000.0   \n",
              "1             None  2022-02-26        8.0     2022-02-26       106000.0   \n",
              "2             None  2022-02-26        8.0     2022-02-26       106000.0   \n",
              "3             None  2022-02-26        8.0     2022-02-26       106000.0   \n",
              "4             None  2022-02-26        8.0     2022-02-26       106000.0   \n",
              "\n",
              "     weight                                       cleaned_text  negative  \\\n",
              "0  0.000533  democrats urge biden to counter pain at pump w...  0.222473   \n",
              "1  0.000533           now is the time to annex cuba just sayin  0.078324   \n",
              "2  0.000533  just grasping at straws here but does anyone h...  0.147500   \n",
              "3  0.000533  this is huge russia will be expelled from the ...  0.883955   \n",
              "4  0.000533                                   please take care  0.063437   \n",
              "\n",
              "    neutral  positive  \n",
              "0  0.747085  0.030443  \n",
              "1  0.799905  0.121771  \n",
              "2  0.824443  0.028057  \n",
              "3  0.109929  0.006116  \n",
              "4  0.643451  0.293113  \n",
              "\n",
              "[5 rows x 22 columns]"
            ],
            "text/html": [
              "\n",
              "  <div id=\"df-5872521a-f107-4dd5-a0b1-326dbe831bb5\">\n",
              "    <div class=\"colab-df-container\">\n",
              "      <div>\n",
              "<style scoped>\n",
              "    .dataframe tbody tr th:only-of-type {\n",
              "        vertical-align: middle;\n",
              "    }\n",
              "\n",
              "    .dataframe tbody tr th {\n",
              "        vertical-align: top;\n",
              "    }\n",
              "\n",
              "    .dataframe thead th {\n",
              "        text-align: right;\n",
              "    }\n",
              "</style>\n",
              "<table border=\"1\" class=\"dataframe\">\n",
              "  <thead>\n",
              "    <tr style=\"text-align: right;\">\n",
              "      <th></th>\n",
              "      <th>_c0</th>\n",
              "      <th>username</th>\n",
              "      <th>following</th>\n",
              "      <th>followers</th>\n",
              "      <th>totaltweets</th>\n",
              "      <th>usercreatedts</th>\n",
              "      <th>tweetcreatedts</th>\n",
              "      <th>retweetcount</th>\n",
              "      <th>hashtags</th>\n",
              "      <th>language</th>\n",
              "      <th>...</th>\n",
              "      <th>is_quote_status</th>\n",
              "      <th>extractedts</th>\n",
              "      <th>weekofyear</th>\n",
              "      <th>date_published</th>\n",
              "      <th>search_result</th>\n",
              "      <th>weight</th>\n",
              "      <th>cleaned_text</th>\n",
              "      <th>negative</th>\n",
              "      <th>neutral</th>\n",
              "      <th>positive</th>\n",
              "    </tr>\n",
              "  </thead>\n",
              "  <tbody>\n",
              "    <tr>\n",
              "      <th>0</th>\n",
              "      <td>0</td>\n",
              "      <td>WashTimes</td>\n",
              "      <td>1893.0</td>\n",
              "      <td>417389.0</td>\n",
              "      <td>335685.0</td>\n",
              "      <td>2008-05-05</td>\n",
              "      <td>2022-02-26</td>\n",
              "      <td>0.0</td>\n",
              "      <td>[{'text': 'UkraineCrisis', 'indices': [102, 11...</td>\n",
              "      <td>en</td>\n",
              "      <td>...</td>\n",
              "      <td>None</td>\n",
              "      <td>2022-02-26</td>\n",
              "      <td>8.0</td>\n",
              "      <td>2022-02-26</td>\n",
              "      <td>106000.0</td>\n",
              "      <td>0.000533</td>\n",
              "      <td>democrats urge biden to counter pain at pump w...</td>\n",
              "      <td>0.222473</td>\n",
              "      <td>0.747085</td>\n",
              "      <td>0.030443</td>\n",
              "    </tr>\n",
              "    <tr>\n",
              "      <th>1</th>\n",
              "      <td>1</td>\n",
              "      <td>jacarroll</td>\n",
              "      <td>64.0</td>\n",
              "      <td>254.0</td>\n",
              "      <td>110.0</td>\n",
              "      <td>2008-01-07</td>\n",
              "      <td>2022-02-26</td>\n",
              "      <td>0.0</td>\n",
              "      <td>[{'text': 'StandWithUkriane', 'indices': [58, ...</td>\n",
              "      <td>en</td>\n",
              "      <td>...</td>\n",
              "      <td>None</td>\n",
              "      <td>2022-02-26</td>\n",
              "      <td>8.0</td>\n",
              "      <td>2022-02-26</td>\n",
              "      <td>106000.0</td>\n",
              "      <td>0.000533</td>\n",
              "      <td>now is the time to annex cuba just sayin</td>\n",
              "      <td>0.078324</td>\n",
              "      <td>0.799905</td>\n",
              "      <td>0.121771</td>\n",
              "    </tr>\n",
              "    <tr>\n",
              "      <th>2</th>\n",
              "      <td>2</td>\n",
              "      <td>axelk</td>\n",
              "      <td>5766.0</td>\n",
              "      <td>5329.0</td>\n",
              "      <td>119448.0</td>\n",
              "      <td>2007-06-14</td>\n",
              "      <td>2022-02-26</td>\n",
              "      <td>4.0</td>\n",
              "      <td>[]</td>\n",
              "      <td>en</td>\n",
              "      <td>...</td>\n",
              "      <td>None</td>\n",
              "      <td>2022-02-26</td>\n",
              "      <td>8.0</td>\n",
              "      <td>2022-02-26</td>\n",
              "      <td>106000.0</td>\n",
              "      <td>0.000533</td>\n",
              "      <td>just grasping at straws here but does anyone h...</td>\n",
              "      <td>0.147500</td>\n",
              "      <td>0.824443</td>\n",
              "      <td>0.028057</td>\n",
              "    </tr>\n",
              "    <tr>\n",
              "      <th>3</th>\n",
              "      <td>3</td>\n",
              "      <td>ds2719</td>\n",
              "      <td>294.0</td>\n",
              "      <td>172.0</td>\n",
              "      <td>15270.0</td>\n",
              "      <td>2007-07-21</td>\n",
              "      <td>2022-02-26</td>\n",
              "      <td>894.0</td>\n",
              "      <td>[]</td>\n",
              "      <td>en</td>\n",
              "      <td>...</td>\n",
              "      <td>None</td>\n",
              "      <td>2022-02-26</td>\n",
              "      <td>8.0</td>\n",
              "      <td>2022-02-26</td>\n",
              "      <td>106000.0</td>\n",
              "      <td>0.000533</td>\n",
              "      <td>this is huge russia will be expelled from the ...</td>\n",
              "      <td>0.883955</td>\n",
              "      <td>0.109929</td>\n",
              "      <td>0.006116</td>\n",
              "    </tr>\n",
              "    <tr>\n",
              "      <th>4</th>\n",
              "      <td>4</td>\n",
              "      <td>scholar_at_arms</td>\n",
              "      <td>975.0</td>\n",
              "      <td>75.0</td>\n",
              "      <td>1988.0</td>\n",
              "      <td>2008-09-26</td>\n",
              "      <td>2022-02-26</td>\n",
              "      <td>0.0</td>\n",
              "      <td>[{'text': 'KyivDefiant', 'indices': [18, 30]},...</td>\n",
              "      <td>en</td>\n",
              "      <td>...</td>\n",
              "      <td>None</td>\n",
              "      <td>2022-02-26</td>\n",
              "      <td>8.0</td>\n",
              "      <td>2022-02-26</td>\n",
              "      <td>106000.0</td>\n",
              "      <td>0.000533</td>\n",
              "      <td>please take care</td>\n",
              "      <td>0.063437</td>\n",
              "      <td>0.643451</td>\n",
              "      <td>0.293113</td>\n",
              "    </tr>\n",
              "  </tbody>\n",
              "</table>\n",
              "<p>5 rows × 22 columns</p>\n",
              "</div>\n",
              "      <button class=\"colab-df-convert\" onclick=\"convertToInteractive('df-5872521a-f107-4dd5-a0b1-326dbe831bb5')\"\n",
              "              title=\"Convert this dataframe to an interactive table.\"\n",
              "              style=\"display:none;\">\n",
              "        \n",
              "  <svg xmlns=\"http://www.w3.org/2000/svg\" height=\"24px\"viewBox=\"0 0 24 24\"\n",
              "       width=\"24px\">\n",
              "    <path d=\"M0 0h24v24H0V0z\" fill=\"none\"/>\n",
              "    <path d=\"M18.56 5.44l.94 2.06.94-2.06 2.06-.94-2.06-.94-.94-2.06-.94 2.06-2.06.94zm-11 1L8.5 8.5l.94-2.06 2.06-.94-2.06-.94L8.5 2.5l-.94 2.06-2.06.94zm10 10l.94 2.06.94-2.06 2.06-.94-2.06-.94-.94-2.06-.94 2.06-2.06.94z\"/><path d=\"M17.41 7.96l-1.37-1.37c-.4-.4-.92-.59-1.43-.59-.52 0-1.04.2-1.43.59L10.3 9.45l-7.72 7.72c-.78.78-.78 2.05 0 2.83L4 21.41c.39.39.9.59 1.41.59.51 0 1.02-.2 1.41-.59l7.78-7.78 2.81-2.81c.8-.78.8-2.07 0-2.86zM5.41 20L4 18.59l7.72-7.72 1.47 1.35L5.41 20z\"/>\n",
              "  </svg>\n",
              "      </button>\n",
              "      \n",
              "  <style>\n",
              "    .colab-df-container {\n",
              "      display:flex;\n",
              "      flex-wrap:wrap;\n",
              "      gap: 12px;\n",
              "    }\n",
              "\n",
              "    .colab-df-convert {\n",
              "      background-color: #E8F0FE;\n",
              "      border: none;\n",
              "      border-radius: 50%;\n",
              "      cursor: pointer;\n",
              "      display: none;\n",
              "      fill: #1967D2;\n",
              "      height: 32px;\n",
              "      padding: 0 0 0 0;\n",
              "      width: 32px;\n",
              "    }\n",
              "\n",
              "    .colab-df-convert:hover {\n",
              "      background-color: #E2EBFA;\n",
              "      box-shadow: 0px 1px 2px rgba(60, 64, 67, 0.3), 0px 1px 3px 1px rgba(60, 64, 67, 0.15);\n",
              "      fill: #174EA6;\n",
              "    }\n",
              "\n",
              "    [theme=dark] .colab-df-convert {\n",
              "      background-color: #3B4455;\n",
              "      fill: #D2E3FC;\n",
              "    }\n",
              "\n",
              "    [theme=dark] .colab-df-convert:hover {\n",
              "      background-color: #434B5C;\n",
              "      box-shadow: 0px 1px 3px 1px rgba(0, 0, 0, 0.15);\n",
              "      filter: drop-shadow(0px 1px 2px rgba(0, 0, 0, 0.3));\n",
              "      fill: #FFFFFF;\n",
              "    }\n",
              "  </style>\n",
              "\n",
              "      <script>\n",
              "        const buttonEl =\n",
              "          document.querySelector('#df-5872521a-f107-4dd5-a0b1-326dbe831bb5 button.colab-df-convert');\n",
              "        buttonEl.style.display =\n",
              "          google.colab.kernel.accessAllowed ? 'block' : 'none';\n",
              "\n",
              "        async function convertToInteractive(key) {\n",
              "          const element = document.querySelector('#df-5872521a-f107-4dd5-a0b1-326dbe831bb5');\n",
              "          const dataTable =\n",
              "            await google.colab.kernel.invokeFunction('convertToInteractive',\n",
              "                                                     [key], {});\n",
              "          if (!dataTable) return;\n",
              "\n",
              "          const docLinkHtml = 'Like what you see? Visit the ' +\n",
              "            '<a target=\"_blank\" href=https://colab.research.google.com/notebooks/data_table.ipynb>data table notebook</a>'\n",
              "            + ' to learn more about interactive tables.';\n",
              "          element.innerHTML = '';\n",
              "          dataTable['output_type'] = 'display_data';\n",
              "          await google.colab.output.renderOutput(dataTable, element);\n",
              "          const docLink = document.createElement('div');\n",
              "          docLink.innerHTML = docLinkHtml;\n",
              "          element.appendChild(docLink);\n",
              "        }\n",
              "      </script>\n",
              "    </div>\n",
              "  </div>\n",
              "  "
            ]
          },
          "metadata": {},
          "execution_count": 123
        }
      ]
    },
    {
      "cell_type": "code",
      "source": [
        "# Change the dtypes of tweetcreatedts\n",
        "joined_data_df[\"tweetcreatedts\"] = pd.to_datetime(joined_data_df[\"tweetcreatedts\"])\n",
        "print (joined_data_df[\"tweetcreatedts\"])"
      ],
      "metadata": {
        "colab": {
          "base_uri": "https://localhost:8080/"
        },
        "id": "KcLjIUlU7poR",
        "outputId": "a8a75981-69f0-40ea-d2a4-c1cf208b5c7e"
      },
      "execution_count": 124,
      "outputs": [
        {
          "output_type": "stream",
          "name": "stdout",
          "text": [
            "0        2022-02-26\n",
            "1        2022-02-26\n",
            "2        2022-02-26\n",
            "3        2022-02-26\n",
            "4        2022-02-26\n",
            "            ...    \n",
            "713004   2022-02-26\n",
            "713005   2022-02-26\n",
            "713006   2022-02-26\n",
            "713007   2022-02-26\n",
            "713008          NaT\n",
            "Name: tweetcreatedts, Length: 713009, dtype: datetime64[ns]\n"
          ]
        }
      ]
    },
    {
      "cell_type": "code",
      "source": [
        "# drop the row with NaT values in the tweetcreatedts column\n",
        "joined_data_df = joined_data_df.dropna(axis=0, subset=['tweetcreatedts']) \n",
        "joined_data_df.shape"
      ],
      "metadata": {
        "colab": {
          "base_uri": "https://localhost:8080/"
        },
        "id": "z8WXYo_CzQ8c",
        "outputId": "4d9ed9d4-c114-4487-a28e-2dbec4a3b0a8"
      },
      "execution_count": 125,
      "outputs": [
        {
          "output_type": "execute_result",
          "data": {
            "text/plain": [
              "(713008, 22)"
            ]
          },
          "metadata": {},
          "execution_count": 125
        }
      ]
    },
    {
      "cell_type": "markdown",
      "source": [
        "# Cleaning data"
      ],
      "metadata": {
        "id": "wNka_8io7eK4"
      }
    },
    {
      "cell_type": "code",
      "source": [
        "# Drop the not needed column\n",
        "joined_data_df.drop(\"_c0\", axis=1, inplace=True)\n",
        "joined_data_df.drop(\"username\", axis=1, inplace=True)\n",
        "joined_data_df.drop(\"usercreatedts\", axis=1, inplace=True)\n",
        "joined_data_df.drop(\"language\", axis=1, inplace=True)\n",
        "#joined_data_df.drop(\"favorite_count\", axis=1, inplace=True)\n",
        "joined_data_df.drop(\"extractedts\", axis=1, inplace=True)\n",
        "joined_data_df.drop(\"weekofyear\", axis=1, inplace=True)\n",
        "joined_data_df.drop(\"neutral\", axis=1, inplace=True)\n",
        "joined_data_df.drop(\"positive\", axis=1, inplace=True)\n",
        "joined_data_df.drop(\"search_result\", axis=1, inplace=True)\n",
        "joined_data_df.drop(\"retweetcount\", axis=1, inplace=True)\n",
        "joined_data_df.drop(\"date_published\", axis=1, inplace=True)"
      ],
      "metadata": {
        "id": "Paw4rJh8fh3T"
      },
      "execution_count": 126,
      "outputs": []
    },
    {
      "cell_type": "code",
      "source": [
        "# convert text to text lenght and drop the text\n",
        "joined_data_df['text_length']  = joined_data_df['cleaned_text'].str.len()\n",
        "joined_data_df.drop(\"cleaned_text\", axis=1, inplace=True)"
      ],
      "metadata": {
        "id": "yq-FCG7WGZzO"
      },
      "execution_count": 127,
      "outputs": []
    },
    {
      "cell_type": "code",
      "source": [
        "# Change object type to boolean for columns 'is_retweet' and 'is_quote_status'\n",
        "joined_data_df[\"is_retweet\"] = joined_data_df['is_retweet'].astype(bool)\n",
        "joined_data_df[\"is_quote_status\"] = joined_data_df['is_quote_status'].astype(bool)\n",
        "# Replace boolean columns\n",
        "joined_data_df['is_retweet'] = joined_data_df['is_retweet'].astype(int)\n",
        "joined_data_df['is_quote_status'] = joined_data_df['is_quote_status'].astype(int)\n",
        "joined_data_df.head()"
      ],
      "metadata": {
        "colab": {
          "base_uri": "https://localhost:8080/",
          "height": 299
        },
        "id": "auxPHymHGfed",
        "outputId": "6bedb072-10b5-4ac8-bb6d-287f6fffc079"
      },
      "execution_count": 128,
      "outputs": [
        {
          "output_type": "execute_result",
          "data": {
            "text/plain": [
              "   following  followers  totaltweets tweetcreatedts  \\\n",
              "0     1893.0   417389.0     335685.0     2022-02-26   \n",
              "1       64.0      254.0        110.0     2022-02-26   \n",
              "2     5766.0     5329.0     119448.0     2022-02-26   \n",
              "3      294.0      172.0      15270.0     2022-02-26   \n",
              "4      975.0       75.0       1988.0     2022-02-26   \n",
              "\n",
              "                                            hashtags  favorite_count  \\\n",
              "0  [{'text': 'UkraineCrisis', 'indices': [102, 11...             0.0   \n",
              "1  [{'text': 'StandWithUkriane', 'indices': [58, ...             0.0   \n",
              "2                                                 []             0.0   \n",
              "3                                                 []             0.0   \n",
              "4  [{'text': 'KyivDefiant', 'indices': [18, 30]},...             0.0   \n",
              "\n",
              "   is_retweet  is_quote_status    weight  negative  text_length  \n",
              "0           0                0  0.000533  0.222473         77.0  \n",
              "1           0                0  0.000533  0.078324         40.0  \n",
              "2           0                0  0.000533  0.147500        138.0  \n",
              "3           0                0  0.000533  0.883955        220.0  \n",
              "4           0                0  0.000533  0.063437         16.0  "
            ],
            "text/html": [
              "\n",
              "  <div id=\"df-b706b34d-92b9-486a-8aee-ac84f7c752a7\">\n",
              "    <div class=\"colab-df-container\">\n",
              "      <div>\n",
              "<style scoped>\n",
              "    .dataframe tbody tr th:only-of-type {\n",
              "        vertical-align: middle;\n",
              "    }\n",
              "\n",
              "    .dataframe tbody tr th {\n",
              "        vertical-align: top;\n",
              "    }\n",
              "\n",
              "    .dataframe thead th {\n",
              "        text-align: right;\n",
              "    }\n",
              "</style>\n",
              "<table border=\"1\" class=\"dataframe\">\n",
              "  <thead>\n",
              "    <tr style=\"text-align: right;\">\n",
              "      <th></th>\n",
              "      <th>following</th>\n",
              "      <th>followers</th>\n",
              "      <th>totaltweets</th>\n",
              "      <th>tweetcreatedts</th>\n",
              "      <th>hashtags</th>\n",
              "      <th>favorite_count</th>\n",
              "      <th>is_retweet</th>\n",
              "      <th>is_quote_status</th>\n",
              "      <th>weight</th>\n",
              "      <th>negative</th>\n",
              "      <th>text_length</th>\n",
              "    </tr>\n",
              "  </thead>\n",
              "  <tbody>\n",
              "    <tr>\n",
              "      <th>0</th>\n",
              "      <td>1893.0</td>\n",
              "      <td>417389.0</td>\n",
              "      <td>335685.0</td>\n",
              "      <td>2022-02-26</td>\n",
              "      <td>[{'text': 'UkraineCrisis', 'indices': [102, 11...</td>\n",
              "      <td>0.0</td>\n",
              "      <td>0</td>\n",
              "      <td>0</td>\n",
              "      <td>0.000533</td>\n",
              "      <td>0.222473</td>\n",
              "      <td>77.0</td>\n",
              "    </tr>\n",
              "    <tr>\n",
              "      <th>1</th>\n",
              "      <td>64.0</td>\n",
              "      <td>254.0</td>\n",
              "      <td>110.0</td>\n",
              "      <td>2022-02-26</td>\n",
              "      <td>[{'text': 'StandWithUkriane', 'indices': [58, ...</td>\n",
              "      <td>0.0</td>\n",
              "      <td>0</td>\n",
              "      <td>0</td>\n",
              "      <td>0.000533</td>\n",
              "      <td>0.078324</td>\n",
              "      <td>40.0</td>\n",
              "    </tr>\n",
              "    <tr>\n",
              "      <th>2</th>\n",
              "      <td>5766.0</td>\n",
              "      <td>5329.0</td>\n",
              "      <td>119448.0</td>\n",
              "      <td>2022-02-26</td>\n",
              "      <td>[]</td>\n",
              "      <td>0.0</td>\n",
              "      <td>0</td>\n",
              "      <td>0</td>\n",
              "      <td>0.000533</td>\n",
              "      <td>0.147500</td>\n",
              "      <td>138.0</td>\n",
              "    </tr>\n",
              "    <tr>\n",
              "      <th>3</th>\n",
              "      <td>294.0</td>\n",
              "      <td>172.0</td>\n",
              "      <td>15270.0</td>\n",
              "      <td>2022-02-26</td>\n",
              "      <td>[]</td>\n",
              "      <td>0.0</td>\n",
              "      <td>0</td>\n",
              "      <td>0</td>\n",
              "      <td>0.000533</td>\n",
              "      <td>0.883955</td>\n",
              "      <td>220.0</td>\n",
              "    </tr>\n",
              "    <tr>\n",
              "      <th>4</th>\n",
              "      <td>975.0</td>\n",
              "      <td>75.0</td>\n",
              "      <td>1988.0</td>\n",
              "      <td>2022-02-26</td>\n",
              "      <td>[{'text': 'KyivDefiant', 'indices': [18, 30]},...</td>\n",
              "      <td>0.0</td>\n",
              "      <td>0</td>\n",
              "      <td>0</td>\n",
              "      <td>0.000533</td>\n",
              "      <td>0.063437</td>\n",
              "      <td>16.0</td>\n",
              "    </tr>\n",
              "  </tbody>\n",
              "</table>\n",
              "</div>\n",
              "      <button class=\"colab-df-convert\" onclick=\"convertToInteractive('df-b706b34d-92b9-486a-8aee-ac84f7c752a7')\"\n",
              "              title=\"Convert this dataframe to an interactive table.\"\n",
              "              style=\"display:none;\">\n",
              "        \n",
              "  <svg xmlns=\"http://www.w3.org/2000/svg\" height=\"24px\"viewBox=\"0 0 24 24\"\n",
              "       width=\"24px\">\n",
              "    <path d=\"M0 0h24v24H0V0z\" fill=\"none\"/>\n",
              "    <path d=\"M18.56 5.44l.94 2.06.94-2.06 2.06-.94-2.06-.94-.94-2.06-.94 2.06-2.06.94zm-11 1L8.5 8.5l.94-2.06 2.06-.94-2.06-.94L8.5 2.5l-.94 2.06-2.06.94zm10 10l.94 2.06.94-2.06 2.06-.94-2.06-.94-.94-2.06-.94 2.06-2.06.94z\"/><path d=\"M17.41 7.96l-1.37-1.37c-.4-.4-.92-.59-1.43-.59-.52 0-1.04.2-1.43.59L10.3 9.45l-7.72 7.72c-.78.78-.78 2.05 0 2.83L4 21.41c.39.39.9.59 1.41.59.51 0 1.02-.2 1.41-.59l7.78-7.78 2.81-2.81c.8-.78.8-2.07 0-2.86zM5.41 20L4 18.59l7.72-7.72 1.47 1.35L5.41 20z\"/>\n",
              "  </svg>\n",
              "      </button>\n",
              "      \n",
              "  <style>\n",
              "    .colab-df-container {\n",
              "      display:flex;\n",
              "      flex-wrap:wrap;\n",
              "      gap: 12px;\n",
              "    }\n",
              "\n",
              "    .colab-df-convert {\n",
              "      background-color: #E8F0FE;\n",
              "      border: none;\n",
              "      border-radius: 50%;\n",
              "      cursor: pointer;\n",
              "      display: none;\n",
              "      fill: #1967D2;\n",
              "      height: 32px;\n",
              "      padding: 0 0 0 0;\n",
              "      width: 32px;\n",
              "    }\n",
              "\n",
              "    .colab-df-convert:hover {\n",
              "      background-color: #E2EBFA;\n",
              "      box-shadow: 0px 1px 2px rgba(60, 64, 67, 0.3), 0px 1px 3px 1px rgba(60, 64, 67, 0.15);\n",
              "      fill: #174EA6;\n",
              "    }\n",
              "\n",
              "    [theme=dark] .colab-df-convert {\n",
              "      background-color: #3B4455;\n",
              "      fill: #D2E3FC;\n",
              "    }\n",
              "\n",
              "    [theme=dark] .colab-df-convert:hover {\n",
              "      background-color: #434B5C;\n",
              "      box-shadow: 0px 1px 3px 1px rgba(0, 0, 0, 0.15);\n",
              "      filter: drop-shadow(0px 1px 2px rgba(0, 0, 0, 0.3));\n",
              "      fill: #FFFFFF;\n",
              "    }\n",
              "  </style>\n",
              "\n",
              "      <script>\n",
              "        const buttonEl =\n",
              "          document.querySelector('#df-b706b34d-92b9-486a-8aee-ac84f7c752a7 button.colab-df-convert');\n",
              "        buttonEl.style.display =\n",
              "          google.colab.kernel.accessAllowed ? 'block' : 'none';\n",
              "\n",
              "        async function convertToInteractive(key) {\n",
              "          const element = document.querySelector('#df-b706b34d-92b9-486a-8aee-ac84f7c752a7');\n",
              "          const dataTable =\n",
              "            await google.colab.kernel.invokeFunction('convertToInteractive',\n",
              "                                                     [key], {});\n",
              "          if (!dataTable) return;\n",
              "\n",
              "          const docLinkHtml = 'Like what you see? Visit the ' +\n",
              "            '<a target=\"_blank\" href=https://colab.research.google.com/notebooks/data_table.ipynb>data table notebook</a>'\n",
              "            + ' to learn more about interactive tables.';\n",
              "          element.innerHTML = '';\n",
              "          dataTable['output_type'] = 'display_data';\n",
              "          await google.colab.output.renderOutput(dataTable, element);\n",
              "          const docLink = document.createElement('div');\n",
              "          docLink.innerHTML = docLinkHtml;\n",
              "          element.appendChild(docLink);\n",
              "        }\n",
              "      </script>\n",
              "    </div>\n",
              "  </div>\n",
              "  "
            ]
          },
          "metadata": {},
          "execution_count": 128
        }
      ]
    },
    {
      "cell_type": "markdown",
      "source": [
        "# Exploring the hashtags"
      ],
      "metadata": {
        "id": "ftR_uilW2S1E"
      }
    },
    {
      "cell_type": "code",
      "source": [
        "# Check data types\n",
        "joined_data_df.info()"
      ],
      "metadata": {
        "colab": {
          "base_uri": "https://localhost:8080/"
        },
        "id": "l0WxR-SuJArU",
        "outputId": "9db3d2e6-a904-41fd-a118-7248eb79a8b7"
      },
      "execution_count": 129,
      "outputs": [
        {
          "output_type": "stream",
          "name": "stdout",
          "text": [
            "<class 'pandas.core.frame.DataFrame'>\n",
            "Int64Index: 713008 entries, 0 to 713007\n",
            "Data columns (total 11 columns):\n",
            " #   Column           Non-Null Count   Dtype         \n",
            "---  ------           --------------   -----         \n",
            " 0   following        713008 non-null  float64       \n",
            " 1   followers        713008 non-null  float64       \n",
            " 2   totaltweets      713008 non-null  float64       \n",
            " 3   tweetcreatedts   713008 non-null  datetime64[ns]\n",
            " 4   hashtags         713008 non-null  object        \n",
            " 5   favorite_count   713008 non-null  float64       \n",
            " 6   is_retweet       713008 non-null  int64         \n",
            " 7   is_quote_status  713008 non-null  int64         \n",
            " 8   weight           710366 non-null  float64       \n",
            " 9   negative         713008 non-null  float64       \n",
            " 10  text_length      712997 non-null  float64       \n",
            "dtypes: datetime64[ns](1), float64(7), int64(2), object(1)\n",
            "memory usage: 65.3+ MB\n"
          ]
        }
      ]
    },
    {
      "cell_type": "code",
      "source": [
        "# Find the top 20 hashtags by frequency\n",
        "plt.figure(figsize=(10,5))\n",
        "joined_data_df[\"hashtags\"].value_counts().sort_values(ascending=True)[-20:].plot.barh();\n",
        "plt.title(\"Top 20 hashtags by  Frequency\")\n",
        "plt.xlabel(\"Hashtag Frequency\")\n",
        "plt.ylabel(\"Hashtags\")\n",
        "plt.xticks(rotation=90)\n",
        "plt.yticks(rotation=0)\n",
        "plt.show()\n",
        "plt.show()"
      ],
      "metadata": {
        "colab": {
          "base_uri": "https://localhost:8080/",
          "height": 372
        },
        "id": "Detf-i56LBgP",
        "outputId": "1525daf6-8c5b-4f4b-9ac8-95b5378e63e9"
      },
      "execution_count": 130,
      "outputs": [
        {
          "output_type": "display_data",
          "data": {
            "text/plain": [
              "<Figure size 720x360 with 1 Axes>"
            ],
            "image/png": "[encoded data removed]"
          },
          "metadata": {
            "needs_background": "light"
          }
        }
      ]
    },
    {
      "cell_type": "code",
      "source": [
        "# Lowercase everything\n",
        "joined_data_df[\"hashtags\"] = joined_data_df[\"hashtags\"].str.lower()"
      ],
      "metadata": {
        "id": "gvITv201JoZx"
      },
      "execution_count": 132,
      "outputs": []
    },
    {
      "cell_type": "code",
      "source": [
        "# Delete unnesessary signs\n",
        "joined_data_df[\"hashtags\"] = joined_data_df[\"hashtags\"].str.replace(\"[0-9]\", \"\")\n",
        "joined_data_df[\"hashtags\"] = joined_data_df[\"hashtags\"].str.replace(\"text\", \"\")\n",
        "joined_data_df[\"hashtags\"] = joined_data_df[\"hashtags\"].str.replace(\"indices\", \"\")\n",
        "joined_data_df[\"hashtags\"] = joined_data_df[\"hashtags\"].str.replace(\"\\W\", \"\")\n",
        "\n",
        "joined_data_df[\"hashtags\"].value_counts()"
      ],
      "metadata": {
        "colab": {
          "base_uri": "https://localhost:8080/"
        },
        "id": "3BpBge7RH35R",
        "outputId": "72d4f60f-4358-487a-c38d-b80b90dddd27"
      },
      "execution_count": 133,
      "outputs": [
        {
          "output_type": "stream",
          "name": "stderr",
          "text": [
            "/usr/local/lib/python3.7/dist-packages/ipykernel_launcher.py:2: FutureWarning: The default value of regex will change from True to False in a future version.\n",
            "  \n",
            "/usr/local/lib/python3.7/dist-packages/ipykernel_launcher.py:5: FutureWarning: The default value of regex will change from True to False in a future version.\n",
            "  \"\"\"\n"
          ]
        },
        {
          "output_type": "execute_result",
          "data": {
            "text/plain": [
              "                                                                             108312\n",
              "ukraine                                                                       88981\n",
              "russia                                                                        20550\n",
              "mariupol                                                                      14395\n",
              "standwithukraine                                                              13391\n",
              "                                                                              ...  \n",
              "chemicalweaponsuaenatousa                                                         1\n",
              "putinswarcrimesputinpropagandawarcrimesrussianwarcrimesstandwithukraine           1\n",
              "jpmorganceoannualletterheretakeawayscovideconomyinflationukraineeconomics         1\n",
              "nowarstopputinstopputinnow                                                        1\n",
              "ukraniarussiarussiaukraineconflictukrainerussiawar                                1\n",
              "Name: hashtags, Length: 136805, dtype: int64"
            ]
          },
          "metadata": {},
          "execution_count": 133
        }
      ]
    },
    {
      "cell_type": "code",
      "source": [
        "# Find the top 20 hashtags by frequency\n",
        "plt.figure(figsize=(10,5))\n",
        "joined_data_df[\"hashtags\"].value_counts().sort_values(ascending=True)[-20:].plot.barh();\n",
        "plt.title(\"Top 20 hashtags by  Frequency\")\n",
        "plt.xlabel(\"Hashtag Frequency\")\n",
        "plt.ylabel(\"Hashtags\")\n",
        "plt.xticks(rotation=90)\n",
        "plt.yticks(rotation=0)\n",
        "plt.show()\n",
        "plt.show()"
      ],
      "metadata": {
        "colab": {
          "base_uri": "https://localhost:8080/",
          "height": 377
        },
        "id": "z-Vu6NjpM6dv",
        "outputId": "75bb209e-9b67-4d94-a03f-841d4cbfc388"
      },
      "execution_count": 134,
      "outputs": [
        {
          "output_type": "display_data",
          "data": {
            "text/plain": [
              "<Figure size 720x360 with 1 Axes>"
            ],
            "image/png": "[encoded data removed]"
          },
          "metadata": {
            "needs_background": "light"
          }
        }
      ]
    },
    {
      "cell_type": "code",
      "source": [
        "joined_data_df[\"hashtags\"].nunique()"
      ],
      "metadata": {
        "colab": {
          "base_uri": "https://localhost:8080/"
        },
        "id": "G_8t_wXmQcT-",
        "outputId": "c72913d3-b096-4ead-9925-8bbfa3427818"
      },
      "execution_count": 135,
      "outputs": [
        {
          "output_type": "execute_result",
          "data": {
            "text/plain": [
              "136805"
            ]
          },
          "metadata": {},
          "execution_count": 135
        }
      ]
    },
    {
      "cell_type": "code",
      "source": [
        "from sklearn.preprocessing import LabelEncoder\n",
        "le = LabelEncoder()\n",
        "joined_data_df = joined_data_df.copy()\n",
        "joined_data_df['hashtags'] = le.fit_transform(joined_data_df['hashtags'])\n",
        "joined_data_df.head()"
      ],
      "metadata": {
        "colab": {
          "base_uri": "https://localhost:8080/",
          "height": 204
        },
        "id": "ZU1C5Wpllq4r",
        "outputId": "d16b2b87-2c93-4bce-8718-5a880daeade4"
      },
      "execution_count": 136,
      "outputs": [
        {
          "output_type": "execute_result",
          "data": {
            "text/plain": [
              "   following  followers  totaltweets tweetcreatedts  hashtags  favorite_count  \\\n",
              "0     1893.0   417389.0     335685.0     2022-02-26    108176             0.0   \n",
              "1       64.0      254.0        110.0     2022-02-26     97752             0.0   \n",
              "2     5766.0     5329.0     119448.0     2022-02-26         0             0.0   \n",
              "3      294.0      172.0      15270.0     2022-02-26         0             0.0   \n",
              "4      975.0       75.0       1988.0     2022-02-26     45096             0.0   \n",
              "\n",
              "   is_retweet  is_quote_status    weight  negative  text_length  \n",
              "0           0                0  0.000533  0.222473         77.0  \n",
              "1           0                0  0.000533  0.078324         40.0  \n",
              "2           0                0  0.000533  0.147500        138.0  \n",
              "3           0                0  0.000533  0.883955        220.0  \n",
              "4           0                0  0.000533  0.063437         16.0  "
            ],
            "text/html": [
              "\n",
              "  <div id=\"df-7a4b71df-93f3-483d-bf37-d96ec202f582\">\n",
              "    <div class=\"colab-df-container\">\n",
              "      <div>\n",
              "<style scoped>\n",
              "    .dataframe tbody tr th:only-of-type {\n",
              "        vertical-align: middle;\n",
              "    }\n",
              "\n",
              "    .dataframe tbody tr th {\n",
              "        vertical-align: top;\n",
              "    }\n",
              "\n",
              "    .dataframe thead th {\n",
              "        text-align: right;\n",
              "    }\n",
              "</style>\n",
              "<table border=\"1\" class=\"dataframe\">\n",
              "  <thead>\n",
              "    <tr style=\"text-align: right;\">\n",
              "      <th></th>\n",
              "      <th>following</th>\n",
              "      <th>followers</th>\n",
              "      <th>totaltweets</th>\n",
              "      <th>tweetcreatedts</th>\n",
              "      <th>hashtags</th>\n",
              "      <th>favorite_count</th>\n",
              "      <th>is_retweet</th>\n",
              "      <th>is_quote_status</th>\n",
              "      <th>weight</th>\n",
              "      <th>negative</th>\n",
              "      <th>text_length</th>\n",
              "    </tr>\n",
              "  </thead>\n",
              "  <tbody>\n",
              "    <tr>\n",
              "      <th>0</th>\n",
              "      <td>1893.0</td>\n",
              "      <td>417389.0</td>\n",
              "      <td>335685.0</td>\n",
              "      <td>2022-02-26</td>\n",
              "      <td>108176</td>\n",
              "      <td>0.0</td>\n",
              "      <td>0</td>\n",
              "      <td>0</td>\n",
              "      <td>0.000533</td>\n",
              "      <td>0.222473</td>\n",
              "      <td>77.0</td>\n",
              "    </tr>\n",
              "    <tr>\n",
              "      <th>1</th>\n",
              "      <td>64.0</td>\n",
              "      <td>254.0</td>\n",
              "      <td>110.0</td>\n",
              "      <td>2022-02-26</td>\n",
              "      <td>97752</td>\n",
              "      <td>0.0</td>\n",
              "      <td>0</td>\n",
              "      <td>0</td>\n",
              "      <td>0.000533</td>\n",
              "      <td>0.078324</td>\n",
              "      <td>40.0</td>\n",
              "    </tr>\n",
              "    <tr>\n",
              "      <th>2</th>\n",
              "      <td>5766.0</td>\n",
              "      <td>5329.0</td>\n",
              "      <td>119448.0</td>\n",
              "      <td>2022-02-26</td>\n",
              "      <td>0</td>\n",
              "      <td>0.0</td>\n",
              "      <td>0</td>\n",
              "      <td>0</td>\n",
              "      <td>0.000533</td>\n",
              "      <td>0.147500</td>\n",
              "      <td>138.0</td>\n",
              "    </tr>\n",
              "    <tr>\n",
              "      <th>3</th>\n",
              "      <td>294.0</td>\n",
              "      <td>172.0</td>\n",
              "      <td>15270.0</td>\n",
              "      <td>2022-02-26</td>\n",
              "      <td>0</td>\n",
              "      <td>0.0</td>\n",
              "      <td>0</td>\n",
              "      <td>0</td>\n",
              "      <td>0.000533</td>\n",
              "      <td>0.883955</td>\n",
              "      <td>220.0</td>\n",
              "    </tr>\n",
              "    <tr>\n",
              "      <th>4</th>\n",
              "      <td>975.0</td>\n",
              "      <td>75.0</td>\n",
              "      <td>1988.0</td>\n",
              "      <td>2022-02-26</td>\n",
              "      <td>45096</td>\n",
              "      <td>0.0</td>\n",
              "      <td>0</td>\n",
              "      <td>0</td>\n",
              "      <td>0.000533</td>\n",
              "      <td>0.063437</td>\n",
              "      <td>16.0</td>\n",
              "    </tr>\n",
              "  </tbody>\n",
              "</table>\n",
              "</div>\n",
              "      <button class=\"colab-df-convert\" onclick=\"convertToInteractive('df-7a4b71df-93f3-483d-bf37-d96ec202f582')\"\n",
              "              title=\"Convert this dataframe to an interactive table.\"\n",
              "              style=\"display:none;\">\n",
              "        \n",
              "  <svg xmlns=\"http://www.w3.org/2000/svg\" height=\"24px\"viewBox=\"0 0 24 24\"\n",
              "       width=\"24px\">\n",
              "    <path d=\"M0 0h24v24H0V0z\" fill=\"none\"/>\n",
              "    <path d=\"M18.56 5.44l.94 2.06.94-2.06 2.06-.94-2.06-.94-.94-2.06-.94 2.06-2.06.94zm-11 1L8.5 8.5l.94-2.06 2.06-.94-2.06-.94L8.5 2.5l-.94 2.06-2.06.94zm10 10l.94 2.06.94-2.06 2.06-.94-2.06-.94-.94-2.06-.94 2.06-2.06.94z\"/><path d=\"M17.41 7.96l-1.37-1.37c-.4-.4-.92-.59-1.43-.59-.52 0-1.04.2-1.43.59L10.3 9.45l-7.72 7.72c-.78.78-.78 2.05 0 2.83L4 21.41c.39.39.9.59 1.41.59.51 0 1.02-.2 1.41-.59l7.78-7.78 2.81-2.81c.8-.78.8-2.07 0-2.86zM5.41 20L4 18.59l7.72-7.72 1.47 1.35L5.41 20z\"/>\n",
              "  </svg>\n",
              "      </button>\n",
              "      \n",
              "  <style>\n",
              "    .colab-df-container {\n",
              "      display:flex;\n",
              "      flex-wrap:wrap;\n",
              "      gap: 12px;\n",
              "    }\n",
              "\n",
              "    .colab-df-convert {\n",
              "      background-color: #E8F0FE;\n",
              "      border: none;\n",
              "      border-radius: 50%;\n",
              "      cursor: pointer;\n",
              "      display: none;\n",
              "      fill: #1967D2;\n",
              "      height: 32px;\n",
              "      padding: 0 0 0 0;\n",
              "      width: 32px;\n",
              "    }\n",
              "\n",
              "    .colab-df-convert:hover {\n",
              "      background-color: #E2EBFA;\n",
              "      box-shadow: 0px 1px 2px rgba(60, 64, 67, 0.3), 0px 1px 3px 1px rgba(60, 64, 67, 0.15);\n",
              "      fill: #174EA6;\n",
              "    }\n",
              "\n",
              "    [theme=dark] .colab-df-convert {\n",
              "      background-color: #3B4455;\n",
              "      fill: #D2E3FC;\n",
              "    }\n",
              "\n",
              "    [theme=dark] .colab-df-convert:hover {\n",
              "      background-color: #434B5C;\n",
              "      box-shadow: 0px 1px 3px 1px rgba(0, 0, 0, 0.15);\n",
              "      filter: drop-shadow(0px 1px 2px rgba(0, 0, 0, 0.3));\n",
              "      fill: #FFFFFF;\n",
              "    }\n",
              "  </style>\n",
              "\n",
              "      <script>\n",
              "        const buttonEl =\n",
              "          document.querySelector('#df-7a4b71df-93f3-483d-bf37-d96ec202f582 button.colab-df-convert');\n",
              "        buttonEl.style.display =\n",
              "          google.colab.kernel.accessAllowed ? 'block' : 'none';\n",
              "\n",
              "        async function convertToInteractive(key) {\n",
              "          const element = document.querySelector('#df-7a4b71df-93f3-483d-bf37-d96ec202f582');\n",
              "          const dataTable =\n",
              "            await google.colab.kernel.invokeFunction('convertToInteractive',\n",
              "                                                     [key], {});\n",
              "          if (!dataTable) return;\n",
              "\n",
              "          const docLinkHtml = 'Like what you see? Visit the ' +\n",
              "            '<a target=\"_blank\" href=https://colab.research.google.com/notebooks/data_table.ipynb>data table notebook</a>'\n",
              "            + ' to learn more about interactive tables.';\n",
              "          element.innerHTML = '';\n",
              "          dataTable['output_type'] = 'display_data';\n",
              "          await google.colab.output.renderOutput(dataTable, element);\n",
              "          const docLink = document.createElement('div');\n",
              "          docLink.innerHTML = docLinkHtml;\n",
              "          element.appendChild(docLink);\n",
              "        }\n",
              "      </script>\n",
              "    </div>\n",
              "  </div>\n",
              "  "
            ]
          },
          "metadata": {},
          "execution_count": 136
        }
      ]
    },
    {
      "cell_type": "code",
      "source": [
        "# Check data types\n",
        "joined_data_df.info()"
      ],
      "metadata": {
        "id": "GHgUhY7Mgjfb",
        "colab": {
          "base_uri": "https://localhost:8080/"
        },
        "outputId": "5d8712ad-b256-46b2-a8cc-0fbde4e959b4"
      },
      "execution_count": 137,
      "outputs": [
        {
          "output_type": "stream",
          "name": "stdout",
          "text": [
            "<class 'pandas.core.frame.DataFrame'>\n",
            "Int64Index: 713008 entries, 0 to 713007\n",
            "Data columns (total 11 columns):\n",
            " #   Column           Non-Null Count   Dtype         \n",
            "---  ------           --------------   -----         \n",
            " 0   following        713008 non-null  float64       \n",
            " 1   followers        713008 non-null  float64       \n",
            " 2   totaltweets      713008 non-null  float64       \n",
            " 3   tweetcreatedts   713008 non-null  datetime64[ns]\n",
            " 4   hashtags         713008 non-null  int64         \n",
            " 5   favorite_count   713008 non-null  float64       \n",
            " 6   is_retweet       713008 non-null  int64         \n",
            " 7   is_quote_status  713008 non-null  int64         \n",
            " 8   weight           710366 non-null  float64       \n",
            " 9   negative         713008 non-null  float64       \n",
            " 10  text_length      712997 non-null  float64       \n",
            "dtypes: datetime64[ns](1), float64(7), int64(3)\n",
            "memory usage: 65.3 MB\n"
          ]
        }
      ]
    },
    {
      "cell_type": "code",
      "source": [
        "# Convert datetime to float\n",
        "\n",
        "# time_df[\"tweetcreatedts\"] = pd.to_numeric(joined_data_df.index, downcast='float')\n",
        "\n",
        "joined_data_df['tweetcreatedts'] = joined_data_df['tweetcreatedts'].astype(str)\n",
        "joined_data_df['tweetcreatedts'] = joined_data_df['tweetcreatedts'].str.replace('-', '')\n",
        "joined_data_df['tweetcreatedts'] = joined_data_df['tweetcreatedts'].astype(float)\n",
        "print(joined_data_df[\"tweetcreatedts\"])"
      ],
      "metadata": {
        "colab": {
          "base_uri": "https://localhost:8080/"
        },
        "id": "uXM4XGDaGrcI",
        "outputId": "74703827-3b1f-4661-e019-d7235ae3625f"
      },
      "execution_count": 138,
      "outputs": [
        {
          "output_type": "stream",
          "name": "stdout",
          "text": [
            "0         20220226.0\n",
            "1         20220226.0\n",
            "2         20220226.0\n",
            "3         20220226.0\n",
            "4         20220226.0\n",
            "             ...    \n",
            "713003    20220226.0\n",
            "713004    20220226.0\n",
            "713005    20220226.0\n",
            "713006    20220226.0\n",
            "713007    20220226.0\n",
            "Name: tweetcreatedts, Length: 713008, dtype: float64\n"
          ]
        }
      ]
    },
    {
      "cell_type": "code",
      "source": [
        "#Check the null values\n",
        "for column in joined_data_df.columns:\n",
        "    print(f'Column {column} has {joined_data_df[column].isnull().sum()} null values')\n",
        "joined_data_df.shape"
      ],
      "metadata": {
        "colab": {
          "base_uri": "https://localhost:8080/"
        },
        "id": "UH7UBX60s9xy",
        "outputId": "a47b4c57-6af7-41ac-eb61-042789537f7a"
      },
      "execution_count": 139,
      "outputs": [
        {
          "output_type": "stream",
          "name": "stdout",
          "text": [
            "Column following has 0 null values\n",
            "Column followers has 0 null values\n",
            "Column totaltweets has 0 null values\n",
            "Column tweetcreatedts has 0 null values\n",
            "Column hashtags has 0 null values\n",
            "Column favorite_count has 0 null values\n",
            "Column is_retweet has 0 null values\n",
            "Column is_quote_status has 0 null values\n",
            "Column weight has 2642 null values\n",
            "Column negative has 0 null values\n",
            "Column text_length has 11 null values\n"
          ]
        },
        {
          "output_type": "execute_result",
          "data": {
            "text/plain": [
              "(713008, 11)"
            ]
          },
          "metadata": {},
          "execution_count": 139
        }
      ]
    },
    {
      "cell_type": "code",
      "source": [
        "# Drop null values\n",
        "joined_data_df = joined_data_df.dropna()\n",
        "joined_data_df.shape"
      ],
      "metadata": {
        "id": "qSIYwGEbhMSj",
        "colab": {
          "base_uri": "https://localhost:8080/"
        },
        "outputId": "0d1b4b6d-e671-4479-dc3b-e8f002a22471"
      },
      "execution_count": 140,
      "outputs": [
        {
          "output_type": "execute_result",
          "data": {
            "text/plain": [
              "(710355, 11)"
            ]
          },
          "metadata": {},
          "execution_count": 140
        }
      ]
    },
    {
      "cell_type": "markdown",
      "source": [
        "# Scale the data\n"
      ],
      "metadata": {
        "id": "1kQCX3TVx65S"
      }
    },
    {
      "cell_type": "code",
      "source": [
        "# Create the StandardScaler instance\n",
        "scaler = StandardScaler()\n",
        "\n",
        "# Fit the StandardScaler\n",
        "scaler.fit(joined_data_df)\n",
        "\n",
        "# Scale the data\n",
        "scaled_data = scaler.transform(joined_data_df)\n",
        "\n",
        "# Create a DataFrame with the scaled data\n",
        "transformed_scaled_data = pd.DataFrame(scaled_data, columns=joined_data_df.columns)\n",
        "transformed_scaled_data.head(5)"
      ],
      "metadata": {
        "colab": {
          "base_uri": "https://localhost:8080/",
          "height": 204
        },
        "id": "c2GKHEa3x9fh",
        "outputId": "37658ad1-0943-4080-ecb6-c8bf5d6f27a7"
      },
      "execution_count": 141,
      "outputs": [
        {
          "output_type": "execute_result",
          "data": {
            "text/plain": [
              "   following  followers  totaltweets  tweetcreatedts  hashtags  \\\n",
              "0  -0.177340   0.689392     1.330729       -1.578197  1.019357   \n",
              "1  -0.298441  -0.101081    -0.678497       -1.578197  0.777848   \n",
              "2   0.079098  -0.091464     0.036029       -1.578197 -1.486933   \n",
              "3  -0.283213  -0.101236    -0.587728       -1.578197 -1.486933   \n",
              "4  -0.238122  -0.101420    -0.667253       -1.578197 -0.442120   \n",
              "\n",
              "   favorite_count  is_retweet  is_quote_status   weight  negative  text_length  \n",
              "0       -0.038117   -0.645473        -0.222816 -0.78303 -0.542880    -0.925411  \n",
              "1       -0.038117   -0.645473        -0.222816 -0.78303 -0.974009    -1.446835  \n",
              "2       -0.038117   -0.645473        -0.222816 -0.78303 -0.767114    -0.065765  \n",
              "3       -0.038117   -0.645473        -0.222816 -0.78303  1.435525     1.089825  \n",
              "4       -0.038117   -0.645473        -0.222816 -0.78303 -1.018536    -1.785056  "
            ],
            "text/html": [
              "\n",
              "  <div id=\"df-bb2ab67b-0297-491d-8907-840170ee64be\">\n",
              "    <div class=\"colab-df-container\">\n",
              "      <div>\n",
              "<style scoped>\n",
              "    .dataframe tbody tr th:only-of-type {\n",
              "        vertical-align: middle;\n",
              "    }\n",
              "\n",
              "    .dataframe tbody tr th {\n",
              "        vertical-align: top;\n",
              "    }\n",
              "\n",
              "    .dataframe thead th {\n",
              "        text-align: right;\n",
              "    }\n",
              "</style>\n",
              "<table border=\"1\" class=\"dataframe\">\n",
              "  <thead>\n",
              "    <tr style=\"text-align: right;\">\n",
              "      <th></th>\n",
              "      <th>following</th>\n",
              "      <th>followers</th>\n",
              "      <th>totaltweets</th>\n",
              "      <th>tweetcreatedts</th>\n",
              "      <th>hashtags</th>\n",
              "      <th>favorite_count</th>\n",
              "      <th>is_retweet</th>\n",
              "      <th>is_quote_status</th>\n",
              "      <th>weight</th>\n",
              "      <th>negative</th>\n",
              "      <th>text_length</th>\n",
              "    </tr>\n",
              "  </thead>\n",
              "  <tbody>\n",
              "    <tr>\n",
              "      <th>0</th>\n",
              "      <td>-0.177340</td>\n",
              "      <td>0.689392</td>\n",
              "      <td>1.330729</td>\n",
              "      <td>-1.578197</td>\n",
              "      <td>1.019357</td>\n",
              "      <td>-0.038117</td>\n",
              "      <td>-0.645473</td>\n",
              "      <td>-0.222816</td>\n",
              "      <td>-0.78303</td>\n",
              "      <td>-0.542880</td>\n",
              "      <td>-0.925411</td>\n",
              "    </tr>\n",
              "    <tr>\n",
              "      <th>1</th>\n",
              "      <td>-0.298441</td>\n",
              "      <td>-0.101081</td>\n",
              "      <td>-0.678497</td>\n",
              "      <td>-1.578197</td>\n",
              "      <td>0.777848</td>\n",
              "      <td>-0.038117</td>\n",
              "      <td>-0.645473</td>\n",
              "      <td>-0.222816</td>\n",
              "      <td>-0.78303</td>\n",
              "      <td>-0.974009</td>\n",
              "      <td>-1.446835</td>\n",
              "    </tr>\n",
              "    <tr>\n",
              "      <th>2</th>\n",
              "      <td>0.079098</td>\n",
              "      <td>-0.091464</td>\n",
              "      <td>0.036029</td>\n",
              "      <td>-1.578197</td>\n",
              "      <td>-1.486933</td>\n",
              "      <td>-0.038117</td>\n",
              "      <td>-0.645473</td>\n",
              "      <td>-0.222816</td>\n",
              "      <td>-0.78303</td>\n",
              "      <td>-0.767114</td>\n",
              "      <td>-0.065765</td>\n",
              "    </tr>\n",
              "    <tr>\n",
              "      <th>3</th>\n",
              "      <td>-0.283213</td>\n",
              "      <td>-0.101236</td>\n",
              "      <td>-0.587728</td>\n",
              "      <td>-1.578197</td>\n",
              "      <td>-1.486933</td>\n",
              "      <td>-0.038117</td>\n",
              "      <td>-0.645473</td>\n",
              "      <td>-0.222816</td>\n",
              "      <td>-0.78303</td>\n",
              "      <td>1.435525</td>\n",
              "      <td>1.089825</td>\n",
              "    </tr>\n",
              "    <tr>\n",
              "      <th>4</th>\n",
              "      <td>-0.238122</td>\n",
              "      <td>-0.101420</td>\n",
              "      <td>-0.667253</td>\n",
              "      <td>-1.578197</td>\n",
              "      <td>-0.442120</td>\n",
              "      <td>-0.038117</td>\n",
              "      <td>-0.645473</td>\n",
              "      <td>-0.222816</td>\n",
              "      <td>-0.78303</td>\n",
              "      <td>-1.018536</td>\n",
              "      <td>-1.785056</td>\n",
              "    </tr>\n",
              "  </tbody>\n",
              "</table>\n",
              "</div>\n",
              "      <button class=\"colab-df-convert\" onclick=\"convertToInteractive('df-bb2ab67b-0297-491d-8907-840170ee64be')\"\n",
              "              title=\"Convert this dataframe to an interactive table.\"\n",
              "              style=\"display:none;\">\n",
              "        \n",
              "  <svg xmlns=\"http://www.w3.org/2000/svg\" height=\"24px\"viewBox=\"0 0 24 24\"\n",
              "       width=\"24px\">\n",
              "    <path d=\"M0 0h24v24H0V0z\" fill=\"none\"/>\n",
              "    <path d=\"M18.56 5.44l.94 2.06.94-2.06 2.06-.94-2.06-.94-.94-2.06-.94 2.06-2.06.94zm-11 1L8.5 8.5l.94-2.06 2.06-.94-2.06-.94L8.5 2.5l-.94 2.06-2.06.94zm10 10l.94 2.06.94-2.06 2.06-.94-2.06-.94-.94-2.06-.94 2.06-2.06.94z\"/><path d=\"M17.41 7.96l-1.37-1.37c-.4-.4-.92-.59-1.43-.59-.52 0-1.04.2-1.43.59L10.3 9.45l-7.72 7.72c-.78.78-.78 2.05 0 2.83L4 21.41c.39.39.9.59 1.41.59.51 0 1.02-.2 1.41-.59l7.78-7.78 2.81-2.81c.8-.78.8-2.07 0-2.86zM5.41 20L4 18.59l7.72-7.72 1.47 1.35L5.41 20z\"/>\n",
              "  </svg>\n",
              "      </button>\n",
              "      \n",
              "  <style>\n",
              "    .colab-df-container {\n",
              "      display:flex;\n",
              "      flex-wrap:wrap;\n",
              "      gap: 12px;\n",
              "    }\n",
              "\n",
              "    .colab-df-convert {\n",
              "      background-color: #E8F0FE;\n",
              "      border: none;\n",
              "      border-radius: 50%;\n",
              "      cursor: pointer;\n",
              "      display: none;\n",
              "      fill: #1967D2;\n",
              "      height: 32px;\n",
              "      padding: 0 0 0 0;\n",
              "      width: 32px;\n",
              "    }\n",
              "\n",
              "    .colab-df-convert:hover {\n",
              "      background-color: #E2EBFA;\n",
              "      box-shadow: 0px 1px 2px rgba(60, 64, 67, 0.3), 0px 1px 3px 1px rgba(60, 64, 67, 0.15);\n",
              "      fill: #174EA6;\n",
              "    }\n",
              "\n",
              "    [theme=dark] .colab-df-convert {\n",
              "      background-color: #3B4455;\n",
              "      fill: #D2E3FC;\n",
              "    }\n",
              "\n",
              "    [theme=dark] .colab-df-convert:hover {\n",
              "      background-color: #434B5C;\n",
              "      box-shadow: 0px 1px 3px 1px rgba(0, 0, 0, 0.15);\n",
              "      filter: drop-shadow(0px 1px 2px rgba(0, 0, 0, 0.3));\n",
              "      fill: #FFFFFF;\n",
              "    }\n",
              "  </style>\n",
              "\n",
              "      <script>\n",
              "        const buttonEl =\n",
              "          document.querySelector('#df-bb2ab67b-0297-491d-8907-840170ee64be button.colab-df-convert');\n",
              "        buttonEl.style.display =\n",
              "          google.colab.kernel.accessAllowed ? 'block' : 'none';\n",
              "\n",
              "        async function convertToInteractive(key) {\n",
              "          const element = document.querySelector('#df-bb2ab67b-0297-491d-8907-840170ee64be');\n",
              "          const dataTable =\n",
              "            await google.colab.kernel.invokeFunction('convertToInteractive',\n",
              "                                                     [key], {});\n",
              "          if (!dataTable) return;\n",
              "\n",
              "          const docLinkHtml = 'Like what you see? Visit the ' +\n",
              "            '<a target=\"_blank\" href=https://colab.research.google.com/notebooks/data_table.ipynb>data table notebook</a>'\n",
              "            + ' to learn more about interactive tables.';\n",
              "          element.innerHTML = '';\n",
              "          dataTable['output_type'] = 'display_data';\n",
              "          await google.colab.output.renderOutput(dataTable, element);\n",
              "          const docLink = document.createElement('div');\n",
              "          docLink.innerHTML = docLinkHtml;\n",
              "          element.appendChild(docLink);\n",
              "        }\n",
              "      </script>\n",
              "    </div>\n",
              "  </div>\n",
              "  "
            ]
          },
          "metadata": {},
          "execution_count": 141
        }
      ]
    },
    {
      "cell_type": "code",
      "source": [
        "df_corr = transformed_scaled_data.corr()['is_retweet'][2:-1]\n",
        "top_features = df_corr.sort_values(ascending=False)\n",
        "top_features"
      ],
      "metadata": {
        "colab": {
          "base_uri": "https://localhost:8080/"
        },
        "id": "cxdzNeF_EoJ-",
        "outputId": "d079f62f-90b3-44af-adcf-55fb0e2bbc17"
      },
      "execution_count": 142,
      "outputs": [
        {
          "output_type": "execute_result",
          "data": {
            "text/plain": [
              "is_retweet         1.000000\n",
              "tweetcreatedts     0.540694\n",
              "weight             0.118537\n",
              "is_quote_status    0.102020\n",
              "negative           0.030368\n",
              "hashtags           0.006460\n",
              "totaltweets       -0.009477\n",
              "favorite_count    -0.024603\n",
              "Name: is_retweet, dtype: float64"
            ]
          },
          "metadata": {},
          "execution_count": 142
        }
      ]
    },
    {
      "cell_type": "markdown",
      "source": [
        "Taking the numerical representation of the correlation, we see that the correlation is fairly low, with some of them being negative."
      ],
      "metadata": {
        "id": "WfahjP1BGZM3"
      }
    },
    {
      "cell_type": "code",
      "source": [
        "# Drop the data without correlation\n",
        "transformed_scaled_data.drop(\"following\", axis=1, inplace=True)\n",
        "transformed_scaled_data.drop(\"followers\", axis=1, inplace=True)\n",
        "transformed_scaled_data.drop(\"text_length\", axis=1, inplace=True)\n",
        "\n",
        "transformed_scaled_data.head(5)"
      ],
      "metadata": {
        "colab": {
          "base_uri": "https://localhost:8080/",
          "height": 204
        },
        "id": "TnOBR-94GNYG",
        "outputId": "46ebf8e4-ebc6-41f6-960f-49df1c3618a8"
      },
      "execution_count": 143,
      "outputs": [
        {
          "output_type": "execute_result",
          "data": {
            "text/plain": [
              "   totaltweets  tweetcreatedts  hashtags  favorite_count  is_retweet  \\\n",
              "0     1.330729       -1.578197  1.019357       -0.038117   -0.645473   \n",
              "1    -0.678497       -1.578197  0.777848       -0.038117   -0.645473   \n",
              "2     0.036029       -1.578197 -1.486933       -0.038117   -0.645473   \n",
              "3    -0.587728       -1.578197 -1.486933       -0.038117   -0.645473   \n",
              "4    -0.667253       -1.578197 -0.442120       -0.038117   -0.645473   \n",
              "\n",
              "   is_quote_status   weight  negative  \n",
              "0        -0.222816 -0.78303 -0.542880  \n",
              "1        -0.222816 -0.78303 -0.974009  \n",
              "2        -0.222816 -0.78303 -0.767114  \n",
              "3        -0.222816 -0.78303  1.435525  \n",
              "4        -0.222816 -0.78303 -1.018536  "
            ],
            "text/html": [
              "\n",
              "  <div id=\"df-26ecbc85-3aaf-4e46-8b38-e1df753bf57a\">\n",
              "    <div class=\"colab-df-container\">\n",
              "      <div>\n",
              "<style scoped>\n",
              "    .dataframe tbody tr th:only-of-type {\n",
              "        vertical-align: middle;\n",
              "    }\n",
              "\n",
              "    .dataframe tbody tr th {\n",
              "        vertical-align: top;\n",
              "    }\n",
              "\n",
              "    .dataframe thead th {\n",
              "        text-align: right;\n",
              "    }\n",
              "</style>\n",
              "<table border=\"1\" class=\"dataframe\">\n",
              "  <thead>\n",
              "    <tr style=\"text-align: right;\">\n",
              "      <th></th>\n",
              "      <th>totaltweets</th>\n",
              "      <th>tweetcreatedts</th>\n",
              "      <th>hashtags</th>\n",
              "      <th>favorite_count</th>\n",
              "      <th>is_retweet</th>\n",
              "      <th>is_quote_status</th>\n",
              "      <th>weight</th>\n",
              "      <th>negative</th>\n",
              "    </tr>\n",
              "  </thead>\n",
              "  <tbody>\n",
              "    <tr>\n",
              "      <th>0</th>\n",
              "      <td>1.330729</td>\n",
              "      <td>-1.578197</td>\n",
              "      <td>1.019357</td>\n",
              "      <td>-0.038117</td>\n",
              "      <td>-0.645473</td>\n",
              "      <td>-0.222816</td>\n",
              "      <td>-0.78303</td>\n",
              "      <td>-0.542880</td>\n",
              "    </tr>\n",
              "    <tr>\n",
              "      <th>1</th>\n",
              "      <td>-0.678497</td>\n",
              "      <td>-1.578197</td>\n",
              "      <td>0.777848</td>\n",
              "      <td>-0.038117</td>\n",
              "      <td>-0.645473</td>\n",
              "      <td>-0.222816</td>\n",
              "      <td>-0.78303</td>\n",
              "      <td>-0.974009</td>\n",
              "    </tr>\n",
              "    <tr>\n",
              "      <th>2</th>\n",
              "      <td>0.036029</td>\n",
              "      <td>-1.578197</td>\n",
              "      <td>-1.486933</td>\n",
              "      <td>-0.038117</td>\n",
              "      <td>-0.645473</td>\n",
              "      <td>-0.222816</td>\n",
              "      <td>-0.78303</td>\n",
              "      <td>-0.767114</td>\n",
              "    </tr>\n",
              "    <tr>\n",
              "      <th>3</th>\n",
              "      <td>-0.587728</td>\n",
              "      <td>-1.578197</td>\n",
              "      <td>-1.486933</td>\n",
              "      <td>-0.038117</td>\n",
              "      <td>-0.645473</td>\n",
              "      <td>-0.222816</td>\n",
              "      <td>-0.78303</td>\n",
              "      <td>1.435525</td>\n",
              "    </tr>\n",
              "    <tr>\n",
              "      <th>4</th>\n",
              "      <td>-0.667253</td>\n",
              "      <td>-1.578197</td>\n",
              "      <td>-0.442120</td>\n",
              "      <td>-0.038117</td>\n",
              "      <td>-0.645473</td>\n",
              "      <td>-0.222816</td>\n",
              "      <td>-0.78303</td>\n",
              "      <td>-1.018536</td>\n",
              "    </tr>\n",
              "  </tbody>\n",
              "</table>\n",
              "</div>\n",
              "      <button class=\"colab-df-convert\" onclick=\"convertToInteractive('df-26ecbc85-3aaf-4e46-8b38-e1df753bf57a')\"\n",
              "              title=\"Convert this dataframe to an interactive table.\"\n",
              "              style=\"display:none;\">\n",
              "        \n",
              "  <svg xmlns=\"http://www.w3.org/2000/svg\" height=\"24px\"viewBox=\"0 0 24 24\"\n",
              "       width=\"24px\">\n",
              "    <path d=\"M0 0h24v24H0V0z\" fill=\"none\"/>\n",
              "    <path d=\"M18.56 5.44l.94 2.06.94-2.06 2.06-.94-2.06-.94-.94-2.06-.94 2.06-2.06.94zm-11 1L8.5 8.5l.94-2.06 2.06-.94-2.06-.94L8.5 2.5l-.94 2.06-2.06.94zm10 10l.94 2.06.94-2.06 2.06-.94-2.06-.94-.94-2.06-.94 2.06-2.06.94z\"/><path d=\"M17.41 7.96l-1.37-1.37c-.4-.4-.92-.59-1.43-.59-.52 0-1.04.2-1.43.59L10.3 9.45l-7.72 7.72c-.78.78-.78 2.05 0 2.83L4 21.41c.39.39.9.59 1.41.59.51 0 1.02-.2 1.41-.59l7.78-7.78 2.81-2.81c.8-.78.8-2.07 0-2.86zM5.41 20L4 18.59l7.72-7.72 1.47 1.35L5.41 20z\"/>\n",
              "  </svg>\n",
              "      </button>\n",
              "      \n",
              "  <style>\n",
              "    .colab-df-container {\n",
              "      display:flex;\n",
              "      flex-wrap:wrap;\n",
              "      gap: 12px;\n",
              "    }\n",
              "\n",
              "    .colab-df-convert {\n",
              "      background-color: #E8F0FE;\n",
              "      border: none;\n",
              "      border-radius: 50%;\n",
              "      cursor: pointer;\n",
              "      display: none;\n",
              "      fill: #1967D2;\n",
              "      height: 32px;\n",
              "      padding: 0 0 0 0;\n",
              "      width: 32px;\n",
              "    }\n",
              "\n",
              "    .colab-df-convert:hover {\n",
              "      background-color: #E2EBFA;\n",
              "      box-shadow: 0px 1px 2px rgba(60, 64, 67, 0.3), 0px 1px 3px 1px rgba(60, 64, 67, 0.15);\n",
              "      fill: #174EA6;\n",
              "    }\n",
              "\n",
              "    [theme=dark] .colab-df-convert {\n",
              "      background-color: #3B4455;\n",
              "      fill: #D2E3FC;\n",
              "    }\n",
              "\n",
              "    [theme=dark] .colab-df-convert:hover {\n",
              "      background-color: #434B5C;\n",
              "      box-shadow: 0px 1px 3px 1px rgba(0, 0, 0, 0.15);\n",
              "      filter: drop-shadow(0px 1px 2px rgba(0, 0, 0, 0.3));\n",
              "      fill: #FFFFFF;\n",
              "    }\n",
              "  </style>\n",
              "\n",
              "      <script>\n",
              "        const buttonEl =\n",
              "          document.querySelector('#df-26ecbc85-3aaf-4e46-8b38-e1df753bf57a button.colab-df-convert');\n",
              "        buttonEl.style.display =\n",
              "          google.colab.kernel.accessAllowed ? 'block' : 'none';\n",
              "\n",
              "        async function convertToInteractive(key) {\n",
              "          const element = document.querySelector('#df-26ecbc85-3aaf-4e46-8b38-e1df753bf57a');\n",
              "          const dataTable =\n",
              "            await google.colab.kernel.invokeFunction('convertToInteractive',\n",
              "                                                     [key], {});\n",
              "          if (!dataTable) return;\n",
              "\n",
              "          const docLinkHtml = 'Like what you see? Visit the ' +\n",
              "            '<a target=\"_blank\" href=https://colab.research.google.com/notebooks/data_table.ipynb>data table notebook</a>'\n",
              "            + ' to learn more about interactive tables.';\n",
              "          element.innerHTML = '';\n",
              "          dataTable['output_type'] = 'display_data';\n",
              "          await google.colab.output.renderOutput(dataTable, element);\n",
              "          const docLink = document.createElement('div');\n",
              "          docLink.innerHTML = docLinkHtml;\n",
              "          element.appendChild(docLink);\n",
              "        }\n",
              "      </script>\n",
              "    </div>\n",
              "  </div>\n",
              "  "
            ]
          },
          "metadata": {},
          "execution_count": 143
        }
      ]
    },
    {
      "cell_type": "markdown",
      "source": [
        "# Create a base LGBM Classifier model - gradient boosting framework LightGBM"
      ],
      "metadata": {
        "id": "f-14OuO_J1pU"
      }
    },
    {
      "cell_type": "markdown",
      "source": [
        "LightGBM grows tree vertically while other tree based learning algorithms grow trees horizontally. \n",
        "It means that LightGBM grows tree leaf-wise while other algorithms grow level-wise. It will choose \n",
        "the leaf with max delta loss to grow. When growing the same leaf, leaf-wise algorithm can reduce more \n",
        "loss than a level-wise algorithm."
      ],
      "metadata": {
        "id": "oc9nwgeMORRg"
      }
    },
    {
      "cell_type": "code",
      "source": [
        "!pip install lightgbm\n",
        "import lightgbm as lgb\n",
        "import seaborn as sns"
      ],
      "metadata": {
        "colab": {
          "base_uri": "https://localhost:8080/"
        },
        "id": "lVmEXAHRJ2oU",
        "outputId": "77d2d80e-69b5-44e2-ded1-6f20fabd9cfc"
      },
      "execution_count": 144,
      "outputs": [
        {
          "output_type": "stream",
          "name": "stdout",
          "text": [
            "Looking in indexes: https://pypi.org/simple, https://us-python.pkg.dev/colab-wheels/public/simple/\n",
            "Requirement already satisfied: lightgbm in /usr/local/lib/python3.7/dist-packages (2.2.3)\n",
            "Requirement already satisfied: scipy in /usr/local/lib/python3.7/dist-packages (from lightgbm) (1.7.3)\n",
            "Requirement already satisfied: numpy in /usr/local/lib/python3.7/dist-packages (from lightgbm) (1.21.6)\n",
            "Requirement already satisfied: scikit-learn in /usr/local/lib/python3.7/dist-packages (from lightgbm) (1.0.2)\n",
            "Requirement already satisfied: threadpoolctl>=2.0.0 in /usr/local/lib/python3.7/dist-packages (from scikit-learn->lightgbm) (3.1.0)\n",
            "Requirement already satisfied: joblib>=0.11 in /usr/local/lib/python3.7/dist-packages (from scikit-learn->lightgbm) (1.1.0)\n"
          ]
        }
      ]
    },
    {
      "cell_type": "code",
      "source": [
        "from sklearn import preprocessing\n",
        "from sklearn import utils\n",
        "\n",
        "# Declare feature vector and target variable\n",
        "X = transformed_scaled_data.drop(['is_retweet'], 1)\n",
        "y = transformed_scaled_data['is_retweet']"
      ],
      "metadata": {
        "colab": {
          "base_uri": "https://localhost:8080/"
        },
        "id": "ccxpIJv-S6hH",
        "outputId": "8d183684-f7c6-4543-bca1-96e90403ad01"
      },
      "execution_count": 146,
      "outputs": [
        {
          "output_type": "stream",
          "name": "stderr",
          "text": [
            "/usr/local/lib/python3.7/dist-packages/ipykernel_launcher.py:5: FutureWarning: In a future version of pandas all arguments of DataFrame.drop except for the argument 'labels' will be keyword-only\n",
            "  \"\"\"\n"
          ]
        }
      ]
    },
    {
      "cell_type": "code",
      "source": [
        "# Check data types\n",
        "transformed_scaled_data.info()"
      ],
      "metadata": {
        "colab": {
          "base_uri": "https://localhost:8080/"
        },
        "id": "FO-j4zLhR1tQ",
        "outputId": "6d388aea-281f-4739-ddb8-58b5e7569357"
      },
      "execution_count": 147,
      "outputs": [
        {
          "output_type": "stream",
          "name": "stdout",
          "text": [
            "<class 'pandas.core.frame.DataFrame'>\n",
            "RangeIndex: 710355 entries, 0 to 710354\n",
            "Data columns (total 8 columns):\n",
            " #   Column           Non-Null Count   Dtype  \n",
            "---  ------           --------------   -----  \n",
            " 0   totaltweets      710355 non-null  float64\n",
            " 1   tweetcreatedts   710355 non-null  float64\n",
            " 2   hashtags         710355 non-null  float64\n",
            " 3   favorite_count   710355 non-null  float64\n",
            " 4   is_retweet       710355 non-null  float64\n",
            " 5   is_quote_status  710355 non-null  float64\n",
            " 6   weight           710355 non-null  float64\n",
            " 7   negative         710355 non-null  float64\n",
            "dtypes: float64(8)\n",
            "memory usage: 43.4 MB\n"
          ]
        }
      ]
    },
    {
      "cell_type": "code",
      "source": [
        "#convert y values to categorical values\n",
        "lab = preprocessing.LabelEncoder()\n",
        "y = lab.fit_transform(y)\n",
        "\n",
        "#view transformed values\n",
        "print(y)\n"
      ],
      "metadata": {
        "colab": {
          "base_uri": "https://localhost:8080/"
        },
        "id": "xb2qBA_IRu7q",
        "outputId": "9b3e5759-863c-47b0-81da-8d6a0883875b"
      },
      "execution_count": 148,
      "outputs": [
        {
          "output_type": "stream",
          "name": "stdout",
          "text": [
            "[0 0 0 ... 0 0 0]\n"
          ]
        }
      ]
    },
    {
      "cell_type": "code",
      "source": [
        "# Train-Test Split\n",
        "X_train, X_test, y_train, y_test = train_test_split(X, y, test_size = 0.3, random_state = 0)\n",
        "print('Training set shape ', X_train.shape)\n",
        "print('Training set shape ', y_train.shape)\n",
        "print('Test set shape ', X_test.shape)\n",
        "print('Test set shape ', y_test.shape)"
      ],
      "metadata": {
        "colab": {
          "base_uri": "https://localhost:8080/"
        },
        "id": "Gni59heZSalb",
        "outputId": "0b27c029-5574-490c-bf49-123e35195673"
      },
      "execution_count": 149,
      "outputs": [
        {
          "output_type": "stream",
          "name": "stdout",
          "text": [
            "Training set shape  (497248, 7)\n",
            "Training set shape  (497248,)\n",
            "Test set shape  (213107, 7)\n",
            "Test set shape  (213107,)\n"
          ]
        }
      ]
    },
    {
      "cell_type": "code",
      "source": [
        "# Create scaler instance\n",
        "clf = lgb.LGBMClassifier()\n",
        "clf.fit(X_train, y_train)"
      ],
      "metadata": {
        "id": "CR7AgRUznOjX",
        "colab": {
          "base_uri": "https://localhost:8080/"
        },
        "outputId": "4ee23e7f-856b-471b-ed65-a6ce7b44d60c"
      },
      "execution_count": 150,
      "outputs": [
        {
          "output_type": "execute_result",
          "data": {
            "text/plain": [
              "LGBMClassifier()"
            ]
          },
          "metadata": {},
          "execution_count": 150
        }
      ]
    },
    {
      "cell_type": "code",
      "source": [
        "# predict the results\n",
        "y_pred=clf.predict(X_test)"
      ],
      "metadata": {
        "id": "v-vqXq4lT3YO"
      },
      "execution_count": 151,
      "outputs": []
    },
    {
      "cell_type": "code",
      "source": [
        "# view accuracy\n",
        "from sklearn.metrics import accuracy_score\n",
        "accuracy=accuracy_score(y_pred, y_test)\n",
        "print('LightGBM Model accuracy score: {0:0.4f}'.format(accuracy_score(y_test, y_pred)))"
      ],
      "metadata": {
        "id": "lgytCNcnnad1",
        "colab": {
          "base_uri": "https://localhost:8080/"
        },
        "outputId": "56e2f5e6-407d-4341-9a43-335603d9c8b9"
      },
      "execution_count": 152,
      "outputs": [
        {
          "output_type": "stream",
          "name": "stdout",
          "text": [
            "LightGBM Model accuracy score: 0.9377\n"
          ]
        }
      ]
    },
    {
      "cell_type": "markdown",
      "source": [
        "# Compare train and test set accuracy"
      ],
      "metadata": {
        "id": "xgIa1MVrUJxr"
      }
    },
    {
      "cell_type": "code",
      "source": [
        "y_pred_train = clf.predict(X_train)"
      ],
      "metadata": {
        "id": "9dblFEbxne_8"
      },
      "execution_count": 153,
      "outputs": []
    },
    {
      "cell_type": "code",
      "source": [
        "print('Training-set accuracy score: {0:0.4f}'. format(accuracy_score(y_train, y_pred_train)))"
      ],
      "metadata": {
        "colab": {
          "base_uri": "https://localhost:8080/"
        },
        "id": "UpkxDL1vUYzc",
        "outputId": "4b8e1856-b66d-4c88-85fc-0a495ff8e408"
      },
      "execution_count": 154,
      "outputs": [
        {
          "output_type": "stream",
          "name": "stdout",
          "text": [
            "Training-set accuracy score: 0.9389\n"
          ]
        }
      ]
    },
    {
      "cell_type": "code",
      "source": [
        "#Check for overfitting\n",
        "\n",
        "# print the scores on training and test set\n",
        "\n",
        "print('Training set score: {:.4f}'.format(clf.score(X_train, y_train)))\n",
        "\n",
        "print('Test set score: {:.4f}'.format(clf.score(X_test, y_test)))"
      ],
      "metadata": {
        "colab": {
          "base_uri": "https://localhost:8080/"
        },
        "id": "e71dN66jUggn",
        "outputId": "bf08f88f-98c8-47f6-cebb-fada977946e4"
      },
      "execution_count": 155,
      "outputs": [
        {
          "output_type": "stream",
          "name": "stdout",
          "text": [
            "Training set score: 0.9389\n",
            "Test set score: 0.9377\n"
          ]
        }
      ]
    },
    {
      "cell_type": "code",
      "source": [
        "# view confusion-matrix\n",
        "# Print the Confusion Matrix and slice it into four pieces\n",
        "\n",
        "from sklearn.metrics import confusion_matrix\n",
        "cm = confusion_matrix(y_test, y_pred)\n",
        "print('Confusion matrix\\n\\n', cm)\n",
        "print('\\nTrue Positives(TP) = ', cm[0,0])\n",
        "print('\\nTrue Negatives(TN) = ', cm[1,1])\n",
        "print('\\nFalse Positives(FP) = ', cm[0,1])\n",
        "print('\\nFalse Negatives(FN) = ', cm[1,0])"
      ],
      "metadata": {
        "colab": {
          "base_uri": "https://localhost:8080/"
        },
        "id": "bQwQoMcAUgMr",
        "outputId": "b40228fd-ee40-4330-c29f-8d28250a2562"
      },
      "execution_count": 156,
      "outputs": [
        {
          "output_type": "stream",
          "name": "stdout",
          "text": [
            "Confusion matrix\n",
            "\n",
            " [[139567  10676]\n",
            " [  2598  60266]]\n",
            "\n",
            "True Positives(TP) =  139567\n",
            "\n",
            "True Negatives(TN) =  60266\n",
            "\n",
            "False Positives(FP) =  10676\n",
            "\n",
            "False Negatives(FN) =  2598\n"
          ]
        }
      ]
    },
    {
      "cell_type": "code",
      "source": [
        "# visualize confusion matrix with seaborn heatmap\n",
        "\n",
        "cm_matrix = pd.DataFrame(data=cm, columns=['Actual Positive:1', 'Actual Negative:0'], \n",
        "                                 index=['Predict Positive:1', 'Predict Negative:0'])\n",
        "\n",
        "sns.heatmap(cm_matrix, annot=True, fmt='d', cmap='YlGnBu')"
      ],
      "metadata": {
        "colab": {
          "base_uri": "https://localhost:8080/",
          "height": 282
        },
        "id": "J22y9RP1Uy6D",
        "outputId": "88b1e7f7-eec0-4502-cfd2-158fae9800e6"
      },
      "execution_count": 157,
      "outputs": [
        {
          "output_type": "execute_result",
          "data": {
            "text/plain": [
              "<matplotlib.axes._subplots.AxesSubplot at 0x7fd772c24c90>"
            ]
          },
          "metadata": {},
          "execution_count": 157
        },
        {
          "output_type": "display_data",
          "data": {
            "text/plain": [
              "<Figure size 432x288 with 2 Axes>"
            ],
            "image/png": "[encoded data removed]"
          },
          "metadata": {
            "needs_background": "light"
          }
        }
      ]
    },
    {
      "cell_type": "code",
      "source": [
        "from sklearn.metrics import classification_report\n",
        "print(classification_report(y_test, y_pred))"
      ],
      "metadata": {
        "colab": {
          "base_uri": "https://localhost:8080/"
        },
        "id": "MKtQz4P3U9wk",
        "outputId": "bc80ef75-7169-4a53-abee-2ecc25991d29"
      },
      "execution_count": 158,
      "outputs": [
        {
          "output_type": "stream",
          "name": "stdout",
          "text": [
            "              precision    recall  f1-score   support\n",
            "\n",
            "           0       0.98      0.93      0.95    150243\n",
            "           1       0.85      0.96      0.90     62864\n",
            "\n",
            "    accuracy                           0.94    213107\n",
            "   macro avg       0.92      0.94      0.93    213107\n",
            "weighted avg       0.94      0.94      0.94    213107\n",
            "\n"
          ]
        }
      ]
    }
  ]
}