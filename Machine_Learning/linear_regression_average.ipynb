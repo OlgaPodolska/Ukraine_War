{
  "nbformat": 4,
  "nbformat_minor": 0,
  "metadata": {
    "colab": {
      "provenance": [],
      "collapsed_sections": [],
      "authorship_tag": "ABX9TyNHepHWgnVVkh16qy8ImotT",
      "include_colab_link": true
    },
    "kernelspec": {
      "name": "python3",
      "display_name": "Python 3"
    },
    "language_info": {
      "name": "python"
    }
  },
  "cells": [
    {
      "cell_type": "markdown",
      "metadata": {
        "id": "view-in-github",
        "colab_type": "text"
      },
      "source": [
        "<a href=\"https://colab.research.google.com/github/aiscience-22/UA_War/blob/olgap%2Fmachine_learning_0.06/linear_regression_average.ipynb\" target=\"_parent\"><img src=\"https://colab.research.google.com/assets/colab-badge.svg\" alt=\"Open In Colab\"/></a>"
      ]
    },
    {
      "cell_type": "code",
      "execution_count": 1,
      "metadata": {
        "id": "OPhWA1gGzjfb"
      },
      "outputs": [],
      "source": [
        "import os\n",
        "import pandas as pd\n",
        "import matplotlib.pyplot as plt\n",
        "from sklearn.linear_model import LinearRegression"
      ]
    },
    {
      "cell_type": "code",
      "source": [
        "spark_version = 'spark-3.2.2'\n",
        "os.environ['SPARK_VERSION']=spark_version\n",
        "\n",
        "# Install Spark and Java\n",
        "!apt-get update\n",
        "!apt-get install openjdk-11-jdk-headless -qq > /dev/null\n",
        "!wget -q http://www.apache.org/dist/spark/$SPARK_VERSION/$SPARK_VERSION-bin-hadoop2.7.tgz\n",
        "!tar xf $SPARK_VERSION-bin-hadoop2.7.tgz\n",
        "!pip install -q findspark\n",
        "\n",
        "# Set Environment Variables\n",
        "os.environ[\"JAVA_HOME\"] = \"/usr/lib/jvm/java-11-openjdk-amd64\"\n",
        "os.environ[\"SPARK_HOME\"] = f\"/content/{spark_version}-bin-hadoop2.7\"\n",
        "\n",
        "# Start a SparkSession\n",
        "import findspark\n",
        "findspark.init()"
      ],
      "metadata": {
        "id": "45624S98zsbl",
        "outputId": "7f30d505-6f2e-4908-e80c-70dd5f1c1a21",
        "colab": {
          "base_uri": "https://localhost:8080/"
        }
      },
      "execution_count": 2,
      "outputs": [
        {
          "output_type": "stream",
          "name": "stdout",
          "text": [
            "\r0% [Working]\r            \rGet:1 http://ppa.launchpad.net/c2d4u.team/c2d4u4.0+/ubuntu bionic InRelease [15.9 kB]\n",
            "\r0% [Connecting to archive.ubuntu.com (185.125.190.36)] [Waiting for headers] [C\r                                                                               \rGet:2 http://security.ubuntu.com/ubuntu bionic-security InRelease [88.7 kB]\n",
            "\r0% [Connecting to archive.ubuntu.com (185.125.190.36)] [2 InRelease 14.2 kB/88.\r0% [Waiting for headers] [2 InRelease 43.1 kB/88.7 kB 49%] [Connected to cloud.\r                                                                               \rHit:3 http://archive.ubuntu.com/ubuntu bionic InRelease\n",
            "\r0% [Waiting for headers] [2 InRelease 43.1 kB/88.7 kB 49%] [Connected to cloud.\r0% [1 InRelease gpgv 15.9 kB] [Waiting for headers] [2 InRelease 48.9 kB/88.7 k\r                                                                               \rGet:4 http://archive.ubuntu.com/ubuntu bionic-updates InRelease [88.7 kB]\n",
            "\r0% [1 InRelease gpgv 15.9 kB] [4 InRelease 14.2 kB/88.7 kB 16%] [2 InRelease 63\r0% [1 InRelease gpgv 15.9 kB] [4 InRelease 15.6 kB/88.7 kB 18%] [Waiting for he\r                                                                               \rHit:5 http://ppa.launchpad.net/cran/libgit2/ubuntu bionic InRelease\n",
            "\r0% [1 InRelease gpgv 15.9 kB] [4 InRelease 15.6 kB/88.7 kB 18%] [Waiting for he\r                                                                               \rGet:6 https://cloud.r-project.org/bin/linux/ubuntu bionic-cran40/ InRelease [3,626 B]\n",
            "\r0% [1 InRelease gpgv 15.9 kB] [4 InRelease 15.6 kB/88.7 kB 18%] [Waiting for he\r                                                                               \rGet:7 http://ppa.launchpad.net/deadsnakes/ppa/ubuntu bionic InRelease [15.9 kB]\n",
            "\r0% [1 InRelease gpgv 15.9 kB] [4 InRelease 75.0 kB/88.7 kB 85%] [Waiting for he\r0% [1 InRelease gpgv 15.9 kB] [Waiting for headers] [Waiting for headers] [7 In\r0% [1 InRelease gpgv 15.9 kB] [Waiting for headers] [Waiting for headers] [Conn\r                                                                               \rGet:8 http://archive.ubuntu.com/ubuntu bionic-backports InRelease [74.6 kB]\n",
            "Hit:9 http://ppa.launchpad.net/graphics-drivers/ppa/ubuntu bionic InRelease\n",
            "Get:10 http://ppa.launchpad.net/c2d4u.team/c2d4u4.0+/ubuntu bionic/main Sources [2,099 kB]\n",
            "Get:11 http://ppa.launchpad.net/c2d4u.team/c2d4u4.0+/ubuntu bionic/main amd64 Packages [1,076 kB]\n",
            "Get:12 http://security.ubuntu.com/ubuntu bionic-security/universe amd64 Packages [1,540 kB]\n",
            "Ign:13 https://developer.download.nvidia.com/compute/machine-learning/repos/ubuntu1804/x86_64  InRelease\n",
            "Hit:14 https://developer.download.nvidia.com/compute/cuda/repos/ubuntu1804/x86_64  InRelease\n",
            "Hit:15 https://developer.download.nvidia.com/compute/machine-learning/repos/ubuntu1804/x86_64  Release\n",
            "Get:16 http://security.ubuntu.com/ubuntu bionic-security/restricted amd64 Packages [1,131 kB]\n",
            "Get:17 http://security.ubuntu.com/ubuntu bionic-security/main amd64 Packages [2,965 kB]\n",
            "Get:18 https://cloud.r-project.org/bin/linux/ubuntu bionic-cran40/ Packages [91.7 kB]\n",
            "Get:19 http://archive.ubuntu.com/ubuntu bionic-updates/restricted amd64 Packages [1,172 kB]\n",
            "Get:20 http://archive.ubuntu.com/ubuntu bionic-updates/main amd64 Packages [3,396 kB]\n",
            "Get:21 http://ppa.launchpad.net/deadsnakes/ppa/ubuntu bionic/main amd64 Packages [45.2 kB]\n",
            "Fetched 13.8 MB in 2s (6,603 kB/s)\n",
            "Reading package lists... Done\n"
          ]
        }
      ]
    },
    {
      "cell_type": "code",
      "source": [
        "# Add drivers to Spark\n",
        "from pyspark.sql import SparkSession\n",
        "spark = SparkSession.builder.appName(\"CloudETL\").config(\"spark.driver.extraClassPath\",\"/content/postgresql-42.2.16.jar\").getOrCreate()"
      ],
      "metadata": {
        "id": "4cJ9bkQfazVd"
      },
      "execution_count": 3,
      "outputs": []
    },
    {
      "cell_type": "markdown",
      "source": [
        "# Read the CSV and Perform Basic Data Cleaning"
      ],
      "metadata": {
        "id": "zCkXrETHz3fM"
      }
    },
    {
      "cell_type": "code",
      "source": [
        "# Read in data from S3 Buckets\n",
        "from pyspark import SparkFiles\n",
        "url =\"https://uaresources.s3.us-west-1.amazonaws.com/sentiment_joined_events_twitter_post_ml.csv\"\n",
        "\n",
        "spark.sparkContext.addFile(url)\n",
        "text_df = spark.read.csv(SparkFiles.get(\"sentiment_joined_events_twitter_post_ml.csv\"), sep=\",\", header=True, inferSchema=True)\n",
        "\n",
        "\n",
        "# Show DataFrame\n",
        "text_df.show()"
      ],
      "metadata": {
        "colab": {
          "base_uri": "https://localhost:8080/"
        },
        "id": "E4i71sMR0D-v",
        "outputId": "febc412a-c716-4583-c181-8715cf90a458"
      },
      "execution_count": 4,
      "outputs": [
        {
          "output_type": "stream",
          "name": "stdout",
          "text": [
            "+---+---------------+---------+---------+-----------+-------------+--------------+------------+--------------------+--------+--------------+----------+---------------+-----------+----------+--------------+-------------+-------+--------------------+--------------------+--------------------+--------------------+\n",
            "|_c0|       username|following|followers|totaltweets|usercreatedts|tweetcreatedts|retweetcount|            hashtags|language|favorite_count|is_retweet|is_quote_status|extractedts|weekofyear|date_published|search_result| weight|        cleaned_text|            negative|             neutral|            positive|\n",
            "+---+---------------+---------+---------+-----------+-------------+--------------+------------+--------------------+--------+--------------+----------+---------------+-----------+----------+--------------+-------------+-------+--------------------+--------------------+--------------------+--------------------+\n",
            "|  0|      WashTimes|   1893.0| 417389.0|   335685.0|   2008-05-05|    2022-02-26|         0.0|[{'text': 'Ukrain...|      en|           0.0|      null|           null| 2022-02-26|       8.0|    2022-02-26|     106000.0|5.33E-4|democrats urge bi...|  0.2224726676940918|  0.7470845580101013|0.030442820861935616|\n",
            "|  1|      jacarroll|     64.0|    254.0|      110.0|   2008-01-07|    2022-02-26|         0.0|[{'text': 'StandW...|      en|           0.0|      null|           null| 2022-02-26|       8.0|    2022-02-26|     106000.0|5.33E-4|now is the time t...| 0.07832402735948563|  0.7999049425125122| 0.12177100032567978|\n",
            "|  2|          axelk|   5766.0|   5329.0|   119448.0|   2007-06-14|    2022-02-26|         4.0|                  []|      en|           0.0|      null|           null| 2022-02-26|       8.0|    2022-02-26|     106000.0|5.33E-4|just grasping at ...| 0.14749988913536072|  0.8244428634643555|0.028057189658284187|\n",
            "|  3|         ds2719|    294.0|    172.0|    15270.0|   2007-07-21|    2022-02-26|       894.0|                  []|      en|           0.0|      null|           null| 2022-02-26|       8.0|    2022-02-26|     106000.0|5.33E-4|this is huge russ...|  0.8839549422264099| 0.10992876440286636|0.006116343662142754|\n",
            "|  4|scholar_at_arms|    975.0|     75.0|     1988.0|   2008-09-26|    2022-02-26|         0.0|[{'text': 'KyivDe...|      en|           0.0|      null|           null| 2022-02-26|       8.0|    2022-02-26|     106000.0|5.33E-4|    please take care| 0.06343661993741989|  0.6434507369995117|  0.2931126654148102|\n",
            "|  5|         ronlin|   5055.0|  13180.0|    18953.0|   2008-04-22|    2022-02-26|        98.0|[{'text': 'Kyiv',...|      en|           0.0|      null|           null| 2022-02-26|       8.0|    2022-02-26|     106000.0|5.33E-4|     building hit in|  0.1364041119813919|  0.6727378368377686| 0.19085803627967834|\n",
            "|  6|        catmuir|    772.0|    161.0|     4843.0|   2006-12-06|    2022-02-26|      2407.0|                  []|      en|           0.0|      null|           null| 2022-02-26|       8.0|    2022-02-26|     106000.0|5.33E-4|faith in humanity...|0.002919120248407...|0.033193085342645645|  0.9638878703117371|\n",
            "|  7|        kimvais|    706.0|    262.0|     5145.0|   2008-04-25|    2022-02-26|        78.0|                  []|      en|           0.0|      null|           null| 2022-02-26|       8.0|    2022-02-26|     106000.0|5.33E-4|since finnish pol...| 0.11655925959348679|  0.8311118483543396| 0.05232888087630272|\n",
            "|  8|michpendergrass|    150.0|   1526.0|    30428.0|   2008-04-08|    2022-02-26|      4196.0|[{'text': 'Kyiv',...|      en|           0.0|      null|           null| 2022-02-26|       8.0|    2022-02-26|     106000.0|5.33E-4|in 60 mins will b...|  0.8187430500984192| 0.17362196743488312|0.007634981535375118|\n",
            "|  9|         ccc530|   1046.0|    172.0|    12741.0|   2008-07-20|    2022-02-26|         4.0|[{'text': 'Ukrain...|      en|           0.0|      null|           null| 2022-02-26|       8.0|    2022-02-26|     106000.0|5.33E-4|i cant wait for t...|0.007732528261840...| 0.02516697533428669|  0.9671004414558411|\n",
            "| 10|     dSebastien|    120.0|   1666.0|     9383.0|   2007-09-08|    2022-02-26|      9639.0|                  []|      en|           0.0|      null|           null| 2022-02-26|       8.0|    2022-02-26|     106000.0|5.33E-4|so ive been asked...|  0.3604144752025604|  0.6137970089912415|0.025788525119423866|\n",
            "| 11|       SaraSees|    174.0|    159.0|     1473.0|   2008-07-30|    2022-02-26|       567.0|[{'text': 'Ukrain...|      en|           0.0|      null|           null| 2022-02-26|       8.0|    2022-02-26|     106000.0|5.33E-4|      rip braveheart| 0.01728304848074913|  0.4310351014137268|  0.5516818761825562|\n",
            "| 12|      jacarroll|     64.0|    254.0|      111.0|   2008-01-07|    2022-02-26|         0.0|[{'text': 'Freedo...|      en|           0.0|      null|           null| 2022-02-26|       8.0|    2022-02-26|     106000.0|5.33E-4|wonder how all th...|  0.7072803974151611|  0.2759404182434082|0.016779163852334023|\n",
            "| 13| mistergrainger|    732.0|    355.0|     1925.0|   2008-04-28|    2022-02-26|       131.0|                  []|      en|           0.0|      null|           null| 2022-02-26|       8.0|    2022-02-26|     106000.0|5.33E-4|pr agency friends...| 0.17842553555965424|  0.6558187007904053| 0.16575568914413452|\n",
            "| 14|         Maartn|    762.0|  19633.0|    12984.0|   2008-12-14|    2022-02-26|      8194.0|[{'text': 'Russia...|      en|           0.0|      null|           null| 2022-02-26|       8.0|    2022-02-26|     106000.0|5.33E-4|just in state tv ...|  0.5507236123085022| 0.43690672516822815|0.012369711883366108|\n",
            "| 15|        0xKruzr|   1487.0|   3021.0|   234295.0|   2007-04-23|    2022-02-26|       336.0|[{'text': 'PutinH...|      en|           0.0|      null|           null| 2022-02-26|       8.0|    2022-02-26|     106000.0|5.33E-4|residential area ...| 0.21445541083812714|  0.7651109099388123|0.020433666184544563|\n",
            "| 16|    firejack007|   1085.0|    520.0|    56005.0|   2008-09-24|    2022-02-26|         6.0|[{'text': 'BREAKI...|      en|           0.0|      null|           null| 2022-02-26|       8.0|    2022-02-26|     106000.0|5.33E-4| mariupol is bein...|  0.6662042140960693|  0.3265540599822998|0.007241743616759777|\n",
            "| 17|       gcruchon|   1224.0|    778.0|     5130.0|   2008-08-23|    2022-02-26|         0.0|[{'text': 'Anonym...|      en|           0.0|      null|           null| 2022-02-26|       8.0|    2022-02-26|     106000.0|5.33E-4|so proud of  the ...|0.006055434700101614| 0.11299528181552887|  0.8809493184089661|\n",
            "| 18|      crazyintx|    801.0|    158.0|    12580.0|   2008-11-10|    2022-02-26|        63.0|[{'text': 'kyiv',...|      en|           0.0|      null|           null| 2022-02-26|       8.0|    2022-02-26|     106000.0|5.33E-4|air raid sirens  ...|  0.2825124263763428|  0.6869344711303711|0.030553089454770088|\n",
            "| 19|      proudmari|   1834.0|    517.0|    20397.0|   2008-03-20|    2022-02-26|      8996.0|[{'text': 'Ukrain...|      en|           0.0|      null|           null| 2022-02-26|       8.0|    2022-02-26|     106000.0|5.33E-4|russian state tv ...|  0.6606462597846985|  0.3296593129634857| 0.00969446450471878|\n",
            "+---+---------------+---------+---------+-----------+-------------+--------------+------------+--------------------+--------+--------------+----------+---------------+-----------+----------+--------------+-------------+-------+--------------------+--------------------+--------------------+--------------------+\n",
            "only showing top 20 rows\n",
            "\n"
          ]
        }
      ]
    },
    {
      "cell_type": "code",
      "source": [
        "# convert spark dataframe to pandas\n",
        "joined_data_df = text_df.toPandas()\n",
        "joined_data_df.head(5)\n",
        "\n",
        "\n"
      ],
      "metadata": {
        "id": "hFi1Cllx1Sc_",
        "colab": {
          "base_uri": "https://localhost:8080/",
          "height": 535
        },
        "outputId": "e3cb6b5b-ba54-4f6d-940f-482662d59799"
      },
      "execution_count": 15,
      "outputs": [
        {
          "output_type": "execute_result",
          "data": {
            "text/plain": [
              "   _c0         username  following  followers  totaltweets usercreatedts  \\\n",
              "0    0        WashTimes     1893.0   417389.0     335685.0    2008-05-05   \n",
              "1    1        jacarroll       64.0      254.0        110.0    2008-01-07   \n",
              "2    2            axelk     5766.0     5329.0     119448.0    2007-06-14   \n",
              "3    3           ds2719      294.0      172.0      15270.0    2007-07-21   \n",
              "4    4  scholar_at_arms      975.0       75.0       1988.0    2008-09-26   \n",
              "\n",
              "  tweetcreatedts  retweetcount  \\\n",
              "0     2022-02-26           0.0   \n",
              "1     2022-02-26           0.0   \n",
              "2     2022-02-26           4.0   \n",
              "3     2022-02-26         894.0   \n",
              "4     2022-02-26           0.0   \n",
              "\n",
              "                                            hashtags language  ...  \\\n",
              "0  [{'text': 'UkraineCrisis', 'indices': [102, 11...       en  ...   \n",
              "1  [{'text': 'StandWithUkriane', 'indices': [58, ...       en  ...   \n",
              "2                                                 []       en  ...   \n",
              "3                                                 []       en  ...   \n",
              "4  [{'text': 'KyivDefiant', 'indices': [18, 30]},...       en  ...   \n",
              "\n",
              "   is_quote_status extractedts weekofyear date_published  search_result  \\\n",
              "0             None  2022-02-26        8.0     2022-02-26       106000.0   \n",
              "1             None  2022-02-26        8.0     2022-02-26       106000.0   \n",
              "2             None  2022-02-26        8.0     2022-02-26       106000.0   \n",
              "3             None  2022-02-26        8.0     2022-02-26       106000.0   \n",
              "4             None  2022-02-26        8.0     2022-02-26       106000.0   \n",
              "\n",
              "     weight                                       cleaned_text  negative  \\\n",
              "0  0.000533  democrats urge biden to counter pain at pump w...  0.222473   \n",
              "1  0.000533           now is the time to annex cuba just sayin  0.078324   \n",
              "2  0.000533  just grasping at straws here but does anyone h...  0.147500   \n",
              "3  0.000533  this is huge russia will be expelled from the ...  0.883955   \n",
              "4  0.000533                                   please take care  0.063437   \n",
              "\n",
              "    neutral  positive  \n",
              "0  0.747085  0.030443  \n",
              "1  0.799905  0.121771  \n",
              "2  0.824443  0.028057  \n",
              "3  0.109929  0.006116  \n",
              "4  0.643451  0.293113  \n",
              "\n",
              "[5 rows x 22 columns]"
            ],
            "text/html": [
              "\n",
              "  <div id=\"df-a8dbd861-54a4-493c-9ada-a5e60a5b4b31\">\n",
              "    <div class=\"colab-df-container\">\n",
              "      <div>\n",
              "<style scoped>\n",
              "    .dataframe tbody tr th:only-of-type {\n",
              "        vertical-align: middle;\n",
              "    }\n",
              "\n",
              "    .dataframe tbody tr th {\n",
              "        vertical-align: top;\n",
              "    }\n",
              "\n",
              "    .dataframe thead th {\n",
              "        text-align: right;\n",
              "    }\n",
              "</style>\n",
              "<table border=\"1\" class=\"dataframe\">\n",
              "  <thead>\n",
              "    <tr style=\"text-align: right;\">\n",
              "      <th></th>\n",
              "      <th>_c0</th>\n",
              "      <th>username</th>\n",
              "      <th>following</th>\n",
              "      <th>followers</th>\n",
              "      <th>totaltweets</th>\n",
              "      <th>usercreatedts</th>\n",
              "      <th>tweetcreatedts</th>\n",
              "      <th>retweetcount</th>\n",
              "      <th>hashtags</th>\n",
              "      <th>language</th>\n",
              "      <th>...</th>\n",
              "      <th>is_quote_status</th>\n",
              "      <th>extractedts</th>\n",
              "      <th>weekofyear</th>\n",
              "      <th>date_published</th>\n",
              "      <th>search_result</th>\n",
              "      <th>weight</th>\n",
              "      <th>cleaned_text</th>\n",
              "      <th>negative</th>\n",
              "      <th>neutral</th>\n",
              "      <th>positive</th>\n",
              "    </tr>\n",
              "  </thead>\n",
              "  <tbody>\n",
              "    <tr>\n",
              "      <th>0</th>\n",
              "      <td>0</td>\n",
              "      <td>WashTimes</td>\n",
              "      <td>1893.0</td>\n",
              "      <td>417389.0</td>\n",
              "      <td>335685.0</td>\n",
              "      <td>2008-05-05</td>\n",
              "      <td>2022-02-26</td>\n",
              "      <td>0.0</td>\n",
              "      <td>[{'text': 'UkraineCrisis', 'indices': [102, 11...</td>\n",
              "      <td>en</td>\n",
              "      <td>...</td>\n",
              "      <td>None</td>\n",
              "      <td>2022-02-26</td>\n",
              "      <td>8.0</td>\n",
              "      <td>2022-02-26</td>\n",
              "      <td>106000.0</td>\n",
              "      <td>0.000533</td>\n",
              "      <td>democrats urge biden to counter pain at pump w...</td>\n",
              "      <td>0.222473</td>\n",
              "      <td>0.747085</td>\n",
              "      <td>0.030443</td>\n",
              "    </tr>\n",
              "    <tr>\n",
              "      <th>1</th>\n",
              "      <td>1</td>\n",
              "      <td>jacarroll</td>\n",
              "      <td>64.0</td>\n",
              "      <td>254.0</td>\n",
              "      <td>110.0</td>\n",
              "      <td>2008-01-07</td>\n",
              "      <td>2022-02-26</td>\n",
              "      <td>0.0</td>\n",
              "      <td>[{'text': 'StandWithUkriane', 'indices': [58, ...</td>\n",
              "      <td>en</td>\n",
              "      <td>...</td>\n",
              "      <td>None</td>\n",
              "      <td>2022-02-26</td>\n",
              "      <td>8.0</td>\n",
              "      <td>2022-02-26</td>\n",
              "      <td>106000.0</td>\n",
              "      <td>0.000533</td>\n",
              "      <td>now is the time to annex cuba just sayin</td>\n",
              "      <td>0.078324</td>\n",
              "      <td>0.799905</td>\n",
              "      <td>0.121771</td>\n",
              "    </tr>\n",
              "    <tr>\n",
              "      <th>2</th>\n",
              "      <td>2</td>\n",
              "      <td>axelk</td>\n",
              "      <td>5766.0</td>\n",
              "      <td>5329.0</td>\n",
              "      <td>119448.0</td>\n",
              "      <td>2007-06-14</td>\n",
              "      <td>2022-02-26</td>\n",
              "      <td>4.0</td>\n",
              "      <td>[]</td>\n",
              "      <td>en</td>\n",
              "      <td>...</td>\n",
              "      <td>None</td>\n",
              "      <td>2022-02-26</td>\n",
              "      <td>8.0</td>\n",
              "      <td>2022-02-26</td>\n",
              "      <td>106000.0</td>\n",
              "      <td>0.000533</td>\n",
              "      <td>just grasping at straws here but does anyone h...</td>\n",
              "      <td>0.147500</td>\n",
              "      <td>0.824443</td>\n",
              "      <td>0.028057</td>\n",
              "    </tr>\n",
              "    <tr>\n",
              "      <th>3</th>\n",
              "      <td>3</td>\n",
              "      <td>ds2719</td>\n",
              "      <td>294.0</td>\n",
              "      <td>172.0</td>\n",
              "      <td>15270.0</td>\n",
              "      <td>2007-07-21</td>\n",
              "      <td>2022-02-26</td>\n",
              "      <td>894.0</td>\n",
              "      <td>[]</td>\n",
              "      <td>en</td>\n",
              "      <td>...</td>\n",
              "      <td>None</td>\n",
              "      <td>2022-02-26</td>\n",
              "      <td>8.0</td>\n",
              "      <td>2022-02-26</td>\n",
              "      <td>106000.0</td>\n",
              "      <td>0.000533</td>\n",
              "      <td>this is huge russia will be expelled from the ...</td>\n",
              "      <td>0.883955</td>\n",
              "      <td>0.109929</td>\n",
              "      <td>0.006116</td>\n",
              "    </tr>\n",
              "    <tr>\n",
              "      <th>4</th>\n",
              "      <td>4</td>\n",
              "      <td>scholar_at_arms</td>\n",
              "      <td>975.0</td>\n",
              "      <td>75.0</td>\n",
              "      <td>1988.0</td>\n",
              "      <td>2008-09-26</td>\n",
              "      <td>2022-02-26</td>\n",
              "      <td>0.0</td>\n",
              "      <td>[{'text': 'KyivDefiant', 'indices': [18, 30]},...</td>\n",
              "      <td>en</td>\n",
              "      <td>...</td>\n",
              "      <td>None</td>\n",
              "      <td>2022-02-26</td>\n",
              "      <td>8.0</td>\n",
              "      <td>2022-02-26</td>\n",
              "      <td>106000.0</td>\n",
              "      <td>0.000533</td>\n",
              "      <td>please take care</td>\n",
              "      <td>0.063437</td>\n",
              "      <td>0.643451</td>\n",
              "      <td>0.293113</td>\n",
              "    </tr>\n",
              "  </tbody>\n",
              "</table>\n",
              "<p>5 rows × 22 columns</p>\n",
              "</div>\n",
              "      <button class=\"colab-df-convert\" onclick=\"convertToInteractive('df-a8dbd861-54a4-493c-9ada-a5e60a5b4b31')\"\n",
              "              title=\"Convert this dataframe to an interactive table.\"\n",
              "              style=\"display:none;\">\n",
              "        \n",
              "  <svg xmlns=\"http://www.w3.org/2000/svg\" height=\"24px\"viewBox=\"0 0 24 24\"\n",
              "       width=\"24px\">\n",
              "    <path d=\"M0 0h24v24H0V0z\" fill=\"none\"/>\n",
              "    <path d=\"M18.56 5.44l.94 2.06.94-2.06 2.06-.94-2.06-.94-.94-2.06-.94 2.06-2.06.94zm-11 1L8.5 8.5l.94-2.06 2.06-.94-2.06-.94L8.5 2.5l-.94 2.06-2.06.94zm10 10l.94 2.06.94-2.06 2.06-.94-2.06-.94-.94-2.06-.94 2.06-2.06.94z\"/><path d=\"M17.41 7.96l-1.37-1.37c-.4-.4-.92-.59-1.43-.59-.52 0-1.04.2-1.43.59L10.3 9.45l-7.72 7.72c-.78.78-.78 2.05 0 2.83L4 21.41c.39.39.9.59 1.41.59.51 0 1.02-.2 1.41-.59l7.78-7.78 2.81-2.81c.8-.78.8-2.07 0-2.86zM5.41 20L4 18.59l7.72-7.72 1.47 1.35L5.41 20z\"/>\n",
              "  </svg>\n",
              "      </button>\n",
              "      \n",
              "  <style>\n",
              "    .colab-df-container {\n",
              "      display:flex;\n",
              "      flex-wrap:wrap;\n",
              "      gap: 12px;\n",
              "    }\n",
              "\n",
              "    .colab-df-convert {\n",
              "      background-color: #E8F0FE;\n",
              "      border: none;\n",
              "      border-radius: 50%;\n",
              "      cursor: pointer;\n",
              "      display: none;\n",
              "      fill: #1967D2;\n",
              "      height: 32px;\n",
              "      padding: 0 0 0 0;\n",
              "      width: 32px;\n",
              "    }\n",
              "\n",
              "    .colab-df-convert:hover {\n",
              "      background-color: #E2EBFA;\n",
              "      box-shadow: 0px 1px 2px rgba(60, 64, 67, 0.3), 0px 1px 3px 1px rgba(60, 64, 67, 0.15);\n",
              "      fill: #174EA6;\n",
              "    }\n",
              "\n",
              "    [theme=dark] .colab-df-convert {\n",
              "      background-color: #3B4455;\n",
              "      fill: #D2E3FC;\n",
              "    }\n",
              "\n",
              "    [theme=dark] .colab-df-convert:hover {\n",
              "      background-color: #434B5C;\n",
              "      box-shadow: 0px 1px 3px 1px rgba(0, 0, 0, 0.15);\n",
              "      filter: drop-shadow(0px 1px 2px rgba(0, 0, 0, 0.3));\n",
              "      fill: #FFFFFF;\n",
              "    }\n",
              "  </style>\n",
              "\n",
              "      <script>\n",
              "        const buttonEl =\n",
              "          document.querySelector('#df-a8dbd861-54a4-493c-9ada-a5e60a5b4b31 button.colab-df-convert');\n",
              "        buttonEl.style.display =\n",
              "          google.colab.kernel.accessAllowed ? 'block' : 'none';\n",
              "\n",
              "        async function convertToInteractive(key) {\n",
              "          const element = document.querySelector('#df-a8dbd861-54a4-493c-9ada-a5e60a5b4b31');\n",
              "          const dataTable =\n",
              "            await google.colab.kernel.invokeFunction('convertToInteractive',\n",
              "                                                     [key], {});\n",
              "          if (!dataTable) return;\n",
              "\n",
              "          const docLinkHtml = 'Like what you see? Visit the ' +\n",
              "            '<a target=\"_blank\" href=https://colab.research.google.com/notebooks/data_table.ipynb>data table notebook</a>'\n",
              "            + ' to learn more about interactive tables.';\n",
              "          element.innerHTML = '';\n",
              "          dataTable['output_type'] = 'display_data';\n",
              "          await google.colab.output.renderOutput(dataTable, element);\n",
              "          const docLink = document.createElement('div');\n",
              "          docLink.innerHTML = docLinkHtml;\n",
              "          element.appendChild(docLink);\n",
              "        }\n",
              "      </script>\n",
              "    </div>\n",
              "  </div>\n",
              "  "
            ]
          },
          "metadata": {},
          "execution_count": 15
        }
      ]
    },
    {
      "cell_type": "markdown",
      "source": [
        "# Explore the data if nothing lost"
      ],
      "metadata": {
        "id": "PDRBYqOKTfPx"
      }
    },
    {
      "cell_type": "code",
      "source": [
        "# Converting 'tweetcreatedts' to dtype datetime\n",
        "joined_data_df['tweetcreatedts']=pd.to_datetime(joined_data_df['tweetcreatedts'])"
      ],
      "metadata": {
        "id": "cOD6afUQ8gYX"
      },
      "execution_count": 16,
      "outputs": []
    },
    {
      "cell_type": "code",
      "source": [
        "earliest_tweet = joined_data_df[\"tweetcreatedts\"].min()\n",
        "latest_tweet = joined_data_df[\"tweetcreatedts\"].max()\n",
        "\n",
        "print(f\"The earliest tweet was at {earliest_tweet}, and the latest was at {latest_tweet}\")"
      ],
      "metadata": {
        "colab": {
          "base_uri": "https://localhost:8080/"
        },
        "id": "9tIz45PCTai6",
        "outputId": "437e2d68-783b-4be1-bf68-df7214362ec7"
      },
      "execution_count": 17,
      "outputs": [
        {
          "output_type": "stream",
          "name": "stdout",
          "text": [
            "The earliest tweet was at 2022-02-24 00:00:00, and the latest was at 2022-08-18 00:00:00\n"
          ]
        }
      ]
    },
    {
      "cell_type": "code",
      "source": [
        "from pandas.core.arrays.datetimelike import DatetimeLikeScalar\n",
        "from numpy.core.multiarray import datetime_as_string\n",
        "#Get the plot of tweet count by date \n",
        "dates = joined_data_df[\"tweetcreatedts\"]\n",
        "\n",
        "# group tweet timestamps by date and get tweet count for each date\n",
        "tweetcount_by_date = joined_data_df[\"tweetcreatedts\"].groupby(dates).size()\n",
        "\n",
        "# plot bar graph of tweet count by date\n",
        "tweetcount_by_date.plot.bar();\n",
        "\n",
        "plt.title(\" Tweet Count by Date\")\n",
        "plt.xlabel(\"Tweet Date\")\n",
        "plt.ylabel(\"Tweet Count\")\n",
        "plt.xticks(rotation=45)\n",
        "plt.show()"
      ],
      "metadata": {
        "colab": {
          "base_uri": "https://localhost:8080/",
          "height": 367
        },
        "id": "uMATbtKNT-Ja",
        "outputId": "375b94ce-5c55-4cd5-802e-e8fa7ac667a7"
      },
      "execution_count": 18,
      "outputs": [
        {
          "output_type": "display_data",
          "data": {
            "text/plain": [
              "<Figure size 432x288 with 1 Axes>"
            ],
            "image/png": "[encoded data removed]"
          },
          "metadata": {
            "needs_background": "light"
          }
        }
      ]
    },
    {
      "cell_type": "code",
      "source": [
        "#Get the plot of negative score by date of tweet\n",
        "negative_df = joined_data_df[['tweetcreatedts', 'negative']]\n",
        "\n",
        "negative_by_date = negative_df.groupby([negative_df['tweetcreatedts']]).mean()\n",
        "\n",
        "# plot bar graph of tweet count by date\n",
        "negative_by_date.plot.line();\n",
        "\n",
        "plt.title(\"Negative Tweet Sentiments by Date\")\n",
        "plt.xlabel(\"Tweet Date\")\n",
        "plt.ylabel(\"Negative Sentiment\")\n",
        "plt.xticks(rotation=45)\n",
        "plt.show()\n"
      ],
      "metadata": {
        "colab": {
          "base_uri": "https://localhost:8080/",
          "height": 300
        },
        "id": "9oE0hS5fT2Gp",
        "outputId": "05b2df99-9aba-4359-c07a-801b6849a184"
      },
      "execution_count": 19,
      "outputs": [
        {
          "output_type": "display_data",
          "data": {
            "text/plain": [
              "<Figure size 432x288 with 1 Axes>"
            ],
            "image/png": "[encoded data removed]"
          },
          "metadata": {
            "needs_background": "light"
          }
        }
      ]
    },
    {
      "cell_type": "code",
      "source": [
        "#Get the plot of day weight by date\n",
        "joined_data_df.plot.line(x='tweetcreatedts', y='weight');\n",
        "\n",
        "plt.title(\"Weight by Date\")\n",
        "plt.xlabel(\"Date\")\n",
        "plt.ylabel(\"Weight\")\n",
        "plt.xticks(rotation=45)\n",
        "plt.yticks(rotation=0)\n",
        "plt.show()"
      ],
      "metadata": {
        "colab": {
          "base_uri": "https://localhost:8080/",
          "height": 300
        },
        "id": "fwqwMpVPUD51",
        "outputId": "50990f60-ec0c-4274-caf5-052c841b33ac"
      },
      "execution_count": 20,
      "outputs": [
        {
          "output_type": "display_data",
          "data": {
            "text/plain": [
              "<Figure size 432x288 with 1 Axes>"
            ],
            "image/png": "[encoded data removed]"
          },
          "metadata": {
            "needs_background": "light"
          }
        }
      ]
    },
    {
      "cell_type": "markdown",
      "source": [
        "# Cleaning and converting the data"
      ],
      "metadata": {
        "id": "30kKvD5XUJ2F"
      }
    },
    {
      "cell_type": "code",
      "source": [
        "# Drop the not needed column\n",
        "joined_data_df.drop(\"username\", axis=1, inplace=True)\n",
        "joined_data_df.drop(\"usercreatedts\", axis=1, inplace=True)\n",
        "joined_data_df.drop(\"language\", axis=1, inplace=True)\n",
        "joined_data_df.drop(\"favorite_count\", axis=1, inplace=True)\n",
        "joined_data_df.drop(\"extractedts\", axis=1, inplace=True)\n",
        "joined_data_df.drop(\"weekofyear\", axis=1, inplace=True)\n",
        "joined_data_df.drop(\"neutral\", axis=1, inplace=True)\n",
        "joined_data_df.drop(\"positive\", axis=1, inplace=True)\n",
        "joined_data_df.drop(\"search_result\", axis=1, inplace=True)\n",
        "joined_data_df.drop(\"retweetcount\", axis=1, inplace=True)\n",
        "joined_data_df.drop(\"hashtags\", axis=1, inplace=True)\n",
        "joined_data_df.drop(\"date_published\", axis=1, inplace=True)"
      ],
      "metadata": {
        "id": "65XyPIB_UMMP"
      },
      "execution_count": 21,
      "outputs": []
    },
    {
      "cell_type": "code",
      "source": [
        "# convert text to text lenght and drop the text\n",
        "joined_data_df['text_length']  = joined_data_df['cleaned_text'].str.len()\n",
        "joined_data_df.drop(\"cleaned_text\", axis=1, inplace=True)"
      ],
      "metadata": {
        "id": "1YFdb8AcUirW"
      },
      "execution_count": 22,
      "outputs": []
    },
    {
      "cell_type": "code",
      "source": [
        "# Change object type to boolean for columns 'is_retweet' and 'is_quote_status'\n",
        "joined_data_df[\"is_retweet\"] = joined_data_df['is_retweet'].astype(bool)\n",
        "joined_data_df[\"is_quote_status\"] = joined_data_df['is_quote_status'].astype(bool)"
      ],
      "metadata": {
        "id": "eOlFNs9MUqZ6"
      },
      "execution_count": 23,
      "outputs": []
    },
    {
      "cell_type": "markdown",
      "source": [
        "# Get the average score of negative sentiment by date"
      ],
      "metadata": {
        "id": "PnZFD7VoVs6B"
      }
    },
    {
      "cell_type": "code",
      "source": [
        "#Ensure that 'tweetcreatedts' is of dtype datetime\n",
        "# Check data types\n",
        "joined_data_df.info()"
      ],
      "metadata": {
        "colab": {
          "base_uri": "https://localhost:8080/"
        },
        "id": "hQiQ-nBkV8wb",
        "outputId": "5f714883-ef06-47a7-b951-1579b1e2edaa"
      },
      "execution_count": 24,
      "outputs": [
        {
          "output_type": "stream",
          "name": "stdout",
          "text": [
            "<class 'pandas.core.frame.DataFrame'>\n",
            "RangeIndex: 713009 entries, 0 to 713008\n",
            "Data columns (total 10 columns):\n",
            " #   Column           Non-Null Count   Dtype         \n",
            "---  ------           --------------   -----         \n",
            " 0   _c0              713009 non-null  int32         \n",
            " 1   following        713008 non-null  float64       \n",
            " 2   followers        713008 non-null  float64       \n",
            " 3   totaltweets      713008 non-null  float64       \n",
            " 4   tweetcreatedts   713008 non-null  datetime64[ns]\n",
            " 5   is_retweet       713009 non-null  bool          \n",
            " 6   is_quote_status  713009 non-null  bool          \n",
            " 7   weight           710367 non-null  float64       \n",
            " 8   negative         713009 non-null  float64       \n",
            " 9   text_length      712998 non-null  float64       \n",
            "dtypes: bool(2), datetime64[ns](1), float64(6), int32(1)\n",
            "memory usage: 42.2 MB\n"
          ]
        }
      ]
    },
    {
      "cell_type": "code",
      "source": [
        "# Create a new dataframe with average score\n",
        "average_score_df = joined_data_df.groupby(joined_data_df['tweetcreatedts'].dt.date)['negative'].mean().reset_index()\n",
        "average_score_df.head(5)"
      ],
      "metadata": {
        "colab": {
          "base_uri": "https://localhost:8080/",
          "height": 204
        },
        "id": "cnth4DYtVzxR",
        "outputId": "4ed3eb5d-fc40-42d7-affb-d22ed4f12482"
      },
      "execution_count": 25,
      "outputs": [
        {
          "output_type": "execute_result",
          "data": {
            "text/plain": [
              "  tweetcreatedts  negative\n",
              "0     2022-02-24  0.430596\n",
              "1     2022-02-25  0.366838\n",
              "2     2022-02-26  0.366291\n",
              "3     2022-02-27  0.378774\n",
              "4     2022-02-28  0.370100"
            ],
            "text/html": [
              "\n",
              "  <div id=\"df-8f4cc529-b8f1-48e5-9e45-c9fc894a48e7\">\n",
              "    <div class=\"colab-df-container\">\n",
              "      <div>\n",
              "<style scoped>\n",
              "    .dataframe tbody tr th:only-of-type {\n",
              "        vertical-align: middle;\n",
              "    }\n",
              "\n",
              "    .dataframe tbody tr th {\n",
              "        vertical-align: top;\n",
              "    }\n",
              "\n",
              "    .dataframe thead th {\n",
              "        text-align: right;\n",
              "    }\n",
              "</style>\n",
              "<table border=\"1\" class=\"dataframe\">\n",
              "  <thead>\n",
              "    <tr style=\"text-align: right;\">\n",
              "      <th></th>\n",
              "      <th>tweetcreatedts</th>\n",
              "      <th>negative</th>\n",
              "    </tr>\n",
              "  </thead>\n",
              "  <tbody>\n",
              "    <tr>\n",
              "      <th>0</th>\n",
              "      <td>2022-02-24</td>\n",
              "      <td>0.430596</td>\n",
              "    </tr>\n",
              "    <tr>\n",
              "      <th>1</th>\n",
              "      <td>2022-02-25</td>\n",
              "      <td>0.366838</td>\n",
              "    </tr>\n",
              "    <tr>\n",
              "      <th>2</th>\n",
              "      <td>2022-02-26</td>\n",
              "      <td>0.366291</td>\n",
              "    </tr>\n",
              "    <tr>\n",
              "      <th>3</th>\n",
              "      <td>2022-02-27</td>\n",
              "      <td>0.378774</td>\n",
              "    </tr>\n",
              "    <tr>\n",
              "      <th>4</th>\n",
              "      <td>2022-02-28</td>\n",
              "      <td>0.370100</td>\n",
              "    </tr>\n",
              "  </tbody>\n",
              "</table>\n",
              "</div>\n",
              "      <button class=\"colab-df-convert\" onclick=\"convertToInteractive('df-8f4cc529-b8f1-48e5-9e45-c9fc894a48e7')\"\n",
              "              title=\"Convert this dataframe to an interactive table.\"\n",
              "              style=\"display:none;\">\n",
              "        \n",
              "  <svg xmlns=\"http://www.w3.org/2000/svg\" height=\"24px\"viewBox=\"0 0 24 24\"\n",
              "       width=\"24px\">\n",
              "    <path d=\"M0 0h24v24H0V0z\" fill=\"none\"/>\n",
              "    <path d=\"M18.56 5.44l.94 2.06.94-2.06 2.06-.94-2.06-.94-.94-2.06-.94 2.06-2.06.94zm-11 1L8.5 8.5l.94-2.06 2.06-.94-2.06-.94L8.5 2.5l-.94 2.06-2.06.94zm10 10l.94 2.06.94-2.06 2.06-.94-2.06-.94-.94-2.06-.94 2.06-2.06.94z\"/><path d=\"M17.41 7.96l-1.37-1.37c-.4-.4-.92-.59-1.43-.59-.52 0-1.04.2-1.43.59L10.3 9.45l-7.72 7.72c-.78.78-.78 2.05 0 2.83L4 21.41c.39.39.9.59 1.41.59.51 0 1.02-.2 1.41-.59l7.78-7.78 2.81-2.81c.8-.78.8-2.07 0-2.86zM5.41 20L4 18.59l7.72-7.72 1.47 1.35L5.41 20z\"/>\n",
              "  </svg>\n",
              "      </button>\n",
              "      \n",
              "  <style>\n",
              "    .colab-df-container {\n",
              "      display:flex;\n",
              "      flex-wrap:wrap;\n",
              "      gap: 12px;\n",
              "    }\n",
              "\n",
              "    .colab-df-convert {\n",
              "      background-color: #E8F0FE;\n",
              "      border: none;\n",
              "      border-radius: 50%;\n",
              "      cursor: pointer;\n",
              "      display: none;\n",
              "      fill: #1967D2;\n",
              "      height: 32px;\n",
              "      padding: 0 0 0 0;\n",
              "      width: 32px;\n",
              "    }\n",
              "\n",
              "    .colab-df-convert:hover {\n",
              "      background-color: #E2EBFA;\n",
              "      box-shadow: 0px 1px 2px rgba(60, 64, 67, 0.3), 0px 1px 3px 1px rgba(60, 64, 67, 0.15);\n",
              "      fill: #174EA6;\n",
              "    }\n",
              "\n",
              "    [theme=dark] .colab-df-convert {\n",
              "      background-color: #3B4455;\n",
              "      fill: #D2E3FC;\n",
              "    }\n",
              "\n",
              "    [theme=dark] .colab-df-convert:hover {\n",
              "      background-color: #434B5C;\n",
              "      box-shadow: 0px 1px 3px 1px rgba(0, 0, 0, 0.15);\n",
              "      filter: drop-shadow(0px 1px 2px rgba(0, 0, 0, 0.3));\n",
              "      fill: #FFFFFF;\n",
              "    }\n",
              "  </style>\n",
              "\n",
              "      <script>\n",
              "        const buttonEl =\n",
              "          document.querySelector('#df-8f4cc529-b8f1-48e5-9e45-c9fc894a48e7 button.colab-df-convert');\n",
              "        buttonEl.style.display =\n",
              "          google.colab.kernel.accessAllowed ? 'block' : 'none';\n",
              "\n",
              "        async function convertToInteractive(key) {\n",
              "          const element = document.querySelector('#df-8f4cc529-b8f1-48e5-9e45-c9fc894a48e7');\n",
              "          const dataTable =\n",
              "            await google.colab.kernel.invokeFunction('convertToInteractive',\n",
              "                                                     [key], {});\n",
              "          if (!dataTable) return;\n",
              "\n",
              "          const docLinkHtml = 'Like what you see? Visit the ' +\n",
              "            '<a target=\"_blank\" href=https://colab.research.google.com/notebooks/data_table.ipynb>data table notebook</a>'\n",
              "            + ' to learn more about interactive tables.';\n",
              "          element.innerHTML = '';\n",
              "          dataTable['output_type'] = 'display_data';\n",
              "          await google.colab.output.renderOutput(dataTable, element);\n",
              "          const docLink = document.createElement('div');\n",
              "          docLink.innerHTML = docLinkHtml;\n",
              "          element.appendChild(docLink);\n",
              "        }\n",
              "      </script>\n",
              "    </div>\n",
              "  </div>\n",
              "  "
            ]
          },
          "metadata": {},
          "execution_count": 25
        }
      ]
    },
    {
      "cell_type": "code",
      "source": [
        "# Create a new dataframe with average weight\n",
        "average_weight_df = joined_data_df.groupby(joined_data_df['tweetcreatedts'].dt.date)['weight'].mean().reset_index()\n",
        "average_weight_df.head(5)"
      ],
      "metadata": {
        "colab": {
          "base_uri": "https://localhost:8080/",
          "height": 204
        },
        "id": "MOB6jsY-Xn9I",
        "outputId": "71537ef0-7806-4681-8eff-f4ceec6a3886"
      },
      "execution_count": 26,
      "outputs": [
        {
          "output_type": "execute_result",
          "data": {
            "text/plain": [
              "  tweetcreatedts    weight\n",
              "0     2022-02-24  0.001789\n",
              "1     2022-02-25  0.001035\n",
              "2     2022-02-26  0.000533\n",
              "3     2022-02-27  0.000558\n",
              "4     2022-02-28  0.000714"
            ],
            "text/html": [
              "\n",
              "  <div id=\"df-4c704d3f-f6ab-42ce-b5e0-4d41314b7d0e\">\n",
              "    <div class=\"colab-df-container\">\n",
              "      <div>\n",
              "<style scoped>\n",
              "    .dataframe tbody tr th:only-of-type {\n",
              "        vertical-align: middle;\n",
              "    }\n",
              "\n",
              "    .dataframe tbody tr th {\n",
              "        vertical-align: top;\n",
              "    }\n",
              "\n",
              "    .dataframe thead th {\n",
              "        text-align: right;\n",
              "    }\n",
              "</style>\n",
              "<table border=\"1\" class=\"dataframe\">\n",
              "  <thead>\n",
              "    <tr style=\"text-align: right;\">\n",
              "      <th></th>\n",
              "      <th>tweetcreatedts</th>\n",
              "      <th>weight</th>\n",
              "    </tr>\n",
              "  </thead>\n",
              "  <tbody>\n",
              "    <tr>\n",
              "      <th>0</th>\n",
              "      <td>2022-02-24</td>\n",
              "      <td>0.001789</td>\n",
              "    </tr>\n",
              "    <tr>\n",
              "      <th>1</th>\n",
              "      <td>2022-02-25</td>\n",
              "      <td>0.001035</td>\n",
              "    </tr>\n",
              "    <tr>\n",
              "      <th>2</th>\n",
              "      <td>2022-02-26</td>\n",
              "      <td>0.000533</td>\n",
              "    </tr>\n",
              "    <tr>\n",
              "      <th>3</th>\n",
              "      <td>2022-02-27</td>\n",
              "      <td>0.000558</td>\n",
              "    </tr>\n",
              "    <tr>\n",
              "      <th>4</th>\n",
              "      <td>2022-02-28</td>\n",
              "      <td>0.000714</td>\n",
              "    </tr>\n",
              "  </tbody>\n",
              "</table>\n",
              "</div>\n",
              "      <button class=\"colab-df-convert\" onclick=\"convertToInteractive('df-4c704d3f-f6ab-42ce-b5e0-4d41314b7d0e')\"\n",
              "              title=\"Convert this dataframe to an interactive table.\"\n",
              "              style=\"display:none;\">\n",
              "        \n",
              "  <svg xmlns=\"http://www.w3.org/2000/svg\" height=\"24px\"viewBox=\"0 0 24 24\"\n",
              "       width=\"24px\">\n",
              "    <path d=\"M0 0h24v24H0V0z\" fill=\"none\"/>\n",
              "    <path d=\"M18.56 5.44l.94 2.06.94-2.06 2.06-.94-2.06-.94-.94-2.06-.94 2.06-2.06.94zm-11 1L8.5 8.5l.94-2.06 2.06-.94-2.06-.94L8.5 2.5l-.94 2.06-2.06.94zm10 10l.94 2.06.94-2.06 2.06-.94-2.06-.94-.94-2.06-.94 2.06-2.06.94z\"/><path d=\"M17.41 7.96l-1.37-1.37c-.4-.4-.92-.59-1.43-.59-.52 0-1.04.2-1.43.59L10.3 9.45l-7.72 7.72c-.78.78-.78 2.05 0 2.83L4 21.41c.39.39.9.59 1.41.59.51 0 1.02-.2 1.41-.59l7.78-7.78 2.81-2.81c.8-.78.8-2.07 0-2.86zM5.41 20L4 18.59l7.72-7.72 1.47 1.35L5.41 20z\"/>\n",
              "  </svg>\n",
              "      </button>\n",
              "      \n",
              "  <style>\n",
              "    .colab-df-container {\n",
              "      display:flex;\n",
              "      flex-wrap:wrap;\n",
              "      gap: 12px;\n",
              "    }\n",
              "\n",
              "    .colab-df-convert {\n",
              "      background-color: #E8F0FE;\n",
              "      border: none;\n",
              "      border-radius: 50%;\n",
              "      cursor: pointer;\n",
              "      display: none;\n",
              "      fill: #1967D2;\n",
              "      height: 32px;\n",
              "      padding: 0 0 0 0;\n",
              "      width: 32px;\n",
              "    }\n",
              "\n",
              "    .colab-df-convert:hover {\n",
              "      background-color: #E2EBFA;\n",
              "      box-shadow: 0px 1px 2px rgba(60, 64, 67, 0.3), 0px 1px 3px 1px rgba(60, 64, 67, 0.15);\n",
              "      fill: #174EA6;\n",
              "    }\n",
              "\n",
              "    [theme=dark] .colab-df-convert {\n",
              "      background-color: #3B4455;\n",
              "      fill: #D2E3FC;\n",
              "    }\n",
              "\n",
              "    [theme=dark] .colab-df-convert:hover {\n",
              "      background-color: #434B5C;\n",
              "      box-shadow: 0px 1px 3px 1px rgba(0, 0, 0, 0.15);\n",
              "      filter: drop-shadow(0px 1px 2px rgba(0, 0, 0, 0.3));\n",
              "      fill: #FFFFFF;\n",
              "    }\n",
              "  </style>\n",
              "\n",
              "      <script>\n",
              "        const buttonEl =\n",
              "          document.querySelector('#df-4c704d3f-f6ab-42ce-b5e0-4d41314b7d0e button.colab-df-convert');\n",
              "        buttonEl.style.display =\n",
              "          google.colab.kernel.accessAllowed ? 'block' : 'none';\n",
              "\n",
              "        async function convertToInteractive(key) {\n",
              "          const element = document.querySelector('#df-4c704d3f-f6ab-42ce-b5e0-4d41314b7d0e');\n",
              "          const dataTable =\n",
              "            await google.colab.kernel.invokeFunction('convertToInteractive',\n",
              "                                                     [key], {});\n",
              "          if (!dataTable) return;\n",
              "\n",
              "          const docLinkHtml = 'Like what you see? Visit the ' +\n",
              "            '<a target=\"_blank\" href=https://colab.research.google.com/notebooks/data_table.ipynb>data table notebook</a>'\n",
              "            + ' to learn more about interactive tables.';\n",
              "          element.innerHTML = '';\n",
              "          dataTable['output_type'] = 'display_data';\n",
              "          await google.colab.output.renderOutput(dataTable, element);\n",
              "          const docLink = document.createElement('div');\n",
              "          docLink.innerHTML = docLinkHtml;\n",
              "          element.appendChild(docLink);\n",
              "        }\n",
              "      </script>\n",
              "    </div>\n",
              "  </div>\n",
              "  "
            ]
          },
          "metadata": {},
          "execution_count": 26
        }
      ]
    },
    {
      "cell_type": "code",
      "source": [
        "average_df = pd.merge(average_score_df, average_weight_df, on='tweetcreatedts')\n",
        "print(average_df)\n"
      ],
      "metadata": {
        "colab": {
          "base_uri": "https://localhost:8080/"
        },
        "id": "ZOkUFiT8YIJc",
        "outputId": "41c6f515-378d-4696-d4f5-87c276666f48"
      },
      "execution_count": 27,
      "outputs": [
        {
          "output_type": "stream",
          "name": "stdout",
          "text": [
            "    tweetcreatedts  negative    weight\n",
            "0       2022-02-24  0.430596  0.001789\n",
            "1       2022-02-25  0.366838  0.001035\n",
            "2       2022-02-26  0.366291  0.000533\n",
            "3       2022-02-27  0.378774  0.000558\n",
            "4       2022-02-28  0.370100  0.000714\n",
            "..             ...       ...       ...\n",
            "170     2022-08-14  0.361859       NaN\n",
            "171     2022-08-15  0.411738       NaN\n",
            "172     2022-08-16  0.415048       NaN\n",
            "173     2022-08-17  0.361068       NaN\n",
            "174     2022-08-18  0.403706       NaN\n",
            "\n",
            "[175 rows x 3 columns]\n"
          ]
        }
      ]
    },
    {
      "cell_type": "code",
      "source": [
        "average_df = average_df.dropna()\n",
        "print(average_df)"
      ],
      "metadata": {
        "colab": {
          "base_uri": "https://localhost:8080/"
        },
        "id": "gWV4LRmgK97G",
        "outputId": "986fe685-e96c-45c2-c29f-2f124e4a54dd"
      },
      "execution_count": 28,
      "outputs": [
        {
          "output_type": "stream",
          "name": "stdout",
          "text": [
            "    tweetcreatedts  negative    weight\n",
            "0       2022-02-24  0.430596  0.001789\n",
            "1       2022-02-25  0.366838  0.001035\n",
            "2       2022-02-26  0.366291  0.000533\n",
            "3       2022-02-27  0.378774  0.000558\n",
            "4       2022-02-28  0.370100  0.000714\n",
            "..             ...       ...       ...\n",
            "164     2022-08-08  0.448524  0.001819\n",
            "165     2022-08-09  0.397943  0.002583\n",
            "166     2022-08-10  0.416446  0.002915\n",
            "167     2022-08-11  0.425691  0.003005\n",
            "168     2022-08-12  0.469609  0.005879\n",
            "\n",
            "[169 rows x 3 columns]\n"
          ]
        }
      ]
    },
    {
      "cell_type": "code",
      "source": [
        "# Get the plot of negative score and weight by timeline\n",
        "\n",
        "average_df.plot.line();\n",
        "\n",
        "plt.title(\"Negative Tweet Sentiments by Date\")\n",
        "plt.xlabel(\"Date\")\n",
        "plt.ylabel(\"Negative score of tweets\")\n",
        "plt.xticks(rotation=45)\n",
        "plt.show()"
      ],
      "metadata": {
        "colab": {
          "base_uri": "https://localhost:8080/",
          "height": 306
        },
        "id": "NRNgAWYRhfMj",
        "outputId": "34b05b78-aafb-4a0f-e304-09b0adbd6074"
      },
      "execution_count": 30,
      "outputs": [
        {
          "output_type": "display_data",
          "data": {
            "text/plain": [
              "<Figure size 432x288 with 1 Axes>"
            ],
            "image/png": "[encoded data removed]"
          },
          "metadata": {
            "needs_background": "light"
          }
        }
      ]
    },
    {
      "cell_type": "code",
      "source": [
        "# Get the plot by weight of event\n",
        "plt.scatter(average_df.weight, average_df.negative)\n",
        "plt.xlabel('Weight of events')\n",
        "plt.ylabel('Negative score of tweets')\n",
        "plt.xticks(rotation=45)\n",
        "plt.show()"
      ],
      "metadata": {
        "colab": {
          "base_uri": "https://localhost:8080/",
          "height": 299
        },
        "id": "fEDe9sukxUwr",
        "outputId": "79470d16-0f9f-451c-ee52-73e294a2546b"
      },
      "execution_count": 31,
      "outputs": [
        {
          "output_type": "display_data",
          "data": {
            "text/plain": [
              "<Figure size 432x288 with 1 Axes>"
            ],
            "image/png": "[encoded data removed]"
          },
          "metadata": {
            "needs_background": "light"
          }
        }
      ]
    },
    {
      "cell_type": "markdown",
      "source": [
        "# Linear regression\n"
      ],
      "metadata": {
        "id": "fPuZVUHg4XAE"
      }
    },
    {
      "cell_type": "markdown",
      "source": [
        "We assume that we can predict emotional importance of the events of war by the sentiment analysis of tweets. For first segment we use for that simple linear regression, but at the next segment we could try to make clasterisation for Twitter users for more accurate trend prediction.\n",
        "\n",
        "Our mockup dataset has data for two days only from 180 days of war yet. This is due to the duration of the calculation of sentiment analysis data: even for that two days it took 6 hours to get the result due to size of twitter data."
      ],
      "metadata": {
        "id": "tih2-0VtGjRp"
      }
    },
    {
      "cell_type": "code",
      "source": [
        "# Format the data to meet the requirements of the Scikit-learn library\n",
        "# Examine the first five entries in X\n",
        "X = average_df.negative.values.reshape(-1, 1)\n",
        "X[:5]"
      ],
      "metadata": {
        "colab": {
          "base_uri": "https://localhost:8080/"
        },
        "id": "EXAuA8KGwhGG",
        "outputId": "5c2298c0-dca6-4bac-bd13-de8a4946ca3d"
      },
      "execution_count": 32,
      "outputs": [
        {
          "output_type": "execute_result",
          "data": {
            "text/plain": [
              "array([[0.4305959 ],\n",
              "       [0.36683777],\n",
              "       [0.36629098],\n",
              "       [0.37877387],\n",
              "       [0.3700999 ]])"
            ]
          },
          "metadata": {},
          "execution_count": 32
        }
      ]
    },
    {
      "cell_type": "code",
      "source": [
        "# What is the shape of X - rows and columns\n",
        "X.shape"
      ],
      "metadata": {
        "colab": {
          "base_uri": "https://localhost:8080/"
        },
        "id": "OzzJ8PgHtGsY",
        "outputId": "aa0b02df-49ea-426e-b8dc-48cb10bf76bd"
      },
      "execution_count": 33,
      "outputs": [
        {
          "output_type": "execute_result",
          "data": {
            "text/plain": [
              "(169, 1)"
            ]
          },
          "metadata": {},
          "execution_count": 33
        }
      ]
    },
    {
      "cell_type": "code",
      "source": [
        "# Assign the target variable, or the Weight column, to y. \n",
        "# It's possible to reshape this column, as we did with X, it's not required in this instance\n",
        "y = average_df.weight\n",
        "y[:5]"
      ],
      "metadata": {
        "colab": {
          "base_uri": "https://localhost:8080/"
        },
        "id": "spUNfgK2vNZY",
        "outputId": "959bb74a-d822-4d58-c4fa-b7027b032e3b"
      },
      "execution_count": 34,
      "outputs": [
        {
          "output_type": "execute_result",
          "data": {
            "text/plain": [
              "0    0.001789\n",
              "1    0.001035\n",
              "2    0.000533\n",
              "3    0.000558\n",
              "4    0.000714\n",
              "Name: weight, dtype: float64"
            ]
          },
          "metadata": {},
          "execution_count": 34
        }
      ]
    },
    {
      "cell_type": "code",
      "source": [
        "# What is the shape of y - rows and columns\n",
        "y.shape"
      ],
      "metadata": {
        "colab": {
          "base_uri": "https://localhost:8080/"
        },
        "id": "Iccsho_A8HnY",
        "outputId": "434752f0-c418-4107-e2d1-a3e399a7163f"
      },
      "execution_count": 35,
      "outputs": [
        {
          "output_type": "execute_result",
          "data": {
            "text/plain": [
              "(169,)"
            ]
          },
          "metadata": {},
          "execution_count": 35
        }
      ]
    },
    {
      "cell_type": "code",
      "source": [
        "# Create an instance of the linear regression model\n",
        "# That will analyze the data and store information specific to this dataset\n",
        "model = LinearRegression()\n",
        "model.fit(X,y)"
      ],
      "metadata": {
        "colab": {
          "base_uri": "https://localhost:8080/"
        },
        "id": "pkWB-5qp6dO1",
        "outputId": "5de9d4c4-2c7e-4980-8391-463d1a57c748"
      },
      "execution_count": 36,
      "outputs": [
        {
          "output_type": "execute_result",
          "data": {
            "text/plain": [
              "LinearRegression()"
            ]
          },
          "metadata": {},
          "execution_count": 36
        }
      ]
    },
    {
      "cell_type": "code",
      "source": [
        "# Generate predictions\n",
        "y_pred = model.predict(X)\n",
        "print(y_pred.shape)"
      ],
      "metadata": {
        "colab": {
          "base_uri": "https://localhost:8080/"
        },
        "id": "eCxt2Wl2jR_s",
        "outputId": "702a83cb-b465-406a-bf54-6e7d473939a3"
      },
      "execution_count": 37,
      "outputs": [
        {
          "output_type": "stream",
          "name": "stdout",
          "text": [
            "(169,)\n"
          ]
        }
      ]
    },
    {
      "cell_type": "code",
      "source": [
        "# Plot the predictions as a red line against the data points\n",
        "plt.scatter(X, y)\n",
        "plt.plot(X, y_pred, color='red')\n",
        "plt.show()"
      ],
      "metadata": {
        "id": "-MUc2lrGjC-y",
        "colab": {
          "base_uri": "https://localhost:8080/",
          "height": 265
        },
        "outputId": "75a7dfec-d61b-4d2c-fef2-df9d97199662"
      },
      "execution_count": 38,
      "outputs": [
        {
          "output_type": "display_data",
          "data": {
            "text/plain": [
              "<Figure size 432x288 with 1 Axes>"
            ],
            "image/png": "[encoded data removed]"
          },
          "metadata": {
            "needs_background": "light"
          }
        }
      ]
    },
    {
      "cell_type": "code",
      "source": [
        "# Examine the specific parameters of our model: the slope and the y-intercept\n",
        "print(model.coef_)\n",
        "print(model.intercept_)"
      ],
      "metadata": {
        "id": "gfbY8d3J12HU",
        "colab": {
          "base_uri": "https://localhost:8080/"
        },
        "outputId": "aa653609-e874-4a85-d978-464d6ec574a5"
      },
      "execution_count": 39,
      "outputs": [
        {
          "output_type": "stream",
          "name": "stdout",
          "text": [
            "[0.00099367]\n",
            "0.0006276569458025251\n"
          ]
        }
      ]
    },
    {
      "cell_type": "markdown",
      "source": [
        "Looks like despite our idea that average negative sentiment of the day corresponding somehow with the weight of the day (the ratio of the number of articles about relevant news that are written on a given day to the number for all days), it is not, and we were wrong. Let's check this with the Probability Density Function."
      ],
      "metadata": {
        "id": "tv9JuWb3fBbA"
      }
    },
    {
      "cell_type": "markdown",
      "source": [
        "# Probability Density Function"
      ],
      "metadata": {
        "id": "xvI4nxXigW8a"
      }
    },
    {
      "cell_type": "markdown",
      "source": [
        "PDF is used to specify the probability of the random variable falling within a particular range of values, as opposed to taking on any one value. "
      ],
      "metadata": {
        "id": "ovcFbFyJgZjn"
      }
    },
    {
      "cell_type": "code",
      "source": [
        "# Generate Kernel Density Estimate plot using Gaussian kernels, using the Density method to fing out\n",
        "\n",
        "ax = average_df.plot.kde()"
      ],
      "metadata": {
        "colab": {
          "base_uri": "https://localhost:8080/",
          "height": 265
        },
        "id": "galPpdR_gfvu",
        "outputId": "a1755ccd-e47b-434a-dd99-e0031fca2379"
      },
      "execution_count": 40,
      "outputs": [
        {
          "output_type": "display_data",
          "data": {
            "text/plain": [
              "<Figure size 432x288 with 1 Axes>"
            ],
            "image/png": "[encoded data removed]"
          },
          "metadata": {
            "needs_background": "light"
          }
        }
      ]
    },
    {
      "cell_type": "code",
      "source": [
        "# Using a small bandwidth value \n",
        "ax = average_df.plot.kde(bw_method=0.3)"
      ],
      "metadata": {
        "colab": {
          "base_uri": "https://localhost:8080/",
          "height": 265
        },
        "id": "rc1espNYgolR",
        "outputId": "1b5fc019-7456-489a-9bc8-8f20ea0a8687"
      },
      "execution_count": 41,
      "outputs": [
        {
          "output_type": "display_data",
          "data": {
            "text/plain": [
              "<Figure size 432x288 with 1 Axes>"
            ],
            "image/png": "[encoded data removed]"
          },
          "metadata": {
            "needs_background": "light"
          }
        }
      ]
    },
    {
      "cell_type": "code",
      "source": [
        "# Using a large bandwidt value\n",
        "ax = average_df.plot.kde(bw_method=2)"
      ],
      "metadata": {
        "colab": {
          "base_uri": "https://localhost:8080/",
          "height": 268
        },
        "id": "tXDkJEsSgw8V",
        "outputId": "8287b04a-eb26-41e3-f67f-ac949096309f"
      },
      "execution_count": 42,
      "outputs": [
        {
          "output_type": "display_data",
          "data": {
            "text/plain": [
              "<Figure size 432x288 with 1 Axes>"
            ],
            "image/png": "[encoded data removed]"
          },
          "metadata": {
            "needs_background": "light"
          }
        }
      ]
    },
    {
      "cell_type": "code",
      "source": [
        "# Determine the evaluation points for the plot of the estimated PDF\n",
        "ax = average_df.plot.kde(ind=[1, 2, 3, 4, 5, 6])"
      ],
      "metadata": {
        "colab": {
          "base_uri": "https://localhost:8080/",
          "height": 276
        },
        "id": "d1vXg2g8g9MY",
        "outputId": "94e4c4a9-1f55-41d9-a7e5-fb7b5a483707"
      },
      "execution_count": 43,
      "outputs": [
        {
          "output_type": "display_data",
          "data": {
            "text/plain": [
              "<Figure size 432x288 with 1 Axes>"
            ],
            "image/png": "[encoded data removed]"
          },
          "metadata": {
            "needs_background": "light"
          }
        }
      ]
    }
  ]
}