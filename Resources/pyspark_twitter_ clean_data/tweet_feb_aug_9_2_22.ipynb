{
  "cells": [
    {
      "cell_type": "markdown",
      "metadata": {
        "id": "view-in-github",
        "colab_type": "text"
      },
      "source": [
        "<a href=\"https://colab.research.google.com/github/aiscience-22/UA_War/blob/jayl_twitter_pyspark_0.02/tweet_feb_aug_9_2_22.ipynb\" target=\"_parent\"><img src=\"https://colab.research.google.com/assets/colab-badge.svg\" alt=\"Open In Colab\"/></a>"
      ]
    },
    {
      "cell_type": "code",
      "execution_count": null,
      "metadata": {
        "colab": {
          "base_uri": "https://localhost:8080/"
        },
        "id": "PQPeAcH-160k",
        "outputId": "450f34c0-8bcb-4002-d9f7-50ebfa0700cb"
      },
      "outputs": [
        {
          "output_type": "stream",
          "name": "stdout",
          "text": [
            "\r0% [Working]\r            \rGet:1 http://security.ubuntu.com/ubuntu bionic-security InRelease [88.7 kB]\n",
            "Get:2 https://cloud.r-project.org/bin/linux/ubuntu bionic-cran40/ InRelease [3,626 B]\n",
            "Ign:3 https://developer.download.nvidia.com/compute/machine-learning/repos/ubuntu1804/x86_64  InRelease\n",
            "Hit:4 http://archive.ubuntu.com/ubuntu bionic InRelease\n",
            "Hit:5 https://developer.download.nvidia.com/compute/cuda/repos/ubuntu1804/x86_64  InRelease\n",
            "Hit:6 https://developer.download.nvidia.com/compute/machine-learning/repos/ubuntu1804/x86_64  Release\n",
            "Hit:7 http://ppa.launchpad.net/c2d4u.team/c2d4u4.0+/ubuntu bionic InRelease\n",
            "Get:8 http://archive.ubuntu.com/ubuntu bionic-updates InRelease [88.7 kB]\n",
            "Get:9 http://archive.ubuntu.com/ubuntu bionic-backports InRelease [74.6 kB]\n",
            "Hit:10 http://ppa.launchpad.net/cran/libgit2/ubuntu bionic InRelease\n",
            "Hit:11 http://ppa.launchpad.net/deadsnakes/ppa/ubuntu bionic InRelease\n",
            "Hit:12 http://ppa.launchpad.net/graphics-drivers/ppa/ubuntu bionic InRelease\n",
            "Get:13 http://security.ubuntu.com/ubuntu bionic-security/universe amd64 Packages [1,540 kB]\n",
            "Get:15 http://security.ubuntu.com/ubuntu bionic-security/restricted amd64 Packages [1,121 kB]\n",
            "Get:16 http://security.ubuntu.com/ubuntu bionic-security/main amd64 Packages [2,959 kB]\n",
            "Get:17 http://archive.ubuntu.com/ubuntu bionic-updates/main amd64 Packages [3,390 kB]\n",
            "Get:18 http://archive.ubuntu.com/ubuntu bionic-updates/restricted amd64 Packages [1,162 kB]\n",
            "Fetched 10.4 MB in 4s (2,449 kB/s)\n",
            "Reading package lists... Done\n"
          ]
        }
      ],
      "source": [
        "# Importing the libraries needed\n",
        "import pandas as pd\n",
        "import numpy as np\n",
        "import json\n",
        "import scipy \n",
        "import torch\n",
        "from torch.utils.data import Dataset, DataLoader\n",
        "import logging\n",
        "import os\n",
        "# Find the latest version of spark 3.0 from http://www.apache.org/dist/spark/ and enter as the spark version\n",
        "# For example:\n",
        "# spark_version = 'spark-3.0.3'\n",
        "spark_version = 'spark-3.2.2'\n",
        "os.environ['SPARK_VERSION']=spark_version\n",
        "\n",
        "# Install Spark and Java\n",
        "!apt-get update\n",
        "!apt-get install openjdk-11-jdk-headless -qq > /dev/null\n",
        "!wget -q http://www.apache.org/dist/spark/$SPARK_VERSION/$SPARK_VERSION-bin-hadoop2.7.tgz\n",
        "!tar xf $SPARK_VERSION-bin-hadoop2.7.tgz\n",
        "!pip install -q findspark\n",
        "\n",
        "# Set Environment Variables\n",
        "import os\n",
        "os.environ[\"JAVA_HOME\"] = \"/usr/lib/jvm/java-11-openjdk-amd64\"\n",
        "os.environ[\"SPARK_HOME\"] = f\"/content/{spark_version}-bin-hadoop2.7\"\n",
        "\n",
        "# Start a SparkSession\n",
        "import findspark\n",
        "findspark.init()"
      ]
    },
    {
      "cell_type": "code",
      "execution_count": null,
      "metadata": {
        "colab": {
          "base_uri": "https://localhost:8080/"
        },
        "id": "53UT8GZe21J_",
        "outputId": "b184ccc5-d2d6-4d52-d448-ce43e8846d86"
      },
      "outputs": [
        {
          "output_type": "stream",
          "name": "stdout",
          "text": [
            "--2022-09-03 04:14:14--  https://jdbc.postgresql.org/download/postgresql-42.2.16.jar\n",
            "Resolving jdbc.postgresql.org (jdbc.postgresql.org)... 72.32.157.228, 2001:4800:3e1:1::228\n",
            "Connecting to jdbc.postgresql.org (jdbc.postgresql.org)|72.32.157.228|:443... connected.\n",
            "HTTP request sent, awaiting response... 200 OK\n",
            "Length: 1002883 (979K) [application/java-archive]\n",
            "Saving to: ‘postgresql-42.2.16.jar’\n",
            "\n",
            "postgresql-42.2.16. 100%[===================>] 979.38K  --.-KB/s    in 0.08s   \n",
            "\n",
            "2022-09-03 04:14:15 (11.7 MB/s) - ‘postgresql-42.2.16.jar’ saved [1002883/1002883]\n",
            "\n"
          ]
        }
      ],
      "source": [
        "!wget https://jdbc.postgresql.org/download/postgresql-42.2.16.jar"
      ]
    },
    {
      "cell_type": "code",
      "execution_count": null,
      "metadata": {
        "id": "Mfy8zMU72vjc"
      },
      "outputs": [],
      "source": [
        "from pyspark.sql import SparkSession\n",
        "spark = SparkSession.builder.appName(\"UA_War\").config(\"spark.driver.extraClassPath\",\"/content/postgresql-42.2.16.jar\").getOrCreate()"
      ]
    },
    {
      "cell_type": "code",
      "execution_count": null,
      "metadata": {
        "colab": {
          "base_uri": "https://localhost:8080/"
        },
        "id": "GYrfA-bu20FQ",
        "outputId": "53022b73-98d9-4e21-c5a1-37c1eee713fc"
      },
      "outputs": [
        {
          "output_type": "stream",
          "name": "stdout",
          "text": [
            "+---+-------------------+---------------+--------------------+--------------------+---------+---------+-----------+--------------------+-------------------+--------------------+------------+--------------------+--------------------+--------+-----------+--------------+----------+-------------------+---------------------+-----------------------+---------------------+-------------------+-----------------------+---------------+----------------+--------------------+----------------------+--------------------+\n",
            "|_c0|             userid|       username|            acctdesc|            location|following|followers|totaltweets|       usercreatedts|            tweetid|      tweetcreatedts|retweetcount|                text|            hashtags|language|coordinates|favorite_count|is_retweet|  original_tweet_id|original_tweet_userid|original_tweet_username|in_reply_to_status_id|in_reply_to_user_id|in_reply_to_screen_name|is_quote_status|quoted_status_id|quoted_status_userid|quoted_status_username|         extractedts|\n",
            "+---+-------------------+---------------+--------------------+--------------------+---------+---------+-----------+--------------------+-------------------+--------------------+------------+--------------------+--------------------+--------+-----------+--------------+----------+-------------------+---------------------+-----------------------+---------------------+-------------------+-----------------------+---------------+----------------+--------------------+----------------------+--------------------+\n",
            "|  0|          369869874|      ORFMumbai|Non–partisan, ind...|Nariman Point, Mu...|       51|     3362|      71331|2011-09-08 02:34:...|1553893270027063297|2022-08-01 00:00:...|           0|The #RussiaUkrain...|[{'text': 'Russia...|      en|    <empty>|             0|     false|                  0|                    0|                <empty>|                    0|                  0|                <empty>|          false|               0|                   0|               <empty>|2022-08-01 02:30:...|\n",
            "|  1| 882984605028102144|   For2000years|\"I have certain r...|         Facing East|     2964|     4669|     119795|2017-07-06 15:28:...|1553893270983409670|2022-08-01 00:00:...|         560|Remember when #NA...|[{'text': 'NATO',...|      en|    <empty>|             0|      true|1553864158285705216|             56575418|             timand2037|                    0|                  0|                <empty>|          false|               0|                   0|               <empty>|2022-08-01 02:30:...|\n",
            "|  2| 862842887565869056| CumanaCandanga|IG: @CumanaCandan...|   Cumana, Venezuela|     6033|     6730|      18870|2017-05-12 01:32:...|1553893271671382024|2022-08-01 00:00:...|          13|No es posible que...|[{'text': 'OTAN',...|      es|    <empty>|             0|      true|1553834180093661184|  1441312629155237888|        ProfeJesusDavid|                    0|                  0|                <empty>|          false|               0|                   0|               <empty>|2022-08-01 00:29:...|\n",
            "|  3|1366546460557385729|EnfoquesEnCorto|📻Sigue nuestros ...|          Mexico, ME|      195|      192|      20780|2021-03-02 00:30:...|1553893273751666691|2022-08-01 00:00:...|           0|#Internacional Es...|[{'text': 'Intern...|      es|    <empty>|             1|     false|                  0|                    0|                <empty>|                    0|                  0|                <empty>|          false|               0|                   0|               <empty>|2022-08-01 10:29:...|\n",
            "|  4|1378766002792583168|    kaotiskhund|             <empty>|             <empty>|       49|        8|        112|2021-04-04 17:47:...|1553893274687094785|2022-08-01 00:00:...|           0|Hi #NATO , you ha...|[{'text': 'NATO',...|      en|    <empty>|             0|     false|                  0|                    0|                <empty>|                    0|                  0|                <empty>|          false|               0|                   0|               <empty>|2022-08-01 06:59:...|\n",
            "+---+-------------------+---------------+--------------------+--------------------+---------+---------+-----------+--------------------+-------------------+--------------------+------------+--------------------+--------------------+--------+-----------+--------------+----------+-------------------+---------------------+-----------------------+---------------------+-------------------+-----------------------+---------------+----------------+--------------------+----------------------+--------------------+\n",
            "only showing top 5 rows\n",
            "\n"
          ]
        }
      ],
      "source": [
        "#import data from aws s3 bucket for 1 day. This will be the starting dataframe to populate DB\n",
        "\n",
        "from pyspark import SparkFiles\n",
        "start_date = \"0801\"\n",
        "\n",
        "url = f\"https://databootcamps3bucket.s3.us-west-2.amazonaws.com/ua_war/UkraineWar/{start_date}_UATweets.csv.gz\"\n",
        "spark.sparkContext.addFile(url)\n",
        "\n",
        "df_start_date = spark.read.option(\"delimiter\", \",\").option(\"encoding\", \"UTF-8\").option(\"multiLine\", True).option(\"escape\", '\"').csv(SparkFiles.get(f\"{start_date}_UATweets.csv.gz\"),  header=True, inferSchema=True)\n",
        "\n",
        "# df.show(truncate=False) \n",
        "df_start_date_2 = df_start_date.na.fill(\"<empty>\")\n",
        "\n",
        "df_start_date_2.show(5)"
      ]
    },
    {
      "cell_type": "code",
      "execution_count": null,
      "metadata": {
        "colab": {
          "base_uri": "https://localhost:8080/"
        },
        "id": "EwCpQsor2vnS",
        "outputId": "dd614b34-9ba8-4946-9707-39c6eaca6551"
      },
      "outputs": [
        {
          "output_type": "execute_result",
          "data": {
            "text/plain": [
              "[('_c0', 'int'),\n",
              " ('userid', 'bigint'),\n",
              " ('username', 'string'),\n",
              " ('acctdesc', 'string'),\n",
              " ('location', 'string'),\n",
              " ('following', 'int'),\n",
              " ('followers', 'int'),\n",
              " ('totaltweets', 'int'),\n",
              " ('usercreatedts', 'string'),\n",
              " ('tweetid', 'bigint'),\n",
              " ('tweetcreatedts', 'string'),\n",
              " ('retweetcount', 'int'),\n",
              " ('text', 'string'),\n",
              " ('hashtags', 'string'),\n",
              " ('language', 'string'),\n",
              " ('coordinates', 'string'),\n",
              " ('favorite_count', 'int'),\n",
              " ('is_retweet', 'boolean'),\n",
              " ('original_tweet_id', 'bigint'),\n",
              " ('original_tweet_userid', 'bigint'),\n",
              " ('original_tweet_username', 'string'),\n",
              " ('in_reply_to_status_id', 'bigint'),\n",
              " ('in_reply_to_user_id', 'bigint'),\n",
              " ('in_reply_to_screen_name', 'string'),\n",
              " ('is_quote_status', 'boolean'),\n",
              " ('quoted_status_id', 'bigint'),\n",
              " ('quoted_status_userid', 'bigint'),\n",
              " ('quoted_status_username', 'string'),\n",
              " ('extractedts', 'string')]"
            ]
          },
          "metadata": {},
          "execution_count": 5
        }
      ],
      "source": [
        "#see what the datatypes \n",
        "df_start_date.dtypes"
      ]
    },
    {
      "cell_type": "code",
      "execution_count": null,
      "metadata": {
        "colab": {
          "base_uri": "https://localhost:8080/"
        },
        "id": "Ba5yU10j4S9u",
        "outputId": "84261b4b-654c-4dc3-a9a9-b7c7ba074bad"
      },
      "outputs": [
        {
          "output_type": "execute_result",
          "data": {
            "text/plain": [
              "29"
            ]
          },
          "metadata": {},
          "execution_count": 6
        }
      ],
      "source": [
        "#use this to determine which type of drop is needed. Also not all all dates have same number of columns \n",
        "len(df_start_date.columns)"
      ]
    },
    {
      "cell_type": "code",
      "execution_count": null,
      "metadata": {
        "colab": {
          "base_uri": "https://localhost:8080/"
        },
        "id": "XfJBYkO5VQA6",
        "outputId": "0e0eac31-ffdd-4492-85e0-aa0548912d91"
      },
      "outputs": [
        {
          "output_type": "execute_result",
          "data": {
            "text/plain": [
              "29"
            ]
          },
          "metadata": {},
          "execution_count": 7
        }
      ],
      "source": [
        "from pyspark import SparkFiles\n",
        "from pyspark.sql.functions import *\n",
        "\n",
        "#use this to determine which type of drop is needed. Also not all all dates have same number of columns \n",
        "df_start_date_count = len(df_start_date.columns)\n",
        "if df_start_date_count == 18:\n",
        "  df_start_date_2 = df_start_date_2.withColumn(\"is_retweet\", lit(None).cast('boolean')) \n",
        "  df_start_date_2 = df_start_date_2.withColumn(\"is_quote_status\", lit(None).cast('boolean')) \n",
        "\n",
        "len(df_start_date_2.columns)"
      ]
    },
    {
      "cell_type": "code",
      "execution_count": null,
      "metadata": {
        "colab": {
          "base_uri": "https://localhost:8080/"
        },
        "id": "NJWMS6ji65Lu",
        "outputId": "dc26ab65-d3ed-4aa7-a082-1662e8a56113"
      },
      "outputs": [
        {
          "output_type": "stream",
          "name": "stdout",
          "text": [
            "+---------------+---------+---------+-----------+-------------+--------------+------------+--------------------+--------------------+--------+--------------+----------+---------------+-----------+\n",
            "|       username|following|followers|totaltweets|usercreatedts|tweetcreatedts|retweetcount|                text|            hashtags|language|favorite_count|is_retweet|is_quote_status|extractedts|\n",
            "+---------------+---------+---------+-----------+-------------+--------------+------------+--------------------+--------------------+--------+--------------+----------+---------------+-----------+\n",
            "|   TheUKIsAMess|     1980|     1827|      67996|   2007-03-23|    2022-08-01|           1|It's happening on...|[{'text': 'ToryFa...|      en|             0|      true|           true| 2022-08-01|\n",
            "|FelipeAdanLerma|    11661|    16616|     524919|   2008-06-18|    2022-08-01|           0|\"The American Res...|[{'text': 'Biden'...|      en|             0|     false|          false| 2022-08-01|\n",
            "|  Aontaithe2021|     5003|     2225|     323993|   2007-05-15|    2022-08-01|         134|Beryslav district...|[{'text': 'Kherso...|      en|             0|      true|          false| 2022-08-01|\n",
            "|          Akinz|     1624|      387|       1229|   2008-05-14|    2022-08-01|        1185|If Serbia invades...|[{'text': 'Kosovo...|      en|             0|      true|          false| 2022-08-01|\n",
            "|       tommyred|      206|      205|      55044|   2007-07-28|    2022-08-01|           8|Russian military ...|[{'text': 'SlavaU...|      en|             0|      true|          false| 2022-08-01|\n",
            "+---------------+---------+---------+-----------+-------------+--------------+------------+--------------------+--------------------+--------+--------------+----------+---------------+-----------+\n",
            "only showing top 5 rows\n",
            "\n"
          ]
        }
      ],
      "source": [
        "from pyspark.sql.functions import *\n",
        "\n",
        "#1. Drop Uncessary Columns using the data set as a starting point. \n",
        "cleaned_df = df_start_date_2.drop(\"userid\", \"_c0\", \"acctdesc\", \"location\", \"tweetid\", \"coordinates\", \"original_tweet_id\", \"original_tweet_userid\", \"original_tweet_username\", \"in_reply_to_status_id\", \"in_reply_to_screen_name\", 'in_reply_to_user_id', \"quoted_status_id\", \"quoted_status_username\", \"quoted_status_userid\")\n",
        "\n",
        "#2. change columns from string to year:month:day date format\n",
        "cleaned_df = cleaned_df.withColumn(\"usercreatedts\",to_date(\"usercreatedts\"))\n",
        "cleaned_df = cleaned_df.withColumn(\"tweetcreatedts\",to_date(\"tweetcreatedts\"))\n",
        "cleaned_df = cleaned_df.withColumn(\"extractedts\",to_date(\"extractedts\"))\n",
        "\n",
        "#3. filter out langauge = english only\n",
        "cleaned_df = cleaned_df.filter(cleaned_df[\"language\"]==\"en\")\n",
        "cleaned_df = cleaned_df.filter(cleaned_df[\"usercreatedts\"] < \"2009-01-01\")\n",
        "\n",
        "cleaned_df.show(5)"
      ]
    },
    {
      "cell_type": "code",
      "execution_count": null,
      "metadata": {
        "colab": {
          "base_uri": "https://localhost:8080/"
        },
        "id": "PsuQFKu47EEF",
        "outputId": "56a4b756-0fde-445d-a7a6-0a5633062908"
      },
      "outputs": [
        {
          "output_type": "execute_result",
          "data": {
            "text/plain": [
              "1982"
            ]
          },
          "metadata": {},
          "execution_count": 9
        }
      ],
      "source": [
        "cleaned_df_count = cleaned_df.count()\n",
        "cleaned_df_count"
      ]
    },
    {
      "cell_type": "code",
      "source": [
        "date_arr_feb = [\"0224\",\"0227\", \"0228p1\", \"0228p2\"]"
      ],
      "metadata": {
        "id": "y0zZoj5STPFD"
      },
      "execution_count": null,
      "outputs": []
    },
    {
      "cell_type": "code",
      "source": [
        "date_arr_march = [\"0301\", \"0302\", \"0303\", \"0304\", \"0305\", \"0306\", \"0307\", \"0308\", \"0309\",\"0310\", \"0311\", \"0312\", \"0313\", \"0314\", \"0315\", \"0316\", \"0317\", \"0318\", \"0319\", \"0320\", \"0321\", \"0322\", \"0323\", \"0324\", \"0325\", \"0326\", \"0327_to_28\", \"0329\", \"0330\", \"0331\"]"
      ],
      "metadata": {
        "id": "QenME3U_TPU2"
      },
      "execution_count": null,
      "outputs": []
    },
    {
      "cell_type": "code",
      "source": [
        "date_arr_april = [ \"0401\", \"0402\", \"0403\", \"0404\", \"0405\", \"0406\", \"0407\", \"0408\", \"0409\",\"0410\", \"0411\", \"0412\", \"0413\", \"0414\", \"0415\", \"0416\", \"0417\", \"0418\", \"0419\", \"0420\", \"0421\", \"0422\", \"0423\", \"0424\", \"0425\", \"0426\", \"0427\", \"0428\", \"0429\", \"0430\"]"
      ],
      "metadata": {
        "id": "UmHq_STDTPdY"
      },
      "execution_count": null,
      "outputs": []
    },
    {
      "cell_type": "code",
      "source": [
        "date_arr_may = [ \"0501\", \"0502\", \"0503\", \"0504\", \"0505_to_0507\", \"0509\",\"0510\", \"0511\", \"0512\", \"0513\", \"0514\", \"0515\", \"0516\", \"0517\", \"0518\", \"0519\", \"0520\", \"0521\", \"0522\", \"0523\", \"0524\", \"0525\", \"0526\", \"0527\", \"0528\", \"0529\", \"0530\", \"0531\"]"
      ],
      "metadata": {
        "id": "2eLP7y1RTPgy"
      },
      "execution_count": null,
      "outputs": []
    },
    {
      "cell_type": "code",
      "source": [
        "date_arr_june = [ \"0601\",\"0602\", \"0603\", \"0604\", \"0605\", \"0606_to_08\", \"0609\",\"0610\", \"0611\", \"0612\", \"0613\", \"0614\", \"0615\", \"0616\", \"0617\", \"0618\", \"0619\", \"0620\", \"0621\", \"0622\", \"0623\", \"0624\", \"0625\", \"0626\", \"0627\", \"0628\", \"0629\", \"0630\"]"
      ],
      "metadata": {
        "id": "yPUO9PzQTPlR"
      },
      "execution_count": null,
      "outputs": []
    },
    {
      "cell_type": "code",
      "source": [
        "date_arr_july = [\"0701\", \"0702\", \"0703\", \"0704\", \"0705\", \"0706\", \"0707\", \"0708\", \"0709\",\"0710\", \"0711\", \"0712\", \"0713\", \"0714\", \"0715\", \"0716\", \"0717\", \"0718\", \"0719\", \"0720\", \"0721\", \"0722\", \"0723\", \"0724\", \"0725\", \"0726\", \"0727\", \"0728\", \"0729\", \"0730\", \"0731\"]"
      ],
      "metadata": {
        "id": "-IK43GBqTPtB"
      },
      "execution_count": null,
      "outputs": []
    },
    {
      "cell_type": "code",
      "execution_count": null,
      "metadata": {
        "id": "1i90KFUkPi3S"
      },
      "outputs": [],
      "source": [
        "date_arr_august = [\"0802\", \"0803\", \"0804\", \"0805\", \"0806\", \"0807\", \"0808\", \"0809\",\"0810\", \"0811\", \"0812\", \"0813\", \"0814\", \"0815\", \"0816\", \"0817\", \"0818\"]"
      ]
    },
    {
      "cell_type": "code",
      "source": [
        "all_dates_arr = date_arr_feb + date_arr_march + date_arr_april + date_arr_may + date_arr_june + date_arr_july + date_arr_august\n",
        "len(all_dates_arr)"
      ],
      "metadata": {
        "id": "eCr0Re86TOHw",
        "outputId": "b213e6f8-e7af-478c-f6bf-5044e42569ed",
        "colab": {
          "base_uri": "https://localhost:8080/"
        }
      },
      "execution_count": null,
      "outputs": [
        {
          "output_type": "execute_result",
          "data": {
            "text/plain": [
              "168"
            ]
          },
          "metadata": {},
          "execution_count": 17
        }
      ]
    },
    {
      "cell_type": "code",
      "execution_count": null,
      "metadata": {
        "colab": {
          "base_uri": "https://localhost:8080/"
        },
        "id": "SCbblSe518Du",
        "outputId": "4439f426-c08c-47ed-97ba-1205c7702679"
      },
      "outputs": [
        {
          "output_type": "stream",
          "name": "stdout",
          "text": [
            "0224 - 16482\n",
            "0227 - 21712\n",
            "0228p1 - 24753\n",
            "0228p2 - 27104\n",
            "0301 - 32923\n",
            "0302 - 38860\n",
            "0303 - 44472\n",
            "0304 - 51427\n",
            "0305 - 59755\n",
            "0306 - 68826\n",
            "0307 - 78838\n",
            "0308 - 87685\n",
            "0309 - 95546\n",
            "0310 - 103221\n",
            "0311 - 110382\n",
            "0312 - 117107\n",
            "0313 - 124438\n",
            "0314 - 131534\n",
            "0315 - 140002\n",
            "0316 - 147690\n",
            "0317 - 155935\n",
            "0318 - 164226\n",
            "0319 - 171364\n",
            "0320 - 178544\n",
            "0321 - 187039\n",
            "0322 - 193919\n",
            "0323 - 200771\n",
            "0324 - 207184\n",
            "0325 - 214434\n",
            "0326 - 221364\n",
            "0327_to_28 - 233595\n",
            "0329 - 239372\n",
            "0330 - 244726\n",
            "0331 - 250127\n",
            "0401 - 256326\n",
            "0402 - 262637\n",
            "0403 - 269764\n",
            "0404 - 276209\n",
            "0405 - 282711\n",
            "0406 - 289131\n",
            "0407 - 294795\n",
            "0408 - 300382\n",
            "0409 - 306281\n",
            "0410 - 311918\n",
            "0411 - 317449\n",
            "0412 - 323103\n",
            "0413 - 328761\n",
            "0414 - 333842\n",
            "0415 - 339163\n",
            "0416 - 343993\n",
            "0417 - 348719\n",
            "0418 - 353836\n",
            "0419 - 359506\n",
            "0420 - 364468\n",
            "0421 - 369324\n",
            "0422 - 373763\n",
            "0423 - 378506\n",
            "0424 - 383308\n",
            "0425 - 387457\n",
            "0426 - 392241\n",
            "0427 - 396566\n",
            "0428 - 400754\n",
            "0429 - 405112\n",
            "0430 - 409968\n",
            "0501 - 415087\n",
            "0502 - 419925\n",
            "0503 - 424470\n",
            "0504 - 430457\n",
            "0505_to_0507 - 446376\n",
            "0509 - 452305\n",
            "0510 - 457357\n",
            "0511 - 461749\n",
            "0512 - 466137\n",
            "0513 - 470239\n",
            "0514 - 474784\n",
            "0515 - 479179\n",
            "0516 - 483817\n",
            "0517 - 488038\n",
            "0518 - 492229\n",
            "0519 - 496118\n",
            "0520 - 499732\n",
            "0521 - 502952\n",
            "0522 - 505831\n",
            "0523 - 509587\n",
            "0524 - 513943\n",
            "0525 - 517803\n",
            "0526 - 521332\n",
            "0527 - 524847\n",
            "0528 - 527961\n",
            "0529 - 531001\n",
            "0530 - 534576\n",
            "0531 - 537922\n",
            "0601 - 541507\n",
            "0602 - 544684\n",
            "0603 - 548233\n",
            "0604 - 551181\n",
            "0605 - 554316\n",
            "0606_to_08 - 564312\n",
            "0609 - 567582\n",
            "0610 - 571144\n",
            "0611 - 574398\n",
            "0612 - 577420\n",
            "0613 - 580675\n",
            "0614 - 584025\n",
            "0615 - 587210\n",
            "0616 - 590865\n",
            "0617 - 594117\n",
            "0618 - 596715\n",
            "0619 - 598967\n",
            "0620 - 601549\n",
            "0621 - 604068\n",
            "0622 - 607079\n",
            "0623 - 610307\n",
            "0624 - 612978\n",
            "0625 - 615160\n",
            "0626 - 617992\n",
            "0627 - 621122\n",
            "0628 - 624424\n",
            "0629 - 627201\n",
            "0630 - 629739\n",
            "0701 - 632204\n",
            "0702 - 634211\n",
            "0703 - 636168\n",
            "0704 - 638687\n",
            "0705 - 641124\n",
            "0706 - 643622\n",
            "0707 - 646146\n",
            "0708 - 648449\n",
            "0709 - 650373\n",
            "0710 - 652446\n",
            "0711 - 655348\n",
            "0712 - 657804\n",
            "0713 - 660043\n",
            "0714 - 663116\n",
            "0715 - 665737\n",
            "0716 - 667583\n",
            "0717 - 669665\n",
            "0718 - 671867\n",
            "0719 - 674015\n",
            "0720 - 676382\n",
            "0721 - 678019\n",
            "0722 - 679596\n",
            "0723 - 681187\n",
            "0724 - 682499\n",
            "0725 - 683856\n",
            "0726 - 685230\n",
            "0727 - 686836\n",
            "0728 - 688628\n",
            "0729 - 690893\n",
            "0730 - 692587\n",
            "0731 - 694257\n",
            "0802 - 696928\n",
            "0803 - 699099\n",
            "0804 - 701019\n",
            "0805 - 702789\n",
            "0806 - 704857\n",
            "0807 - 706897\n",
            "0808 - 707603\n",
            "0809 - 707976\n",
            "0810 - 708646\n",
            "0811 - 709242\n",
            "0812 - 710366\n",
            "0813 - 710837\n",
            "0814 - 711135\n",
            "0815 - 711536\n",
            "0816 - 712004\n",
            "0817 - 712468\n",
            "0818 - 713008\n"
          ]
        }
      ],
      "source": [
        "from pyspark import SparkFiles\n",
        "from pyspark.sql.functions import *\n",
        "\n",
        "url = \"https://databootcamps3bucket.s3.us-west-2.amazonaws.com/ua_war/UkraineWar\"\n",
        "\n",
        "for day in all_dates_arr:\n",
        "      #load the data from aws\n",
        "      aws_url = f\"{url}/{day}_UATweets.csv.gz\"\n",
        "      spark.sparkContext.addFile(aws_url)\n",
        "      temp_df = spark.read.option(\"delimiter\", \",\").option(\"encoding\", \"UTF-8\").option(\"multiLine\", True).option(\"escape\", '\"').csv(SparkFiles.get(f\"{day}_UATweets.csv.gz\"),  header=True, inferSchema=True)\n",
        "      \n",
        "      #keep count number of columns to determine which if else block it will hit\n",
        "      temp_count = len(temp_df.columns)\n",
        "\n",
        "      #change columns from string to year:month:day date format\n",
        "      temp_df = temp_df.withColumn(\"usercreatedts\",to_date(\"usercreatedts\"))\n",
        "      temp_df = temp_df.withColumn(\"tweetcreatedts\",to_date(\"tweetcreatedts\"))\n",
        "      temp_df = temp_df.withColumn(\"extractedts\",to_date(\"extractedts\"))\n",
        "\n",
        "      #filter out data for english only \n",
        "      temp_df = temp_df.filter(temp_df[\"language\"]==\"en\")\n",
        "      #filter out usercreated after 2009 \n",
        "      temp_df = temp_df.filter(temp_df[\"usercreatedts\"] < \"2009-01-01\")\n",
        "\n",
        "      #fill in null values \n",
        "      temp_df_2 = temp_df.na.fill(\"<empty>\")\n",
        "\n",
        "      #some days the data columns has less columns then other days \n",
        "      if temp_count == 18:\n",
        "        temp_df_3 = temp_df_2.drop(\"userid\", \"_c0\", \"acctdesc\", \"location\", \"tweetid\", \"coordinates\")\n",
        "        temp_df_3 = temp_df_3.withColumn(\"is_retweet\", lit(None).cast('boolean')) \n",
        "        temp_df_3 = temp_df_3.withColumn(\"is_quote_status\", lit(None).cast('boolean')) \n",
        "\n",
        "      elif temp_count == 29:\n",
        "        temp_df_3 = temp_df_2.drop(\"userid\", \"_c0\", \"acctdesc\", \"location\", \"tweetid\", \"coordinates\", \"original_tweet_id\", \"original_tweet_userid\", \"original_tweet_username\", \"in_reply_to_status_id\", \"in_reply_to_screen_name\", 'in_reply_to_user_id', \"quoted_status_id\", \"quoted_status_username\", \"quoted_status_userid\")\n",
        "\n",
        "      else:\n",
        "        print(f\"Error on {day}_UATweets.csv.gz and column count {temp_count}\")\n",
        "\n",
        "      cleaned_df = cleaned_df.unionByName(temp_df_3)\n",
        "      print(f\"{day} - {cleaned_df.count()}\")\n"
      ]
    },
    {
      "cell_type": "code",
      "execution_count": null,
      "metadata": {
        "colab": {
          "base_uri": "https://localhost:8080/"
        },
        "id": "2UqTcDqfO2mK",
        "outputId": "7b4725fa-7e63-4729-84c5-89ad84a3d868"
      },
      "outputs": [
        {
          "output_type": "stream",
          "name": "stdout",
          "text": [
            "+---------------+---------+---------+-----------+-------------+--------------+------------+--------------------+--------------------+--------+--------------+----------+---------------+-----------+\n",
            "|       username|following|followers|totaltweets|usercreatedts|tweetcreatedts|retweetcount|                text|            hashtags|language|favorite_count|is_retweet|is_quote_status|extractedts|\n",
            "+---------------+---------+---------+-----------+-------------+--------------+------------+--------------------+--------------------+--------+--------------+----------+---------------+-----------+\n",
            "|   TheUKIsAMess|     1980|     1827|      67996|   2007-03-23|    2022-08-01|           1|It's happening on...|[{'text': 'ToryFa...|      en|             0|      true|           true| 2022-08-01|\n",
            "|FelipeAdanLerma|    11661|    16616|     524919|   2008-06-18|    2022-08-01|           0|\"The American Res...|[{'text': 'Biden'...|      en|             0|     false|          false| 2022-08-01|\n",
            "|  Aontaithe2021|     5003|     2225|     323993|   2007-05-15|    2022-08-01|         134|Beryslav district...|[{'text': 'Kherso...|      en|             0|      true|          false| 2022-08-01|\n",
            "|          Akinz|     1624|      387|       1229|   2008-05-14|    2022-08-01|        1185|If Serbia invades...|[{'text': 'Kosovo...|      en|             0|      true|          false| 2022-08-01|\n",
            "|       tommyred|      206|      205|      55044|   2007-07-28|    2022-08-01|           8|Russian military ...|[{'text': 'SlavaU...|      en|             0|      true|          false| 2022-08-01|\n",
            "+---------------+---------+---------+-----------+-------------+--------------+------------+--------------------+--------------------+--------+--------------+----------+---------------+-----------+\n",
            "only showing top 5 rows\n",
            "\n"
          ]
        }
      ],
      "source": [
        "cleaned_df.show(5)"
      ]
    },
    {
      "cell_type": "code",
      "execution_count": null,
      "metadata": {
        "id": "G41nTWm_RY3v"
      },
      "outputs": [],
      "source": [
        "#add week column for \"tweetcreatedts\"\n",
        "cleaned_df = cleaned_df.withColumn(\"week\",weekofyear(\"tweetcreatedts\"))"
      ]
    },
    {
      "cell_type": "code",
      "execution_count": null,
      "metadata": {
        "colab": {
          "base_uri": "https://localhost:8080/"
        },
        "id": "dFfdUvDHTBPp",
        "outputId": "75e3ec14-054b-488f-b0d3-44e2e88a26a9"
      },
      "outputs": [
        {
          "output_type": "stream",
          "name": "stdout",
          "text": [
            "+---------------+---------+---------+-----------+-------------+--------------+------------+--------------------+--------------------+--------+--------------+----------+---------------+-----------+----+\n",
            "|       username|following|followers|totaltweets|usercreatedts|tweetcreatedts|retweetcount|                text|            hashtags|language|favorite_count|is_retweet|is_quote_status|extractedts|week|\n",
            "+---------------+---------+---------+-----------+-------------+--------------+------------+--------------------+--------------------+--------+--------------+----------+---------------+-----------+----+\n",
            "|   TheUKIsAMess|     1980|     1827|      67996|   2007-03-23|    2022-08-01|           1|It's happening on...|[{'text': 'ToryFa...|      en|             0|      true|           true| 2022-08-01|  31|\n",
            "|FelipeAdanLerma|    11661|    16616|     524919|   2008-06-18|    2022-08-01|           0|\"The American Res...|[{'text': 'Biden'...|      en|             0|     false|          false| 2022-08-01|  31|\n",
            "|  Aontaithe2021|     5003|     2225|     323993|   2007-05-15|    2022-08-01|         134|Beryslav district...|[{'text': 'Kherso...|      en|             0|      true|          false| 2022-08-01|  31|\n",
            "|          Akinz|     1624|      387|       1229|   2008-05-14|    2022-08-01|        1185|If Serbia invades...|[{'text': 'Kosovo...|      en|             0|      true|          false| 2022-08-01|  31|\n",
            "|       tommyred|      206|      205|      55044|   2007-07-28|    2022-08-01|           8|Russian military ...|[{'text': 'SlavaU...|      en|             0|      true|          false| 2022-08-01|  31|\n",
            "+---------------+---------+---------+-----------+-------------+--------------+------------+--------------------+--------------------+--------+--------------+----------+---------------+-----------+----+\n",
            "only showing top 5 rows\n",
            "\n"
          ]
        }
      ],
      "source": [
        "cleaned_df.show(5)"
      ]
    },
    {
      "cell_type": "code",
      "execution_count": null,
      "metadata": {
        "colab": {
          "base_uri": "https://localhost:8080/"
        },
        "id": "E5rDA3KzXf9y",
        "outputId": "bf796e9e-1afa-4934-88c6-8ede952c07c7"
      },
      "outputs": [
        {
          "output_type": "execute_result",
          "data": {
            "text/plain": [
              "[('username', 'string'),\n",
              " ('following', 'int'),\n",
              " ('followers', 'int'),\n",
              " ('totaltweets', 'int'),\n",
              " ('usercreatedts', 'date'),\n",
              " ('tweetcreatedts', 'date'),\n",
              " ('retweetcount', 'int'),\n",
              " ('text', 'string'),\n",
              " ('hashtags', 'string'),\n",
              " ('language', 'string'),\n",
              " ('favorite_count', 'int'),\n",
              " ('is_retweet', 'boolean'),\n",
              " ('is_quote_status', 'boolean'),\n",
              " ('extractedts', 'date'),\n",
              " ('week', 'int')]"
            ]
          },
          "metadata": {},
          "execution_count": 23
        }
      ],
      "source": [
        "cleaned_df.dtypes"
      ]
    },
    {
      "cell_type": "markdown",
      "metadata": {
        "id": "XgqRwUf5Piiy"
      },
      "source": [
        "### Connect to the AWS RDS instance and write each DataFrame to its table. "
      ]
    },
    {
      "cell_type": "code",
      "execution_count": null,
      "metadata": {
        "id": "UfJdnNYqPwYV",
        "colab": {
          "base_uri": "https://localhost:8080/"
        },
        "outputId": "11e055bc-a35a-42d3-cd29-9671975fee9d"
      },
      "outputs": [
        {
          "name": "stdout",
          "output_type": "stream",
          "text": [
            "Enter database password··········\n"
          ]
        }
      ],
      "source": [
        "# Store environmental variable\n",
        "from getpass import getpass\n",
        "password = getpass('Enter database password')\n",
        "# Configure settings for RDS\n",
        "mode = \"append\"\n",
        "jdbc_url=\"jdbc:postgresql://tweets.cnzbbvrrhst7.us-west-1.rds.amazonaws.com:5432/ua_data\"\n",
        "config = {\"user\":\"uatweets\", \n",
        "          \"password\": password, \n",
        "          \"driver\":\"org.postgresql.Driver\"}\n"
      ]
    },
    {
      "cell_type": "code",
      "execution_count": null,
      "metadata": {
        "id": "o4xuvfyFPwxS"
      },
      "outputs": [],
      "source": [
        "# Write review_id_df to table in RDS\n",
        "cleaned_df.write.jdbc(url=jdbc_url, table='tweets_table_3', mode=mode, properties=config)"
      ]
    },
    {
      "cell_type": "markdown",
      "source": [
        "# Save to CSV "
      ],
      "metadata": {
        "id": "h2ZdFHHUOeXI"
      }
    },
    {
      "cell_type": "code",
      "source": [
        "cleaned_df.write.csv(\"tweet_cleaned_all_9_2_22.csv\")"
      ],
      "metadata": {
        "id": "lY8REORjOcZK"
      },
      "execution_count": null,
      "outputs": []
    }
  ],
  "metadata": {
    "colab": {
      "collapsed_sections": [],
      "provenance": [],
      "include_colab_link": true
    },
    "kernelspec": {
      "display_name": "Python 3",
      "name": "python3"
    },
    "language_info": {
      "name": "python"
    }
  },
  "nbformat": 4,
  "nbformat_minor": 0
}